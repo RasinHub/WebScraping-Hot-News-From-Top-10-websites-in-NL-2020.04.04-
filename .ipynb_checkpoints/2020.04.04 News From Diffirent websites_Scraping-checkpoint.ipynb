{
 "cells": [
  {
   "cell_type": "markdown",
   "metadata": {},
   "source": [
    "__2020.04.04 News From Diffirent websites_Scraping__\n"
   ]
  },
  {
   "cell_type": "code",
   "execution_count": 6,
   "metadata": {},
   "outputs": [],
   "source": [
    "# Importing Libraries \n",
    "import requests\n",
    "import pandas as pd\n",
    "from bs4 import BeautifulSoup\n",
    "from datetime import date, timedelta \n",
    "import matplotlib.pyplot as plt\n",
    "import numpy as np\n",
    "import seaborn as sns\n"
   ]
  },
  {
   "cell_type": "code",
   "execution_count": 7,
   "metadata": {},
   "outputs": [],
   "source": [
    "# A function in order to print all the news from all websites \n",
    "def table(df,title):\n",
    "    print('         ---------------'+title + '---------------' )\n",
    "    print(' ')\n",
    "    for i in range(len(df)):\n",
    "        print(1+i)\n",
    "        print('TITLE--> ' + df.loc[i,'titles'])\n",
    "        #print('                                   * * *                             ')\n",
    "        print('DISCRIPTION--> ' + df.loc[i,'descriptions'])\n",
    "        #print('--------------------------------------------------------------------')\n",
    "        print('READ MORE--> ' + df.loc[i,'links'])\n",
    "        print(' ')\n",
    "        print('         +--------------------------------------------------------------------+')\n",
    "        print(' ')\n"
   ]
  },
  {
   "cell_type": "markdown",
   "metadata": {},
   "source": [
    "# All Functions() for each News Sites to connect to the sites and to  gether the news  "
   ]
  },
  {
   "cell_type": "code",
   "execution_count": 8,
   "metadata": {
    "scrolled": true
   },
   "outputs": [],
   "source": [
    "# NU NIEUWS - www.nu.nl/net-binnen\n",
    "def Nu_Nieuws():\n",
    "    url='https://www.nu.nl/net-binnen'\n",
    "    r=requests.get(url)\n",
    "    soup = BeautifulSoup(r.text,'html.parser')\n",
    "    div=soup.find('div',{'class':'column-content-background'})\n",
    "    lis=div.find_all('li')    \n",
    "    titles=[]\n",
    "    description = []\n",
    "    link=[]\n",
    "    site_names=[]\n",
    "    for li in lis:\n",
    "        a = li.find('a').attrs[\"href\"]\n",
    "        a = 'https://www.nu.nl' + str(a)\n",
    "        title=li.find('span',{'class':'item-title__title'}).get_text()\n",
    "        site_name = 'www.nu.nl'\n",
    "        try:  \n",
    "            content=li.find('span',{'class':'excerpt'}).get_text()\n",
    "        except AttributeError:\n",
    "            content=title\n",
    "            \n",
    "       \n",
    "        titles.append(title)\n",
    "        description.append(content)\n",
    "        link.append(a)\n",
    "        site_names.append(site_name)\n",
    "    df_nu = pd.DataFrame(titles)\n",
    "    df_nu.columns = ['titles']\n",
    "    df_nu['descriptions'] = description\n",
    "    df_nu['links'] = link\n",
    "    df_nu['site_name'] = site_names\n",
    "    data_all = 'output/archive/' + str(pd.to_datetime('now').strftime(\" %y.%m.%d %I.%M\")) +'  00-NU_Net_binnenland'\n",
    "    df_nu.to_csv(data_all+'.csv')\n",
    "    df_nu.to_csv('output/live/00-NU_Net_binnenland.csv')\n",
    "    table(df_nu, 'NU.NL NET BINNEN')\n",
    "    return df_nu\n",
    "\n",
    "\n",
    "# NOS NIEUWS -- www.nos.nl/nieuws/binnenland/\n",
    "def Nos_Nieuws():\n",
    "    url='https://nos.nl/nieuws/binnenland/'\n",
    "    r=requests.get(url)\n",
    "    soup = BeautifulSoup(r.text,'html.parser')\n",
    "    lis=soup.findAll(\"li\", class_=\"list-items__item space-bottom-xl\")\n",
    "    titles=[]\n",
    "    description = []\n",
    "    link=[]\n",
    "    site_names=[]\n",
    "    for li in lis:    \n",
    "        a = li.find('a',{'class':'link-block list-items__link'}).attrs[\"href\"]\n",
    "        a = 'https://www.nos.nl' + str(a)\n",
    "        title=li.find('h3',{'class':'list-items__title list-items__link-hover'}).get_text()\n",
    "        content=li.find('p',{'class':'list-items__description'}).get_text()\n",
    "        site_name = 'www.nos.nl'\n",
    "        titles.append(title)\n",
    "        description.append(content)\n",
    "        link.append(a)\n",
    "        site_names.append(site_name)\n",
    "    df_nos = pd.DataFrame(titles)\n",
    "    df_nos.columns = ['titles']\n",
    "    df_nos['descriptions'] = description\n",
    "    df_nos['links'] = link\n",
    "    df_nos['site_name'] = site_names\n",
    "    data_all = 'output/archive/'+ str(pd.to_datetime('now').strftime(\" %y.%m.%d %I.%M\")) + '  01-NOS_binnenland' \n",
    "    df_nos.to_csv(data_all+'.csv')\n",
    "    df_nos.to_csv('output/live/01-NOS_binnenland.csv')\n",
    "    table(df_nos, 'NOS.NL BINNENLAND NIEUWS')\n",
    "    return df_nos\n",
    "    \n",
    "# AD.NL NIEUWS -- www.ad.nl/binnenland/\n",
    "def Ad_Nieuws():\n",
    "    url='https://www.ad.nl/binnenland/rss.xml'\n",
    "    r=requests.get(url)\n",
    "    soup = BeautifulSoup(r.text,'html.parser')\n",
    "    items=soup.findAll(\"item\")\n",
    "    titles=[]\n",
    "    descriptions = []\n",
    "    links=[]\n",
    "    dates=[]\n",
    "    site_names=[]\n",
    "    for item in items:    \n",
    "        a = item.find('guid').get_text()\n",
    "        title=item.find('title').get_text()\n",
    "        content=item.find('description').get_text()\n",
    "        date=item.find('pubdate').get_text()\n",
    "        site_name = 'www.ad.nl'\n",
    "        titles.append(title)\n",
    "        descriptions.append(content)\n",
    "        links.append(a)\n",
    "        site_names.append(site_name)\n",
    "        dates.append(date)\n",
    "    df_ad = pd.DataFrame(titles)\n",
    "    df_ad.columns = ['titles']\n",
    "    df_ad['descriptions'] = descriptions\n",
    "    df_ad['links'] = links\n",
    "    df_ad['site_name'] = site_names\n",
    "    #df_ad['dates'] = dates\n",
    "    data_all = 'output/archive/' + str(pd.to_datetime('now').strftime(\" %y.%m.%d %I.%M\")) + '  02-AD_Binnenland'\n",
    "    df_ad.to_csv(data_all+'.csv')\n",
    "    df_ad.to_csv('output/live/02-AD_Binnenland.csv')\n",
    "    table(df_ad, 'AD.NL BINNENLAND NIEUWS')\n",
    "    return df_ad\n",
    "\n",
    "# TELEGRAAF.NL NIEUWS -- www.telegraaf.nl/nieuws/binnenland\n",
    "def Telegraaf_Nieuws():\n",
    "    url='https://www.telegraaf.nl/nieuws/binnenland'\n",
    "    r=requests.get(url)\n",
    "    soup = BeautifulSoup(r.text,'html.parser')\n",
    "    articles=soup.findAll(\"article\")\n",
    "    titles=[]\n",
    "    descriptions = []\n",
    "    links=[]\n",
    "    dates=[]\n",
    "    site_names=[]\n",
    "    for article in articles:    \n",
    "        a = article.find('a').attrs[\"href\"]\n",
    "        a = 'https://www.telegraaf.nl' + str(a)\n",
    "        title=article.find('h2').get_text()\n",
    "        site_name = 'www.telegraaf.nl'\n",
    "        \n",
    "        try:  \n",
    "            content=article.find('a',{'class':'TeaserSummary__summary'}).find('p',{'class':'TeaserSummary__paragraph'}).get_text()\n",
    "        except AttributeError:\n",
    "            content=title\n",
    "        try:\n",
    "            date=article.find('time',{'data-element':'articleTimestampText'}).get_text()\n",
    "        except AttributeError:\n",
    "            date = 'Empty'\n",
    "        titles.append(title)\n",
    "        descriptions.append(content)\n",
    "        links.append(a)\n",
    "        site_names.append(site_name)\n",
    "    df_tele = pd.DataFrame(titles)\n",
    "    df_tele.columns = ['titles']\n",
    "    df_tele['descriptions'] = descriptions\n",
    "    df_tele['links'] = links\n",
    "    df_tele['site_name'] = site_names\n",
    "    data_all = 'output/archive/' + str(pd.to_datetime('now').strftime(\" %y.%m.%d %I.%M\")) +'  03-TELEGRAAF_Binnenland' \n",
    "    df_tele.to_csv(data_all+'.csv')\n",
    "    df_tele.to_csv('output/live/03-TELEGRAAF_Binnenland.csv')\n",
    "    table(df_tele, 'TELEGRAAF.NL BINNENLAND NIEUWS')\n",
    "    return df_tele\n",
    "        \n",
    "# TWEAKERS.NL NIEUWS -- feeds.feedburner.com/tweakers/mixed\n",
    "def Tweakers_Nieuws():\n",
    "    url='http://feeds.feedburner.com/tweakers/mixed'\n",
    "    r=requests.get(url)\n",
    "    soup = BeautifulSoup(r.text,'html.parser')\n",
    "    items=soup.findAll('item')  \n",
    "    titles=[]\n",
    "    descriptions = []\n",
    "    links=[]\n",
    "    dates=[]\n",
    "    site_names=[]\n",
    "    for item in items:    \n",
    "        a = item.find('guid').get_text()\n",
    "        title=item.find('title').get_text()\n",
    "        content=item.find('description').get_text()\n",
    "        date=item.find('pubdate').get_text()\n",
    "        site_name = 'www.tweakers.nl'\n",
    "        titles.append(title)\n",
    "        descriptions.append(content)\n",
    "        links.append(a)\n",
    "        site_names.append(site_name)\n",
    "        dates.append(date)\n",
    "    df_teawkers = pd.DataFrame(titles)\n",
    "    df_teawkers.columns = ['titles']\n",
    "    df_teawkers['descriptions'] = descriptions\n",
    "    df_teawkers['links'] = links\n",
    "    df_teawkers['site_name'] = site_names\n",
    "    #df_ad['dates'] = dates\n",
    "    \n",
    "    data_all = 'output/archive/' + str(pd.to_datetime('now').strftime(\" %y.%m.%d %I.%M\")) + '  04-TWEAKERS_Nieuws'\n",
    "    df_teawkers.to_csv(data_all+'.csv')\n",
    "    df_teawkers.to_csv('output/live/04-TWEAKERS_Nieuws.csv')\n",
    "    table(df_teawkers, 'TWEAKERS.NL NIEUWS')\n",
    "    return df_teawkers\n",
    "\n",
    "# RTLNuiews.NL NIEUWS -- www.rtlnieuws.nl/nieuws/nederland\n",
    "def Rtl_Nieuws():\n",
    "    url='https://www.rtlnieuws.nl/nieuws/nederland'\n",
    "    r=requests.get(url)\n",
    "    soup = BeautifulSoup(r.text,'html.parser')\n",
    "    divs=soup.findAll('div',{'class':'large-4 medium-4 small-12 columns grid-block'})  \n",
    "    titles=[]\n",
    "    descriptions = []\n",
    "    links=[]\n",
    "    dates=[]\n",
    "    site_names=[]\n",
    "    for div in divs:    \n",
    "        a = div.find('a',{'class':'js_link image-block-link'}).attrs[\"href\"]     \n",
    "        title=div.find('h2', {'class':'js_title'}).get_text()         \n",
    "        content=div.find('div',{'class':'box-text'}).find('span').get_text()  \n",
    "        site_name = 'www.rtlnieuws.nl'\n",
    "        titles.append(title)\n",
    "        descriptions.append(content)\n",
    "        links.append(a)\n",
    "        site_names.append(site_name)\n",
    "    df_rtl = pd.DataFrame(titles)\n",
    "    df_rtl.columns = ['titles']\n",
    "    df_rtl['descriptions'] = descriptions\n",
    "    df_rtl['links'] = links\n",
    "    df_rtl['site_name'] = site_names\n",
    "    #df_ad['dates'] = dates\n",
    "    data_all = 'output/archive/' + str(pd.to_datetime('now').strftime(\" %y.%m.%d %I.%M\")) + '  05-RTL_Nieuws' \n",
    "    df_rtl.to_csv(data_all+'.csv')\n",
    "    df_rtl.to_csv('output/live/05-RTL_Nieuws.csv')\n",
    "    table(df_rtl, 'RTLNIEUS.NL NIEUWS')\n",
    "    return df_rtl\n",
    "\n",
    "# PAROOLNuiews.NL NIEUWS -- www.parool.nl/nederland/\n",
    "def Parool_Nieuws():\n",
    "    url='https://www.parool.nl/nederland/rss.xml'\n",
    "    r=requests.get(url)\n",
    "    soup = BeautifulSoup(r.text,'html.parser')\n",
    "    items=soup.findAll('item')  \n",
    "    soup\n",
    "    titles=[]\n",
    "    descriptions = []\n",
    "    links=[]\n",
    "    dates=[]\n",
    "    site_names=[]\n",
    "    for item in items:    \n",
    "        a = item.find('link').get_text()\n",
    "        title=item.find('title').get_text()\n",
    "        content=item.find('description').get_text()\n",
    "        date=item.find('pubdate').get_text()\n",
    "        site_name = 'www.parool.nl'\n",
    "        titles.append(title)\n",
    "        descriptions.append(content)\n",
    "        links.append(a)\n",
    "        site_names.append(site_name)\n",
    "        dates.append(date)\n",
    "    df_parool = pd.DataFrame(titles)\n",
    "    df_parool.columns = ['titles']\n",
    "    df_parool['descriptions'] = descriptions\n",
    "    df_parool['links'] = links\n",
    "    df_parool['site_name'] = site_names\n",
    "    #df_ad['dates'] = dates\n",
    "    data_all = 'output/archive/' + str(pd.to_datetime('now').strftime(\" %y.%m.%d %I.%M\")) + '  06-PAROOL_Nederland'\n",
    "    df_parool.to_csv(data_all+'.csv')\n",
    "    df_parool.to_csv('output/live/06-PAROOL_Nederland.csv')\n",
    "    table(df_parool, 'PAROOL.NL NEDERLAND')\n",
    "    df_parool\n",
    "    return df_parool\n",
    "    \n",
    "# LINDA.NL NIEUWS -- www.linda.nl/nieuws/binnenland\n",
    "def Linda_Nieuws():\n",
    "    url='https://www.linda.nl/nieuws/binnenland/'\n",
    "    r=requests.get(url)\n",
    "    soup = BeautifulSoup(r.text,'html.parser')\n",
    "    articles=soup.findAll('article')  \n",
    "    titles=[]\n",
    "    descriptions = []\n",
    "    links=[]\n",
    "    dates=[]\n",
    "    site_names=[]\n",
    "    for article in articles:    \n",
    "        a = article.find('a').attrs[\"href\"]\n",
    "        a = 'https://www.linda.nl/nieuws/binnenland/' + str(a)\n",
    "        title=article.find('span').get_text()\n",
    "        site_name = 'www.linda.nl'\n",
    "        try:\n",
    "            content=article.find('a',{'class':'TeaserSummary__summary'}).find('p',{'class':'TeaserSummary__paragraph'}).get_text()\n",
    "        except AttributeError:\n",
    "            content=title\n",
    "        try:\n",
    "            date=article.find('time',{'data-element':'articleTimestampText'}).get_text()\n",
    "        except AttributeError:\n",
    "            date = 'Empty'\n",
    "        titles.append(title)\n",
    "        descriptions.append(content)\n",
    "        links.append(a)\n",
    "        site_names.append(site_name)\n",
    "    df_linda = pd.DataFrame(titles)\n",
    "    df_linda.columns = ['titles']\n",
    "    df_linda['descriptions'] = descriptions\n",
    "    df_linda['links'] = links\n",
    "    df_linda['site_name'] = site_names\n",
    "    data_all = 'output/archive/' + str(pd.to_datetime('now').strftime(\" %y.%m.%d %I.%M\"))+ '  07-LINDA_Binnenland'   \n",
    "    df_linda.to_csv(data_all+'.csv')\n",
    "    table(df_linda, 'LINDA.NL BINNENLAND NIEUWS')\n",
    "    df_linda.to_csv('output/live/07-LINDA_Binnenland.csv')\n",
    "    return df_linda\n",
    "    \n",
    "# GELDERLANDER.NL NIEUWS -- www.gelderlander.nl/binnenland/\n",
    "def Gelderlander():\n",
    "    url='https://www.gelderlander.nl/binnenland/rss.xml'\n",
    "    r=requests.get(url)\n",
    "    soup = BeautifulSoup(r.text,'html.parser')\n",
    "    items=soup.findAll('item') \n",
    "    titles=[]\n",
    "    descriptions = []\n",
    "    links=[]\n",
    "    dates=[]\n",
    "    site_names=[]\n",
    "    for item in items:    \n",
    "        a = item.find('link').get_text()\n",
    "        title=item.find('title').get_text()\n",
    "        content=item.find('description').get_text()\n",
    "        date=item.find('pubdate').get_text()\n",
    "        site_name = 'www.gelderlander.nl'\n",
    "        titles.append(title)\n",
    "        descriptions.append(content)\n",
    "        links.append(a)\n",
    "        site_names.append(site_name)\n",
    "        dates.append(date)\n",
    "    \n",
    "    df_gelderlander = pd.DataFrame(titles)\n",
    "    df_gelderlander.columns = ['titles']\n",
    "    df_gelderlander['descriptions'] = descriptions\n",
    "    df_gelderlander['links'] = links\n",
    "    df_gelderlander['site_name'] = site_names\n",
    "    #df_ad['dates'] = dates\n",
    "    data_all = 'output/archive/'+ str(pd.to_datetime('now').strftime(\" %y.%m.%d %I.%M\")) + '  08-GELDERLANDER_Binnnenland'\n",
    "    df_gelderlander.to_csv(data_all+'.csv')\n",
    "    df_gelderlander.to_csv('output/live/08-GELDERLANDER_Binnnenland.csv')\n",
    "    table(df_gelderlander, 'GELDERLANDER.NL BINNENLAND')\n",
    "    return df_gelderlander\n",
    "    \n",
    "# BRABANT.NL NIEUWS -- www.brabant.nl/actueel/nieuws\n",
    "def Brabant():\n",
    "    url='https://www.brabant.nl/actueel/nieuws'\n",
    "    r=requests.get(url)\n",
    "    soup = BeautifulSoup(r.text,'html.parser')\n",
    "    articles=soup.findAll('article')  \n",
    "    titles=[]\n",
    "    descriptions = []\n",
    "    links=[]\n",
    "    dates=[]\n",
    "    site_names=[]\n",
    "    for article in articles:    \n",
    "        a = article.find('a').attrs[\"href\"]\n",
    "        a = 'https://www.brabant.nl' + str(a)\n",
    "        title=article.find('h2').get_text()\n",
    "        site_name = 'www.brabant.nl'\n",
    "        try:\n",
    "            content=article.find('p').get_text()\n",
    "        except AttributeError:\n",
    "            content=title\n",
    "        try:\n",
    "            date=article.find('time',{'data-element':'articleTimestampText'}).get_text()\n",
    "        except AttributeError:\n",
    "            date = 'Empty'\n",
    "        titles.append(title)\n",
    "        descriptions.append(content)\n",
    "        links.append(a)\n",
    "        site_names.append(site_name)\n",
    "    df_brabant = pd.DataFrame(titles)\n",
    "    df_brabant.columns = ['titles']\n",
    "    df_brabant['descriptions'] = descriptions\n",
    "    df_brabant['links'] = links\n",
    "    df_brabant['site_name'] = site_names\n",
    "    data_all = 'output/archive/' + str(pd.to_datetime('now').strftime(\" %y.%m.%d %I.%M\"))+ '  09-BRABANT_Actueel'\n",
    "    df_brabant.to_csv(data_all+'.csv')\n",
    "    df_brabant.to_csv('output/live/09-BRABANT_Actueel.csv')\n",
    "    table(df_brabant, 'BRABANT.NL ACTUEEL NIEUWS')\n",
    "    return df_brabant"
   ]
  },
  {
   "cell_type": "code",
   "execution_count": 9,
   "metadata": {},
   "outputs": [
    {
     "name": "stdout",
     "output_type": "stream",
     "text": [
      "         ---------------NU.NL NET BINNEN---------------\n",
      " \n",
      "1\n",
      "TITLE--> Video Albon wint virtuele Grand Prix van Brazilië \n",
      "DISCRIPTION--> Video Albon wint virtuele Grand Prix van Brazilië \n",
      "READ MORE--> https://www.nu.nl/sport/6048947/albon-wint-virtuele-grand-prix-van-brazilie.html\n",
      " \n",
      "         +--------------------------------------------------------------------+\n",
      " \n",
      "2\n",
      "TITLE-->  Verdachten explosie in flatwoning in Groningen zitten in beperking \n",
      "DISCRIPTION-->  Verdachten explosie in flatwoning in Groningen zitten in beperking \n",
      "READ MORE--> https://www.nu.nl/algemeen/6048942/verdachten-explosie-in-flatwoning-in-groningen-zitten-in-beperking.html\n",
      " \n",
      "         +--------------------------------------------------------------------+\n",
      " \n",
      "3\n",
      "TITLE-->  Inbreker deed al eerder poging contact te leggen met Eminem \n",
      "DISCRIPTION-->  Inbreker deed al eerder poging contact te leggen met Eminem \n",
      "READ MORE--> https://www.nu.nl/achterklap/6048934/inbreker-deed-al-eerder-poging-contact-te-leggen-met-eminem.html\n",
      " \n",
      "         +--------------------------------------------------------------------+\n",
      " \n",
      "4\n",
      "TITLE-->  Dochter van radio-dj Mark Labrand drie maanden te vroeg geboren \n",
      "DISCRIPTION-->  Dochter van radio-dj Mark Labrand drie maanden te vroeg geboren \n",
      "READ MORE--> https://www.nu.nl/achterklap/6048938/dochter-van-radio-dj-mark-labrand-drie-maanden-te-vroeg-geboren.html\n",
      " \n",
      "         +--------------------------------------------------------------------+\n",
      " \n",
      "5\n",
      "TITLE-->  Grootste productiedaling sinds 2000 door coronapandemie \n",
      "DISCRIPTION-->  Grootste productiedaling sinds 2000 door coronapandemie \n",
      "READ MORE--> https://www.nu.nl/economie/6048929/grootste-productiedaling-sinds-2000-door-coronapandemie.html\n",
      " \n",
      "         +--------------------------------------------------------------------+\n",
      " \n",
      "6\n",
      "TITLE-->  Europese Commissie keurt staatssteun voor Air France goed \n",
      "DISCRIPTION-->  Europese Commissie keurt staatssteun voor Air France goed \n",
      "READ MORE--> https://www.nu.nl/economie/6048931/europese-commissie-keurt-staatssteun-voor-air-france-goed.html\n",
      " \n",
      "         +--------------------------------------------------------------------+\n",
      " \n",
      "7\n",
      "TITLE-->  Horner: 'Draconische regels bij GP Oostenrijk blauwdruk voor andere races' \n",
      "DISCRIPTION-->  Horner: 'Draconische regels bij GP Oostenrijk blauwdruk voor andere races' \n",
      "READ MORE--> https://www.nu.nl/formule-1/6048930/horner-draconische-regels-bij-gp-oostenrijk-blauwdruk-voor-andere-races.html\n",
      " \n",
      "         +--------------------------------------------------------------------+\n",
      " \n",
      "8\n",
      "TITLE-->  Aan burn-out lijdende dj Coen Swijnenberg vanaf dinsdag weer te horen \n",
      "DISCRIPTION-->  Aan burn-out lijdende dj Coen Swijnenberg vanaf dinsdag weer te horen \n",
      "READ MORE--> https://www.nu.nl/media/6048925/aan-burn-out-lijdende-dj-coen-swijnenberg-vanaf-dinsdag-weer-te-horen.html\n",
      " \n",
      "         +--------------------------------------------------------------------+\n",
      " \n",
      "9\n",
      "TITLE-->  Thuiswerklunch: wrap met gerookte kip, appel en truffelmayonaise \n",
      "DISCRIPTION-->  Thuiswerklunch: wrap met gerookte kip, appel en truffelmayonaise \n",
      "READ MORE--> https://www.nu.nl/uit/6048919/thuiswerklunch-wrap-met-gerookte-kip-appel-en-truffelmayonaise.html\n",
      " \n",
      "         +--------------------------------------------------------------------+\n",
      " \n",
      "10\n",
      "TITLE-->  Coronacrisis leidt tot piek in elektronica- en dal in kledingverkoop \n",
      "DISCRIPTION-->  Coronacrisis leidt tot piek in elektronica- en dal in kledingverkoop \n",
      "READ MORE--> https://www.nu.nl/economie/6048918/coronacrisis-leidt-tot-piek-in-elektronica-en-dal-in-kledingverkoop.html\n",
      " \n",
      "         +--------------------------------------------------------------------+\n",
      " \n",
      "11\n",
      "TITLE--> Liveblog Geen sirenes op 12.00 uur wegens Dodenherdenking \n",
      "DISCRIPTION--> Liveblog Geen sirenes op 12.00 uur wegens Dodenherdenking \n",
      "READ MORE--> https://www.nu.nl/4-en-5-mei/6048920/geen-sirenes-op-1200-uur-wegens-dodenherdenking.html\n",
      " \n",
      "         +--------------------------------------------------------------------+\n",
      " \n",
      "12\n",
      "TITLE-->  WK zwemmen in Japan verplaatst naar mei 2022 vanwege uitstel Spelen \n",
      "DISCRIPTION-->  WK zwemmen in Japan verplaatst naar mei 2022 vanwege uitstel Spelen \n",
      "READ MORE--> https://www.nu.nl/sport-overig/6048914/wk-zwemmen-in-japan-verplaatst-naar-mei-2022-vanwege-uitstel-spelen.html\n",
      " \n",
      "         +--------------------------------------------------------------------+\n",
      " \n",
      "13\n",
      "TITLE-->  Tiger Kings Carole Baskin kan lachen om nepinterview met YouTubers \n",
      "DISCRIPTION-->  Tiger Kings Carole Baskin kan lachen om nepinterview met YouTubers \n",
      "READ MORE--> https://www.nu.nl/media/6048911/tiger-kings-carole-baskin-kan-lachen-om-nepinterview-met-youtubers.html\n",
      " \n",
      "         +--------------------------------------------------------------------+\n",
      " \n",
      "14\n",
      "TITLE-->  Halsema wil Amsterdamse musea en ARTIS openen voor bepaalde groepen \n",
      "DISCRIPTION-->  Halsema wil Amsterdamse musea en ARTIS openen voor bepaalde groepen \n",
      "READ MORE--> https://www.nu.nl/coronavirus/6048916/halsema-wil-amsterdamse-musea-en-artis-openen-voor-bepaalde-groepen.html\n",
      " \n",
      "         +--------------------------------------------------------------------+\n",
      " \n",
      "15\n",
      "TITLE-->  Politiemol krijgt vijf jaar cel voor 'schaamteloos delen van informatie' \n",
      "DISCRIPTION-->  Politiemol krijgt vijf jaar cel voor 'schaamteloos delen van informatie' \n",
      "READ MORE--> https://www.nu.nl/binnenland/6048906/politiemol-krijgt-vijf-jaar-cel-voor-schaamteloos-delen-van-informatie.html\n",
      " \n",
      "         +--------------------------------------------------------------------+\n",
      " \n",
      "16\n",
      "TITLE-->  Beau van Erven Dorens staart zich niet blind op concurrentiestrijd met Op1 \n",
      "DISCRIPTION-->  Beau van Erven Dorens staart zich niet blind op concurrentiestrijd met Op1 \n",
      "READ MORE--> https://www.nu.nl/media/6048722/beau-van-erven-dorens-staart-zich-niet-blind-op-concurrentiestrijd-met-op1.html\n",
      " \n",
      "         +--------------------------------------------------------------------+\n",
      " \n",
      "17\n",
      "TITLE--> Stelling Ik boek pas een (nieuwe) vakantie na de coronacrisis \n",
      "DISCRIPTION--> Stelling Ik boek pas een (nieuwe) vakantie na de coronacrisis \n",
      "READ MORE--> https://www.nu.nl/nujij/6048367/ik-boek-pas-een-nieuwe-vakantie-na-de-coronacrisis.html\n",
      " \n",
      "         +--------------------------------------------------------------------+\n",
      " \n",
      "18\n",
      "TITLE-->  Clubs, spelers en makelaars met KNVB in overleg over financiële situatie \n",
      "DISCRIPTION-->  Clubs, spelers en makelaars met KNVB in overleg over financiële situatie \n",
      "READ MORE--> https://www.nu.nl/voetbal/6048907/clubs-spelers-en-makelaars-met-knvb-in-overleg-over-financiele-situatie.html\n",
      " \n",
      "         +--------------------------------------------------------------------+\n",
      " \n",
      "19\n",
      "TITLE-->  Oproep: Stel jouw vragen over de heropening van de basisscholen \n",
      "DISCRIPTION-->  Oproep: Stel jouw vragen over de heropening van de basisscholen \n",
      "READ MORE--> https://www.nu.nl/nujij/6048496/oproep-stel-jouw-vragen-over-de-heropening-van-de-basisscholen.html\n",
      " \n",
      "         +--------------------------------------------------------------------+\n",
      " \n",
      "20\n",
      "TITLE-->  Is een anderhalvemetercoach voor gemeenten een goed idee? \n",
      "DISCRIPTION-->  Is een anderhalvemetercoach voor gemeenten een goed idee? \n",
      "READ MORE--> https://www.nu.nl/nujij/6048908/is-een-anderhalvemetercoach-voor-gemeenten-een-goed-idee.html\n",
      " \n",
      "         +--------------------------------------------------------------------+\n",
      " \n",
      "21\n",
      "TITLE-->  Luchtruim boven Letse hoofdstad gesloten om op hol geslagen drone \n",
      "DISCRIPTION-->  Luchtruim boven Letse hoofdstad gesloten om op hol geslagen drone \n",
      "READ MORE--> https://www.nu.nl/tech/6048904/luchtruim-boven-letse-hoofdstad-gesloten-om-op-hol-geslagen-drone.html\n",
      " \n",
      "         +--------------------------------------------------------------------+\n",
      " \n",
      "22\n",
      "TITLE-->  Vlaggen halfstok in Nederland: hoe herdenk jij de oorlogsslachtoffers? \n",
      "DISCRIPTION-->  Vlaggen halfstok in Nederland: hoe herdenk jij de oorlogsslachtoffers? \n",
      "READ MORE--> https://www.nu.nl/nujij/6048903/vlaggen-halfstok-in-nederland-hoe-herdenk-jij-de-oorlogsslachtoffers.html\n",
      " \n",
      "         +--------------------------------------------------------------------+\n",
      " \n",
      "23\n",
      "TITLE-->  Nunspeet krijgt als eerste Nederlandse gemeente een anderhalvemetercoach \n",
      "DISCRIPTION-->  Nunspeet krijgt als eerste Nederlandse gemeente een anderhalvemetercoach \n",
      "READ MORE--> https://www.nu.nl/coronavirus/6048901/nunspeet-krijgt-als-eerste-nederlandse-gemeente-een-anderhalvemetercoach.html\n",
      " \n",
      "         +--------------------------------------------------------------------+\n",
      " \n",
      "24\n",
      "TITLE-->  50 Cent vindt oudste zoon een verwend nest \n",
      "DISCRIPTION-->  50 Cent vindt oudste zoon een verwend nest \n",
      "READ MORE--> https://www.nu.nl/achterklap/6048900/50-cent-vindt-oudste-zoon-een-verwend-nest.html\n",
      " \n",
      "         +--------------------------------------------------------------------+\n",
      " \n",
      "         ---------------NOS.NL BINNENLAND NIEUWS---------------\n",
      " \n",
      "1\n",
      "TITLE--> Sobere herdenking gevallenen WOII in Tweede Kamer \n",
      "DISCRIPTION--> Kamervoorzitter Arib noemde het pijnlijk dat overlevenden en nabestaanden niet aanwezig konden zijn in verband met de coronacrisis. \n",
      "READ MORE--> https://www.nos.nl/artikel/2332718-sobere-herdenking-gevallenen-woii-in-tweede-kamer.html\n",
      " \n",
      "         +--------------------------------------------------------------------+\n",
      " \n",
      "2\n",
      "TITLE--> Politiemol Mark M. krijgt ook in hoger beroep vijf jaar cel\n",
      "DISCRIPTION--> Het gerechtshof in Den Bosch veroordeelde hem voor witwassen en het verkopen van geheime politie-informatie aan criminelen.\n",
      "READ MORE--> https://www.nos.nl/artikel/2332717-politiemol-mark-m-krijgt-ook-in-hoger-beroep-vijf-jaar-cel.html\n",
      " \n",
      "         +--------------------------------------------------------------------+\n",
      " \n",
      "3\n",
      "TITLE--> Oorlogsslachtoffers van jouw voetbalclub online terug te vinden\n",
      "DISCRIPTION--> Historicus Jurryt van de Vooren heeft de ruim 2.000 namen die op het KNVB-monument uit 1949 staan online gezet. Aangevuld met hun laatste club.\n",
      "READ MORE--> https://www.nos.nl/artikel/2332692-oorlogsslachtoffers-van-jouw-voetbalclub-online-terug-te-vinden.html\n",
      " \n",
      "         +--------------------------------------------------------------------+\n",
      " \n",
      "4\n",
      "TITLE--> Reguliere zorg komt weer op gang: 'Patiënten zijn veilig op poliklinieken'\n",
      "DISCRIPTION--> Een aantal ziekenhuizen hervat de reguliere zorg, onder meer in Noord-Holland en Flevoland. Ze hebben hard hun best gedaan om de veiligheid van patiënten te kunnen waarborgen. \n",
      "READ MORE--> https://www.nos.nl/artikel/2332691-reguliere-zorg-komt-weer-op-gang-patienten-zijn-veilig-op-poliklinieken.html\n",
      " \n",
      "         +--------------------------------------------------------------------+\n",
      " \n",
      "5\n",
      "TITLE--> Wekdienst 4/5: Dodenherdenking • Italië gaat gedeeltelijk uit lockdown\n",
      "DISCRIPTION--> Nieuws, weer en verkeer: met dit overzicht begin je geïnformeerd aan de dag.\n",
      "READ MORE--> https://www.nos.nl/artikel/2332686-wekdienst-4-5-dodenherdenking-italie-gaat-gedeeltelijk-uit-lockdown.html\n",
      " \n",
      "         +--------------------------------------------------------------------+\n",
      " \n",
      "6\n",
      "TITLE--> Organisator 4 mei-project: 'Door corona kan ik herdenken niet levend houden'\n",
      "DISCRIPTION--> Vanwege de coronacrisis zijn er vanavond nauwelijks mensen op de Dam en op andere plaatsen waar de oorlogsslachtoffers worden herdacht.\n",
      "READ MORE--> https://www.nos.nl/artikel/2332680-organisator-4-mei-project-door-corona-kan-ik-herdenken-niet-levend-houden.html\n",
      " \n",
      "         +--------------------------------------------------------------------+\n",
      " \n",
      "7\n",
      "TITLE--> Vermoedelijke brandstichting bij twee zendmasten in Den Haag\n",
      "DISCRIPTION--> De afgelopen weken werd brand gesticht bij zendmasten in het hele land. Mogelijk gaat het om acties tegen de uitrol van het snelle 5G-netwerk.\n",
      "READ MORE--> https://www.nos.nl/artikel/2332675-vermoedelijke-brandstichting-bij-twee-zendmasten-in-den-haag.html\n",
      " \n",
      "         +--------------------------------------------------------------------+\n",
      " \n",
      "8\n",
      "TITLE--> Veiligheidsregio's: men laat thuisblijfadvies los • Laagste dodental Italië sinds maart\n",
      "DISCRIPTION--> Lees hier al het coronanieuws van zondag 3 mei.\n",
      "READ MORE--> https://www.nos.nl/liveblog/2332569-veiligheidsregio-s-men-laat-thuisblijfadvies-los-laagste-dodental-italie-sinds-maart.html\n",
      " \n",
      "         +--------------------------------------------------------------------+\n",
      " \n",
      "9\n",
      "TITLE--> Dit zijn de extra NOS-uitzendingen met dodenherdenking en Bevrijdingsdag\n",
      "DISCRIPTION--> Dodenherdenking en Bevrijdingsdag hebben dit jaar een ander karakter door de coronamaatregelen. De NOS doet rechtstreeks verslag van de belangrijkste gebeurtenissen en zendt daarnaast aangepaste programma's uit.\n",
      "READ MORE--> https://www.nos.nl/artikel/2332665-dit-zijn-de-extra-nos-uitzendingen-met-dodenherdenking-en-bevrijdingsdag.html\n",
      " \n",
      "         +--------------------------------------------------------------------+\n",
      " \n",
      "10\n",
      "TITLE--> Onderzoek naar verband corona en trombose voor betere behandeling patiënten\n",
      "DISCRIPTION--> De onderzoekers van verschillende grote ziekenhuizen in het land willen erachter komen hoe patiënten een betere prognose en behandeling kunnen krijgen. \n",
      "READ MORE--> https://www.nos.nl/artikel/2332664-onderzoek-naar-verband-corona-en-trombose-voor-betere-behandeling-patienten.html\n",
      " \n",
      "         +--------------------------------------------------------------------+\n",
      " \n",
      "11\n",
      "TITLE--> Gestrande dolfijn vanuit haven Amsterdam weer richting zee geloodst\n",
      "DISCRIPTION--> De tuimelaar werd via IJmuiden terug naar open water gebracht.\n",
      "READ MORE--> https://www.nos.nl/artikel/2332646-gestrande-dolfijn-vanuit-haven-amsterdam-weer-richting-zee-geloodst.html\n",
      " \n",
      "         +--------------------------------------------------------------------+\n",
      " \n",
      "12\n",
      "TITLE--> Coronacijfers van 3 mei: minste ziekenhuisopnames in anderhalve maand\n",
      "DISCRIPTION--> Begin april werden er nog gemiddeld bijna 500 mensen per dag opgenomen in het ziekenhuis. Afgelopen week werden er per dag gemiddeld 77 nieuwe opnames gemeld. \n",
      "READ MORE--> https://www.nos.nl/artikel/2332621-coronacijfers-van-3-mei-minste-ziekenhuisopnames-in-anderhalve-maand.html\n",
      " \n",
      "         +--------------------------------------------------------------------+\n",
      " \n",
      "13\n",
      "TITLE--> Drie jongens met messen aangehouden op Schiphol\n",
      "DISCRIPTION--> Ze zijn opgepakt wegens verboden wapenbezit.\n",
      "READ MORE--> https://www.nos.nl/artikel/2332602-drie-jongens-met-messen-aangehouden-op-schiphol.html\n",
      " \n",
      "         +--------------------------------------------------------------------+\n",
      " \n",
      "14\n",
      "TITLE--> Vrachtschip probeert dolfijn uit Amsterdamse haven te lokken\n",
      "DISCRIPTION--> Het dier zwom gisteren mee met het zeilende vrachtschip vanuit Frankrijk naar Nederland. Datzelfde schip gaat speciaal voor de dolfijn opnieuw richting zee. \n",
      "READ MORE--> https://www.nos.nl/artikel/2332596-vrachtschip-probeert-dolfijn-uit-amsterdamse-haven-te-lokken.html\n",
      " \n",
      "         +--------------------------------------------------------------------+\n",
      " \n",
      "15\n",
      "TITLE--> Privédocumenten van NSB-leider Anton Mussert opgedoken\n",
      "DISCRIPTION--> Het zijn foto's uit de Tweede Wereldoorlog, maar ook een identificatieplaatje en een notitieboekje uit de tijd dat hij in een militair ziekenhuis lag. \n",
      "READ MORE--> https://www.nos.nl/artikel/2332579-privedocumenten-van-nsb-leider-anton-mussert-opgedoken.html\n",
      " \n",
      "         +--------------------------------------------------------------------+\n",
      " \n",
      "16\n",
      "TITLE--> Wekdienst 3/5: Blijft Henk Krol partijleider 50Plus? • 60 jaar Anne Frank Huis\n",
      "DISCRIPTION--> Nieuws, weer en verkeer: met dit overzicht begin je geïnformeerd aan de dag.\n",
      "READ MORE--> https://www.nos.nl/artikel/2332578-wekdienst-3-5-blijft-henk-krol-partijleider-50plus-60-jaar-anne-frank-huis.html\n",
      " \n",
      "         +--------------------------------------------------------------------+\n",
      " \n",
      "17\n",
      "TITLE--> Man doodgeschoten in Amsterdam-Oost\n",
      "DISCRIPTION--> Voor zover bekend is er nog niemand opgepakt.\n",
      "READ MORE--> https://www.nos.nl/artikel/2332570-man-doodgeschoten-in-amsterdam-oost.html\n",
      " \n",
      "         +--------------------------------------------------------------------+\n",
      " \n",
      "18\n",
      "TITLE--> Wereldwijd eerbetoon voor hulpdiensten • Tilburg: mijd centrum\n",
      "DISCRIPTION--> Lees hier al het coronanieuws van zaterdag 2 mei. \n",
      "READ MORE--> https://www.nos.nl/liveblog/2332476-wereldwijd-eerbetoon-voor-hulpdiensten-tilburg-mijd-centrum.html\n",
      " \n",
      "         +--------------------------------------------------------------------+\n",
      " \n",
      "19\n",
      "TITLE--> Explosieve stof gevonden in ontploft Gronings appartement, bewoners opgepakt\n",
      "DISCRIPTION--> Vrijdagavond werd door een explosie de gevel van een woning in de flat weggeblazen. De geëvacueerde bewoners van de flat mogen voorlopig nog niet naar huis.\n",
      "READ MORE--> https://www.nos.nl/artikel/2332562-explosieve-stof-gevonden-in-ontploft-gronings-appartement-bewoners-opgepakt.html\n",
      " \n",
      "         +--------------------------------------------------------------------+\n",
      " \n",
      "20\n",
      "TITLE--> Meer mensen op de weg en in winkelstraten: 'Het is behoorlijk druk'\n",
      "DISCRIPTION--> De laatste drie weken nam het aantal, de afstand en de duur van verplaatsingen toe, concludeert een mobiliteitsbureau.\n",
      "READ MORE--> https://www.nos.nl/artikel/2332549-meer-mensen-op-de-weg-en-in-winkelstraten-het-is-behoorlijk-druk.html\n",
      " \n",
      "         +--------------------------------------------------------------------+\n",
      " \n"
     ]
    },
    {
     "name": "stdout",
     "output_type": "stream",
     "text": [
      "21\n",
      "TITLE--> Twee jongens nemen explosief uit Tweede Wereldoorlog mee naar huis\n",
      "DISCRIPTION--> Inmiddels is hun vondst tot ontploffing gebracht in het Westelijk Havengebied in Amsterdam. Sinds de coronacrisis worden er meer explosieven gevonden dan gemiddeld.\n",
      "READ MORE--> https://www.nos.nl/artikel/2332544-twee-jongens-nemen-explosief-uit-tweede-wereldoorlog-mee-naar-huis.html\n",
      " \n",
      "         +--------------------------------------------------------------------+\n",
      " \n",
      "22\n",
      "TITLE--> Arnhemmer aangehouden voor reeks autobranden \n",
      "DISCRIPTION--> De afgelopen twee weken gingen zeker zeventien voertuigen in vlammen op. De politie sluit meer arrestaties niet uit.\n",
      "READ MORE--> https://www.nos.nl/artikel/2332536-arnhemmer-aangehouden-voor-reeks-autobranden.html\n",
      " \n",
      "         +--------------------------------------------------------------------+\n",
      " \n",
      "23\n",
      "TITLE--> Coronacijfers van 2 mei: IC-bezetting onder 700, verschil tussen regio's\n",
      "DISCRIPTION--> De bezetting op de Nederlandse intensive cares is voor het eerst weer onder de 700 coronapatiënten. Onder de 700 bezette bedden kan de reguliere zorg weer op gang komen, maar er is nog wel verschil tussen de regio's.\n",
      "READ MORE--> https://www.nos.nl/artikel/2332526-coronacijfers-van-2-mei-ic-bezetting-onder-700-verschil-tussen-regio-s.html\n",
      " \n",
      "         +--------------------------------------------------------------------+\n",
      " \n",
      "24\n",
      "TITLE--> Verzorger Wu Wen: 'Ik hoorde een hele harde krijs' \n",
      "DISCRIPTION--> Niet alleen in Ouwehands Dierenpark in Rhenen werd het blijde nieuws van de geboorte van een reuzenpanda met luid gejuich ontvangen, ook China - eigenaar van Wu Wen en Xing Ya - is blij verrast. \n",
      "READ MORE--> https://www.nos.nl/artikel/2332524-verzorger-wu-wen-ik-hoorde-een-hele-harde-krijs.html\n",
      " \n",
      "         +--------------------------------------------------------------------+\n",
      " \n",
      "25\n",
      "TITLE--> Nationaal Park De Meinweg weer toegankelijk na grote brand\n",
      "DISCRIPTION--> Het gebied is volgens de gemeente weer veilig en toegankelijk voor fietsers, wandelaars en toeristen.\n",
      "READ MORE--> https://www.nos.nl/artikel/2332521-nationaal-park-de-meinweg-weer-toegankelijk-na-grote-brand.html\n",
      " \n",
      "         +--------------------------------------------------------------------+\n",
      " \n",
      "         ---------------AD.NL BINNENLAND NIEUWS---------------\n",
      " \n",
      "1\n",
      "TITLE--> Kunnen de scholen eigenlijk wel veilig open, of worden het ‘superverspreiders’?\n",
      "DISCRIPTION--> Heel Europa worstelt met een van de belangrijkste onderdelen van het heropstarten van de maatschappij: de scholen. Is het veilig of worden de scholen de nieuwe ‘superverspreiders’ van de coronacrisis?\n",
      "READ MORE--> https://www.ad.nl/binnenland/kunnen-de-scholen-eigenlijk-wel-veilig-open-of-worden-het-superverspreiders~a5876910/\n",
      " \n",
      "         +--------------------------------------------------------------------+\n",
      " \n",
      "2\n",
      "TITLE--> Kans van 1 op 100.000: eeneiige drieling geboren in Putten\n",
      "DISCRIPTION--> Het is voor Barunka (28) en David (29) Knul uit Putten nog steeds moeilijk te bevatten. Op 22 maart zijn ze de trotse ouders geworden van een eeneiige drieling. Een kans van 1 op 100.000. En dat terwijl ze al twee jonge kinderen hebben. ,,Eigenlijk besef ik het nog steeds niet.”\n",
      "READ MORE--> https://www.ad.nl/binnenland/kans-van-1-op-100-000-eeneiige-drieling-geboren-in-putten~a8e7d1287/\n",
      " \n",
      "         +--------------------------------------------------------------------+\n",
      " \n",
      "3\n",
      "TITLE--> Marcouch: Feestgangers op illegale party hadden bekeuring moeten krijgen\n",
      "DISCRIPTION--> De bezoekers van een illegaal feest in Arnhem dat in de nacht van zaterdag op zondag door de politie werd stilgelegd, hadden allemaal een bekeuring moeten krijgen. Dat vindt burgemeester Ahmed Marcouch.\n",
      "READ MORE--> https://www.ad.nl/arnhem/marcouch-feestgangers-op-illegale-party-hadden-bekeuring-moeten-krijgen~a992271a/\n",
      " \n",
      "         +--------------------------------------------------------------------+\n",
      " \n",
      "4\n",
      "TITLE--> Politiemol Mark M. krijgt in hoger beroep opnieuw vijf jaar cel\n",
      "DISCRIPTION--> DEN BOSCH Mark M., alias de Weerter politiemol, krijgt in hoger beroep jaar opnieuw vijf jaar cel. Het gerechtshof vindt hem, net als de rechtbank, schuldig aan het doorgeven van geheime info aan criminelen. Het Openbaar ministerie, dat die straf eiste, is tevreden. Mark M gaat dor naar de Hoge Raad, verwacht zijn advocaat Jan-Hein Kuijpers\n",
      "READ MORE--> https://www.ad.nl/eindhoven/politiemol-mark-m-krijgt-in-hoger-beroep-opnieuw-vijf-jaar-cel~a29d0a83/\n",
      " \n",
      "         +--------------------------------------------------------------------+\n",
      " \n",
      "5\n",
      "TITLE--> Hoe een straatarm meisje uit Dalfsen kampbewaakster werd in Auschwitz\n",
      "DISCRIPTION--> Dit is het verhaal van Ria Jorink, een straatarm meisje uit Dalfsen dat tijdens de Tweede Wereldoorlog als kampbewaakster in vernietigingskamp Auschwitz-Birkenau belandt. Ze wordt veroordeeld, maar tot de doodstraf of een jarenlange gevangenisstraf komt het niet. Wel tot een geruisloos leven in Zwolle, waar ze in 2002 op 82-jarige leeftijd overlijdt.\n",
      "READ MORE--> https://www.ad.nl/binnenland/hoe-een-straatarm-meisje-uit-dalfsen-kampbewaakster-werd-in-auschwitz~a96cc881/\n",
      " \n",
      "         +--------------------------------------------------------------------+\n",
      " \n",
      "6\n",
      "TITLE--> Slachtoffer van Haagse steker Malek F. vecht terug: ‘Zijn doel was moorden, hij moet het land uit’\n",
      "DISCRIPTION--> Nooit vertelden de slachtoffers van de ‘Haagse steker’ Malek F. hun verhaal. Tot nu. Fazal Amin (37) werd 5 mei 2018 elf keer gestoken en zag tot zijn verbijstering dat ‘de jihadist’ er met tbs vanaf kwam. ,,Ik heb nooit iets kunnen doen, nu wil ik terugvechten.’’\n",
      "READ MORE--> https://www.ad.nl/binnenland/slachtoffer-van-haagse-steker-malek-f-vecht-terug-zijn-doel-was-moorden-hij-moet-het-land-uit~a75e583d/\n",
      " \n",
      "         +--------------------------------------------------------------------+\n",
      " \n",
      "7\n",
      "TITLE--> Ondanks aanhouding toch weer een autobrand in Arnhem\n",
      "DISCRIPTION--> Ondanks de aanhouding afgelopen weekend voor de serie autobranden in Arnhem, heeft er afgelopen nacht opnieuw een autobrand gewoed. Hulpdiensten gaan uit van brandstichting.\n",
      "READ MORE--> https://www.ad.nl/binnenland/ondanks-aanhouding-toch-weer-een-autobrand-in-arnhem~a4fd640c/\n",
      " \n",
      "         +--------------------------------------------------------------------+\n",
      " \n",
      "8\n",
      "TITLE--> Geredde ooievaartjes uit De Lutte groeien als kool: ‘Eerste nacht was wel spannend’\n",
      "DISCRIPTION--> De vier geredde ooievaartjes uit De Lutte groeien als kool. Vorige week zijn ze overgebracht naar de ooievaarsopvang in Herwijnen en daar doen ze het zo goed, dat de twee grootsten al niet meer samen in een voerbak passen.\n",
      "READ MORE--> https://www.ad.nl/binnenland/geredde-ooievaartjes-uit-de-lutte-groeien-als-kool-eerste-nacht-was-wel-spannend~abc5d6d8/\n",
      " \n",
      "         +--------------------------------------------------------------------+\n",
      " \n",
      "9\n",
      "TITLE--> Gevluchte bestuurder kilometers verder opgepakt na crash op A50\n",
      "DISCRIPTION--> Een automobilist heeft de politie afgelopen nacht flink beziggehouden tussen Hattemerbroek en Zwolle. De man crashte op de A50, maar in plaats van te wachten op de hulpdiensten ging hij er te voet vandoor. En dat bleek niet zonder reden.\n",
      "READ MORE--> https://www.ad.nl/auto/gevluchte-bestuurder-kilometers-verder-opgepakt-na-crash-op-a50~a9320fe91/\n",
      " \n",
      "         +--------------------------------------------------------------------+\n",
      " \n",
      "10\n",
      "TITLE--> Een 4 mei om nooit te vergeten: vlaggen de hele dag halfstok, koning speecht op lege Dam\n",
      "DISCRIPTION--> De Nationale Herdenking zou vanwege het 75-jarige jubileum al bijzonder zijn. Door de coronacrisis belooft deze 4 mei een extra speciale editie te worden. De koning spreekt een lege Dam toe, voor het oog van miljoenen tv-kijkers. Het Nationaal Comité 4 en 5 mei roept iedereen op om de vlag de hele dag halfstok te hangen.\n",
      "READ MORE--> https://www.ad.nl/binnenland/een-4-mei-om-nooit-te-vergeten-vlaggen-de-hele-dag-halfstok-koning-speecht-op-lege-dam~a39c4551/\n",
      " \n",
      "         +--------------------------------------------------------------------+\n",
      " \n",
      "11\n",
      "TITLE--> ‘Ik ga voor de klas, maar denk niet: hiep, hiep, hoera’\n",
      "DISCRIPTION--> Vol enthousiasme, maar ook met grote tegenzin gaan basisschoolleraren vanaf 11 mei weer voor de klas. Terwijl tweederde zich wel kan vinden in de heropening van scholen, noemt een grote groep die beslissing juist onverantwoord. ‘Ik ga voor de klas, maar denk niet: hiep, hiep, hoera.’\n",
      "READ MORE--> https://www.ad.nl/binnenland/ik-ga-voor-de-klas-maar-denk-niet-hiep-hiep-hoera~ac4ab29d/\n",
      " \n",
      "         +--------------------------------------------------------------------+\n",
      " \n",
      "12\n",
      "TITLE--> LIVE | Italië versoepelt lockdown, Burgemeester na illegale party: ‘Tijd van waarschuwen is voorbij’\n",
      "DISCRIPTION--> Het aantal nieuwe sterfgevallen lijkt wereldwijd te dalen of verloopt langzamer, onder meer in Duitsland, Frankrijk en de Verenigde Staten. In Nederland gaan vanaf vandaag de winkels van optiekketens EyeWish en Pearle weer volledig open. En volgens Donald Trump hebben de Verenigde Staten eind dit jaar een vaccin tegen het coronavirus, iets wat echter onzeker is volgens een van zijn belangrijkste adviseurs dr. Fauci. In dit liveblog houden we je op de hoogte van de laatste corona-ontwikkelingen.\n",
      "READ MORE--> https://www.ad.nl/binnenland/live-italie-versoepelt-lockdown-burgemeester-na-illegale-party-tijd-van-waarschuwen-is-voorbij~adfe940d/\n",
      " \n",
      "         +--------------------------------------------------------------------+\n",
      " \n",
      "13\n",
      "TITLE--> En weer is het raak: nu brand in twee zendmasten in Den Haag\n",
      "DISCRIPTION--> In Den Haag heeft in de nacht van zondag op maandag brand gewoed in twee zendmasten. Beide brandjes zijn geblust, meldt een woordvoerder van de brandweer. De politie doet verder onderzoek.\n",
      "READ MORE--> https://www.ad.nl/binnenland/en-weer-is-het-raak-nu-brand-in-twee-zendmasten-in-den-haag~a9511a71/\n",
      " \n",
      "         +--------------------------------------------------------------------+\n",
      " \n",
      "14\n",
      "TITLE--> Een derde van de leraren vindt heropenen basisscholen ‘onverantwoord’\n",
      "DISCRIPTION--> Ruim eenderde van de basisschoolleraren vindt het onverantwoord om vanaf 11 mei weer voor de klas te staan. Leerkrachten vinden dat het kabinet het RIVM-onderzoek naar de besmettingsrisico's van jongeren had moeten afwachten. Bovendien zijn ze bang zelf besmet te raken of hun leerlingen te besmetten.\n",
      "READ MORE--> https://www.ad.nl/binnenland/een-derde-van-de-leraren-vindt-heropenen-basisscholen-onverantwoord~a6698f16/\n",
      " \n",
      "         +--------------------------------------------------------------------+\n",
      " \n",
      "15\n",
      "TITLE--> Inbrekers gearresteerd na waarschuwingsschot\n",
      "DISCRIPTION--> De politie heeft in het zuidwesten van Den Helder twee inbrekers kunnen arresteren na het lossen van een waarschuwingsschot. Dat gebeurde in de straat Het Koggeschip.\n",
      "READ MORE--> https://www.ad.nl/binnenland/inbrekers-gearresteerd-na-waarschuwingsschot~a080c71f/\n",
      " \n",
      "         +--------------------------------------------------------------------+\n",
      " \n",
      "16\n",
      "TITLE--> Koolmeesje overlijdt nadat het opgesloten wordt in vogelhuisje in Collendoorn: ‘Verschrikkelijk’\n",
      "DISCRIPTION--> Een koolmeesje in Collendoorn is afgelopen week overleden nadat er een stok voor zijn vogelhuisje is gezet. ‘Bewust dierenleed’, stelt Landschap Overijssel.\n",
      "READ MORE--> https://www.ad.nl/enschede/koolmeesje-overlijdt-nadat-het-opgesloten-wordt-in-vogelhuisje-in-collendoorn-verschrikkelijk~a7c69255/\n",
      " \n",
      "         +--------------------------------------------------------------------+\n",
      " \n",
      "17\n",
      "TITLE--> Er kunnen wat mij betreft niet genoeg nieuwe politieke partijen opgericht worden\n",
      "DISCRIPTION--> Nynke de Jong schrijft drie keer per week over wat haar bezighoudt.\n",
      "READ MORE--> https://www.ad.nl/binnenland/er-kunnen-wat-mij-betreft-niet-genoeg-nieuwe-politieke-partijen-opgericht-worden~a71e9257/\n",
      " \n",
      "         +--------------------------------------------------------------------+\n",
      " \n",
      "18\n",
      "TITLE--> Duitse ic-baas: Nederland moet voor veel meer ic-bedden zorgen\n",
      "DISCRIPTION--> Ook in het geval van een tweede coronagolf kan Nederland weer op Duitsland rekenen, zegt professor Hugo van Aken van de Universiteitskliniek in Münster, die de verdeling van Nederlandse intensivecarepatiënten over Duitse ziekenhuizen coördineert. Maar hij heeft wel een dringend advies. ,,Jullie moeten snel gaan werken aan veel meer ic-capaciteit.”\n",
      "READ MORE--> https://www.ad.nl/binnenland/duitse-ic-baas-nederland-moet-voor-veel-meer-ic-bedden-zorgen~aca7ea29/\n",
      " \n",
      "         +--------------------------------------------------------------------+\n",
      " \n",
      "19\n",
      "TITLE--> Zeilschip loodst dolfijn die in haven Amsterdam was gestrand, terug naar zee\n",
      "DISCRIPTION--> Medewerkers van de Stichting SOS Dolfijn zijn er zondag in geslaagd de tuimelaar die zaterdag in de haven van Amsterdam terechtkwam via de sluizen bij IJmuiden naar de Noordzee te brengen.\n",
      "READ MORE--> https://www.ad.nl/binnenland/zeilschip-loodst-dolfijn-die-in-haven-amsterdam-was-gestrand-terug-naar-zee~a577484e/\n",
      " \n",
      "         +--------------------------------------------------------------------+\n",
      " \n",
      "20\n",
      "TITLE--> 50Plus-oprichter voelt zich door Henk Krol bedonderd: ‘Heel teleurstellend’\n",
      "DISCRIPTION--> Met de Partij voor de Toekomst denkt Henk Krol na de verkiezingen terug te keren in de Tweede Kamer. Binnen zijn oude partij 50Plus knetterde het al maanden.\n",
      "READ MORE--> https://www.ad.nl/politiek/50plus-oprichter-voelt-zich-door-henk-krol-bedonderd-heel-teleurstellend~ad5f61ac/\n",
      " \n",
      "         +--------------------------------------------------------------------+\n",
      " \n",
      "21\n",
      "TITLE--> Zeg ik tegen die vrouwelijke collega dat ze een te krap bloesje draagt?\n",
      "DISCRIPTION--> Wijsheid komt met de jaren. Omdat acteur Joost Prinsen (77) een eind op weg is, beantwoordt hij uw vragen.\n",
      "READ MORE--> https://www.ad.nl/binnenland/zeg-ik-tegen-die-vrouwelijke-collega-dat-ze-een-te-krap-bloesje-draagt~a92f2312/\n",
      " \n",
      "         +--------------------------------------------------------------------+\n",
      " \n",
      "22\n",
      "TITLE--> Wapenbranche overweegt claim tegen politie om dicht loket\n",
      "DISCRIPTION--> Ruim honderd wapenhandelaren lopen tienduizenden euro’s omzet mis omdat de politie tijdens de coronacrisis geen wapens op naam zet. Ze spreken van een onrechtmatige weigering en willen de schade op de politie verhalen.\n",
      "READ MORE--> https://www.ad.nl/binnenland/wapenbranche-overweegt-claim-tegen-politie-om-dicht-loket~a615b956/\n",
      " \n",
      "         +--------------------------------------------------------------------+\n",
      " \n",
      "23\n",
      "TITLE--> Loslopende runderen hinderen politieonderzoek na vondst dode\n",
      "DISCRIPTION--> Politieonderzoek na de vondst van een lichaam in Nationaal Park De Meinweg in Limburg is zondagmiddag danig gehinderd door een kudde loslopende galloway-runderen. De grote grazers waren afgekomen op eten dat bedoeld was als lunch voor de agenten.\n",
      "READ MORE--> https://www.ad.nl/binnenland/loslopende-runderen-hinderen-politieonderzoek-na-vondst-dode~aca282ab/\n",
      " \n",
      "         +--------------------------------------------------------------------+\n",
      " \n",
      "24\n",
      "TITLE--> Reizen in de stad na coronacrisis: straks kan de auto wel inpakken\n",
      "DISCRIPTION--> Reizen binnen de stad wordt moeilijk. Als straks het leven weer op gang komt, zullen we lang zo mobiel niet zijn als voor de coronacrisis. Het grote inleveren kan weleens beginnen bij de auto.\n",
      "READ MORE--> https://www.ad.nl/binnenland/reizen-in-de-stad-na-coronacrisis-straks-kan-de-auto-wel-inpakken~ae851a43/\n",
      " \n",
      "         +--------------------------------------------------------------------+\n",
      " \n",
      "25\n",
      "TITLE--> Aantal coronapatiënten op intensive care onder 700\n",
      "DISCRIPTION--> Op de intensivecareafdelingen liggen nog 688 mensen met het coronavirus. Dat zijn er twintig minder dan op zaterdag, aldus het Landelijk Coördinatiecentrum Patiënten Spreiding (LCPS).\n",
      "READ MORE--> https://www.ad.nl/binnenland/aantal-coronapatienten-op-intensive-care-onder-700~a5542143/\n",
      " \n",
      "         +--------------------------------------------------------------------+\n",
      " \n",
      "26\n",
      "TITLE--> Zwierig boeket van de online bloemist blijkt niet altijd een succes\n",
      "DISCRIPTION--> Tijdens de coronacrisis bestellen we vaker een bloemetje online om iemand mee te verrassen. Helemaal nu Moederdag in aantocht is. Onze bloemexpert keurt zeven internetboeketten.\n",
      "READ MORE--> https://www.ad.nl/nlblijftthuis/zwierig-boeket-van-de-online-bloemist-blijkt-niet-altijd-een-succes~ac001897/\n",
      " \n",
      "         +--------------------------------------------------------------------+\n",
      " \n",
      "27\n",
      "TITLE--> Nederlandse diplomaat helpt in eigen auto landgenoten Fins-Russische grens over\n",
      "DISCRIPTION--> De Nederlandse plaatsvervangend consul-generaal in het Russische Sint-Petersburg heeft drie landgenoten persoonlijk de grens met Finland overgeholpen. Het drietal kwam begin april vast te zitten, omdat Rusland vanwege de uitbraak van de coronapandemie half maart al de grenzen sloot.\n",
      "READ MORE--> https://www.ad.nl/buitenland/nederlandse-diplomaat-helpt-in-eigen-auto-landgenoten-fins-russische-grens-over~a390d16a/\n",
      " \n",
      "         +--------------------------------------------------------------------+\n",
      " \n",
      "28\n",
      "TITLE--> 50Plus heeft geen goed woord over voor ‘zetelroof’ Henk Krol\n",
      "DISCRIPTION--> De Kamerleden van 50Plus voelen zich bedrogen door Henk Krol. Vanochtend kondigde hij zonder overleg aan de partij te verlaten en voor zichzelf te beginnen. Ondertussen dreigt scheidend partijvoorzitter Geert Dales nog zittende 50Plus-Kamerleden te royeren.\n",
      "READ MORE--> https://www.ad.nl/politiek/50plus-heeft-geen-goed-woord-over-voor-zetelroof-henk-krol~a85d53a4/\n",
      " \n",
      "         +--------------------------------------------------------------------+\n",
      " \n",
      "29\n",
      "TITLE--> Zoveel geld moet je sparen voor de aankoop van een eigen huis\n",
      "DISCRIPTION--> Voor alleenstaanden met een modaal inkomen en 20.000 euro op de spaarrekening is het in een derde van de Nederlandse gemeenten nog steeds onmogelijk om een eigen huis te kopen. De huizenprijzen liggen te hoog voor deze doelgroep. Ook koppels met weinig eigen geld komen er op de meeste plekken in Nederland niet tussen.\n",
      "READ MORE--> https://www.ad.nl/wonen/zoveel-geld-moet-je-sparen-voor-de-aankoop-van-een-eigen-huis~a260718c/\n",
      " \n",
      "         +--------------------------------------------------------------------+\n",
      " \n",
      "30\n",
      "TITLE--> RIVM: 69 nieuwe sterfgevallen en 44 ziekenhuisopnames\n",
      "DISCRIPTION--> De afgelopen 24 uur zijn er in Nederland 69 nieuwe meldingen gedaan van geteste mensen die zijn overleden aan het coronavirus. Een daling ten opzichte van gisteren, toen er in de dagelijkse update van het RIVM 94 overlijdens werden gemeld. In totaal vallen nu 5.056 coronadoden te betreuren.\n",
      "READ MORE--> https://www.ad.nl/binnenland/rivm-69-nieuwe-sterfgevallen-en-44-ziekenhuisopnames~ae1f6bf3/\n",
      " \n",
      "         +--------------------------------------------------------------------+\n",
      " \n"
     ]
    },
    {
     "name": "stdout",
     "output_type": "stream",
     "text": [
      "         ---------------TELEGRAAF.NL BINNENLAND NIEUWS---------------\n",
      " \n",
      "1\n",
      "TITLE--> ‘Koeman vandaag weer ontslagen uit ziekenhuis’\n",
      "DISCRIPTION--> Het was flink schrikken toen bondscoach Ronald Koeman zondagavond met spoed moest worden opgenomen in het ziekenhuis wegens hartklachten. Chef Telesport Marcel van der Kraan vertelt hoe het nu met hem gaat.\n",
      "READ MORE--> https://www.telegraaf.nl/video/1724294093/koeman-vandaag-weer-ontslagen-uit-ziekenhuis\n",
      " \n",
      "         +--------------------------------------------------------------------+\n",
      " \n",
      "2\n",
      "TITLE--> Veiligheidsberaad: ’Politieagentje spelen zinloos, beboeten alleen bij grote groep'\n",
      "DISCRIPTION--> Veiligheidsberaad: ’Politieagentje spelen zinloos, beboeten alleen bij grote groep'\n",
      "READ MORE--> https://www.telegraaf.nl/nieuws/267751048/veiligheidsberaad-politieagentje-spelen-zinloos-beboeten-alleen-bij-grote-groep\n",
      " \n",
      "         +--------------------------------------------------------------------+\n",
      " \n",
      "3\n",
      "TITLE--> Oproep minister Grapperhaus: hang de vlag uit\n",
      "DISCRIPTION--> Oproep minister Grapperhaus: hang de vlag uit\n",
      "READ MORE--> https://www.telegraaf.nl/nieuws/709652379/oproep-minister-grapperhaus-hang-de-vlag-uit\n",
      " \n",
      "         +--------------------------------------------------------------------+\n",
      " \n",
      "4\n",
      "TITLE--> Oorlogsfotograaf Chas Gerretsen vast op zeilschip\n",
      "DISCRIPTION--> Het Nederlands Fotomuseum in Rotterdam bereidt een groot overzicht voor van het werk van Chas Gerretsen (76) voor de zomer van 2021.\n",
      "READ MORE--> https://www.telegraaf.nl/entertainment/1125072048/oorlogsfotograaf-chas-gerretsen-vast-op-zeilschip\n",
      " \n",
      "         +--------------------------------------------------------------------+\n",
      " \n",
      "5\n",
      "TITLE--> Uitgebreide reisgids voor de herdenkingstoerist\n",
      "DISCRIPTION--> In het voorwoord van de lijvige reisgids Bevrijdingsroute Europa vertelt ANWB-directeur Frits van Bruggen hoe hij jaren geleden met zijn gezin de stranden van Normandië bezocht en danig onder de indruk was. Vorig jaar juni startte daar de 75-jarige jubileumviering van de bevrijding van Nederland. De...\n",
      "READ MORE--> https://www.telegraaf.nl/entertainment/850856895/uitgebreide-reisgids-voor-de-herdenkingstoerist\n",
      " \n",
      "         +--------------------------------------------------------------------+\n",
      " \n",
      "6\n",
      "TITLE--> Marcouch: ‘Vrijheid is onze zuurstof’\n",
      "DISCRIPTION--> Burgemeester Ahmed Marcouch van Arnhem heeft speciaal voor de dodenherdenking een indrukwekkende speech voorgedragen. De video is opgenomen op het monumentale begraafpark Moscowa.\n",
      "READ MORE--> https://www.telegraaf.nl/video/1584220554/marcouch-vrijheid-is-onze-zuurstof\n",
      " \n",
      "         +--------------------------------------------------------------------+\n",
      " \n",
      "7\n",
      "TITLE--> Politiemol krijgt ook in hoger beroep vijf jaar cel\n",
      "DISCRIPTION--> Politiemol krijgt ook in hoger beroep vijf jaar cel\n",
      "READ MORE--> https://www.telegraaf.nl/nieuws/2123049999/politiemol-krijgt-ook-in-hoger-beroep-vijf-jaar-cel\n",
      " \n",
      "         +--------------------------------------------------------------------+\n",
      " \n",
      "8\n",
      "TITLE--> Gewonde bij woningoverval Den Haag\n",
      "DISCRIPTION--> Bij een woningoverval aan de Paviljoensgracht in het centrum van Den Haag is maandagochtend geschoten en een gewonde gevallen, meldt de politie. Het slachtoffer is naar het ziekenhuis gebracht voor behandeling.\n",
      "READ MORE--> https://www.telegraaf.nl/nieuws/1865904350/gewonde-bij-woningoverval-den-haag\n",
      " \n",
      "         +--------------------------------------------------------------------+\n",
      " \n",
      "9\n",
      "TITLE--> ’Ik kan verleden niet loslaten, ik herleef het steeds weer’\n",
      "DISCRIPTION--> Deze week precies 75 jaar geleden kwam een einde aan de Tweede Wereldoorlog. Heel Nederland had naar dit moment toegeleefd. Na de eerste euforie moest iedereen zijn leven weer oppakken. Hoe was dat en op wat voor manier bleef het oorlogsverleden een rol spelen in het bestaan? Vandaag in de laatste a...\n",
      "READ MORE--> https://www.telegraaf.nl/nieuws/1721176594/ik-kan-verleden-niet-loslaten-ik-herleef-het-steeds-weer\n",
      " \n",
      "         +--------------------------------------------------------------------+\n",
      " \n",
      "10\n",
      "TITLE--> Arib deelt komische anekdotes videobellende Kamerleden\n",
      "DISCRIPTION--> Ook de leden van de Tweede Kamer moeten een deel van hun vergaderingen digitaal beleggen. Voorzitter Khadija Arib deelt in Op1 een aantal komische anekdotes.\n",
      "READ MORE--> https://www.telegraaf.nl/video/1699929112/arib-deelt-komische-anekdotes-videobellende-kamerleden\n",
      " \n",
      "         +--------------------------------------------------------------------+\n",
      " \n",
      "11\n",
      "TITLE--> Maakt de auto een wedergeboorte?\n",
      "DISCRIPTION--> Hoe zal het met de auto gaan na de coronacrisis? Zal onze heilige koe een wedergeboorte doormaken, als veilig transportmiddel waarin de kans op besmetting met het virus wel heel klein is, zoals verkeersexpert Henk van Zuylen afgelopen vrijdag in De Telegraaf voorspelde? Of krijgen de verkeersoptimis...\n",
      "READ MORE--> https://www.telegraaf.nl/nieuws/1054003785/maakt-de-auto-een-wedergeboorte\n",
      " \n",
      "         +--------------------------------------------------------------------+\n",
      " \n",
      "12\n",
      "TITLE--> Halsema: ’Leg regie versoepeling ook bij burger’\n",
      "DISCRIPTION--> Niet alleen het kabinet, maar vooral ook de burger zelf zou een deel van de regie moeten krijgen bij een versoepeling van de coronamaatregelen, vindt de Amsterdamse burgemeester Femke Halsema. In het tv-programma Op1 deed ze een oproep om de anderhalvemetersamenleving op te starten.\n",
      "READ MORE--> https://www.telegraaf.nl/nieuws/529322080/halsema-leg-regie-versoepeling-ook-bij-burger\n",
      " \n",
      "         +--------------------------------------------------------------------+\n",
      " \n",
      "         ---------------TWEAKERS.NL NIEUWS---------------\n",
      " \n",
      "1\n",
      "TITLE--> Netbeheerders vrezen miljoenenverlies door vroegtijdig vervangen slimme meters\n",
      "DISCRIPTION--> Energienetbeheerders Liander en Stedin vrezen miljoenen euro's verlies doordat ze miljoenen slimme meters vervroegd moeten vervangen. De meters werken op een eigen frequentie. De beheerders dreigen die eerder kwijt te raken dan ze aanvankelijk hadden gedacht.<img src=\"http://feeds.feedburner.com/~r/tweakers/mixed/~4/CLroQAX44LE\" height=\"1\" width=\"1\" alt=\"\"/>\n",
      "READ MORE--> https://tweakers.net/nieuws/166734\n",
      " \n",
      "         +--------------------------------------------------------------------+\n",
      " \n",
      "2\n",
      "TITLE--> Veel Oppo-smartphones krijgen vanaf juni upgrade naar Android 10\n",
      "DISCRIPTION--> Oppo heeft een upgradeschema gepubliceerd waarop staat wanneer welke telefoons de upgrade naar ColorOS 7 krijgen. Dat is Oppo's besturingssysteem op basis van Android 10. In Nederland krijgen veel telefoons vanaf juni de upgrade.<img src=\"http://feeds.feedburner.com/~r/tweakers/mixed/~4/f2D-kLtNfvo\" height=\"1\" width=\"1\" alt=\"\"/>\n",
      "READ MORE--> https://tweakers.net/nieuws/166736\n",
      " \n",
      "         +--------------------------------------------------------------------+\n",
      " \n",
      "3\n",
      "TITLE--> Politie houdt 24 verdachten van WhatsApp-fraude aan rond Deventer\n",
      "DISCRIPTION--> De politie heeft in de afgelopen weken 24 verdachten aangehouden in een groot onderzoek naar WhatsApp-fraude. De verdachten zijn tussen de 15 en 40 jaar oud en het gaat onder andere om 'geldezels', die hun rekening ter beschikking hebben gesteld.<img src=\"http://feeds.feedburner.com/~r/tweakers/mixed/~4/xxvVxc_R7Dw\" height=\"1\" width=\"1\" alt=\"\"/>\n",
      "READ MORE--> https://tweakers.net/nieuws/166732\n",
      " \n",
      "         +--------------------------------------------------------------------+\n",
      " \n",
      "4\n",
      "TITLE--> LineageOS houdt distributie van builds offline na inbraak op servers\n",
      "DISCRIPTION--> Hackers zijn de servers van LineageOS binnengedrongen. Ze misbruikten daarvoor een bekende softwarekwetsbaarheid. Bij de hack zijn geen gegevens of signing keys gestolen, maar LineageOS houdt zijn diensten wel tijdelijk offline.<img src=\"http://feeds.feedburner.com/~r/tweakers/mixed/~4/C4UzAq8UxBE\" height=\"1\" width=\"1\" alt=\"\"/>\n",
      "READ MORE--> https://tweakers.net/nieuws/166730\n",
      " \n",
      "         +--------------------------------------------------------------------+\n",
      " \n",
      "5\n",
      "TITLE--> 'Steam heeft sinds release Half-Life: Alyx een miljoen extra vr-gebruikers'\n",
      "DISCRIPTION--> Het aantal gebruikers van Steam dat een vr-headset heeft aangesloten is in april met ongeveer een miljoen gestegen. Dat is vermoedelijk voornamelijk te danken aan de release van vr-game Half-Lyfe: Alyx eind maart.<img src=\"http://feeds.feedburner.com/~r/tweakers/mixed/~4/9GNYIP3UDzs\" height=\"1\" width=\"1\" alt=\"\"/>\n",
      "READ MORE--> https://tweakers.net/nieuws/166728\n",
      " \n",
      "         +--------------------------------------------------------------------+\n",
      " \n",
      "6\n",
      "TITLE--> Infinity Ward werkt aan duo-optie voor Call of Duty: Warzone\n",
      "DISCRIPTION--> Call of Duty: Warzone krijgt een duo-optie, waarin teams van twee het tegen elkaar opnemen in de battle-royalegame. Ontwikkelaar Infinity Ward bevestigt dat, maar het is nog niet bekend wanneer de optie er komt. In de code staan al verwijzingen naar de duomodus.<img src=\"http://feeds.feedburner.com/~r/tweakers/mixed/~4/02_dA7gB4EA\" height=\"1\" width=\"1\" alt=\"\"/>\n",
      "READ MORE--> https://tweakers.net/nieuws/166724\n",
      " \n",
      "         +--------------------------------------------------------------------+\n",
      " \n",
      "7\n",
      "TITLE--> Xiaomi brengt update uit voor browsers die incognitodataverzameling uitschakelt\n",
      "DISCRIPTION--> Xiaomi heeft via de Google Play Store updates uitgebracht voor zijn Mi Browser, Mi Browser Pro en Mint Browser. De update schakelt het verzamelen van data in de incognitomodus uit. Gebruikers kunnen die wel weer aanzetten voor een 'verbeterde ervaring'.<img src=\"http://feeds.feedburner.com/~r/tweakers/mixed/~4/zRpV83yBOwY\" height=\"1\" width=\"1\" alt=\"\"/>\n",
      "READ MORE--> https://tweakers.net/nieuws/166722\n",
      " \n",
      "         +--------------------------------------------------------------------+\n",
      " \n",
      "8\n",
      "TITLE--> YouTuber toont foto's en details van Google Pixel 4a-camera\n",
      "DISCRIPTION--> Een YouTuber uit Cuba heeft meer informatie over de camera van Googles Pixel 4a-smartphone online gezet. Het toestel lijkt dezelfde Sony IMX363-sensor te bevatten als de Pixel 3, 3a en 4. Ook zijn foto's gemaakt met de Pixel 4a verschenen.<img src=\"http://feeds.feedburner.com/~r/tweakers/mixed/~4/faed-YoBDDE\" height=\"1\" width=\"1\" alt=\"\"/>\n",
      "READ MORE--> https://tweakers.net/nieuws/166720\n",
      " \n",
      "         +--------------------------------------------------------------------+\n",
      " \n",
      "9\n",
      "TITLE--> OnePlus 8 en 8 Pro - Wie veel inzet, speelt hoog spel\n",
      "DISCRIPTION--> De OnePlus 8 en 8 Pro zijn geen prijsvechters meer. Doet OnePlus nog onder voor de groten der aarde? Of is de hoge prijs echt gerechtvaardigd?<img src=\"http://feeds.feedburner.com/~r/tweakers/mixed/~4/VjEHdIftsMo\" height=\"1\" width=\"1\" alt=\"\"/>\n",
      "READ MORE--> https://tweakers.net/reviews/7828\n",
      " \n",
      "         +--------------------------------------------------------------------+\n",
      " \n",
      "10\n",
      "TITLE--> Deepcool voorziet Gammaxx 400-cpu-koeler van meer koelvinnen en extra fan\n",
      "DISCRIPTION--> Deepcool heeft een vernieuwde versie van zijn Gammaxx 400-processorkoeler uitgebracht. De luchtkoeler heeft volgens de fabrikant meer koelvinnen die dichter op elkaar zitten. Ook levert Deepcool twee fans met de cpu-koeler, waar de vorige versie een enkele ventilator had.<img src=\"http://feeds.feedburner.com/~r/tweakers/mixed/~4/I6aTuRl0meY\" height=\"1\" width=\"1\" alt=\"\"/>\n",
      "READ MORE--> https://tweakers.net/nieuws/166708\n",
      " \n",
      "         +--------------------------------------------------------------------+\n",
      " \n",
      "11\n",
      "TITLE--> elementary OS 5.1.4\n",
      "DISCRIPTION--> Er is een update voor versie 5.1 van elementary OS, ook bekend onder de naam Hera, is uitgekomen. Elementary OS is een op Ubuntu gebaseerde Linux-distributie, die als doel heeft om met Pantheon een consistente en simpele desktopomgeving te bieden. De release notes voor versie 5.1.4 kunnen hieronder worden gevonden. Parental Controls → Screen Time & Limits<img src=\"http://feeds.feedburner.com/~r/tweakers/mixed/~4/K5YW6KekGbg\" height=\"1\" width=\"1\" alt=\"\"/>\n",
      "READ MORE--> https://tweakers.net/downloads/51594\n",
      " \n",
      "         +--------------------------------------------------------------------+\n",
      " \n",
      "12\n",
      "TITLE--> Intel deelt foto van Xe-gpu voor datacenters en hint op ontwikkeling opvolger\n",
      "DISCRIPTION--> Intel heeft een afbeelding van zijn aankomende Xe-gpu voor datacenters gepubliceerd op Twitter. Daarnaast heeft Raja Koduri, hoofd van Intels grafische divisie, enkele details over de chip gedeeld. De topman hint ook dat er wordt gewerkt aan een opvolger van de gpu.<img src=\"http://feeds.feedburner.com/~r/tweakers/mixed/~4/wWZdGJCdSN4\" height=\"1\" width=\"1\" alt=\"\"/>\n",
      "READ MORE--> https://tweakers.net/nieuws/166716\n",
      " \n",
      "         +--------------------------------------------------------------------+\n",
      " \n",
      "13\n",
      "TITLE--> Xiaomi werkt voor het eerst buiten systeemupdate om gpu-drivers telefoons bij\n",
      "DISCRIPTION--> Xiaomi heeft een gpu-driver-update voor de Mi 10, Mi 10 Pro en Redmi K30 Pro uitgebracht via zijn eigen Chinese app store. De mogelijkheid om gpu-drivers los van systeemupdates te leveren is nieuw voor Android en Xiaomi lijkt de eerste te zijn die er gebruik van maakt.<img src=\"http://feeds.feedburner.com/~r/tweakers/mixed/~4/358G0K1n2cY\" height=\"1\" width=\"1\" alt=\"\"/>\n",
      "READ MORE--> https://tweakers.net/nieuws/166718\n",
      " \n",
      "         +--------------------------------------------------------------------+\n",
      " \n",
      "14\n",
      "TITLE--> Frontier Developments werkt aan rts-game op basis van Warhammer Age of Sigmar\n",
      "DISCRIPTION--> Frontier Developments, de makers van Elite Dangerous, Planet Coaster en Planet Zoo, werkt aan een rts-game op basis van de tabletop fantasy minitatures game Warhammer Age of Sigmar. Het spel moet tussen 1 april 2022 en 31 mei 2023 uitkomen.<img src=\"http://feeds.feedburner.com/~r/tweakers/mixed/~4/RqVggBUV8oA\" height=\"1\" width=\"1\" alt=\"\"/>\n",
      "READ MORE--> https://tweakers.net/nieuws/166714\n",
      " \n",
      "         +--------------------------------------------------------------------+\n",
      " \n",
      "15\n",
      "TITLE--> 'Render toont nieuwe Sonos Playbar'\n",
      "DISCRIPTION--> Een render van de mogelijk aankomende nieuwe Sonos Playbar is uitgelekt. Het product ligt mogelijk in juni al in de schappen, samen met een nieuwe Sonos Sub en Play:5. Die berichten komen van 9to5Mac en Dave Zatz.<img src=\"http://feeds.feedburner.com/~r/tweakers/mixed/~4/cCqTA9YvdUA\" height=\"1\" width=\"1\" alt=\"\"/>\n",
      "READ MORE--> https://tweakers.net/nieuws/166712\n",
      " \n",
      "         +--------------------------------------------------------------------+\n",
      " \n",
      "16\n",
      "TITLE--> India verplicht gebruik van corona-contactonderzoek-app voor alle werkers\n",
      "DISCRIPTION--> India heeft op vrijdag zijn corona-contactonderzoek-app verplicht gemaakt voor iedereen die werkt. Leiders in de publieke en private sector zijn verantwoordelijk voor het naleven van de regel en op nalatigheid staan straffen.<img src=\"http://feeds.feedburner.com/~r/tweakers/mixed/~4/Ag1CJnb3Wr0\" height=\"1\" width=\"1\" alt=\"\"/>\n",
      "READ MORE--> https://tweakers.net/nieuws/166710\n",
      " \n",
      "         +--------------------------------------------------------------------+\n",
      " \n",
      "17\n",
      "TITLE--> Tien maanden driverupdates getest - Welke winst kun je verwachten?\n",
      "DISCRIPTION--> We hebben de 5700 XT en 2070 Super getest met tien maanden aan driverupdates. We kijken naar de resultaten van de geteste games en pogen de vraag te beantwoorden: welke rijpt beter?<img src=\"http://feeds.feedburner.com/~r/tweakers/mixed/~4/Icl4gQTstAY\" height=\"1\" width=\"1\" alt=\"\"/>\n",
      "READ MORE--> https://tweakers.net/reviews/7770\n",
      " \n",
      "         +--------------------------------------------------------------------+\n",
      " \n",
      "18\n",
      "TITLE--> Phanteks introduceert Glacier G2080-waterblok voor Asus Dual Evo RTX Super-gpu's\n",
      "DISCRIPTION--> Phanteks heeft een waterblok voor enkele Nvidia-gpu's uitgebracht. Het gaat hierbij om de Asus Dual Evo RTX Super-videokaarten. Het waterblok komt in mei beschikbaar, en krijgt een adviesprijs van 150 dollar.<img src=\"http://feeds.feedburner.com/~r/tweakers/mixed/~4/k4q7CayKDiU\" height=\"1\" width=\"1\" alt=\"\"/>\n",
      "READ MORE--> https://tweakers.net/nieuws/166704\n",
      " \n",
      "         +--------------------------------------------------------------------+\n",
      " \n",
      "19\n",
      "TITLE--> Fabrikanten kondigen Intel Z490-moederborden aan\n",
      "DISCRIPTION--> Na de aankondiging van Intels tiende generatie Core-cpu's, komen fabrikanten met hun Z490-moederborden. Onder andere ASRock, Asus, EVGA, Gigabyte en MSI brengen nieuwe moederborden met de LGA 1200-socket uit.<img src=\"http://feeds.feedburner.com/~r/tweakers/mixed/~4/oO6WbB56XTE\" height=\"1\" width=\"1\" alt=\"\"/>\n",
      "READ MORE--> https://tweakers.net/nieuws/166698\n",
      " \n",
      "         +--------------------------------------------------------------------+\n",
      " \n",
      "20\n",
      "TITLE--> Gamejournalist Geoff Keighley komt met vier maanden durend online gamefestival\n",
      "DISCRIPTION--> Geoff Keighley, gamingjournalist en organisator van The Game Awards, heeft een nieuw evenement aangekondigd, genaamd Summer Game Fest. Het vier maanden durende online evenement omvat nieuws, ingame-evenementen en gratis speelbare content.<img src=\"http://feeds.feedburner.com/~r/tweakers/mixed/~4/AhNnlUOBP7w\" height=\"1\" width=\"1\" alt=\"\"/>\n",
      "READ MORE--> https://tweakers.net/nieuws/166706\n",
      " \n",
      "         +--------------------------------------------------------------------+\n",
      " \n",
      "21\n",
      "TITLE--> Testversies Firefox voor Android krijgen ondersteuning voor 5 extra extensies\n",
      "DISCRIPTION--> Firefox Preview en Firefox for Android Beta ondersteunen nu vijf extra extensies: NoScript, Dark Reader, HTTPS Everywhere, Privacy Badger en Search by Image. Dit in aanvulling op uBlock Origin, dat al ondersteund werd.<img src=\"http://feeds.feedburner.com/~r/tweakers/mixed/~4/ZpPUUEmqD7I\" height=\"1\" width=\"1\" alt=\"\"/>\n",
      "READ MORE--> https://tweakers.net/nieuws/166700\n",
      " \n",
      "         +--------------------------------------------------------------------+\n",
      " \n",
      "22\n",
      "TITLE--> '4k-ondersteuning Google Stadia komt naar Android-televisies en settopboxes'\n",
      "DISCRIPTION--> Google werkt aan 4k-ondersteuning voor Google Stadia op Android-based apparaten zoals televisies. Daarnaast komt er hdr-ondersteuning, een chatsysteem en de mogelijkheid om video captures en achievements makkelijker te tonen aan vrienden via links.<img src=\"http://feeds.feedburner.com/~r/tweakers/mixed/~4/851_-AbafTw\" height=\"1\" width=\"1\" alt=\"\"/>\n",
      "READ MORE--> https://tweakers.net/nieuws/166694\n",
      " \n",
      "         +--------------------------------------------------------------------+\n",
      " \n",
      "23\n",
      "TITLE--> Eerste Star Wars Battlefront uit 2004 heeft weer multiplayer\n",
      "DISCRIPTION--> De eerste Star Wars Battlefront, uit 2004, heeft zijn multiplayermodus teruggekregen. Sinds het ondergaan van Gamespy in 2014 werkte dat niet meer. Spelers kunnen nu weer met maximaal 32 in een server de strijd tegen elkaar aangaan, ook met spelers die de game op GOG kochten.<img src=\"http://feeds.feedburner.com/~r/tweakers/mixed/~4/sJqdPQnL3ho\" height=\"1\" width=\"1\" alt=\"\"/>\n",
      "READ MORE--> https://tweakers.net/nieuws/166692\n",
      " \n",
      "         +--------------------------------------------------------------------+\n",
      " \n",
      "24\n",
      "TITLE--> Calibre 4.15.0\n",
      "DISCRIPTION--> Versie 4.15.0 van Calibre is uitgekomen. Dit opensource-e-bookbeheerprogramma is beschikbaar voor Windows, Linux en macOS. Het kan onder meer alle relevante informatie en kaftafbeeldingen opzoeken, en e-boeken converteren om ze geschikt te maken voor de diverse soorten e-readers. Verder kan het programma kranten, tijdschriften en nieuwsartikelen op basis van rss-feeds omzetten in e-bookformaat. Ook kunnen met Calibre boeken worden aangeschaft bij de bekende webwinkels. In versie 4.0 treffen we een geheel vernieuwde Content Server aan, is er een nieuwe e-bookviewer en is Qt WebKit vervangen door Qt WebEngine. In deze uitgave zijn de volgende veranderingen en verbeteringen aangebracht: New features<img src=\"http://feeds.feedburner.com/~r/tweakers/mixed/~4/b7VTqlDHrJI\" height=\"1\" width=\"1\" alt=\"\"/>\n",
      "READ MORE--> https://tweakers.net/downloads/51592\n",
      " \n",
      "         +--------------------------------------------------------------------+\n",
      " \n",
      "25\n",
      "TITLE--> Dell XPS 13 9300 - Maximaliseren in alle dimensies\n",
      "DISCRIPTION--> In deze review kijken we naar Dells XPS 13 9300, die ten opzichte van zijn voorganger een breder toetsenbord en een hoger scherm heeft gekregen.<img src=\"http://feeds.feedburner.com/~r/tweakers/mixed/~4/zaaaIZuGLsw\" height=\"1\" width=\"1\" alt=\"\"/>\n",
      "READ MORE--> https://tweakers.net/reviews/7830\n",
      " \n",
      "         +--------------------------------------------------------------------+\n",
      " \n",
      "26\n",
      "TITLE--> Virgin Galactic voert eerste testvlucht uit vanaf Spaceport America\n",
      "DISCRIPTION--> Virgin Galactic heeft voor het eerst een testvlucht uitgevoerd vanaf de commerciële ruimtevaartbasis Spaceport America in New Mexico. Daarmee lijkt het bedrijf weer een stap dichter bij de eerste vluchten met passagiers aan boord te komen.<img src=\"http://feeds.feedburner.com/~r/tweakers/mixed/~4/NhvASH4etVE\" height=\"1\" width=\"1\" alt=\"\"/>\n",
      "READ MORE--> https://tweakers.net/nieuws/166690\n",
      " \n",
      "         +--------------------------------------------------------------------+\n",
      " \n",
      "27\n",
      "TITLE--> Slachtoffers WhatsApp-fraude kunnen aangifte voortaan via politiewebsite doen\n",
      "DISCRIPTION--> Slachtoffers van WhatsApp-fraude kunnen voortaan online aangifte doen. Op de site van de politie is een speciale sectie gemaakt waar burgers aangifte kunnen doen van fraude via de chat-app, maar ook via mail, sms of andere sociale media.<img src=\"http://feeds.feedburner.com/~r/tweakers/mixed/~4/QN1deLd8o2I\" height=\"1\" width=\"1\" alt=\"\"/>\n",
      "READ MORE--> https://tweakers.net/nieuws/166688\n",
      " \n",
      "         +--------------------------------------------------------------------+\n",
      " \n",
      "28\n",
      "TITLE--> Infinity Ward brengt Bounty Contracts terug in Call of Duty: Warzone na klachten\n",
      "DISCRIPTION--> Call of Duty-ontwikkelaar Infinity Ward heeft een populaire functie in CoD: Warzone teruggebracht na klachten van spelers. De ontwikkelaar verving de Bounty Contracts in het spel door een Most Wanted-modus, maar daar waren fans van de shooter niet tevreden mee.<img src=\"http://feeds.feedburner.com/~r/tweakers/mixed/~4/o9G0uRatnHo\" height=\"1\" width=\"1\" alt=\"\"/>\n",
      "READ MORE--> https://tweakers.net/nieuws/166686\n",
      " \n",
      "         +--------------------------------------------------------------------+\n",
      " \n",
      "29\n",
      "TITLE--> Valve stopt met ondersteuning van SteamVR op macOS\n",
      "DISCRIPTION--> Valve stopt met de ondersteuning van SteamVR op macOS. Het bedrijf zegt in een korte verklaring dat het al zijn energie voortaan wil steken in het ontwikkelen voor Windows en Linux. Legacy builds blijven wel werken.<img src=\"http://feeds.feedburner.com/~r/tweakers/mixed/~4/mns9SLR_iJ0\" height=\"1\" width=\"1\" alt=\"\"/>\n",
      "READ MORE--> https://tweakers.net/nieuws/166684\n",
      " \n",
      "         +--------------------------------------------------------------------+\n",
      " \n",
      "30\n",
      "TITLE--> Oracle waarschuwt voor bug in WebLogic Server dat actief wordt aangevallen\n",
      "DISCRIPTION--> Oracle waarschuwt dat een lek in WebLogic Server dat inmiddels gepatcht is actief wordt misbruikt. Door het lek uit te buiten is het mogelijk om bijvoorbeeld cryptomalware of ransomware uit te rollen op een server.<img src=\"http://feeds.feedburner.com/~r/tweakers/mixed/~4/B8orB0eHGLI\" height=\"1\" width=\"1\" alt=\"\"/>\n",
      "READ MORE--> https://tweakers.net/nieuws/166682\n",
      " \n",
      "         +--------------------------------------------------------------------+\n",
      " \n",
      "31\n",
      "TITLE--> Ocenaudio 3.7.14\n",
      "DISCRIPTION--> Versie 3.7.14 van Ocenaudio is uitgekomen. Dit gratis geluidsbewerkingsprogramma is van Braziliaanse bodem en heeft versies voor Windows, Linux en macOS. Het heeft uitgebreide mogelijkheden, zoals ondersteuning voor vst-plug-ins en het uitvoeren van een bewerking op verschillende plekken in een bestand tegelijk. Het openen en opslaan van bestanden gebeurt op de achtergrond, zodat het programma beschikbaar blijft. Verder is er een spectrumanalyzer aanwezig en het programma gaat zeer efficiënt om met geheugen. Het vergelijkbare Audacity heeft nog meer mogelijkheden en daardoor is Ocenaudio, zeker voor de beginnende gebruiker, wat makkelijker te gebruiken. Sinds versie 3.7.10 zijn de volgende veranderingen en verbeteringen aangebracht: Changes in version 3.7.14<img src=\"http://feeds.feedburner.com/~r/tweakers/mixed/~4/y-9KaSsS_lM\" height=\"1\" width=\"1\" alt=\"\"/>\n",
      "READ MORE--> https://tweakers.net/downloads/51590\n",
      " \n",
      "         +--------------------------------------------------------------------+\n",
      " \n",
      "32\n",
      "TITLE--> Phil Spencer: Xbox Series X loopt geen vertraging op door coronavirus\n",
      "DISCRIPTION--> De release van de Xbox Series X aan het eind van dit jaar wordt niet uitgesteld door de coronacrisis, zegt Microsoft-vicepresident Phil Spencer. Wel verwacht hij problemen met de releasedatums van games zelf.<img src=\"http://feeds.feedburner.com/~r/tweakers/mixed/~4/_eGXNfFKjCI\" height=\"1\" width=\"1\" alt=\"\"/>\n",
      "READ MORE--> https://tweakers.net/nieuws/166680\n",
      " \n",
      "         +--------------------------------------------------------------------+\n",
      " \n",
      "33\n",
      "TITLE--> Gerucht: OnePlus Z krijgt Snapdragon 765-processor\n",
      "DISCRIPTION--> De nog onaangekondigde OnePlus Z krijgt mogelijk toch een Snapdragon-processor. Er gingen geruchten dat het toestel een goedkopere MediaTek 5g-chip zou krijgen, maar smartphone-lekker Max J. stelt nu dat het gaat om de Snapdragon 765.<img src=\"http://feeds.feedburner.com/~r/tweakers/mixed/~4/eueDcyZrn0Q\" height=\"1\" width=\"1\" alt=\"\"/>\n",
      "READ MORE--> https://tweakers.net/nieuws/166678\n",
      " \n",
      "         +--------------------------------------------------------------------+\n",
      " \n",
      "34\n",
      "TITLE--> Aanvraag toont nieuwe Surface Headphones met bluetooth 5 en langere accuduur\n",
      "DISCRIPTION--> Microsoft zou werken aan een nieuwe versie van de Surface Headphones. De koptelefoon binnen de Surface-lijn zou een langere accuduur hebben dan zijn voorganger, en zou sneller zijn door de nieuwste versie van bluetooth.<img src=\"http://feeds.feedburner.com/~r/tweakers/mixed/~4/fJh1akDc0nM\" height=\"1\" width=\"1\" alt=\"\"/>\n",
      "READ MORE--> https://tweakers.net/nieuws/166676\n",
      " \n",
      "         +--------------------------------------------------------------------+\n",
      " \n",
      "35\n",
      "TITLE--> Dutch Power Cows staan ruim bovenaan in Rosetta@Home-ranglijst dankzij stampede\n",
      "DISCRIPTION--> De Dutch Power Cows, het gedistribueerdcomputingteam van Gathering of Tweakers, hebben na hun stampede in april met afstand de eerste positie bereikt op de internationale ranglijst van Rosetta@Home.<img src=\"http://feeds.feedburner.com/~r/tweakers/mixed/~4/gyA0xEUDejA\" height=\"1\" width=\"1\" alt=\"\"/>\n",
      "READ MORE--> https://tweakers.net/geek/166674\n",
      " \n",
      "         +--------------------------------------------------------------------+\n",
      " \n",
      "36\n",
      "TITLE--> Locatiegegevens van NL Alert-app waren te achterhalen door nieuw datalek\n",
      "DISCRIPTION--> De NL Alert-app van de Nederlandse overheid had nog een tweede beveiligingslek. Daarmee was het mogelijk om de locatie van individuele gebruikers te achterhalen. Het lek is verholpen, maar werd nog niet aan de Tweede Kamer gemeld.<img src=\"http://feeds.feedburner.com/~r/tweakers/mixed/~4/wZ17JulS8Rs\" height=\"1\" width=\"1\" alt=\"\"/>\n",
      "READ MORE--> https://tweakers.net/nieuws/166670\n",
      " \n",
      "         +--------------------------------------------------------------------+\n",
      " \n",
      "37\n",
      "TITLE--> Forbes: Xiaomi verzamelt gebruiksdata van zijn browsers in incognitomodus\n",
      "DISCRIPTION--> Mobiele browsers van Xiaomi sturen url's en andere data door naar servers van Xiaomi als de gebruiker de browser in de incognitomodus draait. Dat claimt Forbes op basis van claims van twee onderzoekers. Xiaomi ontkent.<img src=\"http://feeds.feedburner.com/~r/tweakers/mixed/~4/AnFttdhUgmc\" height=\"1\" width=\"1\" alt=\"\"/>\n",
      "READ MORE--> https://tweakers.net/nieuws/166668\n",
      " \n",
      "         +--------------------------------------------------------------------+\n",
      " \n",
      "38\n",
      "TITLE--> Achter de schermen - Wat gebeurt er op de redactie?\n",
      "DISCRIPTION--> Hoewel we natuurlijk allemaal zo veel mogelijk thuiswerken, vordert de inrichting van onze nieuwe werkplek gestaag en bouwen we verder aan de nieuwe studio.<img src=\"http://feeds.feedburner.com/~r/tweakers/mixed/~4/THBOAb002zY\" height=\"1\" width=\"1\" alt=\"\"/>\n",
      "READ MORE--> https://tweakers.net/plan/2626\n",
      " \n",
      "         +--------------------------------------------------------------------+\n",
      " \n",
      "39\n",
      "TITLE--> Freedom Internet werkt samen met bedrijf achter Tweak voor 1Gbit/s-glasvezel\n",
      "DISCRIPTION--> De nieuwe Nederlandse provider Freedom Internet werkt samen met Cambrium, de internetdienstverlener die onder de merknaam Tweak glasvezel aanbiedt. Freedom Internet gaat 1Gbit/s-internet voor 49 euro per maand via Cambriums Coanet leveren.<img src=\"http://feeds.feedburner.com/~r/tweakers/mixed/~4/wLzU5Z5lqCY\" height=\"1\" width=\"1\" alt=\"\"/>\n",
      "READ MORE--> https://tweakers.net/nieuws/166666\n",
      " \n",
      "         +--------------------------------------------------------------------+\n",
      " \n",
      "40\n",
      "TITLE--> Xeoma 20.4.28\n",
      "DISCRIPTION--> Versie 20.4.28 van Xeoma is uitgekomen. Met dit programma kan een computer voor video-surveillance worden ingericht in een privé of professionele omgeving. De software is beschikbaar voor Windows, Linux, macOS, Android en iOS, en de kosten zijn afhankelijk van de hoeveelheid camera's die worden aangestuurd en extra functionaliteit die wordt toegevoegd. Zo zijn er extra modules voor ondersteuning van gpio of rif+, de herkenning van bijvoorbeeld gezicht, geslacht, emotie of nummerplaat, en het kunnen volgen van een object, zoals een bal in een sport. De changelog voor deze uitgave ziet er als volgt uit:<img src=\"http://feeds.feedburner.com/~r/tweakers/mixed/~4/lb6hzrz2p0U\" height=\"1\" width=\"1\" alt=\"\"/>\n",
      "READ MORE--> https://tweakers.net/downloads/51588\n",
      " \n",
      "         +--------------------------------------------------------------------+\n",
      " \n"
     ]
    },
    {
     "name": "stdout",
     "output_type": "stream",
     "text": [
      "         ---------------RTLNIEUS.NL NIEUWS---------------\n",
      " \n",
      "1\n",
      "TITLE--> \n",
      "                Politie pakt 24 verdachten van 'vriend-in-noodfraude' op\n",
      "                            \n",
      "DISCRIPTION--> Rond Deventer\n",
      "READ MORE--> https://www.rtlnieuws.nl/nieuws/nederland/artikel/5110931/geldezels-fraude-whatsapp-vriend-noodfraude-politie-deventer\n",
      " \n",
      "         +--------------------------------------------------------------------+\n",
      " \n",
      "2\n",
      "TITLE--> \n",
      "                Politiemol Mark M. moet alsnog de cel in, mogelijk in Oekraïne\n",
      "                            \n",
      "DISCRIPTION--> Witwassen en fraude\n",
      "READ MORE--> https://www.rtlnieuws.nl/nieuws/artikel/5110836/politie-mol-politieagent-mark-m-rechtszaak-rechtbank-hoger-beroep-straf\n",
      " \n",
      "         +--------------------------------------------------------------------+\n",
      " \n",
      "3\n",
      "TITLE--> \n",
      "                Pims oom zat in het verzet: 'Altijd een inspiratiebron'\n",
      "                            \n",
      "DISCRIPTION--> Dodenherdenking\n",
      "READ MORE--> https://www.rtlnieuws.nl/nieuws/video/video/5110871/4-5-mei-dodenherdenking-tweede-wereldoorlog-oorlog-verzet\n",
      " \n",
      "         +--------------------------------------------------------------------+\n",
      " \n",
      "4\n",
      "TITLE--> \n",
      "                Kinke en Sybe leggen als enige scouts een krans op De Dam\n",
      "                            \n",
      "DISCRIPTION--> Dodenherdenking\n",
      "READ MORE--> https://www.rtlnieuws.nl/nieuws/video/video/5110736/kinke-en-sybe-leggen-als-enige-scouts-een-krans-op-de-dam\n",
      " \n",
      "         +--------------------------------------------------------------------+\n",
      " \n",
      "5\n",
      "TITLE--> \n",
      "                'Binnen 2 weken was er van die sterke man niets meer over'\n",
      "                            \n",
      "DISCRIPTION--> Zij stierven door corona\n",
      "READ MORE--> https://www.rtlnieuws.nl/nieuws/nederland/artikel/5107911/eerbetoon-piet-van-orsouw-oss-overleden-coronavirus\n",
      " \n",
      "         +--------------------------------------------------------------------+\n",
      " \n",
      "6\n",
      "TITLE--> \n",
      "                'Winkeliers zijn er klaar voor, winkelstraten niet'\n",
      "                            \n",
      "DISCRIPTION--> Liveblog\n",
      "READ MORE--> https://www.rtlnieuws.nl/nieuws/nederland/artikel/5110691/coronavirus-covid-19-coronacrisis-liveblog-immuniteit-mondkapje\n",
      " \n",
      "         +--------------------------------------------------------------------+\n",
      " \n",
      "7\n",
      "TITLE--> \n",
      "                Opnieuw was het raak: twee zendmasten in Den Haag in brand\n",
      "                            \n",
      "DISCRIPTION--> Veel schade\n",
      "READ MORE--> https://www.rtlnieuws.nl/nieuws/nederland/artikel/5110676/brand-zendmast-den-haag-5g-doelwit-politie-onderzoek-brandweer\n",
      " \n",
      "         +--------------------------------------------------------------------+\n",
      " \n",
      "8\n",
      "TITLE--> \n",
      "                'Heroïnegebruikers komen door coronacrisis moeilijker aan drugs'\n",
      "                            \n",
      "DISCRIPTION--> Drugsgebruikers\n",
      "READ MORE--> https://www.rtlnieuws.nl/nieuws/nederland/artikel/5110646/heroineverslaafden-coronacrisis-drugsgebruik-methadon\n",
      " \n",
      "         +--------------------------------------------------------------------+\n",
      " \n",
      "9\n",
      "TITLE--> \n",
      "                Anders dan anders: de vlag mag nu al halfstok\n",
      "                            \n",
      "DISCRIPTION--> Dodenherdenking\n",
      "READ MORE--> https://www.rtlnieuws.nl/nieuws/nederland/artikel/5110636/vlaginstructie-halfstok-zonsopkomst-zonsondergang-4-mei\n",
      " \n",
      "         +--------------------------------------------------------------------+\n",
      " \n",
      "10\n",
      "TITLE--> \n",
      "                'Amsterdamse' dolfijn weer vrij na flinke operatie\n",
      "                            \n",
      "DISCRIPTION--> Nederland\n",
      "READ MORE--> https://www.rtlnieuws.nl/nieuws/nederland/video/5110616/amsterdamse-dolfijn-weer-vrij-na-flinke-operatie\n",
      " \n",
      "         +--------------------------------------------------------------------+\n",
      " \n",
      "11\n",
      "TITLE--> \n",
      "                Onderzoek naar explosie woning Groningen afgerond\n",
      "                            \n",
      "DISCRIPTION--> Bewoners terug naar huis\n",
      "READ MORE--> https://www.rtlnieuws.nl/nieuws/nederland/artikel/5110606/groningen-explosie-materiaal-pand-aangehouden-afgerond-naar-huis\n",
      " \n",
      "         +--------------------------------------------------------------------+\n",
      " \n",
      "12\n",
      "TITLE--> \n",
      "                Talloze clubs en spelers wensen bondscoach Koeman beterschap\n",
      "                            \n",
      "DISCRIPTION--> Voetbal\n",
      "READ MORE--> https://www.rtlnieuws.nl/sport/voetbal/artikel/5110591/clubs-en-spelers-wensen-bondscoach-koeman-beterschap\n",
      " \n",
      "         +--------------------------------------------------------------------+\n",
      " \n",
      "         ---------------PAROOL.NL NEDERLAND---------------\n",
      " \n",
      "1\n",
      "TITLE--> De enige Nederlandse vaccinmaker op het WHO-lijstje: ‘Als we falen, vernietigen we alles’\n",
      "DISCRIPTION--> Er is maar één Nederlandse vaccinmaker op het WHO-lijstje van kanshebbers: Janssen in Leiden. De farmaceut laat een miljoenenvoorraad maken, nog voor het zeker is of zijn coronavaccin werkt. ‘Als we falen, moeten we alles vernietigen.’\n",
      "READ MORE--> \n",
      " \n",
      "         +--------------------------------------------------------------------+\n",
      " \n",
      "2\n",
      "TITLE--> Een andere 4 mei dan we gewend zijn: koning speecht op lege Dam\n",
      "DISCRIPTION--> De Nationale Herdenking zou vanwege het 75-jarige jubileum al bijzonder zijn. Door de coronacrisis belooft deze 4 mei een speciale editie te worden.\n",
      "READ MORE--> \n",
      " \n",
      "         +--------------------------------------------------------------------+\n",
      " \n",
      "3\n",
      "TITLE--> Warme en droge zomer in het vooruitzicht\n",
      "DISCRIPTION--> De zomer wordt voor het derde jaar op rij warm en droog, verwacht Weeronline. In juni en augustus worden hittegolven verwacht. Juli lijkt iets natter te worden met meer buien, maar ook hoge temperaturen.\n",
      "READ MORE--> \n",
      " \n",
      "         +--------------------------------------------------------------------+\n",
      " \n",
      "4\n",
      "TITLE--> 50Plus-oprichter voelt zich door Henk Krol bedonderd: ‘Heel teleurstellend’\n",
      "DISCRIPTION--> Het knetterde al maanden binnen 50Plus.\n",
      "READ MORE--> \n",
      " \n",
      "         +--------------------------------------------------------------------+\n",
      " \n",
      "5\n",
      "TITLE--> 75 jaar na Auschwitz huilt overlever David Lewin nog steeds\n",
      "DISCRIPTION--> In januari herdacht de wereld de Holocaust op de plek die het symbool voor de massamoord op zes miljoen Joden werd: Auschwitz-Birkenau. De hoofdrol was voor de ruim tweehonderd overlevers die nog altijd in leven zijn. ‘Ik hoorde het gegil van kinderen die in het vuur werden gegooid.’\n",
      "READ MORE--> \n",
      " \n",
      "         +--------------------------------------------------------------------+\n",
      " \n",
      "6\n",
      "TITLE--> Wat brengt de economische crisis na het coronavirus?\n",
      "DISCRIPTION--> Na de coronacrisis volgt de onvermijdelijke economische crisis. Die zal ook veel ellende veroorzaken in Nederland. De recessie biedt echter, zoals altijd, ook kansen. ‘Herstel moet komen uit innovatie.’\n",
      "READ MORE--> \n",
      " \n",
      "         +--------------------------------------------------------------------+\n",
      " \n",
      "7\n",
      "TITLE--> Ic-verpleegkundige Martine ­Minnema: ‘Uiteindelijk komen we hier sterker uit’\n",
      "DISCRIPTION--> Minnema en haar collega's in het OLVG beleven intense weken.\n",
      "READ MORE--> \n",
      " \n",
      "         +--------------------------------------------------------------------+\n",
      " \n",
      "8\n",
      "TITLE--> Krol stopt als leider 50PLUS en zet eigen partij op\n",
      "DISCRIPTION--> Henk Krol neemt afscheid van 50Plus. Krol neemt zijn Kamerzetel mee en begint samen met onafhankelijk Kamerlid Femke Merel van Kooten een nieuwe politieke partij: de Partij voor de Toekomst.\n",
      "READ MORE--> \n",
      " \n",
      "         +--------------------------------------------------------------------+\n",
      " \n",
      "9\n",
      "TITLE--> 50Plus heeft geen goed woord over voor ‘zetelroof’ Henk Krol\n",
      "DISCRIPTION--> De Kamerleden van 50Plus voelen zich bedrogen door Henk Krol. Zondagochtend kondigde hij zonder overleg aan de partij te verlaten en voor zichzelf te beginnen.\n",
      "READ MORE--> \n",
      " \n",
      "         +--------------------------------------------------------------------+\n",
      " \n",
      "10\n",
      "TITLE--> ‘Dat kutvirus,’ verzuchtte Rutte. Reconstructie van een wanhopige strijd\n",
      "DISCRIPTION--> Zondag 8 maart is de laatste weekenddag van het oude Nederland, daarna gaat het land ‘intelligent op slot’. Een reconstructie van een soms wanhopige strijd tegen de stippellijn van de maximale ic-capaciteit, door de ogen van direct betrokkenen. ‘Het is ook eng, wat als we het mis hebben?’\n",
      "READ MORE--> \n",
      " \n",
      "         +--------------------------------------------------------------------+\n",
      " \n",
      "11\n",
      "TITLE--> Het is feest in Rhenen dankzij de babypanda\n",
      "DISCRIPTION--> Geschiedenis. Dat heeft de kleine, één dag oude babypanda met zijn/haar geboorte geschreven. Het is namelijk voor het eerst in de geschiedenis dat er een reuzenpanda-baby in Nederland is geboren.\n",
      "READ MORE--> \n",
      " \n",
      "         +--------------------------------------------------------------------+\n",
      " \n",
      "12\n",
      "TITLE--> Penningmeester Denk stapt op, conflict ettert door\n",
      "DISCRIPTION--> De penningmeester van het partijbestuur van Denk is opgestapt. Daarmee verdiept de crisis in de partij zich verder.\n",
      "READ MORE--> \n",
      " \n",
      "         +--------------------------------------------------------------------+\n",
      " \n",
      "13\n",
      "TITLE--> Stef Blok: ‘Buitenlandse Zaken is geen reisbureau’\n",
      "DISCRIPTION--> Stef Blok, de minister zonder buitenland. Althans, dat buitenland is er wel, maar de VVD’er moet er nu landgenoten uit terughalen en kan er niet naartoe. “Ik stap nu elke avond in mijn eigen bed.”\n",
      "READ MORE--> \n",
      " \n",
      "         +--------------------------------------------------------------------+\n",
      " \n",
      "14\n",
      "TITLE--> Verpleegzorg pas laat op de radar bij crisisteam\n",
      "DISCRIPTION--> De aanpak van de coronacrisis was zo gericht op ziekenhuizen en ic-capaciteit dat verpleeghuizen de eerste weken amper in beeld waren. Daar sloeg het virus onder de radar ongenadig hard toe. Het RIVM is voorstander van een evaluatie.\n",
      "READ MORE--> \n",
      " \n",
      "         +--------------------------------------------------------------------+\n",
      " \n",
      "15\n",
      "TITLE--> Duizenden leerlingen vragen om laptop of tablet, maar subsidiepot is leeg\n",
      "DISCRIPTION--> Er liggen nog 10.000 aanvragen te wachten.\n",
      "READ MORE--> \n",
      " \n",
      "         +--------------------------------------------------------------------+\n",
      " \n",
      "16\n",
      "TITLE--> Pandababy geboren in Ouwehands Dierenpark in Rhenen\n",
      "DISCRIPTION--> Reuzenpanda Wu Wen in Ouwehands Dierenpark in Rhenen is vrijdag bevallen van een jong. Moeder en haar jong verblijven in het kraamhol en maken het goed, meldt de Rhenense Dierentuin zaterdagochtend.\n",
      "READ MORE--> \n",
      " \n",
      "         +--------------------------------------------------------------------+\n",
      " \n",
      "17\n",
      "TITLE--> Geen vrij land zonder discussie over vrijheid\n",
      "DISCRIPTION--> Verschillende opvattingen over vrijheid leiden vaak tot frictie. Denk alleen maar zwarte piet. De felle discussies die dat oplevert moeten we niet uit de weg gaan, ze zijn juist noodzakelijk.\n",
      "READ MORE--> \n",
      " \n",
      "         +--------------------------------------------------------------------+\n",
      " \n",
      "18\n",
      "TITLE--> Ultieme poging afschaffen verhuurdersheffing: ‘Bouw woningen kan verdubbelen’\n",
      "DISCRIPTION--> 'De verhuurdersheffing heeft z’n langste tijd gehad.'\n",
      "READ MORE--> \n",
      " \n",
      "         +--------------------------------------------------------------------+\n",
      " \n",
      "19\n",
      "TITLE--> In 4 maanden tijd 12 procent minder ouderen in zorgcentra\n",
      "DISCRIPTION--> Verpleeg- en verzorgingshuizen zien het aantal bewoners door de coronacrisis in rap tempo dalen. In de verpleeghuizen zijn dit jaar ongeveer 15.000 mensen overleden en er komen nog amper nieuwe bewoners bij.\n",
      "READ MORE--> \n",
      " \n",
      "         +--------------------------------------------------------------------+\n",
      " \n",
      "20\n",
      "TITLE--> OV wil bij opschaling meer geld en verplichte mondkapjes\n",
      "DISCRIPTION--> Om een opschaling van het openbaar vervoer mogelijk te maken hebben de ov-bedrijven meer geld nodig en willen ze dat beschermingsmiddelen zoals mondkapjes verplicht worden voor personeel en reizigers.\n",
      "READ MORE--> \n",
      " \n",
      "         +--------------------------------------------------------------------+\n",
      " \n"
     ]
    },
    {
     "name": "stdout",
     "output_type": "stream",
     "text": [
      "         ---------------LINDA.NL BINNENLAND NIEUWS---------------\n",
      " \n",
      "1\n",
      "TITLE--> 4 mei anders dan anders dit jaar: koning speecht op lege Dam\n",
      "DISCRIPTION--> 4 mei anders dan anders dit jaar: koning speecht op lege Dam\n",
      "READ MORE--> https://www.linda.nl/nieuws/binnenland//nieuws/binnenland/4-mei-koning-dam-5-mei-initiatieven/\n",
      " \n",
      "         +--------------------------------------------------------------------+\n",
      " \n",
      "2\n",
      "TITLE--> Een derde van de leraren vindt opengaan basisscholen niet verantwoord\n",
      "DISCRIPTION--> Een derde van de leraren vindt opengaan basisscholen niet verantwoord\n",
      "READ MORE--> https://www.linda.nl/nieuws/binnenland//nieuws/binnenland/opengaan-basisscholen-niet-verantwoord/\n",
      " \n",
      "         +--------------------------------------------------------------------+\n",
      " \n",
      "3\n",
      "TITLE--> Meldanur (23) maakt voedselpakketten met heel Soest: 'We doen dit met liefde'\n",
      "DISCRIPTION--> Meldanur (23) maakt voedselpakketten met heel Soest: 'We doen dit met liefde'\n",
      "READ MORE--> https://www.linda.nl/nieuws/binnenland//nieuws/meldanur-soest-voedselpakketten/\n",
      " \n",
      "         +--------------------------------------------------------------------+\n",
      " \n",
      "4\n",
      "TITLE--> Waarom je ineens Ã³veral rode snorren ziet en hoe je er zelf een creÃ«ert\n",
      "DISCRIPTION--> Waarom je ineens Ã³veral rode snorren ziet en hoe je er zelf een creÃ«ert\n",
      "READ MORE--> https://www.linda.nl/nieuws/binnenland//advertorial/rode-snorren-filter-the-willoughbys-netflix/\n",
      " \n",
      "         +--------------------------------------------------------------------+\n",
      " \n",
      "5\n",
      "TITLE--> Nieuwe poging dolfijn Zafar uit Amsterdamse haven weg te loodsen\n",
      "DISCRIPTION--> Nieuwe poging dolfijn Zafar uit Amsterdamse haven weg te loodsen\n",
      "READ MORE--> https://www.linda.nl/nieuws/binnenland//nieuws/binnenland/nieuwe-poging-dolfijn-zafar-amsterdamse-haven-zee-tuimelaar/\n",
      " \n",
      "         +--------------------------------------------------------------------+\n",
      " \n",
      "6\n",
      "TITLE--> Zomer 2020 wordt met verwachte hittegolven opnieuw heet en droog\n",
      "DISCRIPTION--> Zomer 2020 wordt met verwachte hittegolven opnieuw heet en droog\n",
      "READ MORE--> https://www.linda.nl/nieuws/binnenland//nieuws/weer/zomer-2020-hittegolven-warm-droog/\n",
      " \n",
      "         +--------------------------------------------------------------------+\n",
      " \n",
      "7\n",
      "TITLE--> Twee jongens vinden explosief uit Tweede Wereldoorlog en nemen het mee naar huis\n",
      "DISCRIPTION--> Twee jongens vinden explosief uit Tweede Wereldoorlog en nemen het mee naar huis\n",
      "READ MORE--> https://www.linda.nl/nieuws/binnenland//nieuws/binnenland/jongens-vinden-explosief-tweede-wereldoorlog/\n",
      " \n",
      "         +--------------------------------------------------------------------+\n",
      " \n",
      "8\n",
      "TITLE--> Dat zit wel snor: zo houd je je kroost weer een paar uur van de straat\n",
      "DISCRIPTION--> Dat zit wel snor: zo houd je je kroost weer een paar uur van de straat\n",
      "READ MORE--> https://www.linda.nl/nieuws/binnenland//advertorial/the-willoughbys-netflix-knutselen-snor/\n",
      " \n",
      "         +--------------------------------------------------------------------+\n",
      " \n",
      "9\n",
      "TITLE--> Tientallen schademeldingen na aardbeving in Gronings dorp Zijldijk\n",
      "DISCRIPTION--> Tientallen schademeldingen na aardbeving in Gronings dorp Zijldijk\n",
      "READ MORE--> https://www.linda.nl/nieuws/binnenland//nieuws/aardbeving-groningen-zijldijk/\n",
      " \n",
      "         +--------------------------------------------------------------------+\n",
      " \n",
      "10\n",
      "TITLE--> Grote belangstelling voor meeblazen met taptoesignaal op 4 mei\n",
      "DISCRIPTION--> Grote belangstelling voor meeblazen met taptoesignaal op 4 mei\n",
      "READ MORE--> https://www.linda.nl/nieuws/binnenland//nieuws/binnenland/meeblazen-taptoesignaal-dodenherdenking/\n",
      " \n",
      "         +--------------------------------------------------------------------+\n",
      " \n",
      "11\n",
      "TITLE--> Recordaantal mensen dient belastingaangifte op allerlaatste dag in\n",
      "DISCRIPTION--> Recordaantal mensen dient belastingaangifte op allerlaatste dag in\n",
      "READ MORE--> https://www.linda.nl/nieuws/binnenland//nieuws/binnenland/recordaantal-belastingaangifte-laatste-dag/\n",
      " \n",
      "         +--------------------------------------------------------------------+\n",
      " \n",
      "12\n",
      "TITLE--> Als je Ã©ven een momentje voor jezelf hebt: 3 x tips voor de fijnste podcasts\n",
      "DISCRIPTION--> Als je Ã©ven een momentje voor jezelf hebt: 3 x tips voor de fijnste podcasts\n",
      "READ MORE--> https://www.linda.nl/nieuws/binnenland//advertorial/podcast-tips-nestle-atelier-luisteren/\n",
      " \n",
      "         +--------------------------------------------------------------------+\n",
      " \n",
      "13\n",
      "TITLE--> Politie pakt 24 verdachten op voor WhatsAppfraude\n",
      "DISCRIPTION--> Politie pakt 24 verdachten op voor WhatsAppfraude\n",
      "READ MORE--> https://www.linda.nl/nieuws/binnenland//nieuws/binnenland/politie-verdachten-whatsappfraude/\n",
      " \n",
      "         +--------------------------------------------------------------------+\n",
      " \n",
      "14\n",
      "TITLE--> Wil (82) wacht buiten voor verpleeghuis tot ze haar man mag bezoeken\n",
      "DISCRIPTION--> Wil (82) wacht buiten voor verpleeghuis tot ze haar man mag bezoeken\n",
      "READ MORE--> https://www.linda.nl/nieuws/binnenland//nieuws/binnenland/vrouw-verpleeghuis-buiten-man-dementie-bezoeken/\n",
      " \n",
      "         +--------------------------------------------------------------------+\n",
      " \n",
      "15\n",
      "TITLE--> Liveblog coronavirus vrijdag 1 mei: buurt klaagt over optredens bij zorgcentrum\n",
      "DISCRIPTION--> Liveblog coronavirus vrijdag 1 mei: buurt klaagt over optredens bij zorgcentrum\n",
      "READ MORE--> https://www.linda.nl/nieuws/binnenland//nieuws/binnenland/liveblog-coronavirus-vrijdag-1-mei/\n",
      " \n",
      "         +--------------------------------------------------------------------+\n",
      " \n",
      "16\n",
      "TITLE--> Gas erop: rijlessen voor motor en bromfiets mogen weer\n",
      "DISCRIPTION--> Gas erop: rijlessen voor motor en bromfiets mogen weer\n",
      "READ MORE--> https://www.linda.nl/nieuws/binnenland//nieuws/binnenland/rijlessen-motor-bromfiets-coronamaatregelen/\n",
      " \n",
      "         +--------------------------------------------------------------------+\n",
      " \n",
      "17\n",
      "TITLE--> Stichting Beschermde Wieg geeft gratis zwangerschapstesten aan vrouwen in nood\n",
      "DISCRIPTION--> Stichting Beschermde Wieg geeft gratis zwangerschapstesten aan vrouwen in nood\n",
      "READ MORE--> https://www.linda.nl/nieuws/binnenland//nieuws/stichting-beschermde-zwangerschapstesten-vrouwen-nood/\n",
      " \n",
      "         +--------------------------------------------------------------------+\n",
      " \n",
      "         ---------------GELDERLANDER.NL BINNENLAND---------------\n",
      " \n",
      "1\n",
      "TITLE--> Kunnen de scholen eigenlijk wel veilig open, of worden het ‘superverspreiders’?\n",
      "DISCRIPTION--> Heel Europa worstelt met een van de belangrijkste onderdelen van het heropstarten van de maatschappij: de scholen. Is het veilig of worden de scholen de nieuwe ‘superverspreiders’ van de coronacrisis?\n",
      "READ MORE--> \n",
      " \n",
      "         +--------------------------------------------------------------------+\n",
      " \n",
      "2\n",
      "TITLE--> Hoe een straatarm meisje uit Dalfsen kampbewaakster werd in Auschwitz\n",
      "DISCRIPTION--> Dit is het verhaal van Ria Jorink, een straatarm meisje uit Dalfsen dat tijdens de Tweede Wereldoorlog als kampbewaakster in vernietigingskamp Auschwitz-Birkenau belandt. Ze wordt veroordeeld, maar tot de doodstraf of een jarenlange gevangenisstraf komt het niet. Wel tot een geruisloos leven in Zwolle, waar ze in 2002 op 82-jarige leeftijd overlijdt.\n",
      "READ MORE--> \n",
      " \n",
      "         +--------------------------------------------------------------------+\n",
      " \n",
      "3\n",
      "TITLE--> Slachtoffer van Haagse steker Malek F. vecht terug: ‘Zijn doel was moorden, hij moet het land uit’\n",
      "DISCRIPTION--> Nooit vertelden de slachtoffers van de ‘Haagse steker’ Malek F. hun verhaal. Tot nu. Fazal Amin (37) werd 5 mei 2018 elf keer gestoken en zag tot zijn verbijstering dat ‘de jihadist’ er met tbs vanaf kwam. ,,Ik heb nooit iets kunnen doen, nu wil ik terugvechten.’’\n",
      "READ MORE--> \n",
      " \n",
      "         +--------------------------------------------------------------------+\n",
      " \n",
      "4\n",
      "TITLE--> Geredde ooievaartjes uit De Lutte groeien als kool: ‘Eerste nacht was wel spannend’\n",
      "DISCRIPTION--> De vier geredde ooievaartjes uit De Lutte groeien als kool. Vorige week zijn ze overgebracht naar de ooievaarsopvang in Herwijnen en daar doen ze het zo goed, dat de twee grootsten al niet meer samen in een voerbak passen.\n",
      "READ MORE--> \n",
      " \n",
      "         +--------------------------------------------------------------------+\n",
      " \n",
      "5\n",
      "TITLE--> Een 4 mei om nooit te vergeten: vlaggen de hele dag halfstok, koning speecht op lege Dam\n",
      "DISCRIPTION--> De Nationale Herdenking zou vanwege het 75-jarige jubileum al bijzonder zijn. Door de coronacrisis belooft deze 4 mei een extra speciale editie te worden. De koning spreekt een lege Dam toe, voor het oog van miljoenen tv-kijkers. Het Nationaal Comité 4 en 5 mei roept iedereen op om de vlag de hele dag halfstok te hangen.\n",
      "READ MORE--> \n",
      " \n",
      "         +--------------------------------------------------------------------+\n",
      " \n",
      "6\n",
      "TITLE--> ‘Ik ga voor de klas, maar denk niet: hiep, hiep, hoera’\n",
      "DISCRIPTION--> Vol enthousiasme, maar ook met grote tegenzin gaan basisschoolleraren vanaf 11 mei weer voor de klas. Terwijl tweederde zich wel kan vinden in de heropening van scholen, noemt een grote groep die beslissing juist onverantwoord. ‘Ik ga voor de klas, maar denk niet: hiep, hiep, hoera.’\n",
      "READ MORE--> \n",
      " \n",
      "         +--------------------------------------------------------------------+\n",
      " \n",
      "7\n",
      "TITLE--> LIVE | Italië versoepelt lockdown, Burgemeester na illegale party: ‘Tijd van waarschuwen is voorbij’\n",
      "DISCRIPTION--> Het aantal nieuwe sterfgevallen lijkt wereldwijd te dalen of verloopt langzamer, onder meer in Duitsland, Frankrijk en de Verenigde Staten. In Nederland gaan vanaf vandaag de winkels van optiekketens EyeWish en Pearle weer volledig open. En volgens Donald Trump hebben de Verenigde Staten eind dit jaar een vaccin tegen het coronavirus, iets wat echter onzeker is volgens een van zijn belangrijkste adviseurs dr. Fauci. In dit liveblog houden we je op de hoogte van de laatste corona-ontwikkelingen.\n",
      "READ MORE--> \n",
      " \n",
      "         +--------------------------------------------------------------------+\n",
      " \n",
      "8\n",
      "TITLE--> En weer is het raak: nu brand in twee zendmasten in Den Haag\n",
      "DISCRIPTION--> In Den Haag heeft in de nacht van zondag op maandag brand gewoed in twee zendmasten. Beide brandjes zijn geblust, meldt een woordvoerder van de brandweer. De politie doet verder onderzoek.\n",
      "READ MORE--> \n",
      " \n",
      "         +--------------------------------------------------------------------+\n",
      " \n",
      "9\n",
      "TITLE--> Een derde van de leraren vindt heropenen basisscholen ‘onverantwoord’\n",
      "DISCRIPTION--> Ruim eenderde van de basisschoolleraren vindt het onverantwoord om vanaf 11 mei weer voor de klas te staan. Leerkrachten vinden dat het kabinet het RIVM-onderzoek naar de besmettingsrisico's van jongeren had moeten afwachten. Bovendien zijn ze bang zelf besmet te raken of hun leerlingen te besmetten.\n",
      "READ MORE--> \n",
      " \n",
      "         +--------------------------------------------------------------------+\n",
      " \n",
      "10\n",
      "TITLE--> Inbrekers gearresteerd na waarschuwingsschot\n",
      "DISCRIPTION--> De politie heeft in het zuidwesten van Den Helder twee inbrekers kunnen arresteren na het lossen van een waarschuwingsschot. Dat gebeurde in de straat Het Koggeschip.\n",
      "READ MORE--> \n",
      " \n",
      "         +--------------------------------------------------------------------+\n",
      " \n",
      "11\n",
      "TITLE--> Er kunnen wat mij betreft niet genoeg nieuwe politieke partijen opgericht worden\n",
      "DISCRIPTION--> Nynke de Jong schrijft drie keer per week over wat haar bezighoudt.\n",
      "READ MORE--> \n",
      " \n",
      "         +--------------------------------------------------------------------+\n",
      " \n",
      "12\n",
      "TITLE--> Duitse ic-baas: Nederland moet voor veel meer ic-bedden zorgen\n",
      "DISCRIPTION--> Ook in het geval van een tweede coronagolf kan Nederland weer op Duitsland rekenen, zegt professor Hugo van Aken van de Universiteitskliniek in Münster, die de verdeling van Nederlandse intensivecarepatiënten over Duitse ziekenhuizen coördineert. Maar hij heeft wel een dringend advies. ,,Jullie moeten snel gaan werken aan veel meer ic-capaciteit.”\n",
      "READ MORE--> \n",
      " \n",
      "         +--------------------------------------------------------------------+\n",
      " \n",
      "13\n",
      "TITLE--> Zeilschip loodst dolfijn die in haven Amsterdam was gestrand, terug naar zee\n",
      "DISCRIPTION--> Medewerkers van de Stichting SOS Dolfijn zijn er zondag in geslaagd de tuimelaar die zaterdag in de haven van Amsterdam terechtkwam via de sluizen bij IJmuiden naar de Noordzee te brengen.\n",
      "READ MORE--> \n",
      " \n",
      "         +--------------------------------------------------------------------+\n",
      " \n",
      "14\n",
      "TITLE--> Zeg ik tegen die vrouwelijke collega dat ze een te krap bloesje draagt?\n",
      "DISCRIPTION--> Wijsheid komt met de jaren. Omdat acteur Joost Prinsen (77) een eind op weg is, beantwoordt hij uw vragen.\n",
      "READ MORE--> \n",
      " \n",
      "         +--------------------------------------------------------------------+\n",
      " \n",
      "15\n",
      "TITLE--> Wapenbranche overweegt claim tegen politie om dicht loket\n",
      "DISCRIPTION--> Ruim honderd wapenhandelaren lopen tienduizenden euro’s omzet mis omdat de politie tijdens de coronacrisis geen wapens op naam zet. Ze spreken van een onrechtmatige weigering en willen de schade op de politie verhalen.\n",
      "READ MORE--> \n",
      " \n",
      "         +--------------------------------------------------------------------+\n",
      " \n",
      "16\n",
      "TITLE--> Loslopende runderen hinderen politieonderzoek na vondst dode\n",
      "DISCRIPTION--> Politieonderzoek na de vondst van een lichaam in Nationaal Park De Meinweg in Limburg is zondagmiddag danig gehinderd door een kudde loslopende galloway-runderen. De grote grazers waren afgekomen op eten dat bedoeld was als lunch voor de agenten.\n",
      "READ MORE--> \n",
      " \n",
      "         +--------------------------------------------------------------------+\n",
      " \n",
      "17\n",
      "TITLE--> Reizen in de stad na coronacrisis: straks kan de auto wel inpakken\n",
      "DISCRIPTION--> Reizen binnen de stad wordt moeilijk. Als straks het leven weer op gang komt, zullen we lang zo mobiel niet zijn als voor de coronacrisis. Het grote inleveren kan weleens beginnen bij de auto.\n",
      "READ MORE--> \n",
      " \n",
      "         +--------------------------------------------------------------------+\n",
      " \n",
      "18\n",
      "TITLE--> Aantal coronapatiënten op intensive care onder 700\n",
      "DISCRIPTION--> Op de intensivecareafdelingen liggen nog 688 mensen met het coronavirus. Dat zijn er twintig minder dan op zaterdag, aldus het Landelijk Coördinatiecentrum Patiënten Spreiding (LCPS).\n",
      "READ MORE--> \n",
      " \n",
      "         +--------------------------------------------------------------------+\n",
      " \n",
      "19\n",
      "TITLE--> Fotografen reizen langs 12 concentratiekampen: ‘Het moet ongemakkelijk voelen’\n",
      "DISCRIPTION--> De fotografen Christopher de Gast (30) en Marjan Schonenberg (35) reisden langs twaalf concentratiekampen. Ze fotografeerden, filmden en interviewden de nieuwe generatie gidsen. Die geven hun eigen invulling aan het begrip herdenken.\n",
      "READ MORE--> \n",
      " \n",
      "         +--------------------------------------------------------------------+\n",
      " \n",
      "20\n",
      "TITLE--> RIVM: 69 nieuwe sterfgevallen en 44 ziekenhuisopnames\n",
      "DISCRIPTION--> De afgelopen 24 uur zijn er in Nederland 69 nieuwe meldingen gedaan van geteste mensen die zijn overleden aan het coronavirus. Een daling ten opzichte van gisteren, toen er in de dagelijkse update van het RIVM 94 overlijdens werden gemeld. In totaal vallen nu 5.056 coronadoden te betreuren.\n",
      "READ MORE--> \n",
      " \n",
      "         +--------------------------------------------------------------------+\n",
      " \n",
      "21\n",
      "TITLE--> Frank zit in quarantaine: ‘Een traan in het thuiskantoor’\n",
      "DISCRIPTION--> Net als veel Nederlanders blijft redacteur Frank Poorthuis thuis. Frank zit in de risicogroep. Verslag van dag 51. Lees alle eerdere afleveringen hier terug.\n",
      "READ MORE--> \n",
      " \n",
      "         +--------------------------------------------------------------------+\n",
      " \n",
      "22\n",
      "TITLE--> Jeuk en rode bultjes te lijf met plastic folie\n",
      "DISCRIPTION--> Tot op zijn billen zat de 3-jarige Seth vol met rode bultjes. Dát wil vader Chris Weiss dit jaar koste wat kost voorkomen. Daarom pakt hij, net als vele anderen die de kriebelige eikenprocessierups vrezen, de eiken in zijn buurt  in in plastic.\n",
      "READ MORE--> \n",
      " \n",
      "         +--------------------------------------------------------------------+\n",
      " \n",
      "23\n",
      "TITLE--> Bijzonder! Eeneiige drieling geboren in Putten: ‘Daar ging mijn inloopkast...’\n",
      "DISCRIPTION--> Het is zeldzaam en voor Barunka (28) en David (29) Knul uit Putten nog steeds moeilijk te bevatten. Op 22 maart zijn ze de trotse ouders geworden van een eeneiige drieling. En dat terwijl ze al twee jonge kinderen hebben. ,,Eigenlijk besef ik het nog steeds niet.”\n",
      "READ MORE--> \n",
      " \n",
      "         +--------------------------------------------------------------------+\n",
      " \n",
      "24\n",
      "TITLE--> Nieuwe poging om dolfijn Zafar uit Amsterdamse haven te krijgen: ‘Water is veel te zoet’\n",
      "DISCRIPTION--> Medewerkers van de Stichting SOS Dolfijn proberen vandaag opnieuw dolfijn Zafar, die gisteren in de haven van Amsterdam terecht is gekomen, daar weg te krijgen. De tuimelaar kwam mee met een zeilend vrachtschip vanuit Frankrijk, het dier zwom er drie dagen naast.\n",
      "READ MORE--> \n",
      " \n",
      "         +--------------------------------------------------------------------+\n",
      " \n",
      "25\n",
      "TITLE--> Drie tieners met messen aangehouden op Schiphol Plaza\n",
      "DISCRIPTION--> De Koninklijke Marechaussee heeft gisteravond rond 23.30 uur op Schiphol Plaza drie minderjarige jongens aangehouden voor verboden wapenbezit. Het drietal van 13, 14 en 16 jaar oud had meerdere messen op zak.\n",
      "READ MORE--> \n",
      " \n",
      "         +--------------------------------------------------------------------+\n",
      " \n",
      "26\n",
      "TITLE--> Bevrijdingsdag zonder festivals maar wel droog en zonnig\n",
      "DISCRIPTION--> Het is voor het eerst dat de Nationale Herdenking op de Dam in Amsterdam plaatsvindt zonder publiek en dat we het moeten stellen zonder bevrijdingsfestivals. Het coronavirus maakt immers alles anders. Maar wellicht een schrale troost: het belooft de komende dagen droog en zonnig te worden.\n",
      "READ MORE--> \n",
      " \n",
      "         +--------------------------------------------------------------------+\n",
      " \n",
      "27\n",
      "TITLE--> Zwaargewonde bij brand boven slagerij, man (56) met traumahelikopter naar ziekenhuis gebracht\n",
      "DISCRIPTION--> Op de bovenverdieping van de Keurslager aan de Nieuwstraat in Gemert heeft vanmorgen brand gewoed. Daarbij is een 56-jarige man ernstig gewond geraakt. Hulpverleners hebben het slachtoffer naar buiten gedragen.\n",
      "READ MORE--> \n",
      " \n",
      "         +--------------------------------------------------------------------+\n",
      " \n",
      "28\n",
      "TITLE--> Kanker? Zij? Hannah Elisabeth kon het niet geloven: ‘Altijd gezond geleefd’\n",
      "DISCRIPTION--> Annemarie Haverkamp praat met mensen over hun leven en het einde dat nadert. Hannah Elisabeth Walstra Hogeboom (62) heeft uitgezaaide borstkanker, maar heeft leren leven bij de dag. Ze zal zich ooit met liefde overgeven aan het witte licht, maar nu nog niet.\n",
      "READ MORE--> \n",
      " \n",
      "         +--------------------------------------------------------------------+\n",
      " \n",
      "29\n",
      "TITLE--> Agent laat zich niet piepelen door hardrijder: ‘Sommige mensen vragen om problemen’\n",
      "DISCRIPTION--> Een 38-jarige automobilist maakte het gisteren wel erg bont op de A32 bij Steenwijk. De man werd betrapt toen hij 52 km per uur te hard reed en moest dus zijn rijbewijs inleveren. Maar het gevolg van die straf had hij blijkbaar niet helemaal begrepen.\n",
      "READ MORE--> \n",
      " \n",
      "         +--------------------------------------------------------------------+\n",
      " \n",
      "30\n",
      "TITLE--> Grens met België tot en met 8 juni dicht voor niet-essentiële reizen\n",
      "DISCRIPTION--> De kogel is door de kerk: elke niet-essentiële reis naar België en vanuit België naar het buitenland blijft verboden tot en met 8 juni 2020. Het Belgische conoracrisiscentrum heeft dit bekend gemaakt in een lijvig document met coronamaatregelen die maandag ingaan.\n",
      "READ MORE--> \n",
      " \n",
      "         +--------------------------------------------------------------------+\n",
      " \n"
     ]
    },
    {
     "name": "stdout",
     "output_type": "stream",
     "text": [
      "         ---------------BRABANT.NL ACTUEEL NIEUWS---------------\n",
      " \n",
      "1\n",
      "TITLE--> Toespraak commissaris Wim van de Donk: 'We zullen ook deze crisis overwinnen'\n",
      "DISCRIPTION--> De commissaris vraagt aan de vooravond van 4 en 5 mei aandacht voor de vrijheid, de rechtsstaat en democratie.\n",
      "READ MORE--> https://www.brabant.nl/actueel/nieuws/bestuur/2020/toespraak-commissaris-wim-van-de-donk\n",
      " \n",
      "         +--------------------------------------------------------------------+\n",
      " \n",
      "2\n",
      "TITLE--> Statendag 8 mei 2020\n",
      "DISCRIPTION--> Op de agenda van de Statendag van 8 mei 2020\n",
      "READ MORE--> https://www.brabant.nl/actueel/nieuws/provinciale-staten/2020/mei/statendag-8-mei-2020\n",
      " \n",
      "         +--------------------------------------------------------------------+\n",
      " \n",
      "3\n",
      "TITLE--> Steunmaatregelen corona voor cultuur in Brabant\n",
      "DISCRIPTION--> De provincie ontwikkelt samen met de vijf grote steden een steunpakket voor de regionale culturele infrastructuur.\n",
      "READ MORE--> https://www.brabant.nl/actueel/nieuws/kunst-cultuur-en-erfgoed/2020/steunmaatregelen-corona-voor-cultuur-in-brabant\n",
      " \n",
      "         +--------------------------------------------------------------------+\n",
      " \n",
      "4\n",
      "TITLE--> Twee extra steunmaatregelen voor bedrijven\n",
      "DISCRIPTION--> Twee extra steunmaatregelen van start voor kleine bedrijven in Brabant.\n",
      "READ MORE--> https://www.brabant.nl/actueel/nieuws/economie-en-werk/2020/twee-extra-steunmaatregelen-voor-bedrijven\n",
      " \n",
      "         +--------------------------------------------------------------------+\n",
      " \n",
      "5\n",
      "TITLE--> Brabant presenteert een nieuwe coalitie\n",
      "DISCRIPTION--> VVD, Forum voor Democratie, CDA en Lokaal Brabant gaan hun nieuwe coalitieakkoord presenteren.\n",
      "READ MORE--> https://www.brabant.nl/actueel/nieuws/bestuur/2020/brabant-presenteert-een-nieuwe-coalitie\n",
      " \n",
      "         +--------------------------------------------------------------------+\n",
      " \n",
      "6\n",
      "TITLE--> Natuurherstel Natte Natuurparel Kromhurken\n",
      "DISCRIPTION--> Doel van het herstelplan voor Kromhurken is om de zeldzame habitattypen te behouden en te stimuleren. \n",
      "READ MORE--> https://www.brabant.nl/actueel/nieuws/aanpak-stikstof/2020/natuurherstel-natte-natuurparel-kromhurken\n",
      " \n",
      "         +--------------------------------------------------------------------+\n",
      " \n",
      "7\n",
      "TITLE--> Provincie wil lening verstrekken aan Enexis\n",
      "DISCRIPTION--> Gedeputeerde Staten willen een lening van € 150 miljoen verstrekken aan regionaal netbeheerder Enexis.\n",
      "READ MORE--> https://www.brabant.nl/actueel/nieuws/bestuur/2020/provincie-wil-lening-verstrekken-aan-enexis\n",
      " \n",
      "         +--------------------------------------------------------------------+\n",
      " \n",
      "8\n",
      "TITLE--> La Vuelta start definitief niet in Nederland dit jaar\n",
      "DISCRIPTION--> Organisatie onderzoekt opties voor 2022.\n",
      "READ MORE--> https://www.brabant.nl/actueel/nieuws/bestuur/2020/la-vuelta-start-definitief-niet-in-nederland-dit-jaar\n",
      " \n",
      "         +--------------------------------------------------------------------+\n",
      " \n",
      "9\n",
      "TITLE--> Brabant investeert in monumenten en molens\n",
      "DISCRIPTION--> Vouchers voor herbestemming van monumenten en eco-archeologisch onderzoek.\n",
      "READ MORE--> https://www.brabant.nl/actueel/nieuws/kunst-cultuur-en-erfgoed/2020/brabant-investeert-in-monumenten-en-molens\n",
      " \n",
      "         +--------------------------------------------------------------------+\n",
      " \n",
      "10\n",
      "TITLE--> Brabant zet kanjers in het licht\n",
      "DISCRIPTION--> Het provinciebestuur toont haar steun aan alle helden die in deze bijzondere tijd een bewonderingswaardige rol spelen.\n",
      "READ MORE--> https://www.brabant.nl/actueel/nieuws/bestuur/2020/brabant-zet-kanjers-in-het-licht\n",
      " \n",
      "         +--------------------------------------------------------------------+\n",
      " \n"
     ]
    },
    {
     "data": {
      "text/html": [
       "<div>\n",
       "<style scoped>\n",
       "    .dataframe tbody tr th:only-of-type {\n",
       "        vertical-align: middle;\n",
       "    }\n",
       "\n",
       "    .dataframe tbody tr th {\n",
       "        vertical-align: top;\n",
       "    }\n",
       "\n",
       "    .dataframe thead th {\n",
       "        text-align: right;\n",
       "    }\n",
       "</style>\n",
       "<table border=\"1\" class=\"dataframe\">\n",
       "  <thead>\n",
       "    <tr style=\"text-align: right;\">\n",
       "      <th></th>\n",
       "      <th>titles</th>\n",
       "      <th>descriptions</th>\n",
       "      <th>links</th>\n",
       "      <th>site_name</th>\n",
       "    </tr>\n",
       "  </thead>\n",
       "  <tbody>\n",
       "    <tr>\n",
       "      <td>0</td>\n",
       "      <td>Video Albon wint virtuele Grand Prix van Brazi...</td>\n",
       "      <td>Video Albon wint virtuele Grand Prix van Brazi...</td>\n",
       "      <td>https://www.nu.nl/sport/6048947/albon-wint-vir...</td>\n",
       "      <td>www.nu.nl</td>\n",
       "    </tr>\n",
       "    <tr>\n",
       "      <td>1</td>\n",
       "      <td>Verdachten explosie in flatwoning in Groninge...</td>\n",
       "      <td>Verdachten explosie in flatwoning in Groninge...</td>\n",
       "      <td>https://www.nu.nl/algemeen/6048942/verdachten-...</td>\n",
       "      <td>www.nu.nl</td>\n",
       "    </tr>\n",
       "    <tr>\n",
       "      <td>2</td>\n",
       "      <td>Inbreker deed al eerder poging contact te leg...</td>\n",
       "      <td>Inbreker deed al eerder poging contact te leg...</td>\n",
       "      <td>https://www.nu.nl/achterklap/6048934/inbreker-...</td>\n",
       "      <td>www.nu.nl</td>\n",
       "    </tr>\n",
       "    <tr>\n",
       "      <td>3</td>\n",
       "      <td>Dochter van radio-dj Mark Labrand drie maande...</td>\n",
       "      <td>Dochter van radio-dj Mark Labrand drie maande...</td>\n",
       "      <td>https://www.nu.nl/achterklap/6048938/dochter-v...</td>\n",
       "      <td>www.nu.nl</td>\n",
       "    </tr>\n",
       "    <tr>\n",
       "      <td>4</td>\n",
       "      <td>Grootste productiedaling sinds 2000 door coro...</td>\n",
       "      <td>Grootste productiedaling sinds 2000 door coro...</td>\n",
       "      <td>https://www.nu.nl/economie/6048929/grootste-pr...</td>\n",
       "      <td>www.nu.nl</td>\n",
       "    </tr>\n",
       "    <tr>\n",
       "      <td>...</td>\n",
       "      <td>...</td>\n",
       "      <td>...</td>\n",
       "      <td>...</td>\n",
       "      <td>...</td>\n",
       "    </tr>\n",
       "    <tr>\n",
       "      <td>5</td>\n",
       "      <td>Natuurherstel Natte Natuurparel Kromhurken</td>\n",
       "      <td>Doel van het herstelplan voor Kromhurken is om...</td>\n",
       "      <td>https://www.brabant.nl/actueel/nieuws/aanpak-s...</td>\n",
       "      <td>www.brabant.nl</td>\n",
       "    </tr>\n",
       "    <tr>\n",
       "      <td>6</td>\n",
       "      <td>Provincie wil lening verstrekken aan Enexis</td>\n",
       "      <td>Gedeputeerde Staten willen een lening van € 15...</td>\n",
       "      <td>https://www.brabant.nl/actueel/nieuws/bestuur/...</td>\n",
       "      <td>www.brabant.nl</td>\n",
       "    </tr>\n",
       "    <tr>\n",
       "      <td>7</td>\n",
       "      <td>La Vuelta start definitief niet in Nederland d...</td>\n",
       "      <td>Organisatie onderzoekt opties voor 2022.</td>\n",
       "      <td>https://www.brabant.nl/actueel/nieuws/bestuur/...</td>\n",
       "      <td>www.brabant.nl</td>\n",
       "    </tr>\n",
       "    <tr>\n",
       "      <td>8</td>\n",
       "      <td>Brabant investeert in monumenten en molens</td>\n",
       "      <td>Vouchers voor herbestemming van monumenten en ...</td>\n",
       "      <td>https://www.brabant.nl/actueel/nieuws/kunst-cu...</td>\n",
       "      <td>www.brabant.nl</td>\n",
       "    </tr>\n",
       "    <tr>\n",
       "      <td>9</td>\n",
       "      <td>Brabant zet kanjers in het licht</td>\n",
       "      <td>Het provinciebestuur toont haar steun aan alle...</td>\n",
       "      <td>https://www.brabant.nl/actueel/nieuws/bestuur/...</td>\n",
       "      <td>www.brabant.nl</td>\n",
       "    </tr>\n",
       "  </tbody>\n",
       "</table>\n",
       "<p>220 rows × 4 columns</p>\n",
       "</div>"
      ],
      "text/plain": [
       "                                               titles  \\\n",
       "0   Video Albon wint virtuele Grand Prix van Brazi...   \n",
       "1    Verdachten explosie in flatwoning in Groninge...   \n",
       "2    Inbreker deed al eerder poging contact te leg...   \n",
       "3    Dochter van radio-dj Mark Labrand drie maande...   \n",
       "4    Grootste productiedaling sinds 2000 door coro...   \n",
       "..                                                ...   \n",
       "5          Natuurherstel Natte Natuurparel Kromhurken   \n",
       "6         Provincie wil lening verstrekken aan Enexis   \n",
       "7   La Vuelta start definitief niet in Nederland d...   \n",
       "8          Brabant investeert in monumenten en molens   \n",
       "9                    Brabant zet kanjers in het licht   \n",
       "\n",
       "                                         descriptions  \\\n",
       "0   Video Albon wint virtuele Grand Prix van Brazi...   \n",
       "1    Verdachten explosie in flatwoning in Groninge...   \n",
       "2    Inbreker deed al eerder poging contact te leg...   \n",
       "3    Dochter van radio-dj Mark Labrand drie maande...   \n",
       "4    Grootste productiedaling sinds 2000 door coro...   \n",
       "..                                                ...   \n",
       "5   Doel van het herstelplan voor Kromhurken is om...   \n",
       "6   Gedeputeerde Staten willen een lening van € 15...   \n",
       "7            Organisatie onderzoekt opties voor 2022.   \n",
       "8   Vouchers voor herbestemming van monumenten en ...   \n",
       "9   Het provinciebestuur toont haar steun aan alle...   \n",
       "\n",
       "                                                links       site_name  \n",
       "0   https://www.nu.nl/sport/6048947/albon-wint-vir...       www.nu.nl  \n",
       "1   https://www.nu.nl/algemeen/6048942/verdachten-...       www.nu.nl  \n",
       "2   https://www.nu.nl/achterklap/6048934/inbreker-...       www.nu.nl  \n",
       "3   https://www.nu.nl/achterklap/6048938/dochter-v...       www.nu.nl  \n",
       "4   https://www.nu.nl/economie/6048929/grootste-pr...       www.nu.nl  \n",
       "..                                                ...             ...  \n",
       "5   https://www.brabant.nl/actueel/nieuws/aanpak-s...  www.brabant.nl  \n",
       "6   https://www.brabant.nl/actueel/nieuws/bestuur/...  www.brabant.nl  \n",
       "7   https://www.brabant.nl/actueel/nieuws/bestuur/...  www.brabant.nl  \n",
       "8   https://www.brabant.nl/actueel/nieuws/kunst-cu...  www.brabant.nl  \n",
       "9   https://www.brabant.nl/actueel/nieuws/bestuur/...  www.brabant.nl  \n",
       "\n",
       "[220 rows x 4 columns]"
      ]
     },
     "execution_count": 9,
     "metadata": {},
     "output_type": "execute_result"
    }
   ],
   "source": [
    "df_frames = [Nu_Nieuws(),Nos_Nieuws(),Ad_Nieuws(),Telegraaf_Nieuws(),Tweakers_Nieuws(),Rtl_Nieuws(),Parool_Nieuws(),Linda_Nieuws(),Gelderlander(),Brabant()]\n",
    "result = pd.concat(df_frames)\n",
    "data = result\n",
    "data.to_csv('output/live/All_sites_Together.csv')\n",
    "data"
   ]
  },
  {
   "cell_type": "markdown",
   "metadata": {},
   "source": [
    "# Analyzing"
   ]
  },
  {
   "cell_type": "code",
   "execution_count": 225,
   "metadata": {},
   "outputs": [],
   "source": [
    "#Gerekli Kütüphaneler\n",
    "import pandas as pd\n",
    "import numpy as np\n",
    "import re, io\n",
    "import os, pkgutil, json, urllib\n",
    "from urllib.request import urlopen\n",
    "import warnings\n",
    "warnings.filterwarnings(action = 'ignore')\n",
    "import multiprocessing\n",
    "\n",
    "#Görselleştirme\n",
    "from IPython.display import display,HTML,IFrame\n",
    "import seaborn as sns\n",
    "import matplotlib.pyplot as plt\n",
    "import matplotlib.image as mpimg\n",
    "import matplotlib.cm as cm\n",
    "import base64\n",
    "%matplotlib inline\n",
    "import plotly.express as px\n",
    "sns.set()\n",
    "\n",
    "#NLP ve Modelleme\n",
    "from collections import Counter\n",
    "import gensim\n",
    "from gensim.models import Word2Vec\n",
    "from nltk.corpus import stopwords\n",
    "from nltk.tokenize import sent_tokenize, word_tokenize \n",
    "from scattertext import CorpusFromPandas, produce_scattertext_explorer\n",
    "import scattertext as st\n",
    "from textblob import TextBlob\n",
    "from sklearn.feature_extraction.text import CountVectorizer\n",
    "from sklearn.decomposition import PCA\n",
    "from sklearn.manifold import TSNE\n",
    "from sklearn.model_selection import train_test_split\n",
    "from sklearn.feature_extraction.text import TfidfVectorizer\n",
    "from sklearn.ensemble import RandomForestClassifier\n",
    "from sklearn.metrics import classification_report, accuracy_score, confusion_matrix\n",
    "from pprint import pprint\n",
    "from scipy.stats import rankdata, hmean, norm\n",
    "import spacy"
   ]
  },
  {
   "cell_type": "code",
   "execution_count": 215,
   "metadata": {},
   "outputs": [],
   "source": [
    "def preprocess(ReviewText):\n",
    "    #Verideki <br> taglarını kaldır. \n",
    "    ReviewText = ReviewText.str.replace(\"(<br/>)\", \"\")\n",
    "    ReviewText = ReviewText.str.replace('(<a).*(>).*(</a>)', '')\n",
    "    ReviewText = ReviewText.str.replace('(&amp)', '')\n",
    "    ReviewText = ReviewText.str.replace('(&gt)', '')\n",
    "    ReviewText = ReviewText.str.replace('(&lt)', '')\n",
    "    ReviewText = ReviewText.str.replace('(\\xa0)', ' ') \n",
    "    #Verideki Linkleri Kaldır.\n",
    "    ReviewText = ReviewText.str.replace(r'http[s]?://(?:[a-z]|[0-9]|[$-_@.&amp;+]|[!*\\(\\),]|(?:%[0-9a-f][0-9a-f]))+', ' ') \n",
    "    return ReviewText\n",
    "\n",
    "data['descriptions'] = preprocess(data['descriptions'])\n"
   ]
  },
  {
   "cell_type": "code",
   "execution_count": 226,
   "metadata": {},
   "outputs": [
    {
     "data": {
      "text/html": [
       "<div>\n",
       "<style scoped>\n",
       "    .dataframe tbody tr th:only-of-type {\n",
       "        vertical-align: middle;\n",
       "    }\n",
       "\n",
       "    .dataframe tbody tr th {\n",
       "        vertical-align: top;\n",
       "    }\n",
       "\n",
       "    .dataframe thead th {\n",
       "        text-align: right;\n",
       "    }\n",
       "</style>\n",
       "<table border=\"1\" class=\"dataframe\">\n",
       "  <thead>\n",
       "    <tr style=\"text-align: right;\">\n",
       "      <th></th>\n",
       "      <th>titles</th>\n",
       "      <th>descriptions</th>\n",
       "      <th>links</th>\n",
       "      <th>yogunlasma</th>\n",
       "    </tr>\n",
       "  </thead>\n",
       "  <tbody>\n",
       "    <tr>\n",
       "      <td>0</td>\n",
       "      <td>Dopingzondaars profiteren van uitstel Olympis...</td>\n",
       "      <td>Dopingzondaars profiteren van uitstel Olympis...</td>\n",
       "      <td>https://www.nu.nl/olympische-spelen/6045624/do...</td>\n",
       "      <td>0.0</td>\n",
       "    </tr>\n",
       "    <tr>\n",
       "      <td>1</td>\n",
       "      <td>Video Hugh Jackman leert Jimmy Fallon hoe je v...</td>\n",
       "      <td>Video Hugh Jackman leert Jimmy Fallon hoe je v...</td>\n",
       "      <td>https://www.nu.nl/achterklap/6045620/hugh-jack...</td>\n",
       "      <td>0.0</td>\n",
       "    </tr>\n",
       "    <tr>\n",
       "      <td>2</td>\n",
       "      <td>Darren Aronofsky wilde Joker-acteur Joaquin P...</td>\n",
       "      <td>Darren Aronofsky wilde Joker-acteur Joaquin P...</td>\n",
       "      <td>https://www.nu.nl/film/6045618/darren-aronofsk...</td>\n",
       "      <td>0.0</td>\n",
       "    </tr>\n",
       "    <tr>\n",
       "      <td>3</td>\n",
       "      <td>Coronacrisis of niet, de Nasdaq-index staat v...</td>\n",
       "      <td>Coronacrisis of niet, de Nasdaq-index staat v...</td>\n",
       "      <td>https://www.nu.nl/economie/6045615/coronacrisi...</td>\n",
       "      <td>0.0</td>\n",
       "    </tr>\n",
       "    <tr>\n",
       "      <td>4</td>\n",
       "      <td>Livestream Kijk mee naar de presentaties van d...</td>\n",
       "      <td>Livestream Kijk mee naar de presentaties van d...</td>\n",
       "      <td>https://www.nu.nl/tech/6045614/kijk-mee-naar-d...</td>\n",
       "      <td>0.0</td>\n",
       "    </tr>\n",
       "    <tr>\n",
       "      <td>...</td>\n",
       "      <td>...</td>\n",
       "      <td>...</td>\n",
       "      <td>...</td>\n",
       "      <td>...</td>\n",
       "    </tr>\n",
       "    <tr>\n",
       "      <td>5</td>\n",
       "      <td>Koe in de wei blijft vergunningvrij</td>\n",
       "      <td>Boeren die hun koeien in de wei laten grazen h...</td>\n",
       "      <td>https://www.brabant.nl/actueel/nieuws/aanpak-s...</td>\n",
       "      <td>0.0</td>\n",
       "    </tr>\n",
       "    <tr>\n",
       "      <td>6</td>\n",
       "      <td>Lancering online leeromgeving 'Brabant Leert'</td>\n",
       "      <td>Via het platform 'Brabant Leert' zijn verschil...</td>\n",
       "      <td>https://www.brabant.nl/actueel/nieuws/economie...</td>\n",
       "      <td>0.0</td>\n",
       "    </tr>\n",
       "    <tr>\n",
       "      <td>7</td>\n",
       "      <td>Wegwijzer voor veehouders beschikbaar</td>\n",
       "      <td>Wegwijzer voor veehouders geeft een praktisch ...</td>\n",
       "      <td>https://www.brabant.nl/actueel/nieuws/plattela...</td>\n",
       "      <td>0.0</td>\n",
       "    </tr>\n",
       "    <tr>\n",
       "      <td>8</td>\n",
       "      <td>Wederom veel Brabantse verkeersdoden: \"Dit is ...</td>\n",
       "      <td>Het aantal verkeersdoden in Noord-Brabant is v...</td>\n",
       "      <td>https://www.brabant.nl/actueel/nieuws/verkeer-...</td>\n",
       "      <td>0.0</td>\n",
       "    </tr>\n",
       "    <tr>\n",
       "      <td>9</td>\n",
       "      <td>Cultuurfonds Noord-Brabant ondersteunt 61 proj...</td>\n",
       "      <td>61 projecten voor cultuur en natuur ontvangen ...</td>\n",
       "      <td>https://www.brabant.nl/actueel/nieuws/kunst-cu...</td>\n",
       "      <td>0.0</td>\n",
       "    </tr>\n",
       "  </tbody>\n",
       "</table>\n",
       "<p>220 rows × 4 columns</p>\n",
       "</div>"
      ],
      "text/plain": [
       "                                               titles  \\\n",
       "0    Dopingzondaars profiteren van uitstel Olympis...   \n",
       "1   Video Hugh Jackman leert Jimmy Fallon hoe je v...   \n",
       "2    Darren Aronofsky wilde Joker-acteur Joaquin P...   \n",
       "3    Coronacrisis of niet, de Nasdaq-index staat v...   \n",
       "4   Livestream Kijk mee naar de presentaties van d...   \n",
       "..                                                ...   \n",
       "5                 Koe in de wei blijft vergunningvrij   \n",
       "6       Lancering online leeromgeving 'Brabant Leert'   \n",
       "7               Wegwijzer voor veehouders beschikbaar   \n",
       "8   Wederom veel Brabantse verkeersdoden: \"Dit is ...   \n",
       "9   Cultuurfonds Noord-Brabant ondersteunt 61 proj...   \n",
       "\n",
       "                                         descriptions  \\\n",
       "0    Dopingzondaars profiteren van uitstel Olympis...   \n",
       "1   Video Hugh Jackman leert Jimmy Fallon hoe je v...   \n",
       "2    Darren Aronofsky wilde Joker-acteur Joaquin P...   \n",
       "3    Coronacrisis of niet, de Nasdaq-index staat v...   \n",
       "4   Livestream Kijk mee naar de presentaties van d...   \n",
       "..                                                ...   \n",
       "5   Boeren die hun koeien in de wei laten grazen h...   \n",
       "6   Via het platform 'Brabant Leert' zijn verschil...   \n",
       "7   Wegwijzer voor veehouders geeft een praktisch ...   \n",
       "8   Het aantal verkeersdoden in Noord-Brabant is v...   \n",
       "9   61 projecten voor cultuur en natuur ontvangen ...   \n",
       "\n",
       "                                                links  yogunlasma  \n",
       "0   https://www.nu.nl/olympische-spelen/6045624/do...         0.0  \n",
       "1   https://www.nu.nl/achterklap/6045620/hugh-jack...         0.0  \n",
       "2   https://www.nu.nl/film/6045618/darren-aronofsk...         0.0  \n",
       "3   https://www.nu.nl/economie/6045615/coronacrisi...         0.0  \n",
       "4   https://www.nu.nl/tech/6045614/kijk-mee-naar-d...         0.0  \n",
       "..                                                ...         ...  \n",
       "5   https://www.brabant.nl/actueel/nieuws/aanpak-s...         0.0  \n",
       "6   https://www.brabant.nl/actueel/nieuws/economie...         0.0  \n",
       "7   https://www.brabant.nl/actueel/nieuws/plattela...         0.0  \n",
       "8   https://www.brabant.nl/actueel/nieuws/verkeer-...         0.0  \n",
       "9   https://www.brabant.nl/actueel/nieuws/kunst-cu...         0.0  \n",
       "\n",
       "[220 rows x 4 columns]"
      ]
     },
     "execution_count": 226,
     "metadata": {},
     "output_type": "execute_result"
    }
   ],
   "source": [
    "data['yogunlasma'] = data['descriptions'].map(lambda text: TextBlob(text).sentiment.polarity)\n",
    "data"
   ]
  },
  {
   "cell_type": "code",
   "execution_count": 227,
   "metadata": {},
   "outputs": [],
   "source": [
    "data['harf_uzunlugu'] = data['descriptions'].astype(str).apply(len)\n",
    "data['kelime_sayisi'] = data['descriptions'].apply(lambda x: len(str(x).split()))"
   ]
  },
  {
   "cell_type": "markdown",
   "metadata": {},
   "source": [
    "# Görselleştirmeler"
   ]
  },
  {
   "cell_type": "code",
   "execution_count": 228,
   "metadata": {},
   "outputs": [
    {
     "data": {
      "application/vnd.plotly.v1+json": {
       "config": {
        "plotlyServerURL": "https://plot.ly"
       },
       "data": [
        {
         "alignmentgroup": "True",
         "bingroup": "x",
         "hoverlabel": {
          "namelength": 0
         },
         "hovertemplate": "yogunlasma=%{x}<br>count=%{y}",
         "legendgroup": "",
         "marker": {
          "color": "#636efa"
         },
         "name": "",
         "nbinsx": 20,
         "offsetgroup": "",
         "orientation": "v",
         "showlegend": false,
         "type": "histogram",
         "x": [
          0,
          0,
          0,
          0,
          0,
          0,
          0,
          0,
          0,
          0,
          0,
          0,
          0,
          0,
          0,
          0,
          0,
          0,
          0,
          0,
          0,
          0,
          0,
          0,
          0,
          0,
          0,
          0,
          0,
          0,
          0,
          0,
          0,
          0,
          0,
          0,
          0,
          0,
          0,
          0,
          0,
          0,
          0,
          0,
          0,
          0,
          0,
          0,
          0,
          0,
          0,
          0,
          0,
          0,
          0,
          0,
          0,
          -0.14583333333333334,
          0,
          0,
          0,
          0,
          0,
          0,
          0.1,
          0,
          0,
          0,
          0.1,
          0,
          0,
          0,
          0.016666666666666666,
          0,
          0.6,
          0,
          0,
          0,
          0,
          0,
          0.13636363636363635,
          0,
          0,
          0,
          0,
          0,
          0,
          0,
          0,
          0,
          0,
          0,
          0,
          0,
          0.13636363636363635,
          0.13636363636363635,
          0,
          0,
          0,
          0,
          0,
          0,
          0,
          0,
          0,
          0,
          0,
          0,
          0.03333333333333333,
          0,
          0,
          0,
          0.13636363636363635,
          0,
          0,
          -0.1,
          0,
          0,
          0,
          0,
          0.2,
          0,
          0,
          0,
          0.1,
          0.1,
          0,
          0,
          0,
          0,
          0,
          0,
          0,
          0,
          0,
          0,
          0,
          0,
          0,
          0,
          0,
          0,
          0,
          0,
          0,
          0,
          0,
          0,
          0.1,
          0,
          0,
          0,
          0,
          0,
          0,
          0,
          0,
          0,
          0,
          0,
          0,
          0.6,
          0,
          0,
          0,
          0,
          0,
          0,
          0,
          0,
          0,
          0,
          0,
          0,
          0,
          0,
          0,
          0,
          0,
          0,
          0,
          0,
          0,
          0,
          -0.14583333333333334,
          0,
          0,
          0,
          0,
          0,
          0.1,
          0,
          0,
          0,
          0,
          0,
          0,
          0,
          0,
          0,
          0,
          0,
          0,
          0,
          0,
          0,
          0,
          0,
          0,
          0,
          0,
          0,
          0,
          0,
          0,
          0,
          0,
          0,
          0,
          0
         ],
         "xaxis": "x",
         "yaxis": "y"
        }
       ],
       "layout": {
        "barmode": "relative",
        "legend": {
         "tracegroupgap": 0
        },
        "template": {
         "data": {
          "bar": [
           {
            "error_x": {
             "color": "#2a3f5f"
            },
            "error_y": {
             "color": "#2a3f5f"
            },
            "marker": {
             "line": {
              "color": "#E5ECF6",
              "width": 0.5
             }
            },
            "type": "bar"
           }
          ],
          "barpolar": [
           {
            "marker": {
             "line": {
              "color": "#E5ECF6",
              "width": 0.5
             }
            },
            "type": "barpolar"
           }
          ],
          "carpet": [
           {
            "aaxis": {
             "endlinecolor": "#2a3f5f",
             "gridcolor": "white",
             "linecolor": "white",
             "minorgridcolor": "white",
             "startlinecolor": "#2a3f5f"
            },
            "baxis": {
             "endlinecolor": "#2a3f5f",
             "gridcolor": "white",
             "linecolor": "white",
             "minorgridcolor": "white",
             "startlinecolor": "#2a3f5f"
            },
            "type": "carpet"
           }
          ],
          "choropleth": [
           {
            "colorbar": {
             "outlinewidth": 0,
             "ticks": ""
            },
            "type": "choropleth"
           }
          ],
          "contour": [
           {
            "colorbar": {
             "outlinewidth": 0,
             "ticks": ""
            },
            "colorscale": [
             [
              0,
              "#0d0887"
             ],
             [
              0.1111111111111111,
              "#46039f"
             ],
             [
              0.2222222222222222,
              "#7201a8"
             ],
             [
              0.3333333333333333,
              "#9c179e"
             ],
             [
              0.4444444444444444,
              "#bd3786"
             ],
             [
              0.5555555555555556,
              "#d8576b"
             ],
             [
              0.6666666666666666,
              "#ed7953"
             ],
             [
              0.7777777777777778,
              "#fb9f3a"
             ],
             [
              0.8888888888888888,
              "#fdca26"
             ],
             [
              1,
              "#f0f921"
             ]
            ],
            "type": "contour"
           }
          ],
          "contourcarpet": [
           {
            "colorbar": {
             "outlinewidth": 0,
             "ticks": ""
            },
            "type": "contourcarpet"
           }
          ],
          "heatmap": [
           {
            "colorbar": {
             "outlinewidth": 0,
             "ticks": ""
            },
            "colorscale": [
             [
              0,
              "#0d0887"
             ],
             [
              0.1111111111111111,
              "#46039f"
             ],
             [
              0.2222222222222222,
              "#7201a8"
             ],
             [
              0.3333333333333333,
              "#9c179e"
             ],
             [
              0.4444444444444444,
              "#bd3786"
             ],
             [
              0.5555555555555556,
              "#d8576b"
             ],
             [
              0.6666666666666666,
              "#ed7953"
             ],
             [
              0.7777777777777778,
              "#fb9f3a"
             ],
             [
              0.8888888888888888,
              "#fdca26"
             ],
             [
              1,
              "#f0f921"
             ]
            ],
            "type": "heatmap"
           }
          ],
          "heatmapgl": [
           {
            "colorbar": {
             "outlinewidth": 0,
             "ticks": ""
            },
            "colorscale": [
             [
              0,
              "#0d0887"
             ],
             [
              0.1111111111111111,
              "#46039f"
             ],
             [
              0.2222222222222222,
              "#7201a8"
             ],
             [
              0.3333333333333333,
              "#9c179e"
             ],
             [
              0.4444444444444444,
              "#bd3786"
             ],
             [
              0.5555555555555556,
              "#d8576b"
             ],
             [
              0.6666666666666666,
              "#ed7953"
             ],
             [
              0.7777777777777778,
              "#fb9f3a"
             ],
             [
              0.8888888888888888,
              "#fdca26"
             ],
             [
              1,
              "#f0f921"
             ]
            ],
            "type": "heatmapgl"
           }
          ],
          "histogram": [
           {
            "marker": {
             "colorbar": {
              "outlinewidth": 0,
              "ticks": ""
             }
            },
            "type": "histogram"
           }
          ],
          "histogram2d": [
           {
            "colorbar": {
             "outlinewidth": 0,
             "ticks": ""
            },
            "colorscale": [
             [
              0,
              "#0d0887"
             ],
             [
              0.1111111111111111,
              "#46039f"
             ],
             [
              0.2222222222222222,
              "#7201a8"
             ],
             [
              0.3333333333333333,
              "#9c179e"
             ],
             [
              0.4444444444444444,
              "#bd3786"
             ],
             [
              0.5555555555555556,
              "#d8576b"
             ],
             [
              0.6666666666666666,
              "#ed7953"
             ],
             [
              0.7777777777777778,
              "#fb9f3a"
             ],
             [
              0.8888888888888888,
              "#fdca26"
             ],
             [
              1,
              "#f0f921"
             ]
            ],
            "type": "histogram2d"
           }
          ],
          "histogram2dcontour": [
           {
            "colorbar": {
             "outlinewidth": 0,
             "ticks": ""
            },
            "colorscale": [
             [
              0,
              "#0d0887"
             ],
             [
              0.1111111111111111,
              "#46039f"
             ],
             [
              0.2222222222222222,
              "#7201a8"
             ],
             [
              0.3333333333333333,
              "#9c179e"
             ],
             [
              0.4444444444444444,
              "#bd3786"
             ],
             [
              0.5555555555555556,
              "#d8576b"
             ],
             [
              0.6666666666666666,
              "#ed7953"
             ],
             [
              0.7777777777777778,
              "#fb9f3a"
             ],
             [
              0.8888888888888888,
              "#fdca26"
             ],
             [
              1,
              "#f0f921"
             ]
            ],
            "type": "histogram2dcontour"
           }
          ],
          "mesh3d": [
           {
            "colorbar": {
             "outlinewidth": 0,
             "ticks": ""
            },
            "type": "mesh3d"
           }
          ],
          "parcoords": [
           {
            "line": {
             "colorbar": {
              "outlinewidth": 0,
              "ticks": ""
             }
            },
            "type": "parcoords"
           }
          ],
          "pie": [
           {
            "automargin": true,
            "type": "pie"
           }
          ],
          "scatter": [
           {
            "marker": {
             "colorbar": {
              "outlinewidth": 0,
              "ticks": ""
             }
            },
            "type": "scatter"
           }
          ],
          "scatter3d": [
           {
            "line": {
             "colorbar": {
              "outlinewidth": 0,
              "ticks": ""
             }
            },
            "marker": {
             "colorbar": {
              "outlinewidth": 0,
              "ticks": ""
             }
            },
            "type": "scatter3d"
           }
          ],
          "scattercarpet": [
           {
            "marker": {
             "colorbar": {
              "outlinewidth": 0,
              "ticks": ""
             }
            },
            "type": "scattercarpet"
           }
          ],
          "scattergeo": [
           {
            "marker": {
             "colorbar": {
              "outlinewidth": 0,
              "ticks": ""
             }
            },
            "type": "scattergeo"
           }
          ],
          "scattergl": [
           {
            "marker": {
             "colorbar": {
              "outlinewidth": 0,
              "ticks": ""
             }
            },
            "type": "scattergl"
           }
          ],
          "scattermapbox": [
           {
            "marker": {
             "colorbar": {
              "outlinewidth": 0,
              "ticks": ""
             }
            },
            "type": "scattermapbox"
           }
          ],
          "scatterpolar": [
           {
            "marker": {
             "colorbar": {
              "outlinewidth": 0,
              "ticks": ""
             }
            },
            "type": "scatterpolar"
           }
          ],
          "scatterpolargl": [
           {
            "marker": {
             "colorbar": {
              "outlinewidth": 0,
              "ticks": ""
             }
            },
            "type": "scatterpolargl"
           }
          ],
          "scatterternary": [
           {
            "marker": {
             "colorbar": {
              "outlinewidth": 0,
              "ticks": ""
             }
            },
            "type": "scatterternary"
           }
          ],
          "surface": [
           {
            "colorbar": {
             "outlinewidth": 0,
             "ticks": ""
            },
            "colorscale": [
             [
              0,
              "#0d0887"
             ],
             [
              0.1111111111111111,
              "#46039f"
             ],
             [
              0.2222222222222222,
              "#7201a8"
             ],
             [
              0.3333333333333333,
              "#9c179e"
             ],
             [
              0.4444444444444444,
              "#bd3786"
             ],
             [
              0.5555555555555556,
              "#d8576b"
             ],
             [
              0.6666666666666666,
              "#ed7953"
             ],
             [
              0.7777777777777778,
              "#fb9f3a"
             ],
             [
              0.8888888888888888,
              "#fdca26"
             ],
             [
              1,
              "#f0f921"
             ]
            ],
            "type": "surface"
           }
          ],
          "table": [
           {
            "cells": {
             "fill": {
              "color": "#EBF0F8"
             },
             "line": {
              "color": "white"
             }
            },
            "header": {
             "fill": {
              "color": "#C8D4E3"
             },
             "line": {
              "color": "white"
             }
            },
            "type": "table"
           }
          ]
         },
         "layout": {
          "annotationdefaults": {
           "arrowcolor": "#2a3f5f",
           "arrowhead": 0,
           "arrowwidth": 1
          },
          "coloraxis": {
           "colorbar": {
            "outlinewidth": 0,
            "ticks": ""
           }
          },
          "colorscale": {
           "diverging": [
            [
             0,
             "#8e0152"
            ],
            [
             0.1,
             "#c51b7d"
            ],
            [
             0.2,
             "#de77ae"
            ],
            [
             0.3,
             "#f1b6da"
            ],
            [
             0.4,
             "#fde0ef"
            ],
            [
             0.5,
             "#f7f7f7"
            ],
            [
             0.6,
             "#e6f5d0"
            ],
            [
             0.7,
             "#b8e186"
            ],
            [
             0.8,
             "#7fbc41"
            ],
            [
             0.9,
             "#4d9221"
            ],
            [
             1,
             "#276419"
            ]
           ],
           "sequential": [
            [
             0,
             "#0d0887"
            ],
            [
             0.1111111111111111,
             "#46039f"
            ],
            [
             0.2222222222222222,
             "#7201a8"
            ],
            [
             0.3333333333333333,
             "#9c179e"
            ],
            [
             0.4444444444444444,
             "#bd3786"
            ],
            [
             0.5555555555555556,
             "#d8576b"
            ],
            [
             0.6666666666666666,
             "#ed7953"
            ],
            [
             0.7777777777777778,
             "#fb9f3a"
            ],
            [
             0.8888888888888888,
             "#fdca26"
            ],
            [
             1,
             "#f0f921"
            ]
           ],
           "sequentialminus": [
            [
             0,
             "#0d0887"
            ],
            [
             0.1111111111111111,
             "#46039f"
            ],
            [
             0.2222222222222222,
             "#7201a8"
            ],
            [
             0.3333333333333333,
             "#9c179e"
            ],
            [
             0.4444444444444444,
             "#bd3786"
            ],
            [
             0.5555555555555556,
             "#d8576b"
            ],
            [
             0.6666666666666666,
             "#ed7953"
            ],
            [
             0.7777777777777778,
             "#fb9f3a"
            ],
            [
             0.8888888888888888,
             "#fdca26"
            ],
            [
             1,
             "#f0f921"
            ]
           ]
          },
          "colorway": [
           "#636efa",
           "#EF553B",
           "#00cc96",
           "#ab63fa",
           "#FFA15A",
           "#19d3f3",
           "#FF6692",
           "#B6E880",
           "#FF97FF",
           "#FECB52"
          ],
          "font": {
           "color": "#2a3f5f"
          },
          "geo": {
           "bgcolor": "white",
           "lakecolor": "white",
           "landcolor": "#E5ECF6",
           "showlakes": true,
           "showland": true,
           "subunitcolor": "white"
          },
          "hoverlabel": {
           "align": "left"
          },
          "hovermode": "closest",
          "mapbox": {
           "style": "light"
          },
          "paper_bgcolor": "white",
          "plot_bgcolor": "#E5ECF6",
          "polar": {
           "angularaxis": {
            "gridcolor": "white",
            "linecolor": "white",
            "ticks": ""
           },
           "bgcolor": "#E5ECF6",
           "radialaxis": {
            "gridcolor": "white",
            "linecolor": "white",
            "ticks": ""
           }
          },
          "scene": {
           "xaxis": {
            "backgroundcolor": "#E5ECF6",
            "gridcolor": "white",
            "gridwidth": 2,
            "linecolor": "white",
            "showbackground": true,
            "ticks": "",
            "zerolinecolor": "white"
           },
           "yaxis": {
            "backgroundcolor": "#E5ECF6",
            "gridcolor": "white",
            "gridwidth": 2,
            "linecolor": "white",
            "showbackground": true,
            "ticks": "",
            "zerolinecolor": "white"
           },
           "zaxis": {
            "backgroundcolor": "#E5ECF6",
            "gridcolor": "white",
            "gridwidth": 2,
            "linecolor": "white",
            "showbackground": true,
            "ticks": "",
            "zerolinecolor": "white"
           }
          },
          "shapedefaults": {
           "line": {
            "color": "#2a3f5f"
           }
          },
          "ternary": {
           "aaxis": {
            "gridcolor": "white",
            "linecolor": "white",
            "ticks": ""
           },
           "baxis": {
            "gridcolor": "white",
            "linecolor": "white",
            "ticks": ""
           },
           "bgcolor": "#E5ECF6",
           "caxis": {
            "gridcolor": "white",
            "linecolor": "white",
            "ticks": ""
           }
          },
          "title": {
           "x": 0.05
          },
          "xaxis": {
           "automargin": true,
           "gridcolor": "white",
           "linecolor": "white",
           "ticks": "",
           "title": {
            "standoff": 15
           },
           "zerolinecolor": "white",
           "zerolinewidth": 2
          },
          "yaxis": {
           "automargin": true,
           "gridcolor": "white",
           "linecolor": "white",
           "ticks": "",
           "title": {
            "standoff": 15
           },
           "zerolinecolor": "white",
           "zerolinewidth": 2
          }
         }
        },
        "title": {
         "text": "Metin Yoğunlaşması"
        },
        "xaxis": {
         "anchor": "y",
         "domain": [
          0,
          1
         ],
         "title": {
          "text": "yogunlasma"
         }
        },
        "yaxis": {
         "anchor": "x",
         "domain": [
          0,
          1
         ],
         "title": {
          "text": "count"
         }
        }
       }
      },
      "text/html": [
       "<div>\n",
       "        \n",
       "        \n",
       "            <div id=\"302bc086-bdc3-4255-b95d-a7bc95a6484e\" class=\"plotly-graph-div\" style=\"height:525px; width:100%;\"></div>\n",
       "            <script type=\"text/javascript\">\n",
       "                require([\"plotly\"], function(Plotly) {\n",
       "                    window.PLOTLYENV=window.PLOTLYENV || {};\n",
       "                    \n",
       "                if (document.getElementById(\"302bc086-bdc3-4255-b95d-a7bc95a6484e\")) {\n",
       "                    Plotly.newPlot(\n",
       "                        '302bc086-bdc3-4255-b95d-a7bc95a6484e',\n",
       "                        [{\"alignmentgroup\": \"True\", \"bingroup\": \"x\", \"hoverlabel\": {\"namelength\": 0}, \"hovertemplate\": \"yogunlasma=%{x}<br>count=%{y}\", \"legendgroup\": \"\", \"marker\": {\"color\": \"#636efa\"}, \"name\": \"\", \"nbinsx\": 20, \"offsetgroup\": \"\", \"orientation\": \"v\", \"showlegend\": false, \"type\": \"histogram\", \"x\": [0.0, 0.0, 0.0, 0.0, 0.0, 0.0, 0.0, 0.0, 0.0, 0.0, 0.0, 0.0, 0.0, 0.0, 0.0, 0.0, 0.0, 0.0, 0.0, 0.0, 0.0, 0.0, 0.0, 0.0, 0.0, 0.0, 0.0, 0.0, 0.0, 0.0, 0.0, 0.0, 0.0, 0.0, 0.0, 0.0, 0.0, 0.0, 0.0, 0.0, 0.0, 0.0, 0.0, 0.0, 0.0, 0.0, 0.0, 0.0, 0.0, 0.0, 0.0, 0.0, 0.0, 0.0, 0.0, 0.0, 0.0, -0.14583333333333334, 0.0, 0.0, 0.0, 0.0, 0.0, 0.0, 0.1, 0.0, 0.0, 0.0, 0.1, 0.0, 0.0, 0.0, 0.016666666666666666, 0.0, 0.6, 0.0, 0.0, 0.0, 0.0, 0.0, 0.13636363636363635, 0.0, 0.0, 0.0, 0.0, 0.0, 0.0, 0.0, 0.0, 0.0, 0.0, 0.0, 0.0, 0.0, 0.13636363636363635, 0.13636363636363635, 0.0, 0.0, 0.0, 0.0, 0.0, 0.0, 0.0, 0.0, 0.0, 0.0, 0.0, 0.0, 0.03333333333333333, 0.0, 0.0, 0.0, 0.13636363636363635, 0.0, 0.0, -0.1, 0.0, 0.0, 0.0, 0.0, 0.2, 0.0, 0.0, 0.0, 0.1, 0.1, 0.0, 0.0, 0.0, 0.0, 0.0, 0.0, 0.0, 0.0, 0.0, 0.0, 0.0, 0.0, 0.0, 0.0, 0.0, 0.0, 0.0, 0.0, 0.0, 0.0, 0.0, 0.0, 0.1, 0.0, 0.0, 0.0, 0.0, 0.0, 0.0, 0.0, 0.0, 0.0, 0.0, 0.0, 0.0, 0.6, 0.0, 0.0, 0.0, 0.0, 0.0, 0.0, 0.0, 0.0, 0.0, 0.0, 0.0, 0.0, 0.0, 0.0, 0.0, 0.0, 0.0, 0.0, 0.0, 0.0, 0.0, 0.0, -0.14583333333333334, 0.0, 0.0, 0.0, 0.0, 0.0, 0.1, 0.0, 0.0, 0.0, 0.0, 0.0, 0.0, 0.0, 0.0, 0.0, 0.0, 0.0, 0.0, 0.0, 0.0, 0.0, 0.0, 0.0, 0.0, 0.0, 0.0, 0.0, 0.0, 0.0, 0.0, 0.0, 0.0, 0.0, 0.0, 0.0], \"xaxis\": \"x\", \"yaxis\": \"y\"}],\n",
       "                        {\"barmode\": \"relative\", \"legend\": {\"tracegroupgap\": 0}, \"template\": {\"data\": {\"bar\": [{\"error_x\": {\"color\": \"#2a3f5f\"}, \"error_y\": {\"color\": \"#2a3f5f\"}, \"marker\": {\"line\": {\"color\": \"#E5ECF6\", \"width\": 0.5}}, \"type\": \"bar\"}], \"barpolar\": [{\"marker\": {\"line\": {\"color\": \"#E5ECF6\", \"width\": 0.5}}, \"type\": \"barpolar\"}], \"carpet\": [{\"aaxis\": {\"endlinecolor\": \"#2a3f5f\", \"gridcolor\": \"white\", \"linecolor\": \"white\", \"minorgridcolor\": \"white\", \"startlinecolor\": \"#2a3f5f\"}, \"baxis\": {\"endlinecolor\": \"#2a3f5f\", \"gridcolor\": \"white\", \"linecolor\": \"white\", \"minorgridcolor\": \"white\", \"startlinecolor\": \"#2a3f5f\"}, \"type\": \"carpet\"}], \"choropleth\": [{\"colorbar\": {\"outlinewidth\": 0, \"ticks\": \"\"}, \"type\": \"choropleth\"}], \"contour\": [{\"colorbar\": {\"outlinewidth\": 0, \"ticks\": \"\"}, \"colorscale\": [[0.0, \"#0d0887\"], [0.1111111111111111, \"#46039f\"], [0.2222222222222222, \"#7201a8\"], [0.3333333333333333, \"#9c179e\"], [0.4444444444444444, \"#bd3786\"], [0.5555555555555556, \"#d8576b\"], [0.6666666666666666, \"#ed7953\"], [0.7777777777777778, \"#fb9f3a\"], [0.8888888888888888, \"#fdca26\"], [1.0, \"#f0f921\"]], \"type\": \"contour\"}], \"contourcarpet\": [{\"colorbar\": {\"outlinewidth\": 0, \"ticks\": \"\"}, \"type\": \"contourcarpet\"}], \"heatmap\": [{\"colorbar\": {\"outlinewidth\": 0, \"ticks\": \"\"}, \"colorscale\": [[0.0, \"#0d0887\"], [0.1111111111111111, \"#46039f\"], [0.2222222222222222, \"#7201a8\"], [0.3333333333333333, \"#9c179e\"], [0.4444444444444444, \"#bd3786\"], [0.5555555555555556, \"#d8576b\"], [0.6666666666666666, \"#ed7953\"], [0.7777777777777778, \"#fb9f3a\"], [0.8888888888888888, \"#fdca26\"], [1.0, \"#f0f921\"]], \"type\": \"heatmap\"}], \"heatmapgl\": [{\"colorbar\": {\"outlinewidth\": 0, \"ticks\": \"\"}, \"colorscale\": [[0.0, \"#0d0887\"], [0.1111111111111111, \"#46039f\"], [0.2222222222222222, \"#7201a8\"], [0.3333333333333333, \"#9c179e\"], [0.4444444444444444, \"#bd3786\"], [0.5555555555555556, \"#d8576b\"], [0.6666666666666666, \"#ed7953\"], [0.7777777777777778, \"#fb9f3a\"], [0.8888888888888888, \"#fdca26\"], [1.0, \"#f0f921\"]], \"type\": \"heatmapgl\"}], \"histogram\": [{\"marker\": {\"colorbar\": {\"outlinewidth\": 0, \"ticks\": \"\"}}, \"type\": \"histogram\"}], \"histogram2d\": [{\"colorbar\": {\"outlinewidth\": 0, \"ticks\": \"\"}, \"colorscale\": [[0.0, \"#0d0887\"], [0.1111111111111111, \"#46039f\"], [0.2222222222222222, \"#7201a8\"], [0.3333333333333333, \"#9c179e\"], [0.4444444444444444, \"#bd3786\"], [0.5555555555555556, \"#d8576b\"], [0.6666666666666666, \"#ed7953\"], [0.7777777777777778, \"#fb9f3a\"], [0.8888888888888888, \"#fdca26\"], [1.0, \"#f0f921\"]], \"type\": \"histogram2d\"}], \"histogram2dcontour\": [{\"colorbar\": {\"outlinewidth\": 0, \"ticks\": \"\"}, \"colorscale\": [[0.0, \"#0d0887\"], [0.1111111111111111, \"#46039f\"], [0.2222222222222222, \"#7201a8\"], [0.3333333333333333, \"#9c179e\"], [0.4444444444444444, \"#bd3786\"], [0.5555555555555556, \"#d8576b\"], [0.6666666666666666, \"#ed7953\"], [0.7777777777777778, \"#fb9f3a\"], [0.8888888888888888, \"#fdca26\"], [1.0, \"#f0f921\"]], \"type\": \"histogram2dcontour\"}], \"mesh3d\": [{\"colorbar\": {\"outlinewidth\": 0, \"ticks\": \"\"}, \"type\": \"mesh3d\"}], \"parcoords\": [{\"line\": {\"colorbar\": {\"outlinewidth\": 0, \"ticks\": \"\"}}, \"type\": \"parcoords\"}], \"pie\": [{\"automargin\": true, \"type\": \"pie\"}], \"scatter\": [{\"marker\": {\"colorbar\": {\"outlinewidth\": 0, \"ticks\": \"\"}}, \"type\": \"scatter\"}], \"scatter3d\": [{\"line\": {\"colorbar\": {\"outlinewidth\": 0, \"ticks\": \"\"}}, \"marker\": {\"colorbar\": {\"outlinewidth\": 0, \"ticks\": \"\"}}, \"type\": \"scatter3d\"}], \"scattercarpet\": [{\"marker\": {\"colorbar\": {\"outlinewidth\": 0, \"ticks\": \"\"}}, \"type\": \"scattercarpet\"}], \"scattergeo\": [{\"marker\": {\"colorbar\": {\"outlinewidth\": 0, \"ticks\": \"\"}}, \"type\": \"scattergeo\"}], \"scattergl\": [{\"marker\": {\"colorbar\": {\"outlinewidth\": 0, \"ticks\": \"\"}}, \"type\": \"scattergl\"}], \"scattermapbox\": [{\"marker\": {\"colorbar\": {\"outlinewidth\": 0, \"ticks\": \"\"}}, \"type\": \"scattermapbox\"}], \"scatterpolar\": [{\"marker\": {\"colorbar\": {\"outlinewidth\": 0, \"ticks\": \"\"}}, \"type\": \"scatterpolar\"}], \"scatterpolargl\": [{\"marker\": {\"colorbar\": {\"outlinewidth\": 0, \"ticks\": \"\"}}, \"type\": \"scatterpolargl\"}], \"scatterternary\": [{\"marker\": {\"colorbar\": {\"outlinewidth\": 0, \"ticks\": \"\"}}, \"type\": \"scatterternary\"}], \"surface\": [{\"colorbar\": {\"outlinewidth\": 0, \"ticks\": \"\"}, \"colorscale\": [[0.0, \"#0d0887\"], [0.1111111111111111, \"#46039f\"], [0.2222222222222222, \"#7201a8\"], [0.3333333333333333, \"#9c179e\"], [0.4444444444444444, \"#bd3786\"], [0.5555555555555556, \"#d8576b\"], [0.6666666666666666, \"#ed7953\"], [0.7777777777777778, \"#fb9f3a\"], [0.8888888888888888, \"#fdca26\"], [1.0, \"#f0f921\"]], \"type\": \"surface\"}], \"table\": [{\"cells\": {\"fill\": {\"color\": \"#EBF0F8\"}, \"line\": {\"color\": \"white\"}}, \"header\": {\"fill\": {\"color\": \"#C8D4E3\"}, \"line\": {\"color\": \"white\"}}, \"type\": \"table\"}]}, \"layout\": {\"annotationdefaults\": {\"arrowcolor\": \"#2a3f5f\", \"arrowhead\": 0, \"arrowwidth\": 1}, \"coloraxis\": {\"colorbar\": {\"outlinewidth\": 0, \"ticks\": \"\"}}, \"colorscale\": {\"diverging\": [[0, \"#8e0152\"], [0.1, \"#c51b7d\"], [0.2, \"#de77ae\"], [0.3, \"#f1b6da\"], [0.4, \"#fde0ef\"], [0.5, \"#f7f7f7\"], [0.6, \"#e6f5d0\"], [0.7, \"#b8e186\"], [0.8, \"#7fbc41\"], [0.9, \"#4d9221\"], [1, \"#276419\"]], \"sequential\": [[0.0, \"#0d0887\"], [0.1111111111111111, \"#46039f\"], [0.2222222222222222, \"#7201a8\"], [0.3333333333333333, \"#9c179e\"], [0.4444444444444444, \"#bd3786\"], [0.5555555555555556, \"#d8576b\"], [0.6666666666666666, \"#ed7953\"], [0.7777777777777778, \"#fb9f3a\"], [0.8888888888888888, \"#fdca26\"], [1.0, \"#f0f921\"]], \"sequentialminus\": [[0.0, \"#0d0887\"], [0.1111111111111111, \"#46039f\"], [0.2222222222222222, \"#7201a8\"], [0.3333333333333333, \"#9c179e\"], [0.4444444444444444, \"#bd3786\"], [0.5555555555555556, \"#d8576b\"], [0.6666666666666666, \"#ed7953\"], [0.7777777777777778, \"#fb9f3a\"], [0.8888888888888888, \"#fdca26\"], [1.0, \"#f0f921\"]]}, \"colorway\": [\"#636efa\", \"#EF553B\", \"#00cc96\", \"#ab63fa\", \"#FFA15A\", \"#19d3f3\", \"#FF6692\", \"#B6E880\", \"#FF97FF\", \"#FECB52\"], \"font\": {\"color\": \"#2a3f5f\"}, \"geo\": {\"bgcolor\": \"white\", \"lakecolor\": \"white\", \"landcolor\": \"#E5ECF6\", \"showlakes\": true, \"showland\": true, \"subunitcolor\": \"white\"}, \"hoverlabel\": {\"align\": \"left\"}, \"hovermode\": \"closest\", \"mapbox\": {\"style\": \"light\"}, \"paper_bgcolor\": \"white\", \"plot_bgcolor\": \"#E5ECF6\", \"polar\": {\"angularaxis\": {\"gridcolor\": \"white\", \"linecolor\": \"white\", \"ticks\": \"\"}, \"bgcolor\": \"#E5ECF6\", \"radialaxis\": {\"gridcolor\": \"white\", \"linecolor\": \"white\", \"ticks\": \"\"}}, \"scene\": {\"xaxis\": {\"backgroundcolor\": \"#E5ECF6\", \"gridcolor\": \"white\", \"gridwidth\": 2, \"linecolor\": \"white\", \"showbackground\": true, \"ticks\": \"\", \"zerolinecolor\": \"white\"}, \"yaxis\": {\"backgroundcolor\": \"#E5ECF6\", \"gridcolor\": \"white\", \"gridwidth\": 2, \"linecolor\": \"white\", \"showbackground\": true, \"ticks\": \"\", \"zerolinecolor\": \"white\"}, \"zaxis\": {\"backgroundcolor\": \"#E5ECF6\", \"gridcolor\": \"white\", \"gridwidth\": 2, \"linecolor\": \"white\", \"showbackground\": true, \"ticks\": \"\", \"zerolinecolor\": \"white\"}}, \"shapedefaults\": {\"line\": {\"color\": \"#2a3f5f\"}}, \"ternary\": {\"aaxis\": {\"gridcolor\": \"white\", \"linecolor\": \"white\", \"ticks\": \"\"}, \"baxis\": {\"gridcolor\": \"white\", \"linecolor\": \"white\", \"ticks\": \"\"}, \"bgcolor\": \"#E5ECF6\", \"caxis\": {\"gridcolor\": \"white\", \"linecolor\": \"white\", \"ticks\": \"\"}}, \"title\": {\"x\": 0.05}, \"xaxis\": {\"automargin\": true, \"gridcolor\": \"white\", \"linecolor\": \"white\", \"ticks\": \"\", \"title\": {\"standoff\": 15}, \"zerolinecolor\": \"white\", \"zerolinewidth\": 2}, \"yaxis\": {\"automargin\": true, \"gridcolor\": \"white\", \"linecolor\": \"white\", \"ticks\": \"\", \"title\": {\"standoff\": 15}, \"zerolinecolor\": \"white\", \"zerolinewidth\": 2}}}, \"title\": {\"text\": \"Metin Yo\\u011funla\\u015fmas\\u0131\"}, \"xaxis\": {\"anchor\": \"y\", \"domain\": [0.0, 1.0], \"title\": {\"text\": \"yogunlasma\"}}, \"yaxis\": {\"anchor\": \"x\", \"domain\": [0.0, 1.0], \"title\": {\"text\": \"count\"}}},\n",
       "                        {\"responsive\": true}\n",
       "                    ).then(function(){\n",
       "                            \n",
       "var gd = document.getElementById('302bc086-bdc3-4255-b95d-a7bc95a6484e');\n",
       "var x = new MutationObserver(function (mutations, observer) {{\n",
       "        var display = window.getComputedStyle(gd).display;\n",
       "        if (!display || display === 'none') {{\n",
       "            console.log([gd, 'removed!']);\n",
       "            Plotly.purge(gd);\n",
       "            observer.disconnect();\n",
       "        }}\n",
       "}});\n",
       "\n",
       "// Listen for the removal of the full notebook cells\n",
       "var notebookContainer = gd.closest('#notebook-container');\n",
       "if (notebookContainer) {{\n",
       "    x.observe(notebookContainer, {childList: true});\n",
       "}}\n",
       "\n",
       "// Listen for the clearing of the current output cell\n",
       "var outputEl = gd.closest('.output');\n",
       "if (outputEl) {{\n",
       "    x.observe(outputEl, {childList: true});\n",
       "}}\n",
       "\n",
       "                        })\n",
       "                };\n",
       "                });\n",
       "            </script>\n",
       "        </div>"
      ]
     },
     "metadata": {},
     "output_type": "display_data"
    }
   ],
   "source": [
    "fig = px.histogram(data, x=\"yogunlasma\", nbins=20, title='Metin Yoğunlaşması')\n",
    "fig.show()"
   ]
  },
  {
   "cell_type": "code",
   "execution_count": 219,
   "metadata": {},
   "outputs": [
    {
     "data": {
      "application/vnd.plotly.v1+json": {
       "config": {
        "plotlyServerURL": "https://plot.ly"
       },
       "data": [
        {
         "alignmentgroup": "True",
         "bingroup": "x",
         "hoverlabel": {
          "namelength": 0
         },
         "hovertemplate": "harf_uzunlugu=%{x}<br>count=%{y}",
         "legendgroup": "",
         "marker": {
          "color": "#636efa"
         },
         "name": "",
         "nbinsx": 200,
         "offsetgroup": "",
         "orientation": "v",
         "showlegend": false,
         "type": "histogram",
         "x": [
          72,
          75,
          62,
          75,
          75,
          77,
          65,
          70,
          50,
          59,
          76,
          61,
          75,
          73,
          66,
          70,
          60,
          70,
          73,
          71,
          71,
          74,
          67,
          71,
          114,
          99,
          152,
          87,
          144,
          137,
          74,
          59,
          53,
          164,
          155,
          73,
          180,
          219,
          218,
          87,
          145,
          144,
          138,
          123,
          121,
          124,
          79,
          110,
          162,
          198,
          256,
          207,
          260,
          224,
          196,
          252,
          259,
          160,
          368,
          263,
          213,
          406,
          275,
          192,
          218,
          299,
          289,
          242,
          172,
          270,
          143,
          353,
          585,
          330,
          265,
          193,
          407,
          67,
          154,
          162,
          63,
          31,
          250,
          260,
          103,
          48,
          250,
          291,
          256,
          208,
          303,
          283,
          247,
          326,
          700,
          261,
          461,
          306,
          590,
          322,
          323,
          321,
          331,
          336,
          297,
          284,
          260,
          324,
          1308,
          307,
          308,
          318,
          315,
          552,
          803,
          256,
          325,
          332,
          318,
          296,
          296,
          341,
          289,
          279,
          345,
          312,
          329,
          292,
          349,
          274,
          324,
          10,
          13,
          20,
          4,
          16,
          14,
          10,
          26,
          17,
          8,
          25,
          17,
          84,
          218,
          176,
          85,
          201,
          202,
          227,
          241,
          193,
          200,
          231,
          75,
          227,
          112,
          80,
          67,
          270,
          59,
          280,
          217,
          69,
          51,
          56,
          73,
          59,
          87,
          68,
          75,
          66,
          71,
          57,
          80,
          62,
          57,
          54,
          55,
          68,
          256,
          157,
          260,
          224,
          269,
          259,
          368,
          263,
          213,
          406,
          299,
          172,
          143,
          353,
          585,
          330,
          265,
          407,
          196,
          159,
          350,
          400,
          324,
          268,
          347,
          231,
          239,
          384,
          452,
          174,
          118,
          90,
          117,
          53,
          91,
          82,
          117,
          102,
          81,
          72
         ],
         "xaxis": "x",
         "yaxis": "y"
        }
       ],
       "layout": {
        "barmode": "relative",
        "legend": {
         "tracegroupgap": 0
        },
        "template": {
         "data": {
          "bar": [
           {
            "error_x": {
             "color": "#2a3f5f"
            },
            "error_y": {
             "color": "#2a3f5f"
            },
            "marker": {
             "line": {
              "color": "#E5ECF6",
              "width": 0.5
             }
            },
            "type": "bar"
           }
          ],
          "barpolar": [
           {
            "marker": {
             "line": {
              "color": "#E5ECF6",
              "width": 0.5
             }
            },
            "type": "barpolar"
           }
          ],
          "carpet": [
           {
            "aaxis": {
             "endlinecolor": "#2a3f5f",
             "gridcolor": "white",
             "linecolor": "white",
             "minorgridcolor": "white",
             "startlinecolor": "#2a3f5f"
            },
            "baxis": {
             "endlinecolor": "#2a3f5f",
             "gridcolor": "white",
             "linecolor": "white",
             "minorgridcolor": "white",
             "startlinecolor": "#2a3f5f"
            },
            "type": "carpet"
           }
          ],
          "choropleth": [
           {
            "colorbar": {
             "outlinewidth": 0,
             "ticks": ""
            },
            "type": "choropleth"
           }
          ],
          "contour": [
           {
            "colorbar": {
             "outlinewidth": 0,
             "ticks": ""
            },
            "colorscale": [
             [
              0,
              "#0d0887"
             ],
             [
              0.1111111111111111,
              "#46039f"
             ],
             [
              0.2222222222222222,
              "#7201a8"
             ],
             [
              0.3333333333333333,
              "#9c179e"
             ],
             [
              0.4444444444444444,
              "#bd3786"
             ],
             [
              0.5555555555555556,
              "#d8576b"
             ],
             [
              0.6666666666666666,
              "#ed7953"
             ],
             [
              0.7777777777777778,
              "#fb9f3a"
             ],
             [
              0.8888888888888888,
              "#fdca26"
             ],
             [
              1,
              "#f0f921"
             ]
            ],
            "type": "contour"
           }
          ],
          "contourcarpet": [
           {
            "colorbar": {
             "outlinewidth": 0,
             "ticks": ""
            },
            "type": "contourcarpet"
           }
          ],
          "heatmap": [
           {
            "colorbar": {
             "outlinewidth": 0,
             "ticks": ""
            },
            "colorscale": [
             [
              0,
              "#0d0887"
             ],
             [
              0.1111111111111111,
              "#46039f"
             ],
             [
              0.2222222222222222,
              "#7201a8"
             ],
             [
              0.3333333333333333,
              "#9c179e"
             ],
             [
              0.4444444444444444,
              "#bd3786"
             ],
             [
              0.5555555555555556,
              "#d8576b"
             ],
             [
              0.6666666666666666,
              "#ed7953"
             ],
             [
              0.7777777777777778,
              "#fb9f3a"
             ],
             [
              0.8888888888888888,
              "#fdca26"
             ],
             [
              1,
              "#f0f921"
             ]
            ],
            "type": "heatmap"
           }
          ],
          "heatmapgl": [
           {
            "colorbar": {
             "outlinewidth": 0,
             "ticks": ""
            },
            "colorscale": [
             [
              0,
              "#0d0887"
             ],
             [
              0.1111111111111111,
              "#46039f"
             ],
             [
              0.2222222222222222,
              "#7201a8"
             ],
             [
              0.3333333333333333,
              "#9c179e"
             ],
             [
              0.4444444444444444,
              "#bd3786"
             ],
             [
              0.5555555555555556,
              "#d8576b"
             ],
             [
              0.6666666666666666,
              "#ed7953"
             ],
             [
              0.7777777777777778,
              "#fb9f3a"
             ],
             [
              0.8888888888888888,
              "#fdca26"
             ],
             [
              1,
              "#f0f921"
             ]
            ],
            "type": "heatmapgl"
           }
          ],
          "histogram": [
           {
            "marker": {
             "colorbar": {
              "outlinewidth": 0,
              "ticks": ""
             }
            },
            "type": "histogram"
           }
          ],
          "histogram2d": [
           {
            "colorbar": {
             "outlinewidth": 0,
             "ticks": ""
            },
            "colorscale": [
             [
              0,
              "#0d0887"
             ],
             [
              0.1111111111111111,
              "#46039f"
             ],
             [
              0.2222222222222222,
              "#7201a8"
             ],
             [
              0.3333333333333333,
              "#9c179e"
             ],
             [
              0.4444444444444444,
              "#bd3786"
             ],
             [
              0.5555555555555556,
              "#d8576b"
             ],
             [
              0.6666666666666666,
              "#ed7953"
             ],
             [
              0.7777777777777778,
              "#fb9f3a"
             ],
             [
              0.8888888888888888,
              "#fdca26"
             ],
             [
              1,
              "#f0f921"
             ]
            ],
            "type": "histogram2d"
           }
          ],
          "histogram2dcontour": [
           {
            "colorbar": {
             "outlinewidth": 0,
             "ticks": ""
            },
            "colorscale": [
             [
              0,
              "#0d0887"
             ],
             [
              0.1111111111111111,
              "#46039f"
             ],
             [
              0.2222222222222222,
              "#7201a8"
             ],
             [
              0.3333333333333333,
              "#9c179e"
             ],
             [
              0.4444444444444444,
              "#bd3786"
             ],
             [
              0.5555555555555556,
              "#d8576b"
             ],
             [
              0.6666666666666666,
              "#ed7953"
             ],
             [
              0.7777777777777778,
              "#fb9f3a"
             ],
             [
              0.8888888888888888,
              "#fdca26"
             ],
             [
              1,
              "#f0f921"
             ]
            ],
            "type": "histogram2dcontour"
           }
          ],
          "mesh3d": [
           {
            "colorbar": {
             "outlinewidth": 0,
             "ticks": ""
            },
            "type": "mesh3d"
           }
          ],
          "parcoords": [
           {
            "line": {
             "colorbar": {
              "outlinewidth": 0,
              "ticks": ""
             }
            },
            "type": "parcoords"
           }
          ],
          "pie": [
           {
            "automargin": true,
            "type": "pie"
           }
          ],
          "scatter": [
           {
            "marker": {
             "colorbar": {
              "outlinewidth": 0,
              "ticks": ""
             }
            },
            "type": "scatter"
           }
          ],
          "scatter3d": [
           {
            "line": {
             "colorbar": {
              "outlinewidth": 0,
              "ticks": ""
             }
            },
            "marker": {
             "colorbar": {
              "outlinewidth": 0,
              "ticks": ""
             }
            },
            "type": "scatter3d"
           }
          ],
          "scattercarpet": [
           {
            "marker": {
             "colorbar": {
              "outlinewidth": 0,
              "ticks": ""
             }
            },
            "type": "scattercarpet"
           }
          ],
          "scattergeo": [
           {
            "marker": {
             "colorbar": {
              "outlinewidth": 0,
              "ticks": ""
             }
            },
            "type": "scattergeo"
           }
          ],
          "scattergl": [
           {
            "marker": {
             "colorbar": {
              "outlinewidth": 0,
              "ticks": ""
             }
            },
            "type": "scattergl"
           }
          ],
          "scattermapbox": [
           {
            "marker": {
             "colorbar": {
              "outlinewidth": 0,
              "ticks": ""
             }
            },
            "type": "scattermapbox"
           }
          ],
          "scatterpolar": [
           {
            "marker": {
             "colorbar": {
              "outlinewidth": 0,
              "ticks": ""
             }
            },
            "type": "scatterpolar"
           }
          ],
          "scatterpolargl": [
           {
            "marker": {
             "colorbar": {
              "outlinewidth": 0,
              "ticks": ""
             }
            },
            "type": "scatterpolargl"
           }
          ],
          "scatterternary": [
           {
            "marker": {
             "colorbar": {
              "outlinewidth": 0,
              "ticks": ""
             }
            },
            "type": "scatterternary"
           }
          ],
          "surface": [
           {
            "colorbar": {
             "outlinewidth": 0,
             "ticks": ""
            },
            "colorscale": [
             [
              0,
              "#0d0887"
             ],
             [
              0.1111111111111111,
              "#46039f"
             ],
             [
              0.2222222222222222,
              "#7201a8"
             ],
             [
              0.3333333333333333,
              "#9c179e"
             ],
             [
              0.4444444444444444,
              "#bd3786"
             ],
             [
              0.5555555555555556,
              "#d8576b"
             ],
             [
              0.6666666666666666,
              "#ed7953"
             ],
             [
              0.7777777777777778,
              "#fb9f3a"
             ],
             [
              0.8888888888888888,
              "#fdca26"
             ],
             [
              1,
              "#f0f921"
             ]
            ],
            "type": "surface"
           }
          ],
          "table": [
           {
            "cells": {
             "fill": {
              "color": "#EBF0F8"
             },
             "line": {
              "color": "white"
             }
            },
            "header": {
             "fill": {
              "color": "#C8D4E3"
             },
             "line": {
              "color": "white"
             }
            },
            "type": "table"
           }
          ]
         },
         "layout": {
          "annotationdefaults": {
           "arrowcolor": "#2a3f5f",
           "arrowhead": 0,
           "arrowwidth": 1
          },
          "coloraxis": {
           "colorbar": {
            "outlinewidth": 0,
            "ticks": ""
           }
          },
          "colorscale": {
           "diverging": [
            [
             0,
             "#8e0152"
            ],
            [
             0.1,
             "#c51b7d"
            ],
            [
             0.2,
             "#de77ae"
            ],
            [
             0.3,
             "#f1b6da"
            ],
            [
             0.4,
             "#fde0ef"
            ],
            [
             0.5,
             "#f7f7f7"
            ],
            [
             0.6,
             "#e6f5d0"
            ],
            [
             0.7,
             "#b8e186"
            ],
            [
             0.8,
             "#7fbc41"
            ],
            [
             0.9,
             "#4d9221"
            ],
            [
             1,
             "#276419"
            ]
           ],
           "sequential": [
            [
             0,
             "#0d0887"
            ],
            [
             0.1111111111111111,
             "#46039f"
            ],
            [
             0.2222222222222222,
             "#7201a8"
            ],
            [
             0.3333333333333333,
             "#9c179e"
            ],
            [
             0.4444444444444444,
             "#bd3786"
            ],
            [
             0.5555555555555556,
             "#d8576b"
            ],
            [
             0.6666666666666666,
             "#ed7953"
            ],
            [
             0.7777777777777778,
             "#fb9f3a"
            ],
            [
             0.8888888888888888,
             "#fdca26"
            ],
            [
             1,
             "#f0f921"
            ]
           ],
           "sequentialminus": [
            [
             0,
             "#0d0887"
            ],
            [
             0.1111111111111111,
             "#46039f"
            ],
            [
             0.2222222222222222,
             "#7201a8"
            ],
            [
             0.3333333333333333,
             "#9c179e"
            ],
            [
             0.4444444444444444,
             "#bd3786"
            ],
            [
             0.5555555555555556,
             "#d8576b"
            ],
            [
             0.6666666666666666,
             "#ed7953"
            ],
            [
             0.7777777777777778,
             "#fb9f3a"
            ],
            [
             0.8888888888888888,
             "#fdca26"
            ],
            [
             1,
             "#f0f921"
            ]
           ]
          },
          "colorway": [
           "#636efa",
           "#EF553B",
           "#00cc96",
           "#ab63fa",
           "#FFA15A",
           "#19d3f3",
           "#FF6692",
           "#B6E880",
           "#FF97FF",
           "#FECB52"
          ],
          "font": {
           "color": "#2a3f5f"
          },
          "geo": {
           "bgcolor": "white",
           "lakecolor": "white",
           "landcolor": "#E5ECF6",
           "showlakes": true,
           "showland": true,
           "subunitcolor": "white"
          },
          "hoverlabel": {
           "align": "left"
          },
          "hovermode": "closest",
          "mapbox": {
           "style": "light"
          },
          "paper_bgcolor": "white",
          "plot_bgcolor": "#E5ECF6",
          "polar": {
           "angularaxis": {
            "gridcolor": "white",
            "linecolor": "white",
            "ticks": ""
           },
           "bgcolor": "#E5ECF6",
           "radialaxis": {
            "gridcolor": "white",
            "linecolor": "white",
            "ticks": ""
           }
          },
          "scene": {
           "xaxis": {
            "backgroundcolor": "#E5ECF6",
            "gridcolor": "white",
            "gridwidth": 2,
            "linecolor": "white",
            "showbackground": true,
            "ticks": "",
            "zerolinecolor": "white"
           },
           "yaxis": {
            "backgroundcolor": "#E5ECF6",
            "gridcolor": "white",
            "gridwidth": 2,
            "linecolor": "white",
            "showbackground": true,
            "ticks": "",
            "zerolinecolor": "white"
           },
           "zaxis": {
            "backgroundcolor": "#E5ECF6",
            "gridcolor": "white",
            "gridwidth": 2,
            "linecolor": "white",
            "showbackground": true,
            "ticks": "",
            "zerolinecolor": "white"
           }
          },
          "shapedefaults": {
           "line": {
            "color": "#2a3f5f"
           }
          },
          "ternary": {
           "aaxis": {
            "gridcolor": "white",
            "linecolor": "white",
            "ticks": ""
           },
           "baxis": {
            "gridcolor": "white",
            "linecolor": "white",
            "ticks": ""
           },
           "bgcolor": "#E5ECF6",
           "caxis": {
            "gridcolor": "white",
            "linecolor": "white",
            "ticks": ""
           }
          },
          "title": {
           "x": 0.05
          },
          "xaxis": {
           "automargin": true,
           "gridcolor": "white",
           "linecolor": "white",
           "ticks": "",
           "title": {
            "standoff": 15
           },
           "zerolinecolor": "white",
           "zerolinewidth": 2
          },
          "yaxis": {
           "automargin": true,
           "gridcolor": "white",
           "linecolor": "white",
           "ticks": "",
           "title": {
            "standoff": 15
           },
           "zerolinecolor": "white",
           "zerolinewidth": 2
          }
         }
        },
        "title": {
         "text": "Metin Uzunluğu"
        },
        "xaxis": {
         "anchor": "y",
         "domain": [
          0,
          1
         ],
         "title": {
          "text": "harf_uzunlugu"
         }
        },
        "yaxis": {
         "anchor": "x",
         "domain": [
          0,
          1
         ],
         "title": {
          "text": "count"
         }
        }
       }
      },
      "text/html": [
       "<div>\n",
       "        \n",
       "        \n",
       "            <div id=\"c643676b-9396-4152-9632-323a76e9160c\" class=\"plotly-graph-div\" style=\"height:525px; width:100%;\"></div>\n",
       "            <script type=\"text/javascript\">\n",
       "                require([\"plotly\"], function(Plotly) {\n",
       "                    window.PLOTLYENV=window.PLOTLYENV || {};\n",
       "                    \n",
       "                if (document.getElementById(\"c643676b-9396-4152-9632-323a76e9160c\")) {\n",
       "                    Plotly.newPlot(\n",
       "                        'c643676b-9396-4152-9632-323a76e9160c',\n",
       "                        [{\"alignmentgroup\": \"True\", \"bingroup\": \"x\", \"hoverlabel\": {\"namelength\": 0}, \"hovertemplate\": \"harf_uzunlugu=%{x}<br>count=%{y}\", \"legendgroup\": \"\", \"marker\": {\"color\": \"#636efa\"}, \"name\": \"\", \"nbinsx\": 200, \"offsetgroup\": \"\", \"orientation\": \"v\", \"showlegend\": false, \"type\": \"histogram\", \"x\": [72, 75, 62, 75, 75, 77, 65, 70, 50, 59, 76, 61, 75, 73, 66, 70, 60, 70, 73, 71, 71, 74, 67, 71, 114, 99, 152, 87, 144, 137, 74, 59, 53, 164, 155, 73, 180, 219, 218, 87, 145, 144, 138, 123, 121, 124, 79, 110, 162, 198, 256, 207, 260, 224, 196, 252, 259, 160, 368, 263, 213, 406, 275, 192, 218, 299, 289, 242, 172, 270, 143, 353, 585, 330, 265, 193, 407, 67, 154, 162, 63, 31, 250, 260, 103, 48, 250, 291, 256, 208, 303, 283, 247, 326, 700, 261, 461, 306, 590, 322, 323, 321, 331, 336, 297, 284, 260, 324, 1308, 307, 308, 318, 315, 552, 803, 256, 325, 332, 318, 296, 296, 341, 289, 279, 345, 312, 329, 292, 349, 274, 324, 10, 13, 20, 4, 16, 14, 10, 26, 17, 8, 25, 17, 84, 218, 176, 85, 201, 202, 227, 241, 193, 200, 231, 75, 227, 112, 80, 67, 270, 59, 280, 217, 69, 51, 56, 73, 59, 87, 68, 75, 66, 71, 57, 80, 62, 57, 54, 55, 68, 256, 157, 260, 224, 269, 259, 368, 263, 213, 406, 299, 172, 143, 353, 585, 330, 265, 407, 196, 159, 350, 400, 324, 268, 347, 231, 239, 384, 452, 174, 118, 90, 117, 53, 91, 82, 117, 102, 81, 72], \"xaxis\": \"x\", \"yaxis\": \"y\"}],\n",
       "                        {\"barmode\": \"relative\", \"legend\": {\"tracegroupgap\": 0}, \"template\": {\"data\": {\"bar\": [{\"error_x\": {\"color\": \"#2a3f5f\"}, \"error_y\": {\"color\": \"#2a3f5f\"}, \"marker\": {\"line\": {\"color\": \"#E5ECF6\", \"width\": 0.5}}, \"type\": \"bar\"}], \"barpolar\": [{\"marker\": {\"line\": {\"color\": \"#E5ECF6\", \"width\": 0.5}}, \"type\": \"barpolar\"}], \"carpet\": [{\"aaxis\": {\"endlinecolor\": \"#2a3f5f\", \"gridcolor\": \"white\", \"linecolor\": \"white\", \"minorgridcolor\": \"white\", \"startlinecolor\": \"#2a3f5f\"}, \"baxis\": {\"endlinecolor\": \"#2a3f5f\", \"gridcolor\": \"white\", \"linecolor\": \"white\", \"minorgridcolor\": \"white\", \"startlinecolor\": \"#2a3f5f\"}, \"type\": \"carpet\"}], \"choropleth\": [{\"colorbar\": {\"outlinewidth\": 0, \"ticks\": \"\"}, \"type\": \"choropleth\"}], \"contour\": [{\"colorbar\": {\"outlinewidth\": 0, \"ticks\": \"\"}, \"colorscale\": [[0.0, \"#0d0887\"], [0.1111111111111111, \"#46039f\"], [0.2222222222222222, \"#7201a8\"], [0.3333333333333333, \"#9c179e\"], [0.4444444444444444, \"#bd3786\"], [0.5555555555555556, \"#d8576b\"], [0.6666666666666666, \"#ed7953\"], [0.7777777777777778, \"#fb9f3a\"], [0.8888888888888888, \"#fdca26\"], [1.0, \"#f0f921\"]], \"type\": \"contour\"}], \"contourcarpet\": [{\"colorbar\": {\"outlinewidth\": 0, \"ticks\": \"\"}, \"type\": \"contourcarpet\"}], \"heatmap\": [{\"colorbar\": {\"outlinewidth\": 0, \"ticks\": \"\"}, \"colorscale\": [[0.0, \"#0d0887\"], [0.1111111111111111, \"#46039f\"], [0.2222222222222222, \"#7201a8\"], [0.3333333333333333, \"#9c179e\"], [0.4444444444444444, \"#bd3786\"], [0.5555555555555556, \"#d8576b\"], [0.6666666666666666, \"#ed7953\"], [0.7777777777777778, \"#fb9f3a\"], [0.8888888888888888, \"#fdca26\"], [1.0, \"#f0f921\"]], \"type\": \"heatmap\"}], \"heatmapgl\": [{\"colorbar\": {\"outlinewidth\": 0, \"ticks\": \"\"}, \"colorscale\": [[0.0, \"#0d0887\"], [0.1111111111111111, \"#46039f\"], [0.2222222222222222, \"#7201a8\"], [0.3333333333333333, \"#9c179e\"], [0.4444444444444444, \"#bd3786\"], [0.5555555555555556, \"#d8576b\"], [0.6666666666666666, \"#ed7953\"], [0.7777777777777778, \"#fb9f3a\"], [0.8888888888888888, \"#fdca26\"], [1.0, \"#f0f921\"]], \"type\": \"heatmapgl\"}], \"histogram\": [{\"marker\": {\"colorbar\": {\"outlinewidth\": 0, \"ticks\": \"\"}}, \"type\": \"histogram\"}], \"histogram2d\": [{\"colorbar\": {\"outlinewidth\": 0, \"ticks\": \"\"}, \"colorscale\": [[0.0, \"#0d0887\"], [0.1111111111111111, \"#46039f\"], [0.2222222222222222, \"#7201a8\"], [0.3333333333333333, \"#9c179e\"], [0.4444444444444444, \"#bd3786\"], [0.5555555555555556, \"#d8576b\"], [0.6666666666666666, \"#ed7953\"], [0.7777777777777778, \"#fb9f3a\"], [0.8888888888888888, \"#fdca26\"], [1.0, \"#f0f921\"]], \"type\": \"histogram2d\"}], \"histogram2dcontour\": [{\"colorbar\": {\"outlinewidth\": 0, \"ticks\": \"\"}, \"colorscale\": [[0.0, \"#0d0887\"], [0.1111111111111111, \"#46039f\"], [0.2222222222222222, \"#7201a8\"], [0.3333333333333333, \"#9c179e\"], [0.4444444444444444, \"#bd3786\"], [0.5555555555555556, \"#d8576b\"], [0.6666666666666666, \"#ed7953\"], [0.7777777777777778, \"#fb9f3a\"], [0.8888888888888888, \"#fdca26\"], [1.0, \"#f0f921\"]], \"type\": \"histogram2dcontour\"}], \"mesh3d\": [{\"colorbar\": {\"outlinewidth\": 0, \"ticks\": \"\"}, \"type\": \"mesh3d\"}], \"parcoords\": [{\"line\": {\"colorbar\": {\"outlinewidth\": 0, \"ticks\": \"\"}}, \"type\": \"parcoords\"}], \"pie\": [{\"automargin\": true, \"type\": \"pie\"}], \"scatter\": [{\"marker\": {\"colorbar\": {\"outlinewidth\": 0, \"ticks\": \"\"}}, \"type\": \"scatter\"}], \"scatter3d\": [{\"line\": {\"colorbar\": {\"outlinewidth\": 0, \"ticks\": \"\"}}, \"marker\": {\"colorbar\": {\"outlinewidth\": 0, \"ticks\": \"\"}}, \"type\": \"scatter3d\"}], \"scattercarpet\": [{\"marker\": {\"colorbar\": {\"outlinewidth\": 0, \"ticks\": \"\"}}, \"type\": \"scattercarpet\"}], \"scattergeo\": [{\"marker\": {\"colorbar\": {\"outlinewidth\": 0, \"ticks\": \"\"}}, \"type\": \"scattergeo\"}], \"scattergl\": [{\"marker\": {\"colorbar\": {\"outlinewidth\": 0, \"ticks\": \"\"}}, \"type\": \"scattergl\"}], \"scattermapbox\": [{\"marker\": {\"colorbar\": {\"outlinewidth\": 0, \"ticks\": \"\"}}, \"type\": \"scattermapbox\"}], \"scatterpolar\": [{\"marker\": {\"colorbar\": {\"outlinewidth\": 0, \"ticks\": \"\"}}, \"type\": \"scatterpolar\"}], \"scatterpolargl\": [{\"marker\": {\"colorbar\": {\"outlinewidth\": 0, \"ticks\": \"\"}}, \"type\": \"scatterpolargl\"}], \"scatterternary\": [{\"marker\": {\"colorbar\": {\"outlinewidth\": 0, \"ticks\": \"\"}}, \"type\": \"scatterternary\"}], \"surface\": [{\"colorbar\": {\"outlinewidth\": 0, \"ticks\": \"\"}, \"colorscale\": [[0.0, \"#0d0887\"], [0.1111111111111111, \"#46039f\"], [0.2222222222222222, \"#7201a8\"], [0.3333333333333333, \"#9c179e\"], [0.4444444444444444, \"#bd3786\"], [0.5555555555555556, \"#d8576b\"], [0.6666666666666666, \"#ed7953\"], [0.7777777777777778, \"#fb9f3a\"], [0.8888888888888888, \"#fdca26\"], [1.0, \"#f0f921\"]], \"type\": \"surface\"}], \"table\": [{\"cells\": {\"fill\": {\"color\": \"#EBF0F8\"}, \"line\": {\"color\": \"white\"}}, \"header\": {\"fill\": {\"color\": \"#C8D4E3\"}, \"line\": {\"color\": \"white\"}}, \"type\": \"table\"}]}, \"layout\": {\"annotationdefaults\": {\"arrowcolor\": \"#2a3f5f\", \"arrowhead\": 0, \"arrowwidth\": 1}, \"coloraxis\": {\"colorbar\": {\"outlinewidth\": 0, \"ticks\": \"\"}}, \"colorscale\": {\"diverging\": [[0, \"#8e0152\"], [0.1, \"#c51b7d\"], [0.2, \"#de77ae\"], [0.3, \"#f1b6da\"], [0.4, \"#fde0ef\"], [0.5, \"#f7f7f7\"], [0.6, \"#e6f5d0\"], [0.7, \"#b8e186\"], [0.8, \"#7fbc41\"], [0.9, \"#4d9221\"], [1, \"#276419\"]], \"sequential\": [[0.0, \"#0d0887\"], [0.1111111111111111, \"#46039f\"], [0.2222222222222222, \"#7201a8\"], [0.3333333333333333, \"#9c179e\"], [0.4444444444444444, \"#bd3786\"], [0.5555555555555556, \"#d8576b\"], [0.6666666666666666, \"#ed7953\"], [0.7777777777777778, \"#fb9f3a\"], [0.8888888888888888, \"#fdca26\"], [1.0, \"#f0f921\"]], \"sequentialminus\": [[0.0, \"#0d0887\"], [0.1111111111111111, \"#46039f\"], [0.2222222222222222, \"#7201a8\"], [0.3333333333333333, \"#9c179e\"], [0.4444444444444444, \"#bd3786\"], [0.5555555555555556, \"#d8576b\"], [0.6666666666666666, \"#ed7953\"], [0.7777777777777778, \"#fb9f3a\"], [0.8888888888888888, \"#fdca26\"], [1.0, \"#f0f921\"]]}, \"colorway\": [\"#636efa\", \"#EF553B\", \"#00cc96\", \"#ab63fa\", \"#FFA15A\", \"#19d3f3\", \"#FF6692\", \"#B6E880\", \"#FF97FF\", \"#FECB52\"], \"font\": {\"color\": \"#2a3f5f\"}, \"geo\": {\"bgcolor\": \"white\", \"lakecolor\": \"white\", \"landcolor\": \"#E5ECF6\", \"showlakes\": true, \"showland\": true, \"subunitcolor\": \"white\"}, \"hoverlabel\": {\"align\": \"left\"}, \"hovermode\": \"closest\", \"mapbox\": {\"style\": \"light\"}, \"paper_bgcolor\": \"white\", \"plot_bgcolor\": \"#E5ECF6\", \"polar\": {\"angularaxis\": {\"gridcolor\": \"white\", \"linecolor\": \"white\", \"ticks\": \"\"}, \"bgcolor\": \"#E5ECF6\", \"radialaxis\": {\"gridcolor\": \"white\", \"linecolor\": \"white\", \"ticks\": \"\"}}, \"scene\": {\"xaxis\": {\"backgroundcolor\": \"#E5ECF6\", \"gridcolor\": \"white\", \"gridwidth\": 2, \"linecolor\": \"white\", \"showbackground\": true, \"ticks\": \"\", \"zerolinecolor\": \"white\"}, \"yaxis\": {\"backgroundcolor\": \"#E5ECF6\", \"gridcolor\": \"white\", \"gridwidth\": 2, \"linecolor\": \"white\", \"showbackground\": true, \"ticks\": \"\", \"zerolinecolor\": \"white\"}, \"zaxis\": {\"backgroundcolor\": \"#E5ECF6\", \"gridcolor\": \"white\", \"gridwidth\": 2, \"linecolor\": \"white\", \"showbackground\": true, \"ticks\": \"\", \"zerolinecolor\": \"white\"}}, \"shapedefaults\": {\"line\": {\"color\": \"#2a3f5f\"}}, \"ternary\": {\"aaxis\": {\"gridcolor\": \"white\", \"linecolor\": \"white\", \"ticks\": \"\"}, \"baxis\": {\"gridcolor\": \"white\", \"linecolor\": \"white\", \"ticks\": \"\"}, \"bgcolor\": \"#E5ECF6\", \"caxis\": {\"gridcolor\": \"white\", \"linecolor\": \"white\", \"ticks\": \"\"}}, \"title\": {\"x\": 0.05}, \"xaxis\": {\"automargin\": true, \"gridcolor\": \"white\", \"linecolor\": \"white\", \"ticks\": \"\", \"title\": {\"standoff\": 15}, \"zerolinecolor\": \"white\", \"zerolinewidth\": 2}, \"yaxis\": {\"automargin\": true, \"gridcolor\": \"white\", \"linecolor\": \"white\", \"ticks\": \"\", \"title\": {\"standoff\": 15}, \"zerolinecolor\": \"white\", \"zerolinewidth\": 2}}}, \"title\": {\"text\": \"Metin Uzunlu\\u011fu\"}, \"xaxis\": {\"anchor\": \"y\", \"domain\": [0.0, 1.0], \"title\": {\"text\": \"harf_uzunlugu\"}}, \"yaxis\": {\"anchor\": \"x\", \"domain\": [0.0, 1.0], \"title\": {\"text\": \"count\"}}},\n",
       "                        {\"responsive\": true}\n",
       "                    ).then(function(){\n",
       "                            \n",
       "var gd = document.getElementById('c643676b-9396-4152-9632-323a76e9160c');\n",
       "var x = new MutationObserver(function (mutations, observer) {{\n",
       "        var display = window.getComputedStyle(gd).display;\n",
       "        if (!display || display === 'none') {{\n",
       "            console.log([gd, 'removed!']);\n",
       "            Plotly.purge(gd);\n",
       "            observer.disconnect();\n",
       "        }}\n",
       "}});\n",
       "\n",
       "// Listen for the removal of the full notebook cells\n",
       "var notebookContainer = gd.closest('#notebook-container');\n",
       "if (notebookContainer) {{\n",
       "    x.observe(notebookContainer, {childList: true});\n",
       "}}\n",
       "\n",
       "// Listen for the clearing of the current output cell\n",
       "var outputEl = gd.closest('.output');\n",
       "if (outputEl) {{\n",
       "    x.observe(outputEl, {childList: true});\n",
       "}}\n",
       "\n",
       "                        })\n",
       "                };\n",
       "                });\n",
       "            </script>\n",
       "        </div>"
      ]
     },
     "metadata": {},
     "output_type": "display_data"
    }
   ],
   "source": [
    "fig = px.histogram(data, x=\"harf_uzunlugu\", nbins=200, title='Metin Uzunluğu')\n",
    "fig.show()"
   ]
  },
  {
   "cell_type": "code",
   "execution_count": 157,
   "metadata": {},
   "outputs": [
    {
     "data": {
      "application/vnd.plotly.v1+json": {
       "config": {
        "plotlyServerURL": "https://plot.ly"
       },
       "data": [
        {
         "alignmentgroup": "True",
         "bingroup": "x",
         "hoverlabel": {
          "namelength": 0
         },
         "hovertemplate": "kelime_sayisi=%{x}<br>count=%{y}",
         "legendgroup": "",
         "marker": {
          "color": "#636efa"
         },
         "name": "",
         "nbinsx": 200,
         "offsetgroup": "",
         "orientation": "v",
         "showlegend": false,
         "type": "histogram",
         "x": [
          43,
          34,
          39,
          41,
          25,
          47,
          33,
          47,
          61,
          52,
          36,
          33,
          42,
          26,
          41,
          40,
          55,
          45,
          43,
          20,
          25,
          23,
          23,
          25,
          19,
          19,
          23,
          13,
          21,
          26,
          22,
          28,
          15,
          12,
          22,
          23,
          18,
          12,
          18,
          9,
          25,
          23,
          27,
          19,
          39,
          11,
          41,
          34,
          50,
          30,
          42,
          38,
          25,
          39,
          49,
          57,
          34,
          42,
          32,
          31,
          38,
          83,
          24,
          37,
          56,
          57,
          61,
          31,
          45,
          30,
          20,
          44,
          28,
          55,
          46,
          10,
          7,
          36,
          37,
          42,
          10,
          27,
          46,
          45,
          23,
          43,
          34,
          32,
          41,
          34,
          35,
          40,
          80,
          193,
          43,
          34,
          45,
          82,
          82,
          42,
          44,
          40,
          39,
          33,
          48,
          38,
          40,
          42,
          34,
          34,
          29,
          42,
          35,
          43,
          42,
          44,
          37,
          44,
          39,
          102,
          75,
          77,
          171,
          184,
          175,
          33,
          3,
          3,
          2,
          2,
          1,
          1,
          1,
          1,
          4,
          4,
          1,
          3,
          38,
          11,
          42,
          8,
          41,
          37,
          41,
          25,
          46,
          14,
          39,
          31,
          29,
          39,
          44,
          36,
          24,
          25,
          13,
          40,
          8,
          9,
          6,
          12,
          7,
          8,
          11,
          10,
          13,
          9,
          11,
          16,
          8,
          11,
          11,
          13,
          10,
          39,
          11,
          34,
          50,
          26,
          25,
          49,
          83,
          24,
          56,
          45,
          44,
          41,
          41,
          12,
          31,
          68,
          41,
          26,
          49,
          39,
          41,
          29,
          42,
          38,
          24,
          38,
          23,
          57,
          36,
          17,
          12,
          10,
          10,
          17,
          14,
          11,
          17,
          9,
          20
         ],
         "xaxis": "x",
         "yaxis": "y"
        }
       ],
       "layout": {
        "barmode": "relative",
        "legend": {
         "tracegroupgap": 0
        },
        "template": {
         "data": {
          "bar": [
           {
            "error_x": {
             "color": "#2a3f5f"
            },
            "error_y": {
             "color": "#2a3f5f"
            },
            "marker": {
             "line": {
              "color": "#E5ECF6",
              "width": 0.5
             }
            },
            "type": "bar"
           }
          ],
          "barpolar": [
           {
            "marker": {
             "line": {
              "color": "#E5ECF6",
              "width": 0.5
             }
            },
            "type": "barpolar"
           }
          ],
          "carpet": [
           {
            "aaxis": {
             "endlinecolor": "#2a3f5f",
             "gridcolor": "white",
             "linecolor": "white",
             "minorgridcolor": "white",
             "startlinecolor": "#2a3f5f"
            },
            "baxis": {
             "endlinecolor": "#2a3f5f",
             "gridcolor": "white",
             "linecolor": "white",
             "minorgridcolor": "white",
             "startlinecolor": "#2a3f5f"
            },
            "type": "carpet"
           }
          ],
          "choropleth": [
           {
            "colorbar": {
             "outlinewidth": 0,
             "ticks": ""
            },
            "type": "choropleth"
           }
          ],
          "contour": [
           {
            "colorbar": {
             "outlinewidth": 0,
             "ticks": ""
            },
            "colorscale": [
             [
              0,
              "#0d0887"
             ],
             [
              0.1111111111111111,
              "#46039f"
             ],
             [
              0.2222222222222222,
              "#7201a8"
             ],
             [
              0.3333333333333333,
              "#9c179e"
             ],
             [
              0.4444444444444444,
              "#bd3786"
             ],
             [
              0.5555555555555556,
              "#d8576b"
             ],
             [
              0.6666666666666666,
              "#ed7953"
             ],
             [
              0.7777777777777778,
              "#fb9f3a"
             ],
             [
              0.8888888888888888,
              "#fdca26"
             ],
             [
              1,
              "#f0f921"
             ]
            ],
            "type": "contour"
           }
          ],
          "contourcarpet": [
           {
            "colorbar": {
             "outlinewidth": 0,
             "ticks": ""
            },
            "type": "contourcarpet"
           }
          ],
          "heatmap": [
           {
            "colorbar": {
             "outlinewidth": 0,
             "ticks": ""
            },
            "colorscale": [
             [
              0,
              "#0d0887"
             ],
             [
              0.1111111111111111,
              "#46039f"
             ],
             [
              0.2222222222222222,
              "#7201a8"
             ],
             [
              0.3333333333333333,
              "#9c179e"
             ],
             [
              0.4444444444444444,
              "#bd3786"
             ],
             [
              0.5555555555555556,
              "#d8576b"
             ],
             [
              0.6666666666666666,
              "#ed7953"
             ],
             [
              0.7777777777777778,
              "#fb9f3a"
             ],
             [
              0.8888888888888888,
              "#fdca26"
             ],
             [
              1,
              "#f0f921"
             ]
            ],
            "type": "heatmap"
           }
          ],
          "heatmapgl": [
           {
            "colorbar": {
             "outlinewidth": 0,
             "ticks": ""
            },
            "colorscale": [
             [
              0,
              "#0d0887"
             ],
             [
              0.1111111111111111,
              "#46039f"
             ],
             [
              0.2222222222222222,
              "#7201a8"
             ],
             [
              0.3333333333333333,
              "#9c179e"
             ],
             [
              0.4444444444444444,
              "#bd3786"
             ],
             [
              0.5555555555555556,
              "#d8576b"
             ],
             [
              0.6666666666666666,
              "#ed7953"
             ],
             [
              0.7777777777777778,
              "#fb9f3a"
             ],
             [
              0.8888888888888888,
              "#fdca26"
             ],
             [
              1,
              "#f0f921"
             ]
            ],
            "type": "heatmapgl"
           }
          ],
          "histogram": [
           {
            "marker": {
             "colorbar": {
              "outlinewidth": 0,
              "ticks": ""
             }
            },
            "type": "histogram"
           }
          ],
          "histogram2d": [
           {
            "colorbar": {
             "outlinewidth": 0,
             "ticks": ""
            },
            "colorscale": [
             [
              0,
              "#0d0887"
             ],
             [
              0.1111111111111111,
              "#46039f"
             ],
             [
              0.2222222222222222,
              "#7201a8"
             ],
             [
              0.3333333333333333,
              "#9c179e"
             ],
             [
              0.4444444444444444,
              "#bd3786"
             ],
             [
              0.5555555555555556,
              "#d8576b"
             ],
             [
              0.6666666666666666,
              "#ed7953"
             ],
             [
              0.7777777777777778,
              "#fb9f3a"
             ],
             [
              0.8888888888888888,
              "#fdca26"
             ],
             [
              1,
              "#f0f921"
             ]
            ],
            "type": "histogram2d"
           }
          ],
          "histogram2dcontour": [
           {
            "colorbar": {
             "outlinewidth": 0,
             "ticks": ""
            },
            "colorscale": [
             [
              0,
              "#0d0887"
             ],
             [
              0.1111111111111111,
              "#46039f"
             ],
             [
              0.2222222222222222,
              "#7201a8"
             ],
             [
              0.3333333333333333,
              "#9c179e"
             ],
             [
              0.4444444444444444,
              "#bd3786"
             ],
             [
              0.5555555555555556,
              "#d8576b"
             ],
             [
              0.6666666666666666,
              "#ed7953"
             ],
             [
              0.7777777777777778,
              "#fb9f3a"
             ],
             [
              0.8888888888888888,
              "#fdca26"
             ],
             [
              1,
              "#f0f921"
             ]
            ],
            "type": "histogram2dcontour"
           }
          ],
          "mesh3d": [
           {
            "colorbar": {
             "outlinewidth": 0,
             "ticks": ""
            },
            "type": "mesh3d"
           }
          ],
          "parcoords": [
           {
            "line": {
             "colorbar": {
              "outlinewidth": 0,
              "ticks": ""
             }
            },
            "type": "parcoords"
           }
          ],
          "pie": [
           {
            "automargin": true,
            "type": "pie"
           }
          ],
          "scatter": [
           {
            "marker": {
             "colorbar": {
              "outlinewidth": 0,
              "ticks": ""
             }
            },
            "type": "scatter"
           }
          ],
          "scatter3d": [
           {
            "line": {
             "colorbar": {
              "outlinewidth": 0,
              "ticks": ""
             }
            },
            "marker": {
             "colorbar": {
              "outlinewidth": 0,
              "ticks": ""
             }
            },
            "type": "scatter3d"
           }
          ],
          "scattercarpet": [
           {
            "marker": {
             "colorbar": {
              "outlinewidth": 0,
              "ticks": ""
             }
            },
            "type": "scattercarpet"
           }
          ],
          "scattergeo": [
           {
            "marker": {
             "colorbar": {
              "outlinewidth": 0,
              "ticks": ""
             }
            },
            "type": "scattergeo"
           }
          ],
          "scattergl": [
           {
            "marker": {
             "colorbar": {
              "outlinewidth": 0,
              "ticks": ""
             }
            },
            "type": "scattergl"
           }
          ],
          "scattermapbox": [
           {
            "marker": {
             "colorbar": {
              "outlinewidth": 0,
              "ticks": ""
             }
            },
            "type": "scattermapbox"
           }
          ],
          "scatterpolar": [
           {
            "marker": {
             "colorbar": {
              "outlinewidth": 0,
              "ticks": ""
             }
            },
            "type": "scatterpolar"
           }
          ],
          "scatterpolargl": [
           {
            "marker": {
             "colorbar": {
              "outlinewidth": 0,
              "ticks": ""
             }
            },
            "type": "scatterpolargl"
           }
          ],
          "scatterternary": [
           {
            "marker": {
             "colorbar": {
              "outlinewidth": 0,
              "ticks": ""
             }
            },
            "type": "scatterternary"
           }
          ],
          "surface": [
           {
            "colorbar": {
             "outlinewidth": 0,
             "ticks": ""
            },
            "colorscale": [
             [
              0,
              "#0d0887"
             ],
             [
              0.1111111111111111,
              "#46039f"
             ],
             [
              0.2222222222222222,
              "#7201a8"
             ],
             [
              0.3333333333333333,
              "#9c179e"
             ],
             [
              0.4444444444444444,
              "#bd3786"
             ],
             [
              0.5555555555555556,
              "#d8576b"
             ],
             [
              0.6666666666666666,
              "#ed7953"
             ],
             [
              0.7777777777777778,
              "#fb9f3a"
             ],
             [
              0.8888888888888888,
              "#fdca26"
             ],
             [
              1,
              "#f0f921"
             ]
            ],
            "type": "surface"
           }
          ],
          "table": [
           {
            "cells": {
             "fill": {
              "color": "#EBF0F8"
             },
             "line": {
              "color": "white"
             }
            },
            "header": {
             "fill": {
              "color": "#C8D4E3"
             },
             "line": {
              "color": "white"
             }
            },
            "type": "table"
           }
          ]
         },
         "layout": {
          "annotationdefaults": {
           "arrowcolor": "#2a3f5f",
           "arrowhead": 0,
           "arrowwidth": 1
          },
          "coloraxis": {
           "colorbar": {
            "outlinewidth": 0,
            "ticks": ""
           }
          },
          "colorscale": {
           "diverging": [
            [
             0,
             "#8e0152"
            ],
            [
             0.1,
             "#c51b7d"
            ],
            [
             0.2,
             "#de77ae"
            ],
            [
             0.3,
             "#f1b6da"
            ],
            [
             0.4,
             "#fde0ef"
            ],
            [
             0.5,
             "#f7f7f7"
            ],
            [
             0.6,
             "#e6f5d0"
            ],
            [
             0.7,
             "#b8e186"
            ],
            [
             0.8,
             "#7fbc41"
            ],
            [
             0.9,
             "#4d9221"
            ],
            [
             1,
             "#276419"
            ]
           ],
           "sequential": [
            [
             0,
             "#0d0887"
            ],
            [
             0.1111111111111111,
             "#46039f"
            ],
            [
             0.2222222222222222,
             "#7201a8"
            ],
            [
             0.3333333333333333,
             "#9c179e"
            ],
            [
             0.4444444444444444,
             "#bd3786"
            ],
            [
             0.5555555555555556,
             "#d8576b"
            ],
            [
             0.6666666666666666,
             "#ed7953"
            ],
            [
             0.7777777777777778,
             "#fb9f3a"
            ],
            [
             0.8888888888888888,
             "#fdca26"
            ],
            [
             1,
             "#f0f921"
            ]
           ],
           "sequentialminus": [
            [
             0,
             "#0d0887"
            ],
            [
             0.1111111111111111,
             "#46039f"
            ],
            [
             0.2222222222222222,
             "#7201a8"
            ],
            [
             0.3333333333333333,
             "#9c179e"
            ],
            [
             0.4444444444444444,
             "#bd3786"
            ],
            [
             0.5555555555555556,
             "#d8576b"
            ],
            [
             0.6666666666666666,
             "#ed7953"
            ],
            [
             0.7777777777777778,
             "#fb9f3a"
            ],
            [
             0.8888888888888888,
             "#fdca26"
            ],
            [
             1,
             "#f0f921"
            ]
           ]
          },
          "colorway": [
           "#636efa",
           "#EF553B",
           "#00cc96",
           "#ab63fa",
           "#FFA15A",
           "#19d3f3",
           "#FF6692",
           "#B6E880",
           "#FF97FF",
           "#FECB52"
          ],
          "font": {
           "color": "#2a3f5f"
          },
          "geo": {
           "bgcolor": "white",
           "lakecolor": "white",
           "landcolor": "#E5ECF6",
           "showlakes": true,
           "showland": true,
           "subunitcolor": "white"
          },
          "hoverlabel": {
           "align": "left"
          },
          "hovermode": "closest",
          "mapbox": {
           "style": "light"
          },
          "paper_bgcolor": "white",
          "plot_bgcolor": "#E5ECF6",
          "polar": {
           "angularaxis": {
            "gridcolor": "white",
            "linecolor": "white",
            "ticks": ""
           },
           "bgcolor": "#E5ECF6",
           "radialaxis": {
            "gridcolor": "white",
            "linecolor": "white",
            "ticks": ""
           }
          },
          "scene": {
           "xaxis": {
            "backgroundcolor": "#E5ECF6",
            "gridcolor": "white",
            "gridwidth": 2,
            "linecolor": "white",
            "showbackground": true,
            "ticks": "",
            "zerolinecolor": "white"
           },
           "yaxis": {
            "backgroundcolor": "#E5ECF6",
            "gridcolor": "white",
            "gridwidth": 2,
            "linecolor": "white",
            "showbackground": true,
            "ticks": "",
            "zerolinecolor": "white"
           },
           "zaxis": {
            "backgroundcolor": "#E5ECF6",
            "gridcolor": "white",
            "gridwidth": 2,
            "linecolor": "white",
            "showbackground": true,
            "ticks": "",
            "zerolinecolor": "white"
           }
          },
          "shapedefaults": {
           "line": {
            "color": "#2a3f5f"
           }
          },
          "ternary": {
           "aaxis": {
            "gridcolor": "white",
            "linecolor": "white",
            "ticks": ""
           },
           "baxis": {
            "gridcolor": "white",
            "linecolor": "white",
            "ticks": ""
           },
           "bgcolor": "#E5ECF6",
           "caxis": {
            "gridcolor": "white",
            "linecolor": "white",
            "ticks": ""
           }
          },
          "title": {
           "x": 0.05
          },
          "xaxis": {
           "automargin": true,
           "gridcolor": "white",
           "linecolor": "white",
           "ticks": "",
           "title": {
            "standoff": 15
           },
           "zerolinecolor": "white",
           "zerolinewidth": 2
          },
          "yaxis": {
           "automargin": true,
           "gridcolor": "white",
           "linecolor": "white",
           "ticks": "",
           "title": {
            "standoff": 15
           },
           "zerolinecolor": "white",
           "zerolinewidth": 2
          }
         }
        },
        "title": {
         "text": "Kelime Sayısı"
        },
        "xaxis": {
         "anchor": "y",
         "domain": [
          0,
          1
         ],
         "title": {
          "text": "kelime_sayisi"
         }
        },
        "yaxis": {
         "anchor": "x",
         "domain": [
          0,
          1
         ],
         "title": {
          "text": "count"
         }
        }
       }
      },
      "text/html": [
       "<div>\n",
       "        \n",
       "        \n",
       "            <div id=\"1a939a56-f006-4cd2-87c5-e0eb06e3bec5\" class=\"plotly-graph-div\" style=\"height:525px; width:100%;\"></div>\n",
       "            <script type=\"text/javascript\">\n",
       "                require([\"plotly\"], function(Plotly) {\n",
       "                    window.PLOTLYENV=window.PLOTLYENV || {};\n",
       "                    \n",
       "                if (document.getElementById(\"1a939a56-f006-4cd2-87c5-e0eb06e3bec5\")) {\n",
       "                    Plotly.newPlot(\n",
       "                        '1a939a56-f006-4cd2-87c5-e0eb06e3bec5',\n",
       "                        [{\"alignmentgroup\": \"True\", \"bingroup\": \"x\", \"hoverlabel\": {\"namelength\": 0}, \"hovertemplate\": \"kelime_sayisi=%{x}<br>count=%{y}\", \"legendgroup\": \"\", \"marker\": {\"color\": \"#636efa\"}, \"name\": \"\", \"nbinsx\": 200, \"offsetgroup\": \"\", \"orientation\": \"v\", \"showlegend\": false, \"type\": \"histogram\", \"x\": [43, 34, 39, 41, 25, 47, 33, 47, 61, 52, 36, 33, 42, 26, 41, 40, 55, 45, 43, 20, 25, 23, 23, 25, 19, 19, 23, 13, 21, 26, 22, 28, 15, 12, 22, 23, 18, 12, 18, 9, 25, 23, 27, 19, 39, 11, 41, 34, 50, 30, 42, 38, 25, 39, 49, 57, 34, 42, 32, 31, 38, 83, 24, 37, 56, 57, 61, 31, 45, 30, 20, 44, 28, 55, 46, 10, 7, 36, 37, 42, 10, 27, 46, 45, 23, 43, 34, 32, 41, 34, 35, 40, 80, 193, 43, 34, 45, 82, 82, 42, 44, 40, 39, 33, 48, 38, 40, 42, 34, 34, 29, 42, 35, 43, 42, 44, 37, 44, 39, 102, 75, 77, 171, 184, 175, 33, 3, 3, 2, 2, 1, 1, 1, 1, 4, 4, 1, 3, 38, 11, 42, 8, 41, 37, 41, 25, 46, 14, 39, 31, 29, 39, 44, 36, 24, 25, 13, 40, 8, 9, 6, 12, 7, 8, 11, 10, 13, 9, 11, 16, 8, 11, 11, 13, 10, 39, 11, 34, 50, 26, 25, 49, 83, 24, 56, 45, 44, 41, 41, 12, 31, 68, 41, 26, 49, 39, 41, 29, 42, 38, 24, 38, 23, 57, 36, 17, 12, 10, 10, 17, 14, 11, 17, 9, 20], \"xaxis\": \"x\", \"yaxis\": \"y\"}],\n",
       "                        {\"barmode\": \"relative\", \"legend\": {\"tracegroupgap\": 0}, \"template\": {\"data\": {\"bar\": [{\"error_x\": {\"color\": \"#2a3f5f\"}, \"error_y\": {\"color\": \"#2a3f5f\"}, \"marker\": {\"line\": {\"color\": \"#E5ECF6\", \"width\": 0.5}}, \"type\": \"bar\"}], \"barpolar\": [{\"marker\": {\"line\": {\"color\": \"#E5ECF6\", \"width\": 0.5}}, \"type\": \"barpolar\"}], \"carpet\": [{\"aaxis\": {\"endlinecolor\": \"#2a3f5f\", \"gridcolor\": \"white\", \"linecolor\": \"white\", \"minorgridcolor\": \"white\", \"startlinecolor\": \"#2a3f5f\"}, \"baxis\": {\"endlinecolor\": \"#2a3f5f\", \"gridcolor\": \"white\", \"linecolor\": \"white\", \"minorgridcolor\": \"white\", \"startlinecolor\": \"#2a3f5f\"}, \"type\": \"carpet\"}], \"choropleth\": [{\"colorbar\": {\"outlinewidth\": 0, \"ticks\": \"\"}, \"type\": \"choropleth\"}], \"contour\": [{\"colorbar\": {\"outlinewidth\": 0, \"ticks\": \"\"}, \"colorscale\": [[0.0, \"#0d0887\"], [0.1111111111111111, \"#46039f\"], [0.2222222222222222, \"#7201a8\"], [0.3333333333333333, \"#9c179e\"], [0.4444444444444444, \"#bd3786\"], [0.5555555555555556, \"#d8576b\"], [0.6666666666666666, \"#ed7953\"], [0.7777777777777778, \"#fb9f3a\"], [0.8888888888888888, \"#fdca26\"], [1.0, \"#f0f921\"]], \"type\": \"contour\"}], \"contourcarpet\": [{\"colorbar\": {\"outlinewidth\": 0, \"ticks\": \"\"}, \"type\": \"contourcarpet\"}], \"heatmap\": [{\"colorbar\": {\"outlinewidth\": 0, \"ticks\": \"\"}, \"colorscale\": [[0.0, \"#0d0887\"], [0.1111111111111111, \"#46039f\"], [0.2222222222222222, \"#7201a8\"], [0.3333333333333333, \"#9c179e\"], [0.4444444444444444, \"#bd3786\"], [0.5555555555555556, \"#d8576b\"], [0.6666666666666666, \"#ed7953\"], [0.7777777777777778, \"#fb9f3a\"], [0.8888888888888888, \"#fdca26\"], [1.0, \"#f0f921\"]], \"type\": \"heatmap\"}], \"heatmapgl\": [{\"colorbar\": {\"outlinewidth\": 0, \"ticks\": \"\"}, \"colorscale\": [[0.0, \"#0d0887\"], [0.1111111111111111, \"#46039f\"], [0.2222222222222222, \"#7201a8\"], [0.3333333333333333, \"#9c179e\"], [0.4444444444444444, \"#bd3786\"], [0.5555555555555556, \"#d8576b\"], [0.6666666666666666, \"#ed7953\"], [0.7777777777777778, \"#fb9f3a\"], [0.8888888888888888, \"#fdca26\"], [1.0, \"#f0f921\"]], \"type\": \"heatmapgl\"}], \"histogram\": [{\"marker\": {\"colorbar\": {\"outlinewidth\": 0, \"ticks\": \"\"}}, \"type\": \"histogram\"}], \"histogram2d\": [{\"colorbar\": {\"outlinewidth\": 0, \"ticks\": \"\"}, \"colorscale\": [[0.0, \"#0d0887\"], [0.1111111111111111, \"#46039f\"], [0.2222222222222222, \"#7201a8\"], [0.3333333333333333, \"#9c179e\"], [0.4444444444444444, \"#bd3786\"], [0.5555555555555556, \"#d8576b\"], [0.6666666666666666, \"#ed7953\"], [0.7777777777777778, \"#fb9f3a\"], [0.8888888888888888, \"#fdca26\"], [1.0, \"#f0f921\"]], \"type\": \"histogram2d\"}], \"histogram2dcontour\": [{\"colorbar\": {\"outlinewidth\": 0, \"ticks\": \"\"}, \"colorscale\": [[0.0, \"#0d0887\"], [0.1111111111111111, \"#46039f\"], [0.2222222222222222, \"#7201a8\"], [0.3333333333333333, \"#9c179e\"], [0.4444444444444444, \"#bd3786\"], [0.5555555555555556, \"#d8576b\"], [0.6666666666666666, \"#ed7953\"], [0.7777777777777778, \"#fb9f3a\"], [0.8888888888888888, \"#fdca26\"], [1.0, \"#f0f921\"]], \"type\": \"histogram2dcontour\"}], \"mesh3d\": [{\"colorbar\": {\"outlinewidth\": 0, \"ticks\": \"\"}, \"type\": \"mesh3d\"}], \"parcoords\": [{\"line\": {\"colorbar\": {\"outlinewidth\": 0, \"ticks\": \"\"}}, \"type\": \"parcoords\"}], \"pie\": [{\"automargin\": true, \"type\": \"pie\"}], \"scatter\": [{\"marker\": {\"colorbar\": {\"outlinewidth\": 0, \"ticks\": \"\"}}, \"type\": \"scatter\"}], \"scatter3d\": [{\"line\": {\"colorbar\": {\"outlinewidth\": 0, \"ticks\": \"\"}}, \"marker\": {\"colorbar\": {\"outlinewidth\": 0, \"ticks\": \"\"}}, \"type\": \"scatter3d\"}], \"scattercarpet\": [{\"marker\": {\"colorbar\": {\"outlinewidth\": 0, \"ticks\": \"\"}}, \"type\": \"scattercarpet\"}], \"scattergeo\": [{\"marker\": {\"colorbar\": {\"outlinewidth\": 0, \"ticks\": \"\"}}, \"type\": \"scattergeo\"}], \"scattergl\": [{\"marker\": {\"colorbar\": {\"outlinewidth\": 0, \"ticks\": \"\"}}, \"type\": \"scattergl\"}], \"scattermapbox\": [{\"marker\": {\"colorbar\": {\"outlinewidth\": 0, \"ticks\": \"\"}}, \"type\": \"scattermapbox\"}], \"scatterpolar\": [{\"marker\": {\"colorbar\": {\"outlinewidth\": 0, \"ticks\": \"\"}}, \"type\": \"scatterpolar\"}], \"scatterpolargl\": [{\"marker\": {\"colorbar\": {\"outlinewidth\": 0, \"ticks\": \"\"}}, \"type\": \"scatterpolargl\"}], \"scatterternary\": [{\"marker\": {\"colorbar\": {\"outlinewidth\": 0, \"ticks\": \"\"}}, \"type\": \"scatterternary\"}], \"surface\": [{\"colorbar\": {\"outlinewidth\": 0, \"ticks\": \"\"}, \"colorscale\": [[0.0, \"#0d0887\"], [0.1111111111111111, \"#46039f\"], [0.2222222222222222, \"#7201a8\"], [0.3333333333333333, \"#9c179e\"], [0.4444444444444444, \"#bd3786\"], [0.5555555555555556, \"#d8576b\"], [0.6666666666666666, \"#ed7953\"], [0.7777777777777778, \"#fb9f3a\"], [0.8888888888888888, \"#fdca26\"], [1.0, \"#f0f921\"]], \"type\": \"surface\"}], \"table\": [{\"cells\": {\"fill\": {\"color\": \"#EBF0F8\"}, \"line\": {\"color\": \"white\"}}, \"header\": {\"fill\": {\"color\": \"#C8D4E3\"}, \"line\": {\"color\": \"white\"}}, \"type\": \"table\"}]}, \"layout\": {\"annotationdefaults\": {\"arrowcolor\": \"#2a3f5f\", \"arrowhead\": 0, \"arrowwidth\": 1}, \"coloraxis\": {\"colorbar\": {\"outlinewidth\": 0, \"ticks\": \"\"}}, \"colorscale\": {\"diverging\": [[0, \"#8e0152\"], [0.1, \"#c51b7d\"], [0.2, \"#de77ae\"], [0.3, \"#f1b6da\"], [0.4, \"#fde0ef\"], [0.5, \"#f7f7f7\"], [0.6, \"#e6f5d0\"], [0.7, \"#b8e186\"], [0.8, \"#7fbc41\"], [0.9, \"#4d9221\"], [1, \"#276419\"]], \"sequential\": [[0.0, \"#0d0887\"], [0.1111111111111111, \"#46039f\"], [0.2222222222222222, \"#7201a8\"], [0.3333333333333333, \"#9c179e\"], [0.4444444444444444, \"#bd3786\"], [0.5555555555555556, \"#d8576b\"], [0.6666666666666666, \"#ed7953\"], [0.7777777777777778, \"#fb9f3a\"], [0.8888888888888888, \"#fdca26\"], [1.0, \"#f0f921\"]], \"sequentialminus\": [[0.0, \"#0d0887\"], [0.1111111111111111, \"#46039f\"], [0.2222222222222222, \"#7201a8\"], [0.3333333333333333, \"#9c179e\"], [0.4444444444444444, \"#bd3786\"], [0.5555555555555556, \"#d8576b\"], [0.6666666666666666, \"#ed7953\"], [0.7777777777777778, \"#fb9f3a\"], [0.8888888888888888, \"#fdca26\"], [1.0, \"#f0f921\"]]}, \"colorway\": [\"#636efa\", \"#EF553B\", \"#00cc96\", \"#ab63fa\", \"#FFA15A\", \"#19d3f3\", \"#FF6692\", \"#B6E880\", \"#FF97FF\", \"#FECB52\"], \"font\": {\"color\": \"#2a3f5f\"}, \"geo\": {\"bgcolor\": \"white\", \"lakecolor\": \"white\", \"landcolor\": \"#E5ECF6\", \"showlakes\": true, \"showland\": true, \"subunitcolor\": \"white\"}, \"hoverlabel\": {\"align\": \"left\"}, \"hovermode\": \"closest\", \"mapbox\": {\"style\": \"light\"}, \"paper_bgcolor\": \"white\", \"plot_bgcolor\": \"#E5ECF6\", \"polar\": {\"angularaxis\": {\"gridcolor\": \"white\", \"linecolor\": \"white\", \"ticks\": \"\"}, \"bgcolor\": \"#E5ECF6\", \"radialaxis\": {\"gridcolor\": \"white\", \"linecolor\": \"white\", \"ticks\": \"\"}}, \"scene\": {\"xaxis\": {\"backgroundcolor\": \"#E5ECF6\", \"gridcolor\": \"white\", \"gridwidth\": 2, \"linecolor\": \"white\", \"showbackground\": true, \"ticks\": \"\", \"zerolinecolor\": \"white\"}, \"yaxis\": {\"backgroundcolor\": \"#E5ECF6\", \"gridcolor\": \"white\", \"gridwidth\": 2, \"linecolor\": \"white\", \"showbackground\": true, \"ticks\": \"\", \"zerolinecolor\": \"white\"}, \"zaxis\": {\"backgroundcolor\": \"#E5ECF6\", \"gridcolor\": \"white\", \"gridwidth\": 2, \"linecolor\": \"white\", \"showbackground\": true, \"ticks\": \"\", \"zerolinecolor\": \"white\"}}, \"shapedefaults\": {\"line\": {\"color\": \"#2a3f5f\"}}, \"ternary\": {\"aaxis\": {\"gridcolor\": \"white\", \"linecolor\": \"white\", \"ticks\": \"\"}, \"baxis\": {\"gridcolor\": \"white\", \"linecolor\": \"white\", \"ticks\": \"\"}, \"bgcolor\": \"#E5ECF6\", \"caxis\": {\"gridcolor\": \"white\", \"linecolor\": \"white\", \"ticks\": \"\"}}, \"title\": {\"x\": 0.05}, \"xaxis\": {\"automargin\": true, \"gridcolor\": \"white\", \"linecolor\": \"white\", \"ticks\": \"\", \"title\": {\"standoff\": 15}, \"zerolinecolor\": \"white\", \"zerolinewidth\": 2}, \"yaxis\": {\"automargin\": true, \"gridcolor\": \"white\", \"linecolor\": \"white\", \"ticks\": \"\", \"title\": {\"standoff\": 15}, \"zerolinecolor\": \"white\", \"zerolinewidth\": 2}}}, \"title\": {\"text\": \"Kelime Say\\u0131s\\u0131\"}, \"xaxis\": {\"anchor\": \"y\", \"domain\": [0.0, 1.0], \"title\": {\"text\": \"kelime_sayisi\"}}, \"yaxis\": {\"anchor\": \"x\", \"domain\": [0.0, 1.0], \"title\": {\"text\": \"count\"}}},\n",
       "                        {\"responsive\": true}\n",
       "                    ).then(function(){\n",
       "                            \n",
       "var gd = document.getElementById('1a939a56-f006-4cd2-87c5-e0eb06e3bec5');\n",
       "var x = new MutationObserver(function (mutations, observer) {{\n",
       "        var display = window.getComputedStyle(gd).display;\n",
       "        if (!display || display === 'none') {{\n",
       "            console.log([gd, 'removed!']);\n",
       "            Plotly.purge(gd);\n",
       "            observer.disconnect();\n",
       "        }}\n",
       "}});\n",
       "\n",
       "// Listen for the removal of the full notebook cells\n",
       "var notebookContainer = gd.closest('#notebook-container');\n",
       "if (notebookContainer) {{\n",
       "    x.observe(notebookContainer, {childList: true});\n",
       "}}\n",
       "\n",
       "// Listen for the clearing of the current output cell\n",
       "var outputEl = gd.closest('.output');\n",
       "if (outputEl) {{\n",
       "    x.observe(outputEl, {childList: true});\n",
       "}}\n",
       "\n",
       "                        })\n",
       "                };\n",
       "                });\n",
       "            </script>\n",
       "        </div>"
      ]
     },
     "metadata": {},
     "output_type": "display_data"
    }
   ],
   "source": [
    "fig = px.histogram(data, x=\"kelime_sayisi\", nbins=200, title='Kelime Sayısı')\n",
    "fig.show()"
   ]
  },
  {
   "cell_type": "code",
   "execution_count": 181,
   "metadata": {},
   "outputs": [
    {
     "data": {
      "application/vnd.plotly.v1+json": {
       "config": {
        "plotlyServerURL": "https://plot.ly"
       },
       "data": [
        {
         "alignmentgroup": "True",
         "customdata": [
          [
           "de",
           417
          ],
          [
           "het",
           208
          ],
          [
           "van",
           202
          ],
          [
           "in",
           187
          ],
          [
           "een",
           180
          ],
          [
           "en",
           138
          ],
          [
           "voor",
           97
          ],
          [
           "is",
           87
          ],
          [
           "op",
           82
          ],
          [
           "te",
           81
          ],
          [
           "zijn",
           78
          ],
          [
           "dat",
           73
          ],
          [
           "met",
           73
          ],
          [
           "die",
           58
          ],
          [
           "om",
           54
          ],
          [
           "er",
           49
          ],
          [
           "uit",
           48
          ],
          [
           "heeft",
           48
          ],
          [
           "aan",
           41
          ],
          [
           "img",
           40
          ],
          [
           "src",
           40
          ],
          [
           "tweakers",
           40
          ],
          [
           "mixed",
           40
          ],
          [
           "height",
           40
          ],
          [
           "width",
           40
          ]
         ],
         "hoverlabel": {
          "namelength": 0
         },
         "hovertemplate": "kelime=%{customdata[0]}<br>geçiş frekansı=%{marker.color}",
         "legendgroup": "",
         "marker": {
          "color": [
           417,
           208,
           202,
           187,
           180,
           138,
           97,
           87,
           82,
           81,
           78,
           73,
           73,
           58,
           54,
           49,
           48,
           48,
           41,
           40,
           40,
           40,
           40,
           40,
           40
          ],
          "coloraxis": "coloraxis"
         },
         "name": "",
         "offsetgroup": "",
         "orientation": "v",
         "showlegend": false,
         "textposition": "auto",
         "type": "bar",
         "x": [
          "de",
          "het",
          "van",
          "in",
          "een",
          "en",
          "voor",
          "is",
          "op",
          "te",
          "zijn",
          "dat",
          "met",
          "die",
          "om",
          "er",
          "uit",
          "heeft",
          "aan",
          "img",
          "src",
          "tweakers",
          "mixed",
          "height",
          "width"
         ],
         "xaxis": "x",
         "y": [
          417,
          208,
          202,
          187,
          180,
          138,
          97,
          87,
          82,
          81,
          78,
          73,
          73,
          58,
          54,
          49,
          48,
          48,
          41,
          40,
          40,
          40,
          40,
          40,
          40
         ],
         "yaxis": "y"
        }
       ],
       "layout": {
        "barmode": "relative",
        "coloraxis": {
         "colorbar": {
          "title": {
           "text": "geçiş frekansı"
          }
         },
         "colorscale": [
          [
           0,
           "#0d0887"
          ],
          [
           0.1111111111111111,
           "#46039f"
          ],
          [
           0.2222222222222222,
           "#7201a8"
          ],
          [
           0.3333333333333333,
           "#9c179e"
          ],
          [
           0.4444444444444444,
           "#bd3786"
          ],
          [
           0.5555555555555556,
           "#d8576b"
          ],
          [
           0.6666666666666666,
           "#ed7953"
          ],
          [
           0.7777777777777778,
           "#fb9f3a"
          ],
          [
           0.8888888888888888,
           "#fdca26"
          ],
          [
           1,
           "#f0f921"
          ]
         ]
        },
        "height": 400,
        "legend": {
         "tracegroupgap": 0
        },
        "template": {
         "data": {
          "bar": [
           {
            "error_x": {
             "color": "#2a3f5f"
            },
            "error_y": {
             "color": "#2a3f5f"
            },
            "marker": {
             "line": {
              "color": "#E5ECF6",
              "width": 0.5
             }
            },
            "type": "bar"
           }
          ],
          "barpolar": [
           {
            "marker": {
             "line": {
              "color": "#E5ECF6",
              "width": 0.5
             }
            },
            "type": "barpolar"
           }
          ],
          "carpet": [
           {
            "aaxis": {
             "endlinecolor": "#2a3f5f",
             "gridcolor": "white",
             "linecolor": "white",
             "minorgridcolor": "white",
             "startlinecolor": "#2a3f5f"
            },
            "baxis": {
             "endlinecolor": "#2a3f5f",
             "gridcolor": "white",
             "linecolor": "white",
             "minorgridcolor": "white",
             "startlinecolor": "#2a3f5f"
            },
            "type": "carpet"
           }
          ],
          "choropleth": [
           {
            "colorbar": {
             "outlinewidth": 0,
             "ticks": ""
            },
            "type": "choropleth"
           }
          ],
          "contour": [
           {
            "colorbar": {
             "outlinewidth": 0,
             "ticks": ""
            },
            "colorscale": [
             [
              0,
              "#0d0887"
             ],
             [
              0.1111111111111111,
              "#46039f"
             ],
             [
              0.2222222222222222,
              "#7201a8"
             ],
             [
              0.3333333333333333,
              "#9c179e"
             ],
             [
              0.4444444444444444,
              "#bd3786"
             ],
             [
              0.5555555555555556,
              "#d8576b"
             ],
             [
              0.6666666666666666,
              "#ed7953"
             ],
             [
              0.7777777777777778,
              "#fb9f3a"
             ],
             [
              0.8888888888888888,
              "#fdca26"
             ],
             [
              1,
              "#f0f921"
             ]
            ],
            "type": "contour"
           }
          ],
          "contourcarpet": [
           {
            "colorbar": {
             "outlinewidth": 0,
             "ticks": ""
            },
            "type": "contourcarpet"
           }
          ],
          "heatmap": [
           {
            "colorbar": {
             "outlinewidth": 0,
             "ticks": ""
            },
            "colorscale": [
             [
              0,
              "#0d0887"
             ],
             [
              0.1111111111111111,
              "#46039f"
             ],
             [
              0.2222222222222222,
              "#7201a8"
             ],
             [
              0.3333333333333333,
              "#9c179e"
             ],
             [
              0.4444444444444444,
              "#bd3786"
             ],
             [
              0.5555555555555556,
              "#d8576b"
             ],
             [
              0.6666666666666666,
              "#ed7953"
             ],
             [
              0.7777777777777778,
              "#fb9f3a"
             ],
             [
              0.8888888888888888,
              "#fdca26"
             ],
             [
              1,
              "#f0f921"
             ]
            ],
            "type": "heatmap"
           }
          ],
          "heatmapgl": [
           {
            "colorbar": {
             "outlinewidth": 0,
             "ticks": ""
            },
            "colorscale": [
             [
              0,
              "#0d0887"
             ],
             [
              0.1111111111111111,
              "#46039f"
             ],
             [
              0.2222222222222222,
              "#7201a8"
             ],
             [
              0.3333333333333333,
              "#9c179e"
             ],
             [
              0.4444444444444444,
              "#bd3786"
             ],
             [
              0.5555555555555556,
              "#d8576b"
             ],
             [
              0.6666666666666666,
              "#ed7953"
             ],
             [
              0.7777777777777778,
              "#fb9f3a"
             ],
             [
              0.8888888888888888,
              "#fdca26"
             ],
             [
              1,
              "#f0f921"
             ]
            ],
            "type": "heatmapgl"
           }
          ],
          "histogram": [
           {
            "marker": {
             "colorbar": {
              "outlinewidth": 0,
              "ticks": ""
             }
            },
            "type": "histogram"
           }
          ],
          "histogram2d": [
           {
            "colorbar": {
             "outlinewidth": 0,
             "ticks": ""
            },
            "colorscale": [
             [
              0,
              "#0d0887"
             ],
             [
              0.1111111111111111,
              "#46039f"
             ],
             [
              0.2222222222222222,
              "#7201a8"
             ],
             [
              0.3333333333333333,
              "#9c179e"
             ],
             [
              0.4444444444444444,
              "#bd3786"
             ],
             [
              0.5555555555555556,
              "#d8576b"
             ],
             [
              0.6666666666666666,
              "#ed7953"
             ],
             [
              0.7777777777777778,
              "#fb9f3a"
             ],
             [
              0.8888888888888888,
              "#fdca26"
             ],
             [
              1,
              "#f0f921"
             ]
            ],
            "type": "histogram2d"
           }
          ],
          "histogram2dcontour": [
           {
            "colorbar": {
             "outlinewidth": 0,
             "ticks": ""
            },
            "colorscale": [
             [
              0,
              "#0d0887"
             ],
             [
              0.1111111111111111,
              "#46039f"
             ],
             [
              0.2222222222222222,
              "#7201a8"
             ],
             [
              0.3333333333333333,
              "#9c179e"
             ],
             [
              0.4444444444444444,
              "#bd3786"
             ],
             [
              0.5555555555555556,
              "#d8576b"
             ],
             [
              0.6666666666666666,
              "#ed7953"
             ],
             [
              0.7777777777777778,
              "#fb9f3a"
             ],
             [
              0.8888888888888888,
              "#fdca26"
             ],
             [
              1,
              "#f0f921"
             ]
            ],
            "type": "histogram2dcontour"
           }
          ],
          "mesh3d": [
           {
            "colorbar": {
             "outlinewidth": 0,
             "ticks": ""
            },
            "type": "mesh3d"
           }
          ],
          "parcoords": [
           {
            "line": {
             "colorbar": {
              "outlinewidth": 0,
              "ticks": ""
             }
            },
            "type": "parcoords"
           }
          ],
          "pie": [
           {
            "automargin": true,
            "type": "pie"
           }
          ],
          "scatter": [
           {
            "marker": {
             "colorbar": {
              "outlinewidth": 0,
              "ticks": ""
             }
            },
            "type": "scatter"
           }
          ],
          "scatter3d": [
           {
            "line": {
             "colorbar": {
              "outlinewidth": 0,
              "ticks": ""
             }
            },
            "marker": {
             "colorbar": {
              "outlinewidth": 0,
              "ticks": ""
             }
            },
            "type": "scatter3d"
           }
          ],
          "scattercarpet": [
           {
            "marker": {
             "colorbar": {
              "outlinewidth": 0,
              "ticks": ""
             }
            },
            "type": "scattercarpet"
           }
          ],
          "scattergeo": [
           {
            "marker": {
             "colorbar": {
              "outlinewidth": 0,
              "ticks": ""
             }
            },
            "type": "scattergeo"
           }
          ],
          "scattergl": [
           {
            "marker": {
             "colorbar": {
              "outlinewidth": 0,
              "ticks": ""
             }
            },
            "type": "scattergl"
           }
          ],
          "scattermapbox": [
           {
            "marker": {
             "colorbar": {
              "outlinewidth": 0,
              "ticks": ""
             }
            },
            "type": "scattermapbox"
           }
          ],
          "scatterpolar": [
           {
            "marker": {
             "colorbar": {
              "outlinewidth": 0,
              "ticks": ""
             }
            },
            "type": "scatterpolar"
           }
          ],
          "scatterpolargl": [
           {
            "marker": {
             "colorbar": {
              "outlinewidth": 0,
              "ticks": ""
             }
            },
            "type": "scatterpolargl"
           }
          ],
          "scatterternary": [
           {
            "marker": {
             "colorbar": {
              "outlinewidth": 0,
              "ticks": ""
             }
            },
            "type": "scatterternary"
           }
          ],
          "surface": [
           {
            "colorbar": {
             "outlinewidth": 0,
             "ticks": ""
            },
            "colorscale": [
             [
              0,
              "#0d0887"
             ],
             [
              0.1111111111111111,
              "#46039f"
             ],
             [
              0.2222222222222222,
              "#7201a8"
             ],
             [
              0.3333333333333333,
              "#9c179e"
             ],
             [
              0.4444444444444444,
              "#bd3786"
             ],
             [
              0.5555555555555556,
              "#d8576b"
             ],
             [
              0.6666666666666666,
              "#ed7953"
             ],
             [
              0.7777777777777778,
              "#fb9f3a"
             ],
             [
              0.8888888888888888,
              "#fdca26"
             ],
             [
              1,
              "#f0f921"
             ]
            ],
            "type": "surface"
           }
          ],
          "table": [
           {
            "cells": {
             "fill": {
              "color": "#EBF0F8"
             },
             "line": {
              "color": "white"
             }
            },
            "header": {
             "fill": {
              "color": "#C8D4E3"
             },
             "line": {
              "color": "white"
             }
            },
            "type": "table"
           }
          ]
         },
         "layout": {
          "annotationdefaults": {
           "arrowcolor": "#2a3f5f",
           "arrowhead": 0,
           "arrowwidth": 1
          },
          "coloraxis": {
           "colorbar": {
            "outlinewidth": 0,
            "ticks": ""
           }
          },
          "colorscale": {
           "diverging": [
            [
             0,
             "#8e0152"
            ],
            [
             0.1,
             "#c51b7d"
            ],
            [
             0.2,
             "#de77ae"
            ],
            [
             0.3,
             "#f1b6da"
            ],
            [
             0.4,
             "#fde0ef"
            ],
            [
             0.5,
             "#f7f7f7"
            ],
            [
             0.6,
             "#e6f5d0"
            ],
            [
             0.7,
             "#b8e186"
            ],
            [
             0.8,
             "#7fbc41"
            ],
            [
             0.9,
             "#4d9221"
            ],
            [
             1,
             "#276419"
            ]
           ],
           "sequential": [
            [
             0,
             "#0d0887"
            ],
            [
             0.1111111111111111,
             "#46039f"
            ],
            [
             0.2222222222222222,
             "#7201a8"
            ],
            [
             0.3333333333333333,
             "#9c179e"
            ],
            [
             0.4444444444444444,
             "#bd3786"
            ],
            [
             0.5555555555555556,
             "#d8576b"
            ],
            [
             0.6666666666666666,
             "#ed7953"
            ],
            [
             0.7777777777777778,
             "#fb9f3a"
            ],
            [
             0.8888888888888888,
             "#fdca26"
            ],
            [
             1,
             "#f0f921"
            ]
           ],
           "sequentialminus": [
            [
             0,
             "#0d0887"
            ],
            [
             0.1111111111111111,
             "#46039f"
            ],
            [
             0.2222222222222222,
             "#7201a8"
            ],
            [
             0.3333333333333333,
             "#9c179e"
            ],
            [
             0.4444444444444444,
             "#bd3786"
            ],
            [
             0.5555555555555556,
             "#d8576b"
            ],
            [
             0.6666666666666666,
             "#ed7953"
            ],
            [
             0.7777777777777778,
             "#fb9f3a"
            ],
            [
             0.8888888888888888,
             "#fdca26"
            ],
            [
             1,
             "#f0f921"
            ]
           ]
          },
          "colorway": [
           "#636efa",
           "#EF553B",
           "#00cc96",
           "#ab63fa",
           "#FFA15A",
           "#19d3f3",
           "#FF6692",
           "#B6E880",
           "#FF97FF",
           "#FECB52"
          ],
          "font": {
           "color": "#2a3f5f"
          },
          "geo": {
           "bgcolor": "white",
           "lakecolor": "white",
           "landcolor": "#E5ECF6",
           "showlakes": true,
           "showland": true,
           "subunitcolor": "white"
          },
          "hoverlabel": {
           "align": "left"
          },
          "hovermode": "closest",
          "mapbox": {
           "style": "light"
          },
          "paper_bgcolor": "white",
          "plot_bgcolor": "#E5ECF6",
          "polar": {
           "angularaxis": {
            "gridcolor": "white",
            "linecolor": "white",
            "ticks": ""
           },
           "bgcolor": "#E5ECF6",
           "radialaxis": {
            "gridcolor": "white",
            "linecolor": "white",
            "ticks": ""
           }
          },
          "scene": {
           "xaxis": {
            "backgroundcolor": "#E5ECF6",
            "gridcolor": "white",
            "gridwidth": 2,
            "linecolor": "white",
            "showbackground": true,
            "ticks": "",
            "zerolinecolor": "white"
           },
           "yaxis": {
            "backgroundcolor": "#E5ECF6",
            "gridcolor": "white",
            "gridwidth": 2,
            "linecolor": "white",
            "showbackground": true,
            "ticks": "",
            "zerolinecolor": "white"
           },
           "zaxis": {
            "backgroundcolor": "#E5ECF6",
            "gridcolor": "white",
            "gridwidth": 2,
            "linecolor": "white",
            "showbackground": true,
            "ticks": "",
            "zerolinecolor": "white"
           }
          },
          "shapedefaults": {
           "line": {
            "color": "#2a3f5f"
           }
          },
          "ternary": {
           "aaxis": {
            "gridcolor": "white",
            "linecolor": "white",
            "ticks": ""
           },
           "baxis": {
            "gridcolor": "white",
            "linecolor": "white",
            "ticks": ""
           },
           "bgcolor": "#E5ECF6",
           "caxis": {
            "gridcolor": "white",
            "linecolor": "white",
            "ticks": ""
           }
          },
          "title": {
           "x": 0.05
          },
          "xaxis": {
           "automargin": true,
           "gridcolor": "white",
           "linecolor": "white",
           "ticks": "",
           "title": {
            "standoff": 15
           },
           "zerolinecolor": "white",
           "zerolinewidth": 2
          },
          "yaxis": {
           "automargin": true,
           "gridcolor": "white",
           "linecolor": "white",
           "ticks": "",
           "title": {
            "standoff": 15
           },
           "zerolinecolor": "white",
           "zerolinewidth": 2
          }
         }
        },
        "title": {
         "text": "Stopwordsleri kaldırmadan en çok geçen 25 kelime"
        },
        "xaxis": {
         "anchor": "y",
         "domain": [
          0,
          1
         ],
         "title": {
          "text": "kelime"
         }
        },
        "yaxis": {
         "anchor": "x",
         "domain": [
          0,
          1
         ],
         "title": {
          "text": "geçiş frekansı"
         }
        }
       }
      },
      "text/html": [
       "<div>\n",
       "        \n",
       "        \n",
       "            <div id=\"ad271b89-551c-4729-be20-ddf9b9f7b017\" class=\"plotly-graph-div\" style=\"height:400px; width:100%;\"></div>\n",
       "            <script type=\"text/javascript\">\n",
       "                require([\"plotly\"], function(Plotly) {\n",
       "                    window.PLOTLYENV=window.PLOTLYENV || {};\n",
       "                    \n",
       "                if (document.getElementById(\"ad271b89-551c-4729-be20-ddf9b9f7b017\")) {\n",
       "                    Plotly.newPlot(\n",
       "                        'ad271b89-551c-4729-be20-ddf9b9f7b017',\n",
       "                        [{\"alignmentgroup\": \"True\", \"customdata\": [[\"de\", 417], [\"het\", 208], [\"van\", 202], [\"in\", 187], [\"een\", 180], [\"en\", 138], [\"voor\", 97], [\"is\", 87], [\"op\", 82], [\"te\", 81], [\"zijn\", 78], [\"dat\", 73], [\"met\", 73], [\"die\", 58], [\"om\", 54], [\"er\", 49], [\"uit\", 48], [\"heeft\", 48], [\"aan\", 41], [\"img\", 40], [\"src\", 40], [\"tweakers\", 40], [\"mixed\", 40], [\"height\", 40], [\"width\", 40]], \"hoverlabel\": {\"namelength\": 0}, \"hovertemplate\": \"kelime=%{customdata[0]}<br>ge\\u00e7i\\u015f frekans\\u0131=%{marker.color}\", \"legendgroup\": \"\", \"marker\": {\"color\": [417, 208, 202, 187, 180, 138, 97, 87, 82, 81, 78, 73, 73, 58, 54, 49, 48, 48, 41, 40, 40, 40, 40, 40, 40], \"coloraxis\": \"coloraxis\"}, \"name\": \"\", \"offsetgroup\": \"\", \"orientation\": \"v\", \"showlegend\": false, \"textposition\": \"auto\", \"type\": \"bar\", \"x\": [\"de\", \"het\", \"van\", \"in\", \"een\", \"en\", \"voor\", \"is\", \"op\", \"te\", \"zijn\", \"dat\", \"met\", \"die\", \"om\", \"er\", \"uit\", \"heeft\", \"aan\", \"img\", \"src\", \"tweakers\", \"mixed\", \"height\", \"width\"], \"xaxis\": \"x\", \"y\": [417, 208, 202, 187, 180, 138, 97, 87, 82, 81, 78, 73, 73, 58, 54, 49, 48, 48, 41, 40, 40, 40, 40, 40, 40], \"yaxis\": \"y\"}],\n",
       "                        {\"barmode\": \"relative\", \"coloraxis\": {\"colorbar\": {\"title\": {\"text\": \"ge\\u00e7i\\u015f frekans\\u0131\"}}, \"colorscale\": [[0.0, \"#0d0887\"], [0.1111111111111111, \"#46039f\"], [0.2222222222222222, \"#7201a8\"], [0.3333333333333333, \"#9c179e\"], [0.4444444444444444, \"#bd3786\"], [0.5555555555555556, \"#d8576b\"], [0.6666666666666666, \"#ed7953\"], [0.7777777777777778, \"#fb9f3a\"], [0.8888888888888888, \"#fdca26\"], [1.0, \"#f0f921\"]]}, \"height\": 400, \"legend\": {\"tracegroupgap\": 0}, \"template\": {\"data\": {\"bar\": [{\"error_x\": {\"color\": \"#2a3f5f\"}, \"error_y\": {\"color\": \"#2a3f5f\"}, \"marker\": {\"line\": {\"color\": \"#E5ECF6\", \"width\": 0.5}}, \"type\": \"bar\"}], \"barpolar\": [{\"marker\": {\"line\": {\"color\": \"#E5ECF6\", \"width\": 0.5}}, \"type\": \"barpolar\"}], \"carpet\": [{\"aaxis\": {\"endlinecolor\": \"#2a3f5f\", \"gridcolor\": \"white\", \"linecolor\": \"white\", \"minorgridcolor\": \"white\", \"startlinecolor\": \"#2a3f5f\"}, \"baxis\": {\"endlinecolor\": \"#2a3f5f\", \"gridcolor\": \"white\", \"linecolor\": \"white\", \"minorgridcolor\": \"white\", \"startlinecolor\": \"#2a3f5f\"}, \"type\": \"carpet\"}], \"choropleth\": [{\"colorbar\": {\"outlinewidth\": 0, \"ticks\": \"\"}, \"type\": \"choropleth\"}], \"contour\": [{\"colorbar\": {\"outlinewidth\": 0, \"ticks\": \"\"}, \"colorscale\": [[0.0, \"#0d0887\"], [0.1111111111111111, \"#46039f\"], [0.2222222222222222, \"#7201a8\"], [0.3333333333333333, \"#9c179e\"], [0.4444444444444444, \"#bd3786\"], [0.5555555555555556, \"#d8576b\"], [0.6666666666666666, \"#ed7953\"], [0.7777777777777778, \"#fb9f3a\"], [0.8888888888888888, \"#fdca26\"], [1.0, \"#f0f921\"]], \"type\": \"contour\"}], \"contourcarpet\": [{\"colorbar\": {\"outlinewidth\": 0, \"ticks\": \"\"}, \"type\": \"contourcarpet\"}], \"heatmap\": [{\"colorbar\": {\"outlinewidth\": 0, \"ticks\": \"\"}, \"colorscale\": [[0.0, \"#0d0887\"], [0.1111111111111111, \"#46039f\"], [0.2222222222222222, \"#7201a8\"], [0.3333333333333333, \"#9c179e\"], [0.4444444444444444, \"#bd3786\"], [0.5555555555555556, \"#d8576b\"], [0.6666666666666666, \"#ed7953\"], [0.7777777777777778, \"#fb9f3a\"], [0.8888888888888888, \"#fdca26\"], [1.0, \"#f0f921\"]], \"type\": \"heatmap\"}], \"heatmapgl\": [{\"colorbar\": {\"outlinewidth\": 0, \"ticks\": \"\"}, \"colorscale\": [[0.0, \"#0d0887\"], [0.1111111111111111, \"#46039f\"], [0.2222222222222222, \"#7201a8\"], [0.3333333333333333, \"#9c179e\"], [0.4444444444444444, \"#bd3786\"], [0.5555555555555556, \"#d8576b\"], [0.6666666666666666, \"#ed7953\"], [0.7777777777777778, \"#fb9f3a\"], [0.8888888888888888, \"#fdca26\"], [1.0, \"#f0f921\"]], \"type\": \"heatmapgl\"}], \"histogram\": [{\"marker\": {\"colorbar\": {\"outlinewidth\": 0, \"ticks\": \"\"}}, \"type\": \"histogram\"}], \"histogram2d\": [{\"colorbar\": {\"outlinewidth\": 0, \"ticks\": \"\"}, \"colorscale\": [[0.0, \"#0d0887\"], [0.1111111111111111, \"#46039f\"], [0.2222222222222222, \"#7201a8\"], [0.3333333333333333, \"#9c179e\"], [0.4444444444444444, \"#bd3786\"], [0.5555555555555556, \"#d8576b\"], [0.6666666666666666, \"#ed7953\"], [0.7777777777777778, \"#fb9f3a\"], [0.8888888888888888, \"#fdca26\"], [1.0, \"#f0f921\"]], \"type\": \"histogram2d\"}], \"histogram2dcontour\": [{\"colorbar\": {\"outlinewidth\": 0, \"ticks\": \"\"}, \"colorscale\": [[0.0, \"#0d0887\"], [0.1111111111111111, \"#46039f\"], [0.2222222222222222, \"#7201a8\"], [0.3333333333333333, \"#9c179e\"], [0.4444444444444444, \"#bd3786\"], [0.5555555555555556, \"#d8576b\"], [0.6666666666666666, \"#ed7953\"], [0.7777777777777778, \"#fb9f3a\"], [0.8888888888888888, \"#fdca26\"], [1.0, \"#f0f921\"]], \"type\": \"histogram2dcontour\"}], \"mesh3d\": [{\"colorbar\": {\"outlinewidth\": 0, \"ticks\": \"\"}, \"type\": \"mesh3d\"}], \"parcoords\": [{\"line\": {\"colorbar\": {\"outlinewidth\": 0, \"ticks\": \"\"}}, \"type\": \"parcoords\"}], \"pie\": [{\"automargin\": true, \"type\": \"pie\"}], \"scatter\": [{\"marker\": {\"colorbar\": {\"outlinewidth\": 0, \"ticks\": \"\"}}, \"type\": \"scatter\"}], \"scatter3d\": [{\"line\": {\"colorbar\": {\"outlinewidth\": 0, \"ticks\": \"\"}}, \"marker\": {\"colorbar\": {\"outlinewidth\": 0, \"ticks\": \"\"}}, \"type\": \"scatter3d\"}], \"scattercarpet\": [{\"marker\": {\"colorbar\": {\"outlinewidth\": 0, \"ticks\": \"\"}}, \"type\": \"scattercarpet\"}], \"scattergeo\": [{\"marker\": {\"colorbar\": {\"outlinewidth\": 0, \"ticks\": \"\"}}, \"type\": \"scattergeo\"}], \"scattergl\": [{\"marker\": {\"colorbar\": {\"outlinewidth\": 0, \"ticks\": \"\"}}, \"type\": \"scattergl\"}], \"scattermapbox\": [{\"marker\": {\"colorbar\": {\"outlinewidth\": 0, \"ticks\": \"\"}}, \"type\": \"scattermapbox\"}], \"scatterpolar\": [{\"marker\": {\"colorbar\": {\"outlinewidth\": 0, \"ticks\": \"\"}}, \"type\": \"scatterpolar\"}], \"scatterpolargl\": [{\"marker\": {\"colorbar\": {\"outlinewidth\": 0, \"ticks\": \"\"}}, \"type\": \"scatterpolargl\"}], \"scatterternary\": [{\"marker\": {\"colorbar\": {\"outlinewidth\": 0, \"ticks\": \"\"}}, \"type\": \"scatterternary\"}], \"surface\": [{\"colorbar\": {\"outlinewidth\": 0, \"ticks\": \"\"}, \"colorscale\": [[0.0, \"#0d0887\"], [0.1111111111111111, \"#46039f\"], [0.2222222222222222, \"#7201a8\"], [0.3333333333333333, \"#9c179e\"], [0.4444444444444444, \"#bd3786\"], [0.5555555555555556, \"#d8576b\"], [0.6666666666666666, \"#ed7953\"], [0.7777777777777778, \"#fb9f3a\"], [0.8888888888888888, \"#fdca26\"], [1.0, \"#f0f921\"]], \"type\": \"surface\"}], \"table\": [{\"cells\": {\"fill\": {\"color\": \"#EBF0F8\"}, \"line\": {\"color\": \"white\"}}, \"header\": {\"fill\": {\"color\": \"#C8D4E3\"}, \"line\": {\"color\": \"white\"}}, \"type\": \"table\"}]}, \"layout\": {\"annotationdefaults\": {\"arrowcolor\": \"#2a3f5f\", \"arrowhead\": 0, \"arrowwidth\": 1}, \"coloraxis\": {\"colorbar\": {\"outlinewidth\": 0, \"ticks\": \"\"}}, \"colorscale\": {\"diverging\": [[0, \"#8e0152\"], [0.1, \"#c51b7d\"], [0.2, \"#de77ae\"], [0.3, \"#f1b6da\"], [0.4, \"#fde0ef\"], [0.5, \"#f7f7f7\"], [0.6, \"#e6f5d0\"], [0.7, \"#b8e186\"], [0.8, \"#7fbc41\"], [0.9, \"#4d9221\"], [1, \"#276419\"]], \"sequential\": [[0.0, \"#0d0887\"], [0.1111111111111111, \"#46039f\"], [0.2222222222222222, \"#7201a8\"], [0.3333333333333333, \"#9c179e\"], [0.4444444444444444, \"#bd3786\"], [0.5555555555555556, \"#d8576b\"], [0.6666666666666666, \"#ed7953\"], [0.7777777777777778, \"#fb9f3a\"], [0.8888888888888888, \"#fdca26\"], [1.0, \"#f0f921\"]], \"sequentialminus\": [[0.0, \"#0d0887\"], [0.1111111111111111, \"#46039f\"], [0.2222222222222222, \"#7201a8\"], [0.3333333333333333, \"#9c179e\"], [0.4444444444444444, \"#bd3786\"], [0.5555555555555556, \"#d8576b\"], [0.6666666666666666, \"#ed7953\"], [0.7777777777777778, \"#fb9f3a\"], [0.8888888888888888, \"#fdca26\"], [1.0, \"#f0f921\"]]}, \"colorway\": [\"#636efa\", \"#EF553B\", \"#00cc96\", \"#ab63fa\", \"#FFA15A\", \"#19d3f3\", \"#FF6692\", \"#B6E880\", \"#FF97FF\", \"#FECB52\"], \"font\": {\"color\": \"#2a3f5f\"}, \"geo\": {\"bgcolor\": \"white\", \"lakecolor\": \"white\", \"landcolor\": \"#E5ECF6\", \"showlakes\": true, \"showland\": true, \"subunitcolor\": \"white\"}, \"hoverlabel\": {\"align\": \"left\"}, \"hovermode\": \"closest\", \"mapbox\": {\"style\": \"light\"}, \"paper_bgcolor\": \"white\", \"plot_bgcolor\": \"#E5ECF6\", \"polar\": {\"angularaxis\": {\"gridcolor\": \"white\", \"linecolor\": \"white\", \"ticks\": \"\"}, \"bgcolor\": \"#E5ECF6\", \"radialaxis\": {\"gridcolor\": \"white\", \"linecolor\": \"white\", \"ticks\": \"\"}}, \"scene\": {\"xaxis\": {\"backgroundcolor\": \"#E5ECF6\", \"gridcolor\": \"white\", \"gridwidth\": 2, \"linecolor\": \"white\", \"showbackground\": true, \"ticks\": \"\", \"zerolinecolor\": \"white\"}, \"yaxis\": {\"backgroundcolor\": \"#E5ECF6\", \"gridcolor\": \"white\", \"gridwidth\": 2, \"linecolor\": \"white\", \"showbackground\": true, \"ticks\": \"\", \"zerolinecolor\": \"white\"}, \"zaxis\": {\"backgroundcolor\": \"#E5ECF6\", \"gridcolor\": \"white\", \"gridwidth\": 2, \"linecolor\": \"white\", \"showbackground\": true, \"ticks\": \"\", \"zerolinecolor\": \"white\"}}, \"shapedefaults\": {\"line\": {\"color\": \"#2a3f5f\"}}, \"ternary\": {\"aaxis\": {\"gridcolor\": \"white\", \"linecolor\": \"white\", \"ticks\": \"\"}, \"baxis\": {\"gridcolor\": \"white\", \"linecolor\": \"white\", \"ticks\": \"\"}, \"bgcolor\": \"#E5ECF6\", \"caxis\": {\"gridcolor\": \"white\", \"linecolor\": \"white\", \"ticks\": \"\"}}, \"title\": {\"x\": 0.05}, \"xaxis\": {\"automargin\": true, \"gridcolor\": \"white\", \"linecolor\": \"white\", \"ticks\": \"\", \"title\": {\"standoff\": 15}, \"zerolinecolor\": \"white\", \"zerolinewidth\": 2}, \"yaxis\": {\"automargin\": true, \"gridcolor\": \"white\", \"linecolor\": \"white\", \"ticks\": \"\", \"title\": {\"standoff\": 15}, \"zerolinecolor\": \"white\", \"zerolinewidth\": 2}}}, \"title\": {\"text\": \"Stopwordsleri kald\\u0131rmadan en \\u00e7ok ge\\u00e7en 25 kelime\"}, \"xaxis\": {\"anchor\": \"y\", \"domain\": [0.0, 1.0], \"title\": {\"text\": \"kelime\"}}, \"yaxis\": {\"anchor\": \"x\", \"domain\": [0.0, 1.0], \"title\": {\"text\": \"ge\\u00e7i\\u015f frekans\\u0131\"}}},\n",
       "                        {\"responsive\": true}\n",
       "                    ).then(function(){\n",
       "                            \n",
       "var gd = document.getElementById('ad271b89-551c-4729-be20-ddf9b9f7b017');\n",
       "var x = new MutationObserver(function (mutations, observer) {{\n",
       "        var display = window.getComputedStyle(gd).display;\n",
       "        if (!display || display === 'none') {{\n",
       "            console.log([gd, 'removed!']);\n",
       "            Plotly.purge(gd);\n",
       "            observer.disconnect();\n",
       "        }}\n",
       "}});\n",
       "\n",
       "// Listen for the removal of the full notebook cells\n",
       "var notebookContainer = gd.closest('#notebook-container');\n",
       "if (notebookContainer) {{\n",
       "    x.observe(notebookContainer, {childList: true});\n",
       "}}\n",
       "\n",
       "// Listen for the clearing of the current output cell\n",
       "var outputEl = gd.closest('.output');\n",
       "if (outputEl) {{\n",
       "    x.observe(outputEl, {childList: true});\n",
       "}}\n",
       "\n",
       "                        })\n",
       "                };\n",
       "                });\n",
       "            </script>\n",
       "        </div>"
      ]
     },
     "metadata": {},
     "output_type": "display_data"
    }
   ],
   "source": [
    "def get_top_n_words(corpus, n=None):\n",
    "    vec = CountVectorizer().fit(corpus)\n",
    "    bag_of_words = vec.transform(corpus)\n",
    "    sum_words = bag_of_words.sum(axis=0) \n",
    "    words_freq = [(word, sum_words[0, idx]) for word, idx in vec.vocabulary_.items()]\n",
    "    words_freq =sorted(words_freq, key = lambda x: x[1], reverse=True)\n",
    "    return words_freq[:n]\n",
    "\n",
    "common_words = get_top_n_words(data['descriptions'], 25)\n",
    "df1 = pd.DataFrame(common_words, columns = ['kelime' , 'geçiş frekansı'])\n",
    "fig = px.bar(df1, x='kelime', y='geçiş frekansı',\n",
    "             hover_data=['kelime', 'geçiş frekansı'], color='geçiş frekansı',\n",
    "             title='Stopwordsleri kaldırmadan en çok geçen 25 kelime',\n",
    "             height=400)\n",
    "fig.show()"
   ]
  },
  {
   "cell_type": "code",
   "execution_count": 182,
   "metadata": {},
   "outputs": [
    {
     "name": "stderr",
     "output_type": "stream",
     "text": [
      "[nltk_data] Downloading package stopwords to\n",
      "[nltk_data]     C:\\Users\\user\\AppData\\Roaming\\nltk_data...\n",
      "[nltk_data]   Package stopwords is already up-to-date!\n"
     ]
    },
    {
     "data": {
      "text/plain": [
       "True"
      ]
     },
     "execution_count": 182,
     "metadata": {},
     "output_type": "execute_result"
    }
   ],
   "source": [
    "import nltk\n",
    "nltk.download('stopwords')"
   ]
  },
  {
   "cell_type": "code",
   "execution_count": 184,
   "metadata": {
    "scrolled": true
   },
   "outputs": [
    {
     "data": {
      "application/vnd.plotly.v1+json": {
       "config": {
        "plotlyServerURL": "https://plot.ly"
       },
       "data": [
        {
         "alignmentgroup": "True",
         "customdata": [
          [
           "the",
           31
          ],
          [
           "coronacrisis",
           23
          ],
          [
           "nederland",
           20
          ],
          [
           "aantal",
           18
          ],
          [
           "jaar",
           18
          ],
          [
           "kabinet",
           17
          ],
          [
           "coronavirus",
           16
          ],
          [
           "mensen",
           16
          ],
          [
           "politie",
           15
          ],
          [
           "woensdag",
           15
          ],
          [
           "twee",
           15
          ],
          [
           "gaat",
           14
          ],
          [
           "10",
           14
          ],
          [
           "to",
           14
          ],
          [
           "and",
           14
          ],
          [
           "week",
           13
          ],
          [
           "minister",
           13
          ],
          [
           "miljoen",
           13
          ],
          [
           "via",
           12
          ],
          [
           "euro",
           12
          ],
          [
           "versie",
           12
          ],
          [
           "drie",
           11
          ],
          [
           "maken",
           10
          ],
          [
           "uitgebracht",
           10
          ],
          [
           "bekend",
           9
          ]
         ],
         "hoverlabel": {
          "namelength": 0
         },
         "hovertemplate": "kelime=%{customdata[0]}<br>geçiş frekansı=%{marker.color}",
         "legendgroup": "",
         "marker": {
          "color": [
           31,
           23,
           20,
           18,
           18,
           17,
           16,
           16,
           15,
           15,
           15,
           14,
           14,
           14,
           14,
           13,
           13,
           13,
           12,
           12,
           12,
           11,
           10,
           10,
           9
          ],
          "coloraxis": "coloraxis"
         },
         "name": "",
         "offsetgroup": "",
         "orientation": "v",
         "showlegend": false,
         "textposition": "auto",
         "type": "bar",
         "x": [
          "the",
          "coronacrisis",
          "nederland",
          "aantal",
          "jaar",
          "kabinet",
          "coronavirus",
          "mensen",
          "politie",
          "woensdag",
          "twee",
          "gaat",
          "10",
          "to",
          "and",
          "week",
          "minister",
          "miljoen",
          "via",
          "euro",
          "versie",
          "drie",
          "maken",
          "uitgebracht",
          "bekend"
         ],
         "xaxis": "x",
         "y": [
          31,
          23,
          20,
          18,
          18,
          17,
          16,
          16,
          15,
          15,
          15,
          14,
          14,
          14,
          14,
          13,
          13,
          13,
          12,
          12,
          12,
          11,
          10,
          10,
          9
         ],
         "yaxis": "y"
        }
       ],
       "layout": {
        "barmode": "relative",
        "coloraxis": {
         "colorbar": {
          "title": {
           "text": "geçiş frekansı"
          }
         },
         "colorscale": [
          [
           0,
           "#0d0887"
          ],
          [
           0.1111111111111111,
           "#46039f"
          ],
          [
           0.2222222222222222,
           "#7201a8"
          ],
          [
           0.3333333333333333,
           "#9c179e"
          ],
          [
           0.4444444444444444,
           "#bd3786"
          ],
          [
           0.5555555555555556,
           "#d8576b"
          ],
          [
           0.6666666666666666,
           "#ed7953"
          ],
          [
           0.7777777777777778,
           "#fb9f3a"
          ],
          [
           0.8888888888888888,
           "#fdca26"
          ],
          [
           1,
           "#f0f921"
          ]
         ]
        },
        "height": 400,
        "legend": {
         "tracegroupgap": 0
        },
        "template": {
         "data": {
          "bar": [
           {
            "error_x": {
             "color": "#2a3f5f"
            },
            "error_y": {
             "color": "#2a3f5f"
            },
            "marker": {
             "line": {
              "color": "#E5ECF6",
              "width": 0.5
             }
            },
            "type": "bar"
           }
          ],
          "barpolar": [
           {
            "marker": {
             "line": {
              "color": "#E5ECF6",
              "width": 0.5
             }
            },
            "type": "barpolar"
           }
          ],
          "carpet": [
           {
            "aaxis": {
             "endlinecolor": "#2a3f5f",
             "gridcolor": "white",
             "linecolor": "white",
             "minorgridcolor": "white",
             "startlinecolor": "#2a3f5f"
            },
            "baxis": {
             "endlinecolor": "#2a3f5f",
             "gridcolor": "white",
             "linecolor": "white",
             "minorgridcolor": "white",
             "startlinecolor": "#2a3f5f"
            },
            "type": "carpet"
           }
          ],
          "choropleth": [
           {
            "colorbar": {
             "outlinewidth": 0,
             "ticks": ""
            },
            "type": "choropleth"
           }
          ],
          "contour": [
           {
            "colorbar": {
             "outlinewidth": 0,
             "ticks": ""
            },
            "colorscale": [
             [
              0,
              "#0d0887"
             ],
             [
              0.1111111111111111,
              "#46039f"
             ],
             [
              0.2222222222222222,
              "#7201a8"
             ],
             [
              0.3333333333333333,
              "#9c179e"
             ],
             [
              0.4444444444444444,
              "#bd3786"
             ],
             [
              0.5555555555555556,
              "#d8576b"
             ],
             [
              0.6666666666666666,
              "#ed7953"
             ],
             [
              0.7777777777777778,
              "#fb9f3a"
             ],
             [
              0.8888888888888888,
              "#fdca26"
             ],
             [
              1,
              "#f0f921"
             ]
            ],
            "type": "contour"
           }
          ],
          "contourcarpet": [
           {
            "colorbar": {
             "outlinewidth": 0,
             "ticks": ""
            },
            "type": "contourcarpet"
           }
          ],
          "heatmap": [
           {
            "colorbar": {
             "outlinewidth": 0,
             "ticks": ""
            },
            "colorscale": [
             [
              0,
              "#0d0887"
             ],
             [
              0.1111111111111111,
              "#46039f"
             ],
             [
              0.2222222222222222,
              "#7201a8"
             ],
             [
              0.3333333333333333,
              "#9c179e"
             ],
             [
              0.4444444444444444,
              "#bd3786"
             ],
             [
              0.5555555555555556,
              "#d8576b"
             ],
             [
              0.6666666666666666,
              "#ed7953"
             ],
             [
              0.7777777777777778,
              "#fb9f3a"
             ],
             [
              0.8888888888888888,
              "#fdca26"
             ],
             [
              1,
              "#f0f921"
             ]
            ],
            "type": "heatmap"
           }
          ],
          "heatmapgl": [
           {
            "colorbar": {
             "outlinewidth": 0,
             "ticks": ""
            },
            "colorscale": [
             [
              0,
              "#0d0887"
             ],
             [
              0.1111111111111111,
              "#46039f"
             ],
             [
              0.2222222222222222,
              "#7201a8"
             ],
             [
              0.3333333333333333,
              "#9c179e"
             ],
             [
              0.4444444444444444,
              "#bd3786"
             ],
             [
              0.5555555555555556,
              "#d8576b"
             ],
             [
              0.6666666666666666,
              "#ed7953"
             ],
             [
              0.7777777777777778,
              "#fb9f3a"
             ],
             [
              0.8888888888888888,
              "#fdca26"
             ],
             [
              1,
              "#f0f921"
             ]
            ],
            "type": "heatmapgl"
           }
          ],
          "histogram": [
           {
            "marker": {
             "colorbar": {
              "outlinewidth": 0,
              "ticks": ""
             }
            },
            "type": "histogram"
           }
          ],
          "histogram2d": [
           {
            "colorbar": {
             "outlinewidth": 0,
             "ticks": ""
            },
            "colorscale": [
             [
              0,
              "#0d0887"
             ],
             [
              0.1111111111111111,
              "#46039f"
             ],
             [
              0.2222222222222222,
              "#7201a8"
             ],
             [
              0.3333333333333333,
              "#9c179e"
             ],
             [
              0.4444444444444444,
              "#bd3786"
             ],
             [
              0.5555555555555556,
              "#d8576b"
             ],
             [
              0.6666666666666666,
              "#ed7953"
             ],
             [
              0.7777777777777778,
              "#fb9f3a"
             ],
             [
              0.8888888888888888,
              "#fdca26"
             ],
             [
              1,
              "#f0f921"
             ]
            ],
            "type": "histogram2d"
           }
          ],
          "histogram2dcontour": [
           {
            "colorbar": {
             "outlinewidth": 0,
             "ticks": ""
            },
            "colorscale": [
             [
              0,
              "#0d0887"
             ],
             [
              0.1111111111111111,
              "#46039f"
             ],
             [
              0.2222222222222222,
              "#7201a8"
             ],
             [
              0.3333333333333333,
              "#9c179e"
             ],
             [
              0.4444444444444444,
              "#bd3786"
             ],
             [
              0.5555555555555556,
              "#d8576b"
             ],
             [
              0.6666666666666666,
              "#ed7953"
             ],
             [
              0.7777777777777778,
              "#fb9f3a"
             ],
             [
              0.8888888888888888,
              "#fdca26"
             ],
             [
              1,
              "#f0f921"
             ]
            ],
            "type": "histogram2dcontour"
           }
          ],
          "mesh3d": [
           {
            "colorbar": {
             "outlinewidth": 0,
             "ticks": ""
            },
            "type": "mesh3d"
           }
          ],
          "parcoords": [
           {
            "line": {
             "colorbar": {
              "outlinewidth": 0,
              "ticks": ""
             }
            },
            "type": "parcoords"
           }
          ],
          "pie": [
           {
            "automargin": true,
            "type": "pie"
           }
          ],
          "scatter": [
           {
            "marker": {
             "colorbar": {
              "outlinewidth": 0,
              "ticks": ""
             }
            },
            "type": "scatter"
           }
          ],
          "scatter3d": [
           {
            "line": {
             "colorbar": {
              "outlinewidth": 0,
              "ticks": ""
             }
            },
            "marker": {
             "colorbar": {
              "outlinewidth": 0,
              "ticks": ""
             }
            },
            "type": "scatter3d"
           }
          ],
          "scattercarpet": [
           {
            "marker": {
             "colorbar": {
              "outlinewidth": 0,
              "ticks": ""
             }
            },
            "type": "scattercarpet"
           }
          ],
          "scattergeo": [
           {
            "marker": {
             "colorbar": {
              "outlinewidth": 0,
              "ticks": ""
             }
            },
            "type": "scattergeo"
           }
          ],
          "scattergl": [
           {
            "marker": {
             "colorbar": {
              "outlinewidth": 0,
              "ticks": ""
             }
            },
            "type": "scattergl"
           }
          ],
          "scattermapbox": [
           {
            "marker": {
             "colorbar": {
              "outlinewidth": 0,
              "ticks": ""
             }
            },
            "type": "scattermapbox"
           }
          ],
          "scatterpolar": [
           {
            "marker": {
             "colorbar": {
              "outlinewidth": 0,
              "ticks": ""
             }
            },
            "type": "scatterpolar"
           }
          ],
          "scatterpolargl": [
           {
            "marker": {
             "colorbar": {
              "outlinewidth": 0,
              "ticks": ""
             }
            },
            "type": "scatterpolargl"
           }
          ],
          "scatterternary": [
           {
            "marker": {
             "colorbar": {
              "outlinewidth": 0,
              "ticks": ""
             }
            },
            "type": "scatterternary"
           }
          ],
          "surface": [
           {
            "colorbar": {
             "outlinewidth": 0,
             "ticks": ""
            },
            "colorscale": [
             [
              0,
              "#0d0887"
             ],
             [
              0.1111111111111111,
              "#46039f"
             ],
             [
              0.2222222222222222,
              "#7201a8"
             ],
             [
              0.3333333333333333,
              "#9c179e"
             ],
             [
              0.4444444444444444,
              "#bd3786"
             ],
             [
              0.5555555555555556,
              "#d8576b"
             ],
             [
              0.6666666666666666,
              "#ed7953"
             ],
             [
              0.7777777777777778,
              "#fb9f3a"
             ],
             [
              0.8888888888888888,
              "#fdca26"
             ],
             [
              1,
              "#f0f921"
             ]
            ],
            "type": "surface"
           }
          ],
          "table": [
           {
            "cells": {
             "fill": {
              "color": "#EBF0F8"
             },
             "line": {
              "color": "white"
             }
            },
            "header": {
             "fill": {
              "color": "#C8D4E3"
             },
             "line": {
              "color": "white"
             }
            },
            "type": "table"
           }
          ]
         },
         "layout": {
          "annotationdefaults": {
           "arrowcolor": "#2a3f5f",
           "arrowhead": 0,
           "arrowwidth": 1
          },
          "coloraxis": {
           "colorbar": {
            "outlinewidth": 0,
            "ticks": ""
           }
          },
          "colorscale": {
           "diverging": [
            [
             0,
             "#8e0152"
            ],
            [
             0.1,
             "#c51b7d"
            ],
            [
             0.2,
             "#de77ae"
            ],
            [
             0.3,
             "#f1b6da"
            ],
            [
             0.4,
             "#fde0ef"
            ],
            [
             0.5,
             "#f7f7f7"
            ],
            [
             0.6,
             "#e6f5d0"
            ],
            [
             0.7,
             "#b8e186"
            ],
            [
             0.8,
             "#7fbc41"
            ],
            [
             0.9,
             "#4d9221"
            ],
            [
             1,
             "#276419"
            ]
           ],
           "sequential": [
            [
             0,
             "#0d0887"
            ],
            [
             0.1111111111111111,
             "#46039f"
            ],
            [
             0.2222222222222222,
             "#7201a8"
            ],
            [
             0.3333333333333333,
             "#9c179e"
            ],
            [
             0.4444444444444444,
             "#bd3786"
            ],
            [
             0.5555555555555556,
             "#d8576b"
            ],
            [
             0.6666666666666666,
             "#ed7953"
            ],
            [
             0.7777777777777778,
             "#fb9f3a"
            ],
            [
             0.8888888888888888,
             "#fdca26"
            ],
            [
             1,
             "#f0f921"
            ]
           ],
           "sequentialminus": [
            [
             0,
             "#0d0887"
            ],
            [
             0.1111111111111111,
             "#46039f"
            ],
            [
             0.2222222222222222,
             "#7201a8"
            ],
            [
             0.3333333333333333,
             "#9c179e"
            ],
            [
             0.4444444444444444,
             "#bd3786"
            ],
            [
             0.5555555555555556,
             "#d8576b"
            ],
            [
             0.6666666666666666,
             "#ed7953"
            ],
            [
             0.7777777777777778,
             "#fb9f3a"
            ],
            [
             0.8888888888888888,
             "#fdca26"
            ],
            [
             1,
             "#f0f921"
            ]
           ]
          },
          "colorway": [
           "#636efa",
           "#EF553B",
           "#00cc96",
           "#ab63fa",
           "#FFA15A",
           "#19d3f3",
           "#FF6692",
           "#B6E880",
           "#FF97FF",
           "#FECB52"
          ],
          "font": {
           "color": "#2a3f5f"
          },
          "geo": {
           "bgcolor": "white",
           "lakecolor": "white",
           "landcolor": "#E5ECF6",
           "showlakes": true,
           "showland": true,
           "subunitcolor": "white"
          },
          "hoverlabel": {
           "align": "left"
          },
          "hovermode": "closest",
          "mapbox": {
           "style": "light"
          },
          "paper_bgcolor": "white",
          "plot_bgcolor": "#E5ECF6",
          "polar": {
           "angularaxis": {
            "gridcolor": "white",
            "linecolor": "white",
            "ticks": ""
           },
           "bgcolor": "#E5ECF6",
           "radialaxis": {
            "gridcolor": "white",
            "linecolor": "white",
            "ticks": ""
           }
          },
          "scene": {
           "xaxis": {
            "backgroundcolor": "#E5ECF6",
            "gridcolor": "white",
            "gridwidth": 2,
            "linecolor": "white",
            "showbackground": true,
            "ticks": "",
            "zerolinecolor": "white"
           },
           "yaxis": {
            "backgroundcolor": "#E5ECF6",
            "gridcolor": "white",
            "gridwidth": 2,
            "linecolor": "white",
            "showbackground": true,
            "ticks": "",
            "zerolinecolor": "white"
           },
           "zaxis": {
            "backgroundcolor": "#E5ECF6",
            "gridcolor": "white",
            "gridwidth": 2,
            "linecolor": "white",
            "showbackground": true,
            "ticks": "",
            "zerolinecolor": "white"
           }
          },
          "shapedefaults": {
           "line": {
            "color": "#2a3f5f"
           }
          },
          "ternary": {
           "aaxis": {
            "gridcolor": "white",
            "linecolor": "white",
            "ticks": ""
           },
           "baxis": {
            "gridcolor": "white",
            "linecolor": "white",
            "ticks": ""
           },
           "bgcolor": "#E5ECF6",
           "caxis": {
            "gridcolor": "white",
            "linecolor": "white",
            "ticks": ""
           }
          },
          "title": {
           "x": 0.05
          },
          "xaxis": {
           "automargin": true,
           "gridcolor": "white",
           "linecolor": "white",
           "ticks": "",
           "title": {
            "standoff": 15
           },
           "zerolinecolor": "white",
           "zerolinewidth": 2
          },
          "yaxis": {
           "automargin": true,
           "gridcolor": "white",
           "linecolor": "white",
           "ticks": "",
           "title": {
            "standoff": 15
           },
           "zerolinecolor": "white",
           "zerolinewidth": 2
          }
         }
        },
        "title": {
         "text": "Stopwordsleri kaldırdıktan sonra en çok geçen 25 kelime"
        },
        "xaxis": {
         "anchor": "y",
         "domain": [
          0,
          1
         ],
         "title": {
          "text": "kelime"
         }
        },
        "yaxis": {
         "anchor": "x",
         "domain": [
          0,
          1
         ],
         "title": {
          "text": "geçiş frekansı"
         }
        }
       }
      },
      "text/html": [
       "<div>\n",
       "        \n",
       "        \n",
       "            <div id=\"82e1c931-4616-4fdf-8aac-a4c6257253f0\" class=\"plotly-graph-div\" style=\"height:400px; width:100%;\"></div>\n",
       "            <script type=\"text/javascript\">\n",
       "                require([\"plotly\"], function(Plotly) {\n",
       "                    window.PLOTLYENV=window.PLOTLYENV || {};\n",
       "                    \n",
       "                if (document.getElementById(\"82e1c931-4616-4fdf-8aac-a4c6257253f0\")) {\n",
       "                    Plotly.newPlot(\n",
       "                        '82e1c931-4616-4fdf-8aac-a4c6257253f0',\n",
       "                        [{\"alignmentgroup\": \"True\", \"customdata\": [[\"the\", 31], [\"coronacrisis\", 23], [\"nederland\", 20], [\"aantal\", 18], [\"jaar\", 18], [\"kabinet\", 17], [\"coronavirus\", 16], [\"mensen\", 16], [\"politie\", 15], [\"woensdag\", 15], [\"twee\", 15], [\"gaat\", 14], [\"10\", 14], [\"to\", 14], [\"and\", 14], [\"week\", 13], [\"minister\", 13], [\"miljoen\", 13], [\"via\", 12], [\"euro\", 12], [\"versie\", 12], [\"drie\", 11], [\"maken\", 10], [\"uitgebracht\", 10], [\"bekend\", 9]], \"hoverlabel\": {\"namelength\": 0}, \"hovertemplate\": \"kelime=%{customdata[0]}<br>ge\\u00e7i\\u015f frekans\\u0131=%{marker.color}\", \"legendgroup\": \"\", \"marker\": {\"color\": [31, 23, 20, 18, 18, 17, 16, 16, 15, 15, 15, 14, 14, 14, 14, 13, 13, 13, 12, 12, 12, 11, 10, 10, 9], \"coloraxis\": \"coloraxis\"}, \"name\": \"\", \"offsetgroup\": \"\", \"orientation\": \"v\", \"showlegend\": false, \"textposition\": \"auto\", \"type\": \"bar\", \"x\": [\"the\", \"coronacrisis\", \"nederland\", \"aantal\", \"jaar\", \"kabinet\", \"coronavirus\", \"mensen\", \"politie\", \"woensdag\", \"twee\", \"gaat\", \"10\", \"to\", \"and\", \"week\", \"minister\", \"miljoen\", \"via\", \"euro\", \"versie\", \"drie\", \"maken\", \"uitgebracht\", \"bekend\"], \"xaxis\": \"x\", \"y\": [31, 23, 20, 18, 18, 17, 16, 16, 15, 15, 15, 14, 14, 14, 14, 13, 13, 13, 12, 12, 12, 11, 10, 10, 9], \"yaxis\": \"y\"}],\n",
       "                        {\"barmode\": \"relative\", \"coloraxis\": {\"colorbar\": {\"title\": {\"text\": \"ge\\u00e7i\\u015f frekans\\u0131\"}}, \"colorscale\": [[0.0, \"#0d0887\"], [0.1111111111111111, \"#46039f\"], [0.2222222222222222, \"#7201a8\"], [0.3333333333333333, \"#9c179e\"], [0.4444444444444444, \"#bd3786\"], [0.5555555555555556, \"#d8576b\"], [0.6666666666666666, \"#ed7953\"], [0.7777777777777778, \"#fb9f3a\"], [0.8888888888888888, \"#fdca26\"], [1.0, \"#f0f921\"]]}, \"height\": 400, \"legend\": {\"tracegroupgap\": 0}, \"template\": {\"data\": {\"bar\": [{\"error_x\": {\"color\": \"#2a3f5f\"}, \"error_y\": {\"color\": \"#2a3f5f\"}, \"marker\": {\"line\": {\"color\": \"#E5ECF6\", \"width\": 0.5}}, \"type\": \"bar\"}], \"barpolar\": [{\"marker\": {\"line\": {\"color\": \"#E5ECF6\", \"width\": 0.5}}, \"type\": \"barpolar\"}], \"carpet\": [{\"aaxis\": {\"endlinecolor\": \"#2a3f5f\", \"gridcolor\": \"white\", \"linecolor\": \"white\", \"minorgridcolor\": \"white\", \"startlinecolor\": \"#2a3f5f\"}, \"baxis\": {\"endlinecolor\": \"#2a3f5f\", \"gridcolor\": \"white\", \"linecolor\": \"white\", \"minorgridcolor\": \"white\", \"startlinecolor\": \"#2a3f5f\"}, \"type\": \"carpet\"}], \"choropleth\": [{\"colorbar\": {\"outlinewidth\": 0, \"ticks\": \"\"}, \"type\": \"choropleth\"}], \"contour\": [{\"colorbar\": {\"outlinewidth\": 0, \"ticks\": \"\"}, \"colorscale\": [[0.0, \"#0d0887\"], [0.1111111111111111, \"#46039f\"], [0.2222222222222222, \"#7201a8\"], [0.3333333333333333, \"#9c179e\"], [0.4444444444444444, \"#bd3786\"], [0.5555555555555556, \"#d8576b\"], [0.6666666666666666, \"#ed7953\"], [0.7777777777777778, \"#fb9f3a\"], [0.8888888888888888, \"#fdca26\"], [1.0, \"#f0f921\"]], \"type\": \"contour\"}], \"contourcarpet\": [{\"colorbar\": {\"outlinewidth\": 0, \"ticks\": \"\"}, \"type\": \"contourcarpet\"}], \"heatmap\": [{\"colorbar\": {\"outlinewidth\": 0, \"ticks\": \"\"}, \"colorscale\": [[0.0, \"#0d0887\"], [0.1111111111111111, \"#46039f\"], [0.2222222222222222, \"#7201a8\"], [0.3333333333333333, \"#9c179e\"], [0.4444444444444444, \"#bd3786\"], [0.5555555555555556, \"#d8576b\"], [0.6666666666666666, \"#ed7953\"], [0.7777777777777778, \"#fb9f3a\"], [0.8888888888888888, \"#fdca26\"], [1.0, \"#f0f921\"]], \"type\": \"heatmap\"}], \"heatmapgl\": [{\"colorbar\": {\"outlinewidth\": 0, \"ticks\": \"\"}, \"colorscale\": [[0.0, \"#0d0887\"], [0.1111111111111111, \"#46039f\"], [0.2222222222222222, \"#7201a8\"], [0.3333333333333333, \"#9c179e\"], [0.4444444444444444, \"#bd3786\"], [0.5555555555555556, \"#d8576b\"], [0.6666666666666666, \"#ed7953\"], [0.7777777777777778, \"#fb9f3a\"], [0.8888888888888888, \"#fdca26\"], [1.0, \"#f0f921\"]], \"type\": \"heatmapgl\"}], \"histogram\": [{\"marker\": {\"colorbar\": {\"outlinewidth\": 0, \"ticks\": \"\"}}, \"type\": \"histogram\"}], \"histogram2d\": [{\"colorbar\": {\"outlinewidth\": 0, \"ticks\": \"\"}, \"colorscale\": [[0.0, \"#0d0887\"], [0.1111111111111111, \"#46039f\"], [0.2222222222222222, \"#7201a8\"], [0.3333333333333333, \"#9c179e\"], [0.4444444444444444, \"#bd3786\"], [0.5555555555555556, \"#d8576b\"], [0.6666666666666666, \"#ed7953\"], [0.7777777777777778, \"#fb9f3a\"], [0.8888888888888888, \"#fdca26\"], [1.0, \"#f0f921\"]], \"type\": \"histogram2d\"}], \"histogram2dcontour\": [{\"colorbar\": {\"outlinewidth\": 0, \"ticks\": \"\"}, \"colorscale\": [[0.0, \"#0d0887\"], [0.1111111111111111, \"#46039f\"], [0.2222222222222222, \"#7201a8\"], [0.3333333333333333, \"#9c179e\"], [0.4444444444444444, \"#bd3786\"], [0.5555555555555556, \"#d8576b\"], [0.6666666666666666, \"#ed7953\"], [0.7777777777777778, \"#fb9f3a\"], [0.8888888888888888, \"#fdca26\"], [1.0, \"#f0f921\"]], \"type\": \"histogram2dcontour\"}], \"mesh3d\": [{\"colorbar\": {\"outlinewidth\": 0, \"ticks\": \"\"}, \"type\": \"mesh3d\"}], \"parcoords\": [{\"line\": {\"colorbar\": {\"outlinewidth\": 0, \"ticks\": \"\"}}, \"type\": \"parcoords\"}], \"pie\": [{\"automargin\": true, \"type\": \"pie\"}], \"scatter\": [{\"marker\": {\"colorbar\": {\"outlinewidth\": 0, \"ticks\": \"\"}}, \"type\": \"scatter\"}], \"scatter3d\": [{\"line\": {\"colorbar\": {\"outlinewidth\": 0, \"ticks\": \"\"}}, \"marker\": {\"colorbar\": {\"outlinewidth\": 0, \"ticks\": \"\"}}, \"type\": \"scatter3d\"}], \"scattercarpet\": [{\"marker\": {\"colorbar\": {\"outlinewidth\": 0, \"ticks\": \"\"}}, \"type\": \"scattercarpet\"}], \"scattergeo\": [{\"marker\": {\"colorbar\": {\"outlinewidth\": 0, \"ticks\": \"\"}}, \"type\": \"scattergeo\"}], \"scattergl\": [{\"marker\": {\"colorbar\": {\"outlinewidth\": 0, \"ticks\": \"\"}}, \"type\": \"scattergl\"}], \"scattermapbox\": [{\"marker\": {\"colorbar\": {\"outlinewidth\": 0, \"ticks\": \"\"}}, \"type\": \"scattermapbox\"}], \"scatterpolar\": [{\"marker\": {\"colorbar\": {\"outlinewidth\": 0, \"ticks\": \"\"}}, \"type\": \"scatterpolar\"}], \"scatterpolargl\": [{\"marker\": {\"colorbar\": {\"outlinewidth\": 0, \"ticks\": \"\"}}, \"type\": \"scatterpolargl\"}], \"scatterternary\": [{\"marker\": {\"colorbar\": {\"outlinewidth\": 0, \"ticks\": \"\"}}, \"type\": \"scatterternary\"}], \"surface\": [{\"colorbar\": {\"outlinewidth\": 0, \"ticks\": \"\"}, \"colorscale\": [[0.0, \"#0d0887\"], [0.1111111111111111, \"#46039f\"], [0.2222222222222222, \"#7201a8\"], [0.3333333333333333, \"#9c179e\"], [0.4444444444444444, \"#bd3786\"], [0.5555555555555556, \"#d8576b\"], [0.6666666666666666, \"#ed7953\"], [0.7777777777777778, \"#fb9f3a\"], [0.8888888888888888, \"#fdca26\"], [1.0, \"#f0f921\"]], \"type\": \"surface\"}], \"table\": [{\"cells\": {\"fill\": {\"color\": \"#EBF0F8\"}, \"line\": {\"color\": \"white\"}}, \"header\": {\"fill\": {\"color\": \"#C8D4E3\"}, \"line\": {\"color\": \"white\"}}, \"type\": \"table\"}]}, \"layout\": {\"annotationdefaults\": {\"arrowcolor\": \"#2a3f5f\", \"arrowhead\": 0, \"arrowwidth\": 1}, \"coloraxis\": {\"colorbar\": {\"outlinewidth\": 0, \"ticks\": \"\"}}, \"colorscale\": {\"diverging\": [[0, \"#8e0152\"], [0.1, \"#c51b7d\"], [0.2, \"#de77ae\"], [0.3, \"#f1b6da\"], [0.4, \"#fde0ef\"], [0.5, \"#f7f7f7\"], [0.6, \"#e6f5d0\"], [0.7, \"#b8e186\"], [0.8, \"#7fbc41\"], [0.9, \"#4d9221\"], [1, \"#276419\"]], \"sequential\": [[0.0, \"#0d0887\"], [0.1111111111111111, \"#46039f\"], [0.2222222222222222, \"#7201a8\"], [0.3333333333333333, \"#9c179e\"], [0.4444444444444444, \"#bd3786\"], [0.5555555555555556, \"#d8576b\"], [0.6666666666666666, \"#ed7953\"], [0.7777777777777778, \"#fb9f3a\"], [0.8888888888888888, \"#fdca26\"], [1.0, \"#f0f921\"]], \"sequentialminus\": [[0.0, \"#0d0887\"], [0.1111111111111111, \"#46039f\"], [0.2222222222222222, \"#7201a8\"], [0.3333333333333333, \"#9c179e\"], [0.4444444444444444, \"#bd3786\"], [0.5555555555555556, \"#d8576b\"], [0.6666666666666666, \"#ed7953\"], [0.7777777777777778, \"#fb9f3a\"], [0.8888888888888888, \"#fdca26\"], [1.0, \"#f0f921\"]]}, \"colorway\": [\"#636efa\", \"#EF553B\", \"#00cc96\", \"#ab63fa\", \"#FFA15A\", \"#19d3f3\", \"#FF6692\", \"#B6E880\", \"#FF97FF\", \"#FECB52\"], \"font\": {\"color\": \"#2a3f5f\"}, \"geo\": {\"bgcolor\": \"white\", \"lakecolor\": \"white\", \"landcolor\": \"#E5ECF6\", \"showlakes\": true, \"showland\": true, \"subunitcolor\": \"white\"}, \"hoverlabel\": {\"align\": \"left\"}, \"hovermode\": \"closest\", \"mapbox\": {\"style\": \"light\"}, \"paper_bgcolor\": \"white\", \"plot_bgcolor\": \"#E5ECF6\", \"polar\": {\"angularaxis\": {\"gridcolor\": \"white\", \"linecolor\": \"white\", \"ticks\": \"\"}, \"bgcolor\": \"#E5ECF6\", \"radialaxis\": {\"gridcolor\": \"white\", \"linecolor\": \"white\", \"ticks\": \"\"}}, \"scene\": {\"xaxis\": {\"backgroundcolor\": \"#E5ECF6\", \"gridcolor\": \"white\", \"gridwidth\": 2, \"linecolor\": \"white\", \"showbackground\": true, \"ticks\": \"\", \"zerolinecolor\": \"white\"}, \"yaxis\": {\"backgroundcolor\": \"#E5ECF6\", \"gridcolor\": \"white\", \"gridwidth\": 2, \"linecolor\": \"white\", \"showbackground\": true, \"ticks\": \"\", \"zerolinecolor\": \"white\"}, \"zaxis\": {\"backgroundcolor\": \"#E5ECF6\", \"gridcolor\": \"white\", \"gridwidth\": 2, \"linecolor\": \"white\", \"showbackground\": true, \"ticks\": \"\", \"zerolinecolor\": \"white\"}}, \"shapedefaults\": {\"line\": {\"color\": \"#2a3f5f\"}}, \"ternary\": {\"aaxis\": {\"gridcolor\": \"white\", \"linecolor\": \"white\", \"ticks\": \"\"}, \"baxis\": {\"gridcolor\": \"white\", \"linecolor\": \"white\", \"ticks\": \"\"}, \"bgcolor\": \"#E5ECF6\", \"caxis\": {\"gridcolor\": \"white\", \"linecolor\": \"white\", \"ticks\": \"\"}}, \"title\": {\"x\": 0.05}, \"xaxis\": {\"automargin\": true, \"gridcolor\": \"white\", \"linecolor\": \"white\", \"ticks\": \"\", \"title\": {\"standoff\": 15}, \"zerolinecolor\": \"white\", \"zerolinewidth\": 2}, \"yaxis\": {\"automargin\": true, \"gridcolor\": \"white\", \"linecolor\": \"white\", \"ticks\": \"\", \"title\": {\"standoff\": 15}, \"zerolinecolor\": \"white\", \"zerolinewidth\": 2}}}, \"title\": {\"text\": \"Stopwordsleri kald\\u0131rd\\u0131ktan sonra en \\u00e7ok ge\\u00e7en 25 kelime\"}, \"xaxis\": {\"anchor\": \"y\", \"domain\": [0.0, 1.0], \"title\": {\"text\": \"kelime\"}}, \"yaxis\": {\"anchor\": \"x\", \"domain\": [0.0, 1.0], \"title\": {\"text\": \"ge\\u00e7i\\u015f frekans\\u0131\"}}},\n",
       "                        {\"responsive\": true}\n",
       "                    ).then(function(){\n",
       "                            \n",
       "var gd = document.getElementById('82e1c931-4616-4fdf-8aac-a4c6257253f0');\n",
       "var x = new MutationObserver(function (mutations, observer) {{\n",
       "        var display = window.getComputedStyle(gd).display;\n",
       "        if (!display || display === 'none') {{\n",
       "            console.log([gd, 'removed!']);\n",
       "            Plotly.purge(gd);\n",
       "            observer.disconnect();\n",
       "        }}\n",
       "}});\n",
       "\n",
       "// Listen for the removal of the full notebook cells\n",
       "var notebookContainer = gd.closest('#notebook-container');\n",
       "if (notebookContainer) {{\n",
       "    x.observe(notebookContainer, {childList: true});\n",
       "}}\n",
       "\n",
       "// Listen for the clearing of the current output cell\n",
       "var outputEl = gd.closest('.output');\n",
       "if (outputEl) {{\n",
       "    x.observe(outputEl, {childList: true});\n",
       "}}\n",
       "\n",
       "                        })\n",
       "                };\n",
       "                });\n",
       "            </script>\n",
       "        </div>"
      ]
     },
     "metadata": {},
     "output_type": "display_data"
    }
   ],
   "source": [
    "stop = stopwords.words('Dutch')\n",
    "with open('stop_words/dutch-stop-words.txt', encoding='utf-8') as file:  \n",
    "    stw = file.read() \n",
    "stw = stw.split()\n",
    "stw = [s.lower() for s in stw] \n",
    "stop += stw\n",
    "\n",
    "def get_top_n_words(corpus, n=None):\n",
    "    vec = CountVectorizer(stop_words = stop).fit(corpus)\n",
    "    bag_of_words = vec.transform(corpus)\n",
    "    sum_words = bag_of_words.sum(axis=0) \n",
    "    words_freq = [(word, sum_words[0, idx]) for word, idx in vec.vocabulary_.items()]\n",
    "    words_freq =sorted(words_freq, key = lambda x: x[1], reverse=True)\n",
    "    return words_freq[:n]\n",
    "\n",
    "common_words = get_top_n_words(data['descriptions'], 25)\n",
    "df2 = pd.DataFrame(common_words, columns = ['kelime' , 'geçiş frekansı'])\n",
    "fig = px.bar(df2, x='kelime', y='geçiş frekansı',\n",
    "             hover_data=['kelime', 'geçiş frekansı'], color='geçiş frekansı',\n",
    "             title='Stopwordsleri kaldırdıktan sonra en çok geçen 25 kelime',\n",
    "             height=400)\n",
    "fig.show()"
   ]
  },
  {
   "cell_type": "code",
   "execution_count": 187,
   "metadata": {},
   "outputs": [
    {
     "data": {
      "application/vnd.plotly.v1+json": {
       "config": {
        "plotlyServerURL": "https://plot.ly"
       },
       "data": [
        {
         "alignmentgroup": "True",
         "customdata": [
          [
           "includes fixes to the",
           4
          ],
          [
           "schrijft drie keer per",
           3
          ],
          [
           "drie keer per week",
           3
          ],
          [
           "keer per week bezighoudt",
           3
          ],
          [
           "zorgverleners intensive care staan",
           3
          ],
          [
           "intensive care staan frontlinie",
           3
          ],
          [
           "care staan frontlinie coronavirus",
           3
          ],
          [
           "staan frontlinie coronavirus bestrijden",
           3
          ],
          [
           "frontlinie coronavirus bestrijden michael",
           3
          ],
          [
           "coronavirus bestrijden michael frank",
           3
          ],
          [
           "bestrijden michael frank 53",
           3
          ],
          [
           "michael frank 53 intensivist",
           3
          ],
          [
           "frank 53 intensivist ic",
           3
          ],
          [
           "53 intensivist ic albert",
           3
          ],
          [
           "intensivist ic albert schweitzer",
           3
          ],
          [
           "ic albert schweitzer ziekenhuis",
           3
          ],
          [
           "albert schweitzer ziekenhuis dordrecht",
           3
          ],
          [
           "schweitzer ziekenhuis dordrecht geeft",
           3
          ],
          [
           "ziekenhuis dordrecht geeft dagelijks",
           3
          ],
          [
           "dordrecht geeft dagelijks inkijkje",
           3
          ],
          [
           "geeft dagelijks inkijkje werk",
           3
          ],
          [
           "dagelijks inkijkje werk deel",
           3
          ],
          [
           "lees voorgaande afleveringen terug",
           3
          ],
          [
           "nederlanders blijft redacteur frank",
           3
          ],
          [
           "blijft redacteur frank poorthuis",
           3
          ]
         ],
         "hoverlabel": {
          "namelength": 0
         },
         "hovertemplate": "kelime=%{customdata[0]}<br>geçiş frekansı=%{marker.color}",
         "legendgroup": "",
         "marker": {
          "color": [
           4,
           3,
           3,
           3,
           3,
           3,
           3,
           3,
           3,
           3,
           3,
           3,
           3,
           3,
           3,
           3,
           3,
           3,
           3,
           3,
           3,
           3,
           3,
           3,
           3
          ],
          "coloraxis": "coloraxis"
         },
         "name": "",
         "offsetgroup": "",
         "orientation": "v",
         "showlegend": false,
         "textposition": "auto",
         "type": "bar",
         "x": [
          "includes fixes to the",
          "schrijft drie keer per",
          "drie keer per week",
          "keer per week bezighoudt",
          "zorgverleners intensive care staan",
          "intensive care staan frontlinie",
          "care staan frontlinie coronavirus",
          "staan frontlinie coronavirus bestrijden",
          "frontlinie coronavirus bestrijden michael",
          "coronavirus bestrijden michael frank",
          "bestrijden michael frank 53",
          "michael frank 53 intensivist",
          "frank 53 intensivist ic",
          "53 intensivist ic albert",
          "intensivist ic albert schweitzer",
          "ic albert schweitzer ziekenhuis",
          "albert schweitzer ziekenhuis dordrecht",
          "schweitzer ziekenhuis dordrecht geeft",
          "ziekenhuis dordrecht geeft dagelijks",
          "dordrecht geeft dagelijks inkijkje",
          "geeft dagelijks inkijkje werk",
          "dagelijks inkijkje werk deel",
          "lees voorgaande afleveringen terug",
          "nederlanders blijft redacteur frank",
          "blijft redacteur frank poorthuis"
         ],
         "xaxis": "x",
         "y": [
          4,
          3,
          3,
          3,
          3,
          3,
          3,
          3,
          3,
          3,
          3,
          3,
          3,
          3,
          3,
          3,
          3,
          3,
          3,
          3,
          3,
          3,
          3,
          3,
          3
         ],
         "yaxis": "y"
        }
       ],
       "layout": {
        "barmode": "relative",
        "coloraxis": {
         "colorbar": {
          "title": {
           "text": "geçiş frekansı"
          }
         },
         "colorscale": [
          [
           0,
           "#0d0887"
          ],
          [
           0.1111111111111111,
           "#46039f"
          ],
          [
           0.2222222222222222,
           "#7201a8"
          ],
          [
           0.3333333333333333,
           "#9c179e"
          ],
          [
           0.4444444444444444,
           "#bd3786"
          ],
          [
           0.5555555555555556,
           "#d8576b"
          ],
          [
           0.6666666666666666,
           "#ed7953"
          ],
          [
           0.7777777777777778,
           "#fb9f3a"
          ],
          [
           0.8888888888888888,
           "#fdca26"
          ],
          [
           1,
           "#f0f921"
          ]
         ]
        },
        "height": 400,
        "legend": {
         "tracegroupgap": 0
        },
        "template": {
         "data": {
          "bar": [
           {
            "error_x": {
             "color": "#2a3f5f"
            },
            "error_y": {
             "color": "#2a3f5f"
            },
            "marker": {
             "line": {
              "color": "#E5ECF6",
              "width": 0.5
             }
            },
            "type": "bar"
           }
          ],
          "barpolar": [
           {
            "marker": {
             "line": {
              "color": "#E5ECF6",
              "width": 0.5
             }
            },
            "type": "barpolar"
           }
          ],
          "carpet": [
           {
            "aaxis": {
             "endlinecolor": "#2a3f5f",
             "gridcolor": "white",
             "linecolor": "white",
             "minorgridcolor": "white",
             "startlinecolor": "#2a3f5f"
            },
            "baxis": {
             "endlinecolor": "#2a3f5f",
             "gridcolor": "white",
             "linecolor": "white",
             "minorgridcolor": "white",
             "startlinecolor": "#2a3f5f"
            },
            "type": "carpet"
           }
          ],
          "choropleth": [
           {
            "colorbar": {
             "outlinewidth": 0,
             "ticks": ""
            },
            "type": "choropleth"
           }
          ],
          "contour": [
           {
            "colorbar": {
             "outlinewidth": 0,
             "ticks": ""
            },
            "colorscale": [
             [
              0,
              "#0d0887"
             ],
             [
              0.1111111111111111,
              "#46039f"
             ],
             [
              0.2222222222222222,
              "#7201a8"
             ],
             [
              0.3333333333333333,
              "#9c179e"
             ],
             [
              0.4444444444444444,
              "#bd3786"
             ],
             [
              0.5555555555555556,
              "#d8576b"
             ],
             [
              0.6666666666666666,
              "#ed7953"
             ],
             [
              0.7777777777777778,
              "#fb9f3a"
             ],
             [
              0.8888888888888888,
              "#fdca26"
             ],
             [
              1,
              "#f0f921"
             ]
            ],
            "type": "contour"
           }
          ],
          "contourcarpet": [
           {
            "colorbar": {
             "outlinewidth": 0,
             "ticks": ""
            },
            "type": "contourcarpet"
           }
          ],
          "heatmap": [
           {
            "colorbar": {
             "outlinewidth": 0,
             "ticks": ""
            },
            "colorscale": [
             [
              0,
              "#0d0887"
             ],
             [
              0.1111111111111111,
              "#46039f"
             ],
             [
              0.2222222222222222,
              "#7201a8"
             ],
             [
              0.3333333333333333,
              "#9c179e"
             ],
             [
              0.4444444444444444,
              "#bd3786"
             ],
             [
              0.5555555555555556,
              "#d8576b"
             ],
             [
              0.6666666666666666,
              "#ed7953"
             ],
             [
              0.7777777777777778,
              "#fb9f3a"
             ],
             [
              0.8888888888888888,
              "#fdca26"
             ],
             [
              1,
              "#f0f921"
             ]
            ],
            "type": "heatmap"
           }
          ],
          "heatmapgl": [
           {
            "colorbar": {
             "outlinewidth": 0,
             "ticks": ""
            },
            "colorscale": [
             [
              0,
              "#0d0887"
             ],
             [
              0.1111111111111111,
              "#46039f"
             ],
             [
              0.2222222222222222,
              "#7201a8"
             ],
             [
              0.3333333333333333,
              "#9c179e"
             ],
             [
              0.4444444444444444,
              "#bd3786"
             ],
             [
              0.5555555555555556,
              "#d8576b"
             ],
             [
              0.6666666666666666,
              "#ed7953"
             ],
             [
              0.7777777777777778,
              "#fb9f3a"
             ],
             [
              0.8888888888888888,
              "#fdca26"
             ],
             [
              1,
              "#f0f921"
             ]
            ],
            "type": "heatmapgl"
           }
          ],
          "histogram": [
           {
            "marker": {
             "colorbar": {
              "outlinewidth": 0,
              "ticks": ""
             }
            },
            "type": "histogram"
           }
          ],
          "histogram2d": [
           {
            "colorbar": {
             "outlinewidth": 0,
             "ticks": ""
            },
            "colorscale": [
             [
              0,
              "#0d0887"
             ],
             [
              0.1111111111111111,
              "#46039f"
             ],
             [
              0.2222222222222222,
              "#7201a8"
             ],
             [
              0.3333333333333333,
              "#9c179e"
             ],
             [
              0.4444444444444444,
              "#bd3786"
             ],
             [
              0.5555555555555556,
              "#d8576b"
             ],
             [
              0.6666666666666666,
              "#ed7953"
             ],
             [
              0.7777777777777778,
              "#fb9f3a"
             ],
             [
              0.8888888888888888,
              "#fdca26"
             ],
             [
              1,
              "#f0f921"
             ]
            ],
            "type": "histogram2d"
           }
          ],
          "histogram2dcontour": [
           {
            "colorbar": {
             "outlinewidth": 0,
             "ticks": ""
            },
            "colorscale": [
             [
              0,
              "#0d0887"
             ],
             [
              0.1111111111111111,
              "#46039f"
             ],
             [
              0.2222222222222222,
              "#7201a8"
             ],
             [
              0.3333333333333333,
              "#9c179e"
             ],
             [
              0.4444444444444444,
              "#bd3786"
             ],
             [
              0.5555555555555556,
              "#d8576b"
             ],
             [
              0.6666666666666666,
              "#ed7953"
             ],
             [
              0.7777777777777778,
              "#fb9f3a"
             ],
             [
              0.8888888888888888,
              "#fdca26"
             ],
             [
              1,
              "#f0f921"
             ]
            ],
            "type": "histogram2dcontour"
           }
          ],
          "mesh3d": [
           {
            "colorbar": {
             "outlinewidth": 0,
             "ticks": ""
            },
            "type": "mesh3d"
           }
          ],
          "parcoords": [
           {
            "line": {
             "colorbar": {
              "outlinewidth": 0,
              "ticks": ""
             }
            },
            "type": "parcoords"
           }
          ],
          "pie": [
           {
            "automargin": true,
            "type": "pie"
           }
          ],
          "scatter": [
           {
            "marker": {
             "colorbar": {
              "outlinewidth": 0,
              "ticks": ""
             }
            },
            "type": "scatter"
           }
          ],
          "scatter3d": [
           {
            "line": {
             "colorbar": {
              "outlinewidth": 0,
              "ticks": ""
             }
            },
            "marker": {
             "colorbar": {
              "outlinewidth": 0,
              "ticks": ""
             }
            },
            "type": "scatter3d"
           }
          ],
          "scattercarpet": [
           {
            "marker": {
             "colorbar": {
              "outlinewidth": 0,
              "ticks": ""
             }
            },
            "type": "scattercarpet"
           }
          ],
          "scattergeo": [
           {
            "marker": {
             "colorbar": {
              "outlinewidth": 0,
              "ticks": ""
             }
            },
            "type": "scattergeo"
           }
          ],
          "scattergl": [
           {
            "marker": {
             "colorbar": {
              "outlinewidth": 0,
              "ticks": ""
             }
            },
            "type": "scattergl"
           }
          ],
          "scattermapbox": [
           {
            "marker": {
             "colorbar": {
              "outlinewidth": 0,
              "ticks": ""
             }
            },
            "type": "scattermapbox"
           }
          ],
          "scatterpolar": [
           {
            "marker": {
             "colorbar": {
              "outlinewidth": 0,
              "ticks": ""
             }
            },
            "type": "scatterpolar"
           }
          ],
          "scatterpolargl": [
           {
            "marker": {
             "colorbar": {
              "outlinewidth": 0,
              "ticks": ""
             }
            },
            "type": "scatterpolargl"
           }
          ],
          "scatterternary": [
           {
            "marker": {
             "colorbar": {
              "outlinewidth": 0,
              "ticks": ""
             }
            },
            "type": "scatterternary"
           }
          ],
          "surface": [
           {
            "colorbar": {
             "outlinewidth": 0,
             "ticks": ""
            },
            "colorscale": [
             [
              0,
              "#0d0887"
             ],
             [
              0.1111111111111111,
              "#46039f"
             ],
             [
              0.2222222222222222,
              "#7201a8"
             ],
             [
              0.3333333333333333,
              "#9c179e"
             ],
             [
              0.4444444444444444,
              "#bd3786"
             ],
             [
              0.5555555555555556,
              "#d8576b"
             ],
             [
              0.6666666666666666,
              "#ed7953"
             ],
             [
              0.7777777777777778,
              "#fb9f3a"
             ],
             [
              0.8888888888888888,
              "#fdca26"
             ],
             [
              1,
              "#f0f921"
             ]
            ],
            "type": "surface"
           }
          ],
          "table": [
           {
            "cells": {
             "fill": {
              "color": "#EBF0F8"
             },
             "line": {
              "color": "white"
             }
            },
            "header": {
             "fill": {
              "color": "#C8D4E3"
             },
             "line": {
              "color": "white"
             }
            },
            "type": "table"
           }
          ]
         },
         "layout": {
          "annotationdefaults": {
           "arrowcolor": "#2a3f5f",
           "arrowhead": 0,
           "arrowwidth": 1
          },
          "coloraxis": {
           "colorbar": {
            "outlinewidth": 0,
            "ticks": ""
           }
          },
          "colorscale": {
           "diverging": [
            [
             0,
             "#8e0152"
            ],
            [
             0.1,
             "#c51b7d"
            ],
            [
             0.2,
             "#de77ae"
            ],
            [
             0.3,
             "#f1b6da"
            ],
            [
             0.4,
             "#fde0ef"
            ],
            [
             0.5,
             "#f7f7f7"
            ],
            [
             0.6,
             "#e6f5d0"
            ],
            [
             0.7,
             "#b8e186"
            ],
            [
             0.8,
             "#7fbc41"
            ],
            [
             0.9,
             "#4d9221"
            ],
            [
             1,
             "#276419"
            ]
           ],
           "sequential": [
            [
             0,
             "#0d0887"
            ],
            [
             0.1111111111111111,
             "#46039f"
            ],
            [
             0.2222222222222222,
             "#7201a8"
            ],
            [
             0.3333333333333333,
             "#9c179e"
            ],
            [
             0.4444444444444444,
             "#bd3786"
            ],
            [
             0.5555555555555556,
             "#d8576b"
            ],
            [
             0.6666666666666666,
             "#ed7953"
            ],
            [
             0.7777777777777778,
             "#fb9f3a"
            ],
            [
             0.8888888888888888,
             "#fdca26"
            ],
            [
             1,
             "#f0f921"
            ]
           ],
           "sequentialminus": [
            [
             0,
             "#0d0887"
            ],
            [
             0.1111111111111111,
             "#46039f"
            ],
            [
             0.2222222222222222,
             "#7201a8"
            ],
            [
             0.3333333333333333,
             "#9c179e"
            ],
            [
             0.4444444444444444,
             "#bd3786"
            ],
            [
             0.5555555555555556,
             "#d8576b"
            ],
            [
             0.6666666666666666,
             "#ed7953"
            ],
            [
             0.7777777777777778,
             "#fb9f3a"
            ],
            [
             0.8888888888888888,
             "#fdca26"
            ],
            [
             1,
             "#f0f921"
            ]
           ]
          },
          "colorway": [
           "#636efa",
           "#EF553B",
           "#00cc96",
           "#ab63fa",
           "#FFA15A",
           "#19d3f3",
           "#FF6692",
           "#B6E880",
           "#FF97FF",
           "#FECB52"
          ],
          "font": {
           "color": "#2a3f5f"
          },
          "geo": {
           "bgcolor": "white",
           "lakecolor": "white",
           "landcolor": "#E5ECF6",
           "showlakes": true,
           "showland": true,
           "subunitcolor": "white"
          },
          "hoverlabel": {
           "align": "left"
          },
          "hovermode": "closest",
          "mapbox": {
           "style": "light"
          },
          "paper_bgcolor": "white",
          "plot_bgcolor": "#E5ECF6",
          "polar": {
           "angularaxis": {
            "gridcolor": "white",
            "linecolor": "white",
            "ticks": ""
           },
           "bgcolor": "#E5ECF6",
           "radialaxis": {
            "gridcolor": "white",
            "linecolor": "white",
            "ticks": ""
           }
          },
          "scene": {
           "xaxis": {
            "backgroundcolor": "#E5ECF6",
            "gridcolor": "white",
            "gridwidth": 2,
            "linecolor": "white",
            "showbackground": true,
            "ticks": "",
            "zerolinecolor": "white"
           },
           "yaxis": {
            "backgroundcolor": "#E5ECF6",
            "gridcolor": "white",
            "gridwidth": 2,
            "linecolor": "white",
            "showbackground": true,
            "ticks": "",
            "zerolinecolor": "white"
           },
           "zaxis": {
            "backgroundcolor": "#E5ECF6",
            "gridcolor": "white",
            "gridwidth": 2,
            "linecolor": "white",
            "showbackground": true,
            "ticks": "",
            "zerolinecolor": "white"
           }
          },
          "shapedefaults": {
           "line": {
            "color": "#2a3f5f"
           }
          },
          "ternary": {
           "aaxis": {
            "gridcolor": "white",
            "linecolor": "white",
            "ticks": ""
           },
           "baxis": {
            "gridcolor": "white",
            "linecolor": "white",
            "ticks": ""
           },
           "bgcolor": "#E5ECF6",
           "caxis": {
            "gridcolor": "white",
            "linecolor": "white",
            "ticks": ""
           }
          },
          "title": {
           "x": 0.05
          },
          "xaxis": {
           "automargin": true,
           "gridcolor": "white",
           "linecolor": "white",
           "ticks": "",
           "title": {
            "standoff": 15
           },
           "zerolinecolor": "white",
           "zerolinewidth": 2
          },
          "yaxis": {
           "automargin": true,
           "gridcolor": "white",
           "linecolor": "white",
           "ticks": "",
           "title": {
            "standoff": 15
           },
           "zerolinecolor": "white",
           "zerolinewidth": 2
          }
         }
        },
        "title": {
         "text": "Stopwordsleri kaldırdıktan sonra en çok yan yana gelen ikili kelimeler"
        },
        "xaxis": {
         "anchor": "y",
         "domain": [
          0,
          1
         ],
         "title": {
          "text": "kelime"
         }
        },
        "yaxis": {
         "anchor": "x",
         "domain": [
          0,
          1
         ],
         "title": {
          "text": "geçiş frekansı"
         }
        }
       }
      },
      "text/html": [
       "<div>\n",
       "        \n",
       "        \n",
       "            <div id=\"b4a91f65-abbd-42b0-9c20-37f93f026fd3\" class=\"plotly-graph-div\" style=\"height:400px; width:100%;\"></div>\n",
       "            <script type=\"text/javascript\">\n",
       "                require([\"plotly\"], function(Plotly) {\n",
       "                    window.PLOTLYENV=window.PLOTLYENV || {};\n",
       "                    \n",
       "                if (document.getElementById(\"b4a91f65-abbd-42b0-9c20-37f93f026fd3\")) {\n",
       "                    Plotly.newPlot(\n",
       "                        'b4a91f65-abbd-42b0-9c20-37f93f026fd3',\n",
       "                        [{\"alignmentgroup\": \"True\", \"customdata\": [[\"includes fixes to the\", 4], [\"schrijft drie keer per\", 3], [\"drie keer per week\", 3], [\"keer per week bezighoudt\", 3], [\"zorgverleners intensive care staan\", 3], [\"intensive care staan frontlinie\", 3], [\"care staan frontlinie coronavirus\", 3], [\"staan frontlinie coronavirus bestrijden\", 3], [\"frontlinie coronavirus bestrijden michael\", 3], [\"coronavirus bestrijden michael frank\", 3], [\"bestrijden michael frank 53\", 3], [\"michael frank 53 intensivist\", 3], [\"frank 53 intensivist ic\", 3], [\"53 intensivist ic albert\", 3], [\"intensivist ic albert schweitzer\", 3], [\"ic albert schweitzer ziekenhuis\", 3], [\"albert schweitzer ziekenhuis dordrecht\", 3], [\"schweitzer ziekenhuis dordrecht geeft\", 3], [\"ziekenhuis dordrecht geeft dagelijks\", 3], [\"dordrecht geeft dagelijks inkijkje\", 3], [\"geeft dagelijks inkijkje werk\", 3], [\"dagelijks inkijkje werk deel\", 3], [\"lees voorgaande afleveringen terug\", 3], [\"nederlanders blijft redacteur frank\", 3], [\"blijft redacteur frank poorthuis\", 3]], \"hoverlabel\": {\"namelength\": 0}, \"hovertemplate\": \"kelime=%{customdata[0]}<br>ge\\u00e7i\\u015f frekans\\u0131=%{marker.color}\", \"legendgroup\": \"\", \"marker\": {\"color\": [4, 3, 3, 3, 3, 3, 3, 3, 3, 3, 3, 3, 3, 3, 3, 3, 3, 3, 3, 3, 3, 3, 3, 3, 3], \"coloraxis\": \"coloraxis\"}, \"name\": \"\", \"offsetgroup\": \"\", \"orientation\": \"v\", \"showlegend\": false, \"textposition\": \"auto\", \"type\": \"bar\", \"x\": [\"includes fixes to the\", \"schrijft drie keer per\", \"drie keer per week\", \"keer per week bezighoudt\", \"zorgverleners intensive care staan\", \"intensive care staan frontlinie\", \"care staan frontlinie coronavirus\", \"staan frontlinie coronavirus bestrijden\", \"frontlinie coronavirus bestrijden michael\", \"coronavirus bestrijden michael frank\", \"bestrijden michael frank 53\", \"michael frank 53 intensivist\", \"frank 53 intensivist ic\", \"53 intensivist ic albert\", \"intensivist ic albert schweitzer\", \"ic albert schweitzer ziekenhuis\", \"albert schweitzer ziekenhuis dordrecht\", \"schweitzer ziekenhuis dordrecht geeft\", \"ziekenhuis dordrecht geeft dagelijks\", \"dordrecht geeft dagelijks inkijkje\", \"geeft dagelijks inkijkje werk\", \"dagelijks inkijkje werk deel\", \"lees voorgaande afleveringen terug\", \"nederlanders blijft redacteur frank\", \"blijft redacteur frank poorthuis\"], \"xaxis\": \"x\", \"y\": [4, 3, 3, 3, 3, 3, 3, 3, 3, 3, 3, 3, 3, 3, 3, 3, 3, 3, 3, 3, 3, 3, 3, 3, 3], \"yaxis\": \"y\"}],\n",
       "                        {\"barmode\": \"relative\", \"coloraxis\": {\"colorbar\": {\"title\": {\"text\": \"ge\\u00e7i\\u015f frekans\\u0131\"}}, \"colorscale\": [[0.0, \"#0d0887\"], [0.1111111111111111, \"#46039f\"], [0.2222222222222222, \"#7201a8\"], [0.3333333333333333, \"#9c179e\"], [0.4444444444444444, \"#bd3786\"], [0.5555555555555556, \"#d8576b\"], [0.6666666666666666, \"#ed7953\"], [0.7777777777777778, \"#fb9f3a\"], [0.8888888888888888, \"#fdca26\"], [1.0, \"#f0f921\"]]}, \"height\": 400, \"legend\": {\"tracegroupgap\": 0}, \"template\": {\"data\": {\"bar\": [{\"error_x\": {\"color\": \"#2a3f5f\"}, \"error_y\": {\"color\": \"#2a3f5f\"}, \"marker\": {\"line\": {\"color\": \"#E5ECF6\", \"width\": 0.5}}, \"type\": \"bar\"}], \"barpolar\": [{\"marker\": {\"line\": {\"color\": \"#E5ECF6\", \"width\": 0.5}}, \"type\": \"barpolar\"}], \"carpet\": [{\"aaxis\": {\"endlinecolor\": \"#2a3f5f\", \"gridcolor\": \"white\", \"linecolor\": \"white\", \"minorgridcolor\": \"white\", \"startlinecolor\": \"#2a3f5f\"}, \"baxis\": {\"endlinecolor\": \"#2a3f5f\", \"gridcolor\": \"white\", \"linecolor\": \"white\", \"minorgridcolor\": \"white\", \"startlinecolor\": \"#2a3f5f\"}, \"type\": \"carpet\"}], \"choropleth\": [{\"colorbar\": {\"outlinewidth\": 0, \"ticks\": \"\"}, \"type\": \"choropleth\"}], \"contour\": [{\"colorbar\": {\"outlinewidth\": 0, \"ticks\": \"\"}, \"colorscale\": [[0.0, \"#0d0887\"], [0.1111111111111111, \"#46039f\"], [0.2222222222222222, \"#7201a8\"], [0.3333333333333333, \"#9c179e\"], [0.4444444444444444, \"#bd3786\"], [0.5555555555555556, \"#d8576b\"], [0.6666666666666666, \"#ed7953\"], [0.7777777777777778, \"#fb9f3a\"], [0.8888888888888888, \"#fdca26\"], [1.0, \"#f0f921\"]], \"type\": \"contour\"}], \"contourcarpet\": [{\"colorbar\": {\"outlinewidth\": 0, \"ticks\": \"\"}, \"type\": \"contourcarpet\"}], \"heatmap\": [{\"colorbar\": {\"outlinewidth\": 0, \"ticks\": \"\"}, \"colorscale\": [[0.0, \"#0d0887\"], [0.1111111111111111, \"#46039f\"], [0.2222222222222222, \"#7201a8\"], [0.3333333333333333, \"#9c179e\"], [0.4444444444444444, \"#bd3786\"], [0.5555555555555556, \"#d8576b\"], [0.6666666666666666, \"#ed7953\"], [0.7777777777777778, \"#fb9f3a\"], [0.8888888888888888, \"#fdca26\"], [1.0, \"#f0f921\"]], \"type\": \"heatmap\"}], \"heatmapgl\": [{\"colorbar\": {\"outlinewidth\": 0, \"ticks\": \"\"}, \"colorscale\": [[0.0, \"#0d0887\"], [0.1111111111111111, \"#46039f\"], [0.2222222222222222, \"#7201a8\"], [0.3333333333333333, \"#9c179e\"], [0.4444444444444444, \"#bd3786\"], [0.5555555555555556, \"#d8576b\"], [0.6666666666666666, \"#ed7953\"], [0.7777777777777778, \"#fb9f3a\"], [0.8888888888888888, \"#fdca26\"], [1.0, \"#f0f921\"]], \"type\": \"heatmapgl\"}], \"histogram\": [{\"marker\": {\"colorbar\": {\"outlinewidth\": 0, \"ticks\": \"\"}}, \"type\": \"histogram\"}], \"histogram2d\": [{\"colorbar\": {\"outlinewidth\": 0, \"ticks\": \"\"}, \"colorscale\": [[0.0, \"#0d0887\"], [0.1111111111111111, \"#46039f\"], [0.2222222222222222, \"#7201a8\"], [0.3333333333333333, \"#9c179e\"], [0.4444444444444444, \"#bd3786\"], [0.5555555555555556, \"#d8576b\"], [0.6666666666666666, \"#ed7953\"], [0.7777777777777778, \"#fb9f3a\"], [0.8888888888888888, \"#fdca26\"], [1.0, \"#f0f921\"]], \"type\": \"histogram2d\"}], \"histogram2dcontour\": [{\"colorbar\": {\"outlinewidth\": 0, \"ticks\": \"\"}, \"colorscale\": [[0.0, \"#0d0887\"], [0.1111111111111111, \"#46039f\"], [0.2222222222222222, \"#7201a8\"], [0.3333333333333333, \"#9c179e\"], [0.4444444444444444, \"#bd3786\"], [0.5555555555555556, \"#d8576b\"], [0.6666666666666666, \"#ed7953\"], [0.7777777777777778, \"#fb9f3a\"], [0.8888888888888888, \"#fdca26\"], [1.0, \"#f0f921\"]], \"type\": \"histogram2dcontour\"}], \"mesh3d\": [{\"colorbar\": {\"outlinewidth\": 0, \"ticks\": \"\"}, \"type\": \"mesh3d\"}], \"parcoords\": [{\"line\": {\"colorbar\": {\"outlinewidth\": 0, \"ticks\": \"\"}}, \"type\": \"parcoords\"}], \"pie\": [{\"automargin\": true, \"type\": \"pie\"}], \"scatter\": [{\"marker\": {\"colorbar\": {\"outlinewidth\": 0, \"ticks\": \"\"}}, \"type\": \"scatter\"}], \"scatter3d\": [{\"line\": {\"colorbar\": {\"outlinewidth\": 0, \"ticks\": \"\"}}, \"marker\": {\"colorbar\": {\"outlinewidth\": 0, \"ticks\": \"\"}}, \"type\": \"scatter3d\"}], \"scattercarpet\": [{\"marker\": {\"colorbar\": {\"outlinewidth\": 0, \"ticks\": \"\"}}, \"type\": \"scattercarpet\"}], \"scattergeo\": [{\"marker\": {\"colorbar\": {\"outlinewidth\": 0, \"ticks\": \"\"}}, \"type\": \"scattergeo\"}], \"scattergl\": [{\"marker\": {\"colorbar\": {\"outlinewidth\": 0, \"ticks\": \"\"}}, \"type\": \"scattergl\"}], \"scattermapbox\": [{\"marker\": {\"colorbar\": {\"outlinewidth\": 0, \"ticks\": \"\"}}, \"type\": \"scattermapbox\"}], \"scatterpolar\": [{\"marker\": {\"colorbar\": {\"outlinewidth\": 0, \"ticks\": \"\"}}, \"type\": \"scatterpolar\"}], \"scatterpolargl\": [{\"marker\": {\"colorbar\": {\"outlinewidth\": 0, \"ticks\": \"\"}}, \"type\": \"scatterpolargl\"}], \"scatterternary\": [{\"marker\": {\"colorbar\": {\"outlinewidth\": 0, \"ticks\": \"\"}}, \"type\": \"scatterternary\"}], \"surface\": [{\"colorbar\": {\"outlinewidth\": 0, \"ticks\": \"\"}, \"colorscale\": [[0.0, \"#0d0887\"], [0.1111111111111111, \"#46039f\"], [0.2222222222222222, \"#7201a8\"], [0.3333333333333333, \"#9c179e\"], [0.4444444444444444, \"#bd3786\"], [0.5555555555555556, \"#d8576b\"], [0.6666666666666666, \"#ed7953\"], [0.7777777777777778, \"#fb9f3a\"], [0.8888888888888888, \"#fdca26\"], [1.0, \"#f0f921\"]], \"type\": \"surface\"}], \"table\": [{\"cells\": {\"fill\": {\"color\": \"#EBF0F8\"}, \"line\": {\"color\": \"white\"}}, \"header\": {\"fill\": {\"color\": \"#C8D4E3\"}, \"line\": {\"color\": \"white\"}}, \"type\": \"table\"}]}, \"layout\": {\"annotationdefaults\": {\"arrowcolor\": \"#2a3f5f\", \"arrowhead\": 0, \"arrowwidth\": 1}, \"coloraxis\": {\"colorbar\": {\"outlinewidth\": 0, \"ticks\": \"\"}}, \"colorscale\": {\"diverging\": [[0, \"#8e0152\"], [0.1, \"#c51b7d\"], [0.2, \"#de77ae\"], [0.3, \"#f1b6da\"], [0.4, \"#fde0ef\"], [0.5, \"#f7f7f7\"], [0.6, \"#e6f5d0\"], [0.7, \"#b8e186\"], [0.8, \"#7fbc41\"], [0.9, \"#4d9221\"], [1, \"#276419\"]], \"sequential\": [[0.0, \"#0d0887\"], [0.1111111111111111, \"#46039f\"], [0.2222222222222222, \"#7201a8\"], [0.3333333333333333, \"#9c179e\"], [0.4444444444444444, \"#bd3786\"], [0.5555555555555556, \"#d8576b\"], [0.6666666666666666, \"#ed7953\"], [0.7777777777777778, \"#fb9f3a\"], [0.8888888888888888, \"#fdca26\"], [1.0, \"#f0f921\"]], \"sequentialminus\": [[0.0, \"#0d0887\"], [0.1111111111111111, \"#46039f\"], [0.2222222222222222, \"#7201a8\"], [0.3333333333333333, \"#9c179e\"], [0.4444444444444444, \"#bd3786\"], [0.5555555555555556, \"#d8576b\"], [0.6666666666666666, \"#ed7953\"], [0.7777777777777778, \"#fb9f3a\"], [0.8888888888888888, \"#fdca26\"], [1.0, \"#f0f921\"]]}, \"colorway\": [\"#636efa\", \"#EF553B\", \"#00cc96\", \"#ab63fa\", \"#FFA15A\", \"#19d3f3\", \"#FF6692\", \"#B6E880\", \"#FF97FF\", \"#FECB52\"], \"font\": {\"color\": \"#2a3f5f\"}, \"geo\": {\"bgcolor\": \"white\", \"lakecolor\": \"white\", \"landcolor\": \"#E5ECF6\", \"showlakes\": true, \"showland\": true, \"subunitcolor\": \"white\"}, \"hoverlabel\": {\"align\": \"left\"}, \"hovermode\": \"closest\", \"mapbox\": {\"style\": \"light\"}, \"paper_bgcolor\": \"white\", \"plot_bgcolor\": \"#E5ECF6\", \"polar\": {\"angularaxis\": {\"gridcolor\": \"white\", \"linecolor\": \"white\", \"ticks\": \"\"}, \"bgcolor\": \"#E5ECF6\", \"radialaxis\": {\"gridcolor\": \"white\", \"linecolor\": \"white\", \"ticks\": \"\"}}, \"scene\": {\"xaxis\": {\"backgroundcolor\": \"#E5ECF6\", \"gridcolor\": \"white\", \"gridwidth\": 2, \"linecolor\": \"white\", \"showbackground\": true, \"ticks\": \"\", \"zerolinecolor\": \"white\"}, \"yaxis\": {\"backgroundcolor\": \"#E5ECF6\", \"gridcolor\": \"white\", \"gridwidth\": 2, \"linecolor\": \"white\", \"showbackground\": true, \"ticks\": \"\", \"zerolinecolor\": \"white\"}, \"zaxis\": {\"backgroundcolor\": \"#E5ECF6\", \"gridcolor\": \"white\", \"gridwidth\": 2, \"linecolor\": \"white\", \"showbackground\": true, \"ticks\": \"\", \"zerolinecolor\": \"white\"}}, \"shapedefaults\": {\"line\": {\"color\": \"#2a3f5f\"}}, \"ternary\": {\"aaxis\": {\"gridcolor\": \"white\", \"linecolor\": \"white\", \"ticks\": \"\"}, \"baxis\": {\"gridcolor\": \"white\", \"linecolor\": \"white\", \"ticks\": \"\"}, \"bgcolor\": \"#E5ECF6\", \"caxis\": {\"gridcolor\": \"white\", \"linecolor\": \"white\", \"ticks\": \"\"}}, \"title\": {\"x\": 0.05}, \"xaxis\": {\"automargin\": true, \"gridcolor\": \"white\", \"linecolor\": \"white\", \"ticks\": \"\", \"title\": {\"standoff\": 15}, \"zerolinecolor\": \"white\", \"zerolinewidth\": 2}, \"yaxis\": {\"automargin\": true, \"gridcolor\": \"white\", \"linecolor\": \"white\", \"ticks\": \"\", \"title\": {\"standoff\": 15}, \"zerolinecolor\": \"white\", \"zerolinewidth\": 2}}}, \"title\": {\"text\": \"Stopwordsleri kald\\u0131rd\\u0131ktan sonra en \\u00e7ok yan yana gelen ikili kelimeler\"}, \"xaxis\": {\"anchor\": \"y\", \"domain\": [0.0, 1.0], \"title\": {\"text\": \"kelime\"}}, \"yaxis\": {\"anchor\": \"x\", \"domain\": [0.0, 1.0], \"title\": {\"text\": \"ge\\u00e7i\\u015f frekans\\u0131\"}}},\n",
       "                        {\"responsive\": true}\n",
       "                    ).then(function(){\n",
       "                            \n",
       "var gd = document.getElementById('b4a91f65-abbd-42b0-9c20-37f93f026fd3');\n",
       "var x = new MutationObserver(function (mutations, observer) {{\n",
       "        var display = window.getComputedStyle(gd).display;\n",
       "        if (!display || display === 'none') {{\n",
       "            console.log([gd, 'removed!']);\n",
       "            Plotly.purge(gd);\n",
       "            observer.disconnect();\n",
       "        }}\n",
       "}});\n",
       "\n",
       "// Listen for the removal of the full notebook cells\n",
       "var notebookContainer = gd.closest('#notebook-container');\n",
       "if (notebookContainer) {{\n",
       "    x.observe(notebookContainer, {childList: true});\n",
       "}}\n",
       "\n",
       "// Listen for the clearing of the current output cell\n",
       "var outputEl = gd.closest('.output');\n",
       "if (outputEl) {{\n",
       "    x.observe(outputEl, {childList: true});\n",
       "}}\n",
       "\n",
       "                        })\n",
       "                };\n",
       "                });\n",
       "            </script>\n",
       "        </div>"
      ]
     },
     "metadata": {},
     "output_type": "display_data"
    }
   ],
   "source": [
    "def get_top_n_bigram(corpus, n=None):\n",
    "    vec = CountVectorizer(ngram_range=(4, 4), stop_words=stop).fit(corpus)\n",
    "    bag_of_words = vec.transform(corpus)\n",
    "    sum_words = bag_of_words.sum(axis=0) \n",
    "    words_freq = [(word, sum_words[0, idx]) for word, idx in vec.vocabulary_.items()]\n",
    "    words_freq =sorted(words_freq, key = lambda x: x[1], reverse=True)\n",
    "    return words_freq[:n]\n",
    "\n",
    "common_words = get_top_n_bigram(data['descriptions'], 25)\n",
    "df3 = pd.DataFrame(common_words, columns = ['kelime' , 'geçiş frekansı'])\n",
    "fig = px.bar(df3, x='kelime', y='geçiş frekansı',\n",
    "             hover_data=['kelime', 'geçiş frekansı'], color='geçiş frekansı',\n",
    "             title='Stopwordsleri kaldırdıktan sonra en çok yan yana gelen ikili kelimeler',\n",
    "             height=400)\n",
    "fig.show()"
   ]
  },
  {
   "cell_type": "code",
   "execution_count": 178,
   "metadata": {},
   "outputs": [],
   "source": [
    "data_all = 'output/' + str(pd.to_datetime('now').strftime(\" %y.%m.%d %I.%M\"))+ '  10-data_all'\n",
    "data.to_csv(data_all+'.csv')"
   ]
  },
  {
   "cell_type": "code",
   "execution_count": null,
   "metadata": {},
   "outputs": [],
   "source": []
  }
 ],
 "metadata": {
  "kernelspec": {
   "display_name": "Python 3",
   "language": "python",
   "name": "python3"
  },
  "language_info": {
   "codemirror_mode": {
    "name": "ipython",
    "version": 3
   },
   "file_extension": ".py",
   "mimetype": "text/x-python",
   "name": "python",
   "nbconvert_exporter": "python",
   "pygments_lexer": "ipython3",
   "version": "3.7.4"
  }
 },
 "nbformat": 4,
 "nbformat_minor": 2
}
