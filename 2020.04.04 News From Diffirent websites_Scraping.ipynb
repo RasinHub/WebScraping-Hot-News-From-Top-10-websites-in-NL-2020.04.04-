{
 "cells": [
  {
   "cell_type": "markdown",
   "metadata": {},
   "source": [
    "__2020.04.04 News From Diffirent websites_Scraping__\n"
   ]
  },
  {
   "cell_type": "code",
   "execution_count": 1,
   "metadata": {},
   "outputs": [],
   "source": [
    "# Importing Libraries \n",
    "import requests\n",
    "import pandas as pd\n",
    "from bs4 import BeautifulSoup\n",
    "from datetime import date, timedelta \n",
    "import matplotlib.pyplot as plt\n",
    "import numpy as np\n",
    "import seaborn as sns\n"
   ]
  },
  {
   "cell_type": "code",
   "execution_count": 2,
   "metadata": {
    "scrolled": true
   },
   "outputs": [],
   "source": [
    "# A function in order to print all the news from all websites \n",
    "def table(df,title):\n",
    "    print('         ---------------'+title + '---------------' )\n",
    "    print(' ')\n",
    "    for i in range(len(df)):\n",
    "        print(1+i)\n",
    "        print('TITLE--> ' + df.loc[i,'titles'])\n",
    "        #print('                                   * * *                             ')\n",
    "        print('DISCRIPTION--> ' + df.loc[i,'descriptions'])\n",
    "        #print('--------------------------------------------------------------------')\n",
    "        print('READ MORE--> ' + df.loc[i,'links'])\n",
    "        print(' ')\n",
    "        print('         +--------------------------------------------------------------------+')\n",
    "        print(' ')\n",
    "\n",
    "        # Functions() for each News Sites to connect to the sites and to  gether the news \n",
    "# NU NIEUWS - www.nu.nl/net-binnen\n",
    "def Nu_Nieuws():\n",
    "    url='https://www.nu.nl/net-binnen'\n",
    "    r=requests.get(url)\n",
    "    soup = BeautifulSoup(r.text,'html.parser')\n",
    "    div=soup.find('div',{'class':'column-content-background'})\n",
    "    lis=div.find_all('li')    \n",
    "    titles=[]\n",
    "    description = []\n",
    "    link=[]\n",
    "    site_names=[]\n",
    "    for li in lis:\n",
    "        a = li.find('a').attrs[\"href\"]\n",
    "        a = 'https://www.nu.nl' + str(a)\n",
    "        title=li.find('span',{'class':'item-title__title'}).get_text()\n",
    "        site_name = 'www.nu.nl'\n",
    "        try:  \n",
    "            content=li.find('span',{'class':'excerpt'}).get_text()\n",
    "        except AttributeError:\n",
    "            content=title\n",
    "            \n",
    "       \n",
    "        titles.append(title)\n",
    "        description.append(content)\n",
    "        link.append(a)\n",
    "        site_names.append(site_name)\n",
    "    df_nu = pd.DataFrame(titles)\n",
    "    df_nu.columns = ['titles']\n",
    "    df_nu['descriptions'] = description\n",
    "    df_nu['links'] = link\n",
    "    df_nu['site_name'] = site_names\n",
    "    data_all = 'output/archive/' + str(pd.to_datetime('now').strftime(\"%y.%m.%d %I.%M\")) +'  00-NU_Net_binnenland'\n",
    "    df_nu.to_csv(data_all+'.csv')\n",
    "    df_nu.to_csv('output/live/00-NU_Net_binnenland.csv')\n",
    "    table(df_nu, 'NU.NL NET BINNEN')\n",
    "    return df_nu\n",
    "\n",
    "\n",
    "# NOS NIEUWS -- www.nos.nl/nieuws/binnenland\n",
    "def Nos_Nieuws():\n",
    "    url='https://nos.nl/nieuws/binnenland/'\n",
    "    r=requests.get(url)\n",
    "    soup = BeautifulSoup(r.text,'html.parser')\n",
    "    lis=soup.findAll(\"li\", class_=\"list-items__item space-bottom-xl\")\n",
    "    titles=[]\n",
    "    description = []\n",
    "    link=[]\n",
    "    site_names=[]\n",
    "    for li in lis:    \n",
    "        a = li.find('a',{'class':'link-block list-items__link'}).attrs[\"href\"]\n",
    "        a = 'https://www.nos.nl' + str(a)\n",
    "        title=li.find('h3',{'class':'list-items__title list-items__link-hover'}).get_text()\n",
    "        content=li.find('p',{'class':'list-items__description'}).get_text()\n",
    "        site_name = 'www.nos.nl'\n",
    "        titles.append(title)\n",
    "        description.append(content)\n",
    "        link.append(a)\n",
    "        site_names.append(site_name)\n",
    "    df_nos = pd.DataFrame(titles)\n",
    "    df_nos.columns = ['titles']\n",
    "    df_nos['descriptions'] = description\n",
    "    df_nos['links'] = link\n",
    "    df_nos['site_name'] = site_names\n",
    "    data_all = 'output/archive/'+ str(pd.to_datetime('now').strftime(\"%y.%m.%d %I.%M\")) + '  01-NOS_binnenland' \n",
    "    df_nos.to_csv(data_all+'.csv')\n",
    "    df_nos.to_csv('output/live/01-NOS_binnenland.csv')\n",
    "    table(df_nos, 'NOS.NL BINNENLAND NIEUWS')\n",
    "    return df_nos\n",
    "    \n",
    "# AD.NL NIEUWS -- www.ad.nl/binnenland/\n",
    "def Ad_Nieuws():\n",
    "    url='https://www.ad.nl/binnenland/rss.xml'\n",
    "    r=requests.get(url)\n",
    "    soup = BeautifulSoup(r.text,'html.parser')\n",
    "    items=soup.findAll(\"item\")\n",
    "    titles=[]\n",
    "    descriptions = []\n",
    "    links=[]\n",
    "    dates=[]\n",
    "    site_names=[]\n",
    "    for item in items:    \n",
    "        a = item.find('guid').get_text()\n",
    "        title=item.find('title').get_text()\n",
    "        content=item.find('description').get_text()\n",
    "        date=item.find('pubdate').get_text()\n",
    "        site_name = 'www.ad.nl'\n",
    "        titles.append(title)\n",
    "        descriptions.append(content)\n",
    "        links.append(a)\n",
    "        site_names.append(site_name)\n",
    "        dates.append(date)\n",
    "    df_ad = pd.DataFrame(titles)\n",
    "    df_ad.columns = ['titles']\n",
    "    df_ad['descriptions'] = descriptions\n",
    "    df_ad['links'] = links\n",
    "    df_ad['site_name'] = site_names\n",
    "    #df_ad['dates'] = dates\n",
    "    data_all = 'output/archive/' + str(pd.to_datetime('now').strftime(\"%y.%m.%d %I.%M\")) + '  02-AD_Binnenland'\n",
    "    df_ad.to_csv(data_all+'.csv')\n",
    "    df_ad.to_csv('output/live/02-AD_Binnenland.csv')\n",
    "    table(df_ad, 'AD.NL BINNENLAND NIEUWS')\n",
    "    return df_ad\n",
    "\n",
    "# TELEGRAAF.NL NIEUWS -- www.telegraaf.nl/nieuws/binnenland\n",
    "def Telegraaf_Nieuws():\n",
    "    url='https://www.telegraaf.nl/nieuws/binnenland'\n",
    "    r=requests.get(url)\n",
    "    soup = BeautifulSoup(r.text,'html.parser')\n",
    "    articles=soup.findAll(\"article\")\n",
    "    titles=[]\n",
    "    descriptions = []\n",
    "    links=[]\n",
    "    dates=[]\n",
    "    site_names=[]\n",
    "    for article in articles:    \n",
    "        a = article.find('a').attrs[\"href\"]\n",
    "        a = 'https://www.telegraaf.nl' + str(a)\n",
    "        title=article.find('h2').get_text()\n",
    "        site_name = 'www.telegraaf.nl'\n",
    "        \n",
    "        try:  \n",
    "            content=article.find('a',{'class':'TeaserSummary__summary'}).find('p',{'class':'TeaserSummary__paragraph'}).get_text()\n",
    "        except AttributeError:\n",
    "            content=title\n",
    "        try:\n",
    "            date=article.find('time',{'data-element':'articleTimestampText'}).get_text()\n",
    "        except AttributeError:\n",
    "            date = 'Empty'\n",
    "        titles.append(title)\n",
    "        descriptions.append(content)\n",
    "        links.append(a)\n",
    "        site_names.append(site_name)\n",
    "    df_tele = pd.DataFrame(titles)\n",
    "    df_tele.columns = ['titles']\n",
    "    df_tele['descriptions'] = descriptions\n",
    "    df_tele['links'] = links\n",
    "    df_tele['site_name'] = site_names\n",
    "    data_all = 'output/archive/' + str(pd.to_datetime('now').strftime(\"%y.%m.%d %I.%M\")) +'  03-TELEGRAAF_Binnenland' \n",
    "    df_tele.to_csv(data_all+'.csv')\n",
    "    df_tele.to_csv('output/live/03-TELEGRAAF_Binnenland.csv')\n",
    "    table(df_tele, 'TELEGRAAF.NL BINNENLAND NIEUWS')\n",
    "    return df_tele\n",
    "        \n",
    "# TWEAKERS.NL NIEUWS -- feeds.feedburner.com/tweakers/mixed\n",
    "def Tweakers_Nieuws():\n",
    "    url='http://feeds.feedburner.com/tweakers/mixed'\n",
    "    r=requests.get(url)\n",
    "    soup = BeautifulSoup(r.text,'html.parser')\n",
    "    items=soup.findAll('item')  \n",
    "    titles=[]\n",
    "    descriptions = []\n",
    "    links=[]\n",
    "    dates=[]\n",
    "    site_names=[]\n",
    "    for item in items:    \n",
    "        a = item.find('guid').get_text()\n",
    "        title=item.find('title').get_text()\n",
    "        content=item.find('description').get_text()\n",
    "        date=item.find('pubdate').get_text()\n",
    "        site_name = 'www.tweakers.nl'\n",
    "        titles.append(title)\n",
    "        descriptions.append(content)\n",
    "        links.append(a)\n",
    "        site_names.append(site_name)\n",
    "        dates.append(date)\n",
    "    df_teawkers = pd.DataFrame(titles)\n",
    "    df_teawkers.columns = ['titles']\n",
    "    df_teawkers['descriptions'] = descriptions\n",
    "    df_teawkers['links'] = links\n",
    "    df_teawkers['site_name'] = site_names\n",
    "    #df_ad['dates'] = dates\n",
    "    \n",
    "    data_all = 'output/archive/' + str(pd.to_datetime('now').strftime(\"%y.%m.%d %I.%M\")) + '  04-TWEAKERS_Nieuws'\n",
    "    df_teawkers.to_csv(data_all+'.csv')\n",
    "    df_teawkers.to_csv('output/live/04-TWEAKERS_Nieuws.csv')\n",
    "    table(df_teawkers, 'TWEAKERS.NL NIEUWS')\n",
    "    return df_teawkers\n",
    "\n",
    "# RTLNuiews.NL NIEUWS -- www.rtlnieuws.nl/nieuws/nederland\n",
    "def Rtl_Nieuws():\n",
    "    url='https://www.rtlnieuws.nl/nieuws/nederland'\n",
    "    r=requests.get(url)\n",
    "    soup = BeautifulSoup(r.text,'html.parser')\n",
    "    divs=soup.findAll('div',{'class':'large-4 medium-4 small-12 columns grid-block'})  \n",
    "    titles=[]\n",
    "    descriptions = []\n",
    "    links=[]\n",
    "    dates=[]\n",
    "    site_names=[]\n",
    "    for div in divs:    \n",
    "        a = div.find('a',{'class':'js_link image-block-link'}).attrs[\"href\"]     \n",
    "        title=div.find('h2', {'class':'js_title'}).get_text()         \n",
    "        content=div.find('div',{'class':'box-text'}).find('span').get_text()  \n",
    "        site_name = 'www.rtlnieuws.nl'\n",
    "        titles.append(title)\n",
    "        descriptions.append(content)\n",
    "        links.append(a)\n",
    "        site_names.append(site_name)\n",
    "    df_rtl = pd.DataFrame(titles)\n",
    "    df_rtl.columns = ['titles']\n",
    "    df_rtl['descriptions'] = descriptions\n",
    "    df_rtl['links'] = links\n",
    "    df_rtl['site_name'] = site_names\n",
    "    #df_ad['dates'] = dates\n",
    "    data_all = 'output/archive/' + str(pd.to_datetime('now').strftime(\"%y.%m.%d %I.%M\")) + '  05-RTL_Nieuws' \n",
    "    df_rtl.to_csv(data_all+'.csv')\n",
    "    df_rtl.to_csv('output/live/05-RTL_Nieuws.csv')\n",
    "    table(df_rtl, 'RTLNIEUS.NL NIEUWS')\n",
    "    return df_rtl\n",
    "\n",
    "# PAROOLNuiews.NL NIEUWS -- www.parool.nl/nederland/\n",
    "def Parool_Nieuws():\n",
    "    url='https://www.parool.nl/nederland/rss.xml'\n",
    "    r=requests.get(url)\n",
    "    soup = BeautifulSoup(r.text,'html.parser')\n",
    "    items=soup.findAll('item')  \n",
    "    soup\n",
    "    titles=[]\n",
    "    descriptions = []\n",
    "    links=[]\n",
    "    dates=[]\n",
    "    site_names=[]\n",
    "    for item in items:    \n",
    "        a = item.find('link').get_text()\n",
    "        title=item.find('title').get_text()\n",
    "        content=item.find('description').get_text()\n",
    "        date=item.find('pubdate').get_text()\n",
    "        site_name = 'www.parool.nl'\n",
    "        titles.append(title)\n",
    "        descriptions.append(content)\n",
    "        links.append(a)\n",
    "        site_names.append(site_name)\n",
    "        dates.append(date)\n",
    "    df_parool = pd.DataFrame(titles)\n",
    "    df_parool.columns = ['titles']\n",
    "    df_parool['descriptions'] = descriptions\n",
    "    df_parool['links'] = links\n",
    "    df_parool['site_name'] = site_names\n",
    "    #df_ad['dates'] = dates\n",
    "    data_all = 'output/archive/' + str(pd.to_datetime('now').strftime(\"%y.%m.%d %I.%M\")) + '  06-PAROOL_Nederland'\n",
    "    df_parool.to_csv(data_all+'.csv')\n",
    "    df_parool.to_csv('output/live/06-PAROOL_Nederland.csv')\n",
    "    table(df_parool, 'PAROOL.NL NEDERLAND')\n",
    "    df_parool\n",
    "    return df_parool\n",
    "    \n",
    "# LINDA.NL NIEUWS -- www.linda.nl/nieuws/binnenland\n",
    "def Linda_Nieuws():\n",
    "    url='https://www.linda.nl/nieuws/binnenland/'\n",
    "    r=requests.get(url)\n",
    "    soup = BeautifulSoup(r.text,'html.parser')\n",
    "    articles=soup.findAll('article')  \n",
    "    titles=[]\n",
    "    descriptions = []\n",
    "    links=[]\n",
    "    dates=[]\n",
    "    site_names=[]\n",
    "    for article in articles:    \n",
    "        a = article.find('a').attrs[\"href\"]\n",
    "        a = 'https://www.linda.nl/nieuws/binnenland/' + str(a)\n",
    "        title=article.find('span').get_text()\n",
    "        site_name = 'www.linda.nl'\n",
    "        try:\n",
    "            content=article.find('a',{'class':'TeaserSummary__summary'}).find('p',{'class':'TeaserSummary__paragraph'}).get_text()\n",
    "        except AttributeError:\n",
    "            content=title\n",
    "        try:\n",
    "            date=article.find('time',{'data-element':'articleTimestampText'}).get_text()\n",
    "        except AttributeError:\n",
    "            date = 'Empty'\n",
    "        titles.append(title)\n",
    "        descriptions.append(content)\n",
    "        links.append(a)\n",
    "        site_names.append(site_name)\n",
    "    df_linda = pd.DataFrame(titles)\n",
    "    df_linda.columns = ['titles']\n",
    "    df_linda['descriptions'] = descriptions\n",
    "    df_linda['links'] = links\n",
    "    df_linda['site_name'] = site_names\n",
    "    data_all = 'output/archive/' + str(pd.to_datetime('now').strftime(\"%y.%m.%d %I.%M\"))+ '  07-LINDA_Binnenland'   \n",
    "    df_linda.to_csv(data_all+'.csv')\n",
    "    table(df_linda, 'LINDA.NL BINNENLAND NIEUWS')\n",
    "    df_linda.to_csv('output/live/07-LINDA_Binnenland.csv')\n",
    "    return df_linda\n",
    "    \n",
    "# GELDERLANDER.NL NIEUWS -- www.gelderlander.nl/binnenland/\n",
    "def Gelderlander():\n",
    "    url='https://www.gelderlander.nl/binnenland/rss.xml'\n",
    "    r=requests.get(url)\n",
    "    soup = BeautifulSoup(r.text,'html.parser')\n",
    "    items=soup.findAll('item') \n",
    "    titles=[]\n",
    "    descriptions = []\n",
    "    links=[]\n",
    "    dates=[]\n",
    "    site_names=[]\n",
    "    for item in items:    \n",
    "        a = item.find('link').get_text()\n",
    "        title=item.find('title').get_text()\n",
    "        content=item.find('description').get_text()\n",
    "        date=item.find('pubdate').get_text()\n",
    "        site_name = 'www.gelderlander.nl'\n",
    "        titles.append(title)\n",
    "        descriptions.append(content)\n",
    "        links.append(a)\n",
    "        site_names.append(site_name)\n",
    "        dates.append(date)\n",
    "    \n",
    "    df_gelderlander = pd.DataFrame(titles)\n",
    "    df_gelderlander.columns = ['titles']\n",
    "    df_gelderlander['descriptions'] = descriptions\n",
    "    df_gelderlander['links'] = links\n",
    "    df_gelderlander['site_name'] = site_names\n",
    "    #df_ad['dates'] = dates\n",
    "    data_all = 'output/archive/'+ str(pd.to_datetime('now').strftime(\"%y.%m.%d %I.%M\")) + '  08-GELDERLANDER_Binnnenland'\n",
    "    df_gelderlander.to_csv(data_all+'.csv')\n",
    "    df_gelderlander.to_csv('output/live/08-GELDERLANDER_Binnnenland.csv')\n",
    "    table(df_gelderlander, 'GELDERLANDER.NL BINNENLAND')\n",
    "    return df_gelderlander\n",
    "    \n",
    "# BRABANT.NL NIEUWS -- www.brabant.nl/actueel/nieuws\n",
    "def Brabant():\n",
    "    url='https://www.brabant.nl/actueel/nieuws'\n",
    "    r=requests.get(url)\n",
    "    soup = BeautifulSoup(r.text,'html.parser')\n",
    "    articles=soup.findAll('article')  \n",
    "    titles=[]\n",
    "    descriptions = []\n",
    "    links=[]\n",
    "    dates=[]\n",
    "    site_names=[]\n",
    "    for article in articles:    \n",
    "        a = article.find('a').attrs[\"href\"]\n",
    "        a = 'https://www.brabant.nl' + str(a)\n",
    "        title=article.find('h2').get_text()\n",
    "        site_name = 'www.brabant.nl'\n",
    "        try:\n",
    "            content=article.find('p').get_text()\n",
    "        except AttributeError:\n",
    "            content=title\n",
    "        try:\n",
    "            date=article.find('time',{'data-element':'articleTimestampText'}).get_text()\n",
    "        except AttributeError:\n",
    "            date = 'Empty'\n",
    "        titles.append(title)\n",
    "        descriptions.append(content)\n",
    "        links.append(a)\n",
    "        site_names.append(site_name)\n",
    "    df_brabant = pd.DataFrame(titles)\n",
    "    df_brabant.columns = ['titles']\n",
    "    df_brabant['descriptions'] = descriptions\n",
    "    df_brabant['links'] = links\n",
    "    df_brabant['site_name'] = site_names\n",
    "    data_all = 'output/archive/' + str(pd.to_datetime('now').strftime(\"%y.%m.%d %I.%M\"))+ '  09-BRABANT_Actueel'\n",
    "    df_brabant.to_csv(data_all+'.csv')\n",
    "    df_brabant.to_csv('output/live/09-BRABANT_Actueel.csv')\n",
    "    table(df_brabant, 'BRABANT.NL ACTUEEL NIEUWS')\n",
    "    return df_brabant"
   ]
  },
  {
   "cell_type": "code",
   "execution_count": 3,
   "metadata": {},
   "outputs": [
    {
     "name": "stdout",
     "output_type": "stream",
     "text": [
      "         ---------------NU.NL NET BINNEN---------------\n",
      " \n",
      "1\n",
      "TITLE-->  'Politie ontvangt sinds coronauitbraak meer meldingen van overlast' \n",
      "DISCRIPTION-->  'Politie ontvangt sinds coronauitbraak meer meldingen van overlast' \n",
      "READ MORE--> https://www.nu.nl/coronavirus/6050386/politie-ontvangt-sinds-coronauitbraak-meer-meldingen-van-overlast.html\n",
      " \n",
      "         +--------------------------------------------------------------------+\n",
      " \n",
      "2\n",
      "TITLE-->  'Belastingdienst controleerde mensen met dubbele nationaliteit strenger' \n",
      "DISCRIPTION-->  'Belastingdienst controleerde mensen met dubbele nationaliteit strenger' \n",
      "READ MORE--> https://www.nu.nl/politiek/6050385/belastingdienst-controleerde-mensen-met-dubbele-nationaliteit-strenger.html\n",
      " \n",
      "         +--------------------------------------------------------------------+\n",
      " \n",
      "3\n",
      "TITLE-->  Nederlandse gaswinning daalt, maar verbruik neemt juist toe \n",
      "DISCRIPTION-->  Nederlandse gaswinning daalt, maar verbruik neemt juist toe \n",
      "READ MORE--> https://www.nu.nl/economie/6050089/nederlandse-gaswinning-daalt-maar-verbruik-neemt-juist-toe.html\n",
      " \n",
      "         +--------------------------------------------------------------------+\n",
      " \n",
      "4\n",
      "TITLE-->  Van Gaal vindt dat KNVB 'belachelijke' beslissingen heeft genomen \n",
      "DISCRIPTION-->  Van Gaal vindt dat KNVB 'belachelijke' beslissingen heeft genomen \n",
      "READ MORE--> https://www.nu.nl/voetbal/6050384/van-gaal-vindt-dat-knvb-belachelijke-beslissingen-heeft-genomen.html\n",
      " \n",
      "         +--------------------------------------------------------------------+\n",
      " \n",
      "5\n",
      "TITLE-->  Dode bij schietpartij in Rotterdam, twee verdachten op de vlucht \n",
      "DISCRIPTION-->  Dode bij schietpartij in Rotterdam, twee verdachten op de vlucht \n",
      "READ MORE--> https://www.nu.nl/binnenland/6050383/dode-bij-schietpartij-in-rotterdam-twee-verdachten-op-de-vlucht.html\n",
      " \n",
      "         +--------------------------------------------------------------------+\n",
      " \n",
      "6\n",
      "TITLE-->  Russell houdt Leclerc van derde zege af in virtuele Spaanse Grand Prix \n",
      "DISCRIPTION-->  Russell houdt Leclerc van derde zege af in virtuele Spaanse Grand Prix \n",
      "READ MORE--> https://www.nu.nl/formule-1/6050377/russell-houdt-leclerc-van-derde-zege-af-in-virtuele-spaanse-grand-prix.html\n",
      " \n",
      "         +--------------------------------------------------------------------+\n",
      " \n",
      "7\n",
      "TITLE-->  Britten mogen naar het park en buiten sporten, maar moeten 'alert blijven' \n",
      "DISCRIPTION-->  Britten mogen naar het park en buiten sporten, maar moeten 'alert blijven' \n",
      "READ MORE--> https://www.nu.nl/coronavirus/6050376/britten-mogen-naar-het-park-en-buiten-sporten-maar-moeten-alert-blijven.html\n",
      " \n",
      "         +--------------------------------------------------------------------+\n",
      " \n",
      "8\n",
      "TITLE-->  Amerikaanse soullegende Betty Wright (66) overleden \n",
      "DISCRIPTION-->  Amerikaanse soullegende Betty Wright (66) overleden \n",
      "READ MORE--> https://www.nu.nl/muziek/6050375/amerikaanse-soullegende-betty-wright-66-overleden.html\n",
      " \n",
      "         +--------------------------------------------------------------------+\n",
      " \n",
      "9\n",
      "TITLE-->  Anna van der Breggen gaat stoppen: haar grootste successen tot dusver \n",
      "DISCRIPTION-->  Anna van der Breggen gaat stoppen: haar grootste successen tot dusver \n",
      "READ MORE--> https://www.nu.nl/wielrennen/6050374/anna-van-der-breggen-gaat-stoppen-haar-grootste-successen-tot-dusver.html\n",
      " \n",
      "         +--------------------------------------------------------------------+\n",
      " \n",
      "10\n",
      "TITLE-->  Schuldpraat: 'Na de pilotenopleiding had ik een schuld van 135.000 euro' \n",
      "DISCRIPTION-->  Schuldpraat: 'Na de pilotenopleiding had ik een schuld van 135.000 euro' \n",
      "READ MORE--> https://www.nu.nl/geldzaken/6050370/schuldpraat-na-de-pilotenopleiding-had-ik-een-schuld-van-135000-euro.html\n",
      " \n",
      "         +--------------------------------------------------------------------+\n",
      " \n",
      "11\n",
      "TITLE-->  Nieuwe aanhouding in onderzoek naar autobranden in Arnhem \n",
      "DISCRIPTION-->  Nieuwe aanhouding in onderzoek naar autobranden in Arnhem \n",
      "READ MORE--> https://www.nu.nl/binnenland/6050369/nieuwe-aanhouding-in-onderzoek-naar-autobranden-in-arnhem.html\n",
      " \n",
      "         +--------------------------------------------------------------------+\n",
      " \n",
      "12\n",
      "TITLE-->  Hypotheekverhoging voor een verbouwing: let op deze vijf aandachtspunten \n",
      "DISCRIPTION-->  Hypotheekverhoging voor een verbouwing: let op deze vijf aandachtspunten \n",
      "READ MORE--> https://www.nu.nl/geldzaken/6050003/hypotheekverhoging-voor-een-verbouwing-let-op-deze-vijf-aandachtspunten.html\n",
      " \n",
      "         +--------------------------------------------------------------------+\n",
      " \n",
      "13\n",
      "TITLE-->  Arrestatieteam redt gegijzelde vrouw uit woning in Zutphen \n",
      "DISCRIPTION-->  Arrestatieteam redt gegijzelde vrouw uit woning in Zutphen \n",
      "READ MORE--> https://www.nu.nl/binnenland/6050368/arrestatieteam-redt-gegijzelde-vrouw-uit-woning-in-zutphen.html\n",
      " \n",
      "         +--------------------------------------------------------------------+\n",
      " \n",
      "14\n",
      "TITLE-->  Vuelta-directeur voorziet geen verdere wijzigingen in parcours \n",
      "DISCRIPTION-->  Vuelta-directeur voorziet geen verdere wijzigingen in parcours \n",
      "READ MORE--> https://www.nu.nl/wielrennen/6050366/vuelta-directeur-voorziet-geen-verdere-wijzigingen-in-parcours.html\n",
      " \n",
      "         +--------------------------------------------------------------------+\n",
      " \n",
      "15\n",
      "TITLE-->  Waarom de staatsgreep in Venezuela al voor het begin mislukt was \n",
      "DISCRIPTION-->  Waarom de staatsgreep in Venezuela al voor het begin mislukt was \n",
      "READ MORE--> https://www.nu.nl/buitenland/6050365/waarom-de-staatsgreep-in-venezuela-al-voor-het-begin-mislukt-was.html\n",
      " \n",
      "         +--------------------------------------------------------------------+\n",
      " \n",
      "16\n",
      "TITLE-->  De Graafschap-coach Snoei stuurt mail naar Gudde: 'Ik herken hem niet meer' \n",
      "DISCRIPTION-->  De Graafschap-coach Snoei stuurt mail naar Gudde: 'Ik herken hem niet meer' \n",
      "READ MORE--> https://www.nu.nl/voetbal/6050363/de-graafschap-coach-snoei-stuurt-mail-naar-gudde-ik-herken-hem-niet-meer.html\n",
      " \n",
      "         +--------------------------------------------------------------------+\n",
      " \n",
      "17\n",
      "TITLE--> Video Grote windhoos waargenomen vlak bij Nederlandse grens \n",
      "DISCRIPTION--> Video Grote windhoos waargenomen vlak bij Nederlandse grens \n",
      "READ MORE--> https://www.nu.nl/binnenland/6050359/grote-windhoos-waargenomen-vlak-bij-nederlandse-grens.html\n",
      " \n",
      "         +--------------------------------------------------------------------+\n",
      " \n",
      "18\n",
      "TITLE-->  Weerbericht: Week begint fris met harde windstoten, later weer volop zon \n",
      "DISCRIPTION-->  Weerbericht: Week begint fris met harde windstoten, later weer volop zon \n",
      "READ MORE--> https://www.nu.nl/binnenland/6050355/weerbericht-week-begint-fris-met-harde-windstoten-later-weer-volop-zon.html\n",
      " \n",
      "         +--------------------------------------------------------------------+\n",
      " \n",
      "19\n",
      "TITLE-->  Dit is wat BN'ers doen tijdens Moederdag \n",
      "DISCRIPTION-->  Dit is wat BN'ers doen tijdens Moederdag \n",
      "READ MORE--> https://www.nu.nl/achterklap/6050354/dit-is-wat-bners-doen-tijdens-moederdag.html\n",
      " \n",
      "         +--------------------------------------------------------------------+\n",
      " \n",
      "20\n",
      "TITLE--> Achtergrond Zo beveilig je je PayPal-account \n",
      "DISCRIPTION--> Achtergrond Zo beveilig je je PayPal-account \n",
      "READ MORE--> https://www.nu.nl/tech/6050339/zo-beveilig-je-je-paypal-account.html\n",
      " \n",
      "         +--------------------------------------------------------------------+\n",
      " \n",
      "21\n",
      "TITLE-->  Franse tennisbond ziet Roland Garros zonder publiek nog altijd als optie \n",
      "DISCRIPTION-->  Franse tennisbond ziet Roland Garros zonder publiek nog altijd als optie \n",
      "READ MORE--> https://www.nu.nl/tennis/6050350/franse-tennisbond-ziet-roland-garros-zonder-publiek-nog-altijd-als-optie.html\n",
      " \n",
      "         +--------------------------------------------------------------------+\n",
      " \n",
      "22\n",
      "TITLE-->  Bekijk de coronacijfers van 10 mei in vijf grafieken \n",
      "DISCRIPTION-->  Bekijk de coronacijfers van 10 mei in vijf grafieken \n",
      "READ MORE--> https://www.nu.nl/uitleg-over-het-coronavirus/6050334/bekijk-de-coronacijfers-van-10-mei-in-vijf-grafieken.html\n",
      " \n",
      "         +--------------------------------------------------------------------+\n",
      " \n",
      "23\n",
      "TITLE--> Video Pasgeboren dwergschildpadden in India kruipen uit ei richting zee \n",
      "DISCRIPTION--> Video Pasgeboren dwergschildpadden in India kruipen uit ei richting zee \n",
      "READ MORE--> https://www.nu.nl/dieren/6050347/pasgeboren-dwergschildpadden-in-india-kruipen-uit-ei-richting-zee.html\n",
      " \n",
      "         +--------------------------------------------------------------------+\n",
      " \n",
      "24\n",
      "TITLE-->  Landelijke bezetting van intensive cares 'terug op het normale niveau' \n",
      "DISCRIPTION-->  Landelijke bezetting van intensive cares 'terug op het normale niveau' \n",
      "READ MORE--> https://www.nu.nl/coronavirus/6050342/landelijke-bezetting-van-intensive-cares-terug-op-het-normale-niveau.html\n",
      " \n",
      "         +--------------------------------------------------------------------+\n",
      " \n",
      "25\n",
      "TITLE--> Video Onderzoekers bouwen op cheeta geïnspireerde 'snelste' robot ooit \n",
      "DISCRIPTION--> Video Onderzoekers bouwen op cheeta geïnspireerde 'snelste' robot ooit \n",
      "READ MORE--> https://www.nu.nl/tech/6050345/onderzoekers-bouwen-op-cheeta-geinspireerde-snelste-robot-ooit.html\n",
      " \n",
      "         +--------------------------------------------------------------------+\n",
      " \n",
      "         ---------------NOS.NL BINNENLAND NIEUWS---------------\n",
      " \n",
      "1\n",
      "TITLE--> Politie rukt in coronatijd vaker uit voor verwarde personen en zwervers\n",
      "DISCRIPTION--> Dat blijkt uit politiecijfers over april die NRC heeft opgevraagd.\n",
      "READ MORE--> https://www.nos.nl/artikel/2333464-politie-rukt-in-coronatijd-vaker-uit-voor-verwarde-personen-en-zwervers.html\n"
     ]
    },
    {
     "name": "stdout",
     "output_type": "stream",
     "text": [
      " \n",
      "         +--------------------------------------------------------------------+\n",
      " \n",
      "2\n",
      "TITLE--> Eerste mensen na middernacht geknipt • Basisscholen gaan weer open\n",
      "DISCRIPTION--> Lees in dit liveblog het coronanieuws van maandag 11 mei.\n",
      "READ MORE--> https://www.nos.nl/liveblog/2333462-eerste-mensen-na-middernacht-geknipt-basisscholen-gaan-weer-open.html\n",
      " \n",
      "         +--------------------------------------------------------------------+\n",
      " \n",
      "3\n",
      "TITLE--> Johnson voorzichtig met versoepelen maatregelen • Corendon komt met coronaproof vakantie        \n",
      "DISCRIPTION--> Lees in dit liveblog het coronanieuws van zondag 10 mei.\n",
      "READ MORE--> https://www.nos.nl/liveblog/2333372-johnson-voorzichtig-met-versoepelen-maatregelen-corendon-komt-met-coronaproof-vakantie.html\n",
      " \n",
      "         +--------------------------------------------------------------------+\n",
      " \n",
      "4\n",
      "TITLE--> Coronamaatregelen versoepeld: wat kan er vanaf vandaag allemaal weer?\n",
      "DISCRIPTION--> Het is 11 mei, de dag dat een aantal maatregelen versoepeld wordt. In dit artikel lees je wat er verandert. \n",
      "READ MORE--> https://www.nos.nl/artikel/2333452-coronamaatregelen-versoepeld-wat-kan-er-vanaf-vandaag-allemaal-weer.html\n",
      " \n",
      "         +--------------------------------------------------------------------+\n",
      " \n",
      "5\n",
      "TITLE--> Gijzeling vrouw beëindigd in Zutphen\n",
      "DISCRIPTION--> Twee mannen van 24 en 25 zijn aangehouden. De politie heeft twee vuurwapens in beslag genomen.\n",
      "READ MORE--> https://www.nos.nl/artikel/2333441-gijzeling-vrouw-beeindigd-in-zutphen.html\n",
      " \n",
      "         +--------------------------------------------------------------------+\n",
      " \n",
      "6\n",
      "TITLE--> 8800 coronaboetes in Nederland, honderd keer zoveel in Frankrijk en Spanje\n",
      "DISCRIPTION--> Europese landen hebben niet alleen hun eigen maatregelen tegen corona, maar ook hun eigen manier van controleren en handhaven. Daarbij zijn honderdduizenden boetes uitgedeeld. Soms worden er zelfs arrestaties verricht. \n",
      "READ MORE--> https://www.nos.nl/artikel/2333430-8800-coronaboetes-in-nederland-honderd-keer-zoveel-in-frankrijk-en-spanje.html\n",
      " \n",
      "         +--------------------------------------------------------------------+\n",
      " \n",
      "7\n",
      "TITLE--> Kitesurfer verongelukt op strand Kamperland in Zeeland\n",
      "DISCRIPTION--> Wat er precies is gebeurd, is nog niet duidelijk. De politie doet nog onderzoek.\n",
      "READ MORE--> https://www.nos.nl/artikel/2333428-kitesurfer-verongelukt-op-strand-kamperland-in-zeeland.html\n",
      " \n",
      "         +--------------------------------------------------------------------+\n",
      " \n",
      "8\n",
      "TITLE--> Coronacijfers van 10 mei: laagste aantal ziekenhuisopnames in twee maanden\n",
      "DISCRIPTION--> In totaal zijn er in Nederland nu 5440 mensen overleden van wie vaststaat dat dit verband houdt met covid-19, de ziekte die door het virus wordt veroorzaakt. \n",
      "READ MORE--> https://www.nos.nl/artikel/2333418-coronacijfers-van-10-mei-laagste-aantal-ziekenhuisopnames-in-twee-maanden.html\n",
      " \n",
      "         +--------------------------------------------------------------------+\n",
      " \n",
      "9\n",
      "TITLE--> Moederdag: niet op bezoek dit jaar, wel veel bloemen en lieve boodschappen\n",
      "DISCRIPTION--> Bloemen, ontbijtjes en kadobonnen worden volop bezorgd, omdat ze vanwege de coronacrisis niet persoonlijk bij moeders kunnen worden gebracht.\n",
      "READ MORE--> https://www.nos.nl/artikel/2333393-moederdag-niet-op-bezoek-dit-jaar-wel-veel-bloemen-en-lieve-boodschappen.html\n",
      " \n",
      "         +--------------------------------------------------------------------+\n",
      " \n",
      "10\n",
      "TITLE--> Winkel in Rotterdam-Delfshaven beschoten, tweede schietpartij in een week\n",
      "DISCRIPTION--> Een winkelpand op de Mathenesserdijk is onder vuur genomen met een automatisch geweer.\n",
      "READ MORE--> https://www.nos.nl/artikel/2333385-winkel-in-rotterdam-delfshaven-beschoten-tweede-schietpartij-in-een-week.html\n",
      " \n",
      "         +--------------------------------------------------------------------+\n",
      " \n",
      "11\n",
      "TITLE--> Wekdienst 10/5: Lockdown in Suriname versoepeld • En Moederdag in coronatijden\n",
      "DISCRIPTION--> Nieuws, weer en verkeer: met dit overzicht begin je geïnformeerd aan de dag.\n",
      "READ MORE--> https://www.nos.nl/artikel/2333379-wekdienst-10-5-lockdown-in-suriname-versoepeld-en-moederdag-in-coronatijden.html\n",
      " \n",
      "         +--------------------------------------------------------------------+\n",
      " \n",
      "12\n",
      "TITLE--> Kinderopvang-voorzitter Rottenberg haalt hard uit naar scholen\n",
      "DISCRIPTION--> Volgens hem geven te veel scholen niet thuis en zijn ze onbereikbaar voor kinderopvangorganisaties om af te stemmen. \n",
      "READ MORE--> https://www.nos.nl/artikel/2333374-kinderopvang-voorzitter-rottenberg-haalt-hard-uit-naar-scholen.html\n",
      " \n",
      "         +--------------------------------------------------------------------+\n",
      " \n",
      "13\n",
      "TITLE--> Frankrijk meldt laagste aantal doden sinds april • 541 patiënten op de IC, daling zet door  \n",
      "DISCRIPTION--> Lees in dit liveblog het coronanieuws van zaterdag 9 mei.\n",
      "READ MORE--> https://www.nos.nl/liveblog/2333286-frankrijk-meldt-laagste-aantal-doden-sinds-april-541-patienten-op-de-ic-daling-zet-door.html\n",
      " \n",
      "         +--------------------------------------------------------------------+\n",
      " \n",
      "14\n",
      "TITLE--> Vrouw na uren uit zendmast in Bemmel gehaald \n",
      "DISCRIPTION--> Het is nog niet duidelijk wat haar motief voor de beklimming was. De vrouw is door de politie meegenomen naar het bureau voor een gesprek.\n",
      "READ MORE--> https://www.nos.nl/artikel/2333365-vrouw-na-uren-uit-zendmast-in-bemmel-gehaald.html\n",
      " \n",
      "         +--------------------------------------------------------------------+\n",
      " \n",
      "15\n",
      "TITLE--> Veiligheidsregio's: het was drukker maar met voldoende afstand\n",
      "DISCRIPTION--> Voorzitter Bruls van het Veiligheidsberaad zegt dat aanspreken of waarschuwen bij het niet in acht nemen van afstandsregels meestal genoeg is.\n",
      "READ MORE--> https://www.nos.nl/artikel/2333358-veiligheidsregio-s-het-was-drukker-maar-met-voldoende-afstand.html\n",
      " \n",
      "         +--------------------------------------------------------------------+\n",
      " \n",
      "16\n",
      "TITLE--> NS: ga niet met de trein naar het strand\n",
      "DISCRIPTION--> Het is druk in de treinen naar Zandvoort. De NS vraag mensen om niet met de trein naar het strand te gaan. Ook op andere plekken in Nederland neemt de drukte toe.\n",
      "READ MORE--> https://www.nos.nl/artikel/2333327-ns-ga-niet-met-de-trein-naar-het-strand.html\n",
      " \n",
      "         +--------------------------------------------------------------------+\n",
      " \n",
      "17\n",
      "TITLE--> De coronacijfers van 9 mei: nauwelijks nog Nederlanders op Duitse IC's\n",
      "DISCRIPTION--> In totaal zijn er in Nederland nu 5422 mensen overleden van wie vaststaat dat dit verband houdt met covid-19, de ziekte die door het virus wordt veroorzaakt. \n",
      "READ MORE--> https://www.nos.nl/artikel/2333326-de-coronacijfers-van-9-mei-nauwelijks-nog-nederlanders-op-duitse-ic-s.html\n",
      " \n",
      "         +--------------------------------------------------------------------+\n",
      " \n",
      "18\n",
      "TITLE--> Met deze maatregelen kunnen middelbare scholieren straks weer naar school\n",
      "DISCRIPTION--> Als 2 juni de middelbare scholen in Nederland weer opengaan, gaan die er heel anders uitzien dan voor de sluiting.\n",
      "READ MORE--> https://www.nos.nl/artikel/2333320-met-deze-maatregelen-kunnen-middelbare-scholieren-straks-weer-naar-school.html\n",
      " \n",
      "         +--------------------------------------------------------------------+\n",
      " \n",
      "19\n",
      "TITLE--> Minister kijkt naar plan om eis motorrijbewijs voor automobilisten te verlagen\n",
      "DISCRIPTION--> Volgens branchevereniging RAI Vereniging neemt door de coronacrisis de behoefte om individueel te reizen toe. Een motor zou de oplossing kunnen zijn. \n",
      "READ MORE--> https://www.nos.nl/artikel/2333315-minister-kijkt-naar-plan-om-eis-motorrijbewijs-voor-automobilisten-te-verlagen.html\n",
      " \n",
      "         +--------------------------------------------------------------------+\n",
      " \n",
      "20\n",
      "TITLE--> RIVM-experts: 'Aankondigen van versoepelingen kan mensen nonchalant maken'\n",
      "DISCRIPTION--> \"Mensen gaan op een gegeven moment hun gedrag aanpassen. Die onzekerheden zijn best wel groot\", zegt Jacco Wallinga van het RIVM.\n",
      "READ MORE--> https://www.nos.nl/artikel/2333303-rivm-experts-aankondigen-van-versoepelingen-kan-mensen-nonchalant-maken.html\n",
      " \n",
      "         +--------------------------------------------------------------------+\n",
      " \n",
      "21\n",
      "TITLE--> Wekdienst 9/5: Demonstraties in Duitsland • Benefiet in Caribisch deel koninkrijk\n",
      "DISCRIPTION--> Nieuws, weer en verkeer: met dit overzicht begin je geïnformeerd aan de dag.\n",
      "READ MORE--> https://www.nos.nl/artikel/2333301-wekdienst-9-5-demonstraties-in-duitsland-benefiet-in-caribisch-deel-koninkrijk.html\n",
      " \n",
      "         +--------------------------------------------------------------------+\n",
      " \n",
      "22\n",
      "TITLE--> Miljoenen jaren oude vulkaan ontdekt in Nederlands deel Noordzee\n",
      "DISCRIPTION--> Het gaat om een uitgedoofde vulkaan in de Noordzee. De onderzoekers sluiten uit dat hij opnieuw actief kan worden. Wel denken ze dat er mogelijk meerdere vulkanen in het Noordzeegebied zijn.\n",
      "READ MORE--> https://www.nos.nl/artikel/2333297-miljoenen-jaren-oude-vulkaan-ontdekt-in-nederlands-deel-noordzee.html\n",
      " \n",
      "         +--------------------------------------------------------------------+\n",
      " \n",
      "23\n",
      "TITLE--> 'Verpleeghuizen wilden al vroeg testen, maar werden geweigerd'\n",
      "DISCRIPTION--> De tests werden geweigerd omdat onduidelijk was waar in Nederland er beschikbare capaciteit was. \n",
      "READ MORE--> https://www.nos.nl/artikel/2333290-verpleeghuizen-wilden-al-vroeg-testen-maar-werden-geweigerd.html\n",
      " \n",
      "         +--------------------------------------------------------------------+\n",
      " \n",
      "24\n",
      "TITLE--> Opnieuw vlucht uit Marokko onderweg naar Schiphol  • Versoepelingen in deel Spanje\n",
      "DISCRIPTION--> Lees in dit liveblog het coronanieuws van vrijdag 8 mei.\n",
      "READ MORE--> https://www.nos.nl/liveblog/2333173-opnieuw-vlucht-uit-marokko-onderweg-naar-schiphol-versoepelingen-in-deel-spanje.html\n",
      " \n",
      "         +--------------------------------------------------------------------+\n",
      " \n",
      "25\n",
      "TITLE--> Boerenorganisatie LTO stapt uit 'turbulent' Landbouw Collectief\n",
      "DISCRIPTION--> De dertien organisaties die samen het collectief vormen, zijn te divers en kunnen samen te weinig voor elkaar krijgen, aldus de LTO.\n",
      "READ MORE--> https://www.nos.nl/artikel/2333279-boerenorganisatie-lto-stapt-uit-turbulent-landbouw-collectief.html\n",
      " \n",
      "         +--------------------------------------------------------------------+\n",
      " \n"
     ]
    },
    {
     "name": "stdout",
     "output_type": "stream",
     "text": [
      "         ---------------AD.NL BINNENLAND NIEUWS---------------\n",
      " \n",
      "1\n",
      "TITLE--> Celebrity-kapper Mari van de Ven zet stipt om 00.01 uur de schaar erin\n",
      "DISCRIPTION--> De kapperszaken mogen weer open. Dus is het in de nacht van zondag op maandag om één over twaalf op de Kerkstraat al alle hens aan dek in het Haaratelier van celebrity-kapper Mari van de Ven. Eigenlijk had Van de Ven burgemeester Jack Mikkers graag als eerste in zijn stoel gehad. Maar die is compleet glad geschoren dus dat was ‘hooguit zemen geworden’.\n",
      "READ MORE--> https://www.ad.nl/binnenland/celebrity-kapper-mari-van-de-ven-zet-stipt-om-00-01-uur-de-schaar-erin~acb2fa32/\n",
      " \n",
      "         +--------------------------------------------------------------------+\n",
      " \n",
      "2\n",
      "TITLE--> ‘Belastingdienst erkent: toch sprake van etnisch profileren’\n",
      "DISCRIPTION--> Ruim 11.000 mensen met een dubbele nationaliteit zijn door de Belastingdienst strenger gecontroleerd dan andere Nederlanders. De tweede nationaliteit was een officieel selectiecriterium om te bepalen of er een verhoogde kans was op fraude. De Belastingdienst bevestigt dit na onderzoek van RTL Nieuws en Trouw.\n",
      "READ MORE--> https://www.ad.nl/binnenland/belastingdienst-erkent-toch-sprake-van-etnisch-profileren~a7b2d988/\n",
      " \n",
      "         +--------------------------------------------------------------------+\n",
      " \n",
      "3\n",
      "TITLE--> Deze crisis laat ons zien dat mensen snakken naar buiten, naar de natuur\n",
      "DISCRIPTION--> Nynke de Jong schrijft drie keer per week over wat haar bezighoudt.\n",
      "READ MORE--> https://www.ad.nl/binnenland/deze-crisis-laat-ons-zien-dat-mensen-snakken-naar-buiten-naar-de-natuur~abfb03f0/\n",
      " \n",
      "         +--------------------------------------------------------------------+\n",
      " \n",
      "4\n",
      "TITLE--> Moeders voor Moeders: Tekort aan urine probleem voor vruchtbaarheidsmedicijn\n",
      "DISCRIPTION--> Sinds de coronacrisis doneren minder zwangeren hun urine aan de organisatie Moeders voor Moeders, die het gebruikt voor het maken van vruchtbaarheidsmedicatie.\n",
      "READ MORE--> https://www.ad.nl/binnenland/moeders-voor-moeders-tekort-aan-urine-probleem-voor-vruchtbaarheidsmedicijn~a8465b3a/\n",
      " \n",
      "         +--------------------------------------------------------------------+\n",
      " \n",
      "5\n",
      "TITLE--> Hotel, camping of blokhut: wat mag wel, wat mag niet?\n",
      "DISCRIPTION--> Na de zoveelste week ophokplicht groeit de behoefte aan weekendjes weg - of langer. Maar waarheen? Wat mag en kan wel? Nu, of misschien komende zomer? Een overzicht.\n",
      "READ MORE--> https://www.ad.nl/nlblijftthuis/hotel-camping-of-blokhut-wat-mag-wel-wat-mag-niet~ac297cf4/\n",
      " \n",
      "         +--------------------------------------------------------------------+\n",
      " \n",
      "6\n",
      "TITLE--> PvdA en SP dreigen Koolmees: geen steun voor tweede noodpakket als boete op ontslag sneuvelt\n",
      "DISCRIPTION--> Oppositiepartijen PvdA en SP zullen tegen het tweede noodpakket stemmen als bedrijven die met belastinggeld worden gesteund alsnog werknemers mogen ontslaan. Zij verzetten zich tegen minister van Sociale Zaken Wouter Koolmees, die van plan is de huidige ‘boete’ op ontslag te laten vervallen.\n",
      "READ MORE--> https://www.ad.nl/ad-werkt/pvda-en-sp-dreigen-koolmees-geen-steun-voor-tweede-noodpakket-als-boete-op-ontslag-sneuvelt~a83165d2/\n",
      " \n",
      "         +--------------------------------------------------------------------+\n",
      " \n",
      "7\n",
      "TITLE--> Kitesurfer (28) overleden na ongeluk op strand Noord-Beveland\n",
      "DISCRIPTION--> Op het strand bij Kamperland (Zeeland) is vanmiddag een 28-jarige kitesurfer uit Den Bosch dodelijk verongelukt. Het slachtoffer werd na het ongeluk gereanimeerd, maar overleed op het strand. De surfer is waarschijnlijk gegrepen door een harde windvlaag en tegen iets op gebotst. De politie gaat uit van een noodlottig ongeval.\n",
      "READ MORE--> https://www.ad.nl/den-bosch/kitesurfer-28-overleden-na-ongeluk-op-strand-noord-beveland~a5a57fc9/\n",
      " \n",
      "         +--------------------------------------------------------------------+\n",
      " \n",
      "8\n",
      "TITLE--> Moet olifant Buba deze keer écht weg uit het circus?\n",
      "DISCRIPTION--> Volgende maand loopt de vergunning af die circus Freiwald heeft voor olifant Buba. Hoogste tijd om haar naar een pensioenparadijs voor olifanten te brengen, stellen dierenactivisten. Nee, Buba hoort bij ons, vinden het circus en vrienden van het circus.\n",
      "READ MORE--> https://www.ad.nl/binnenland/moet-olifant-buba-deze-keer-echt-weg-uit-het-circus~afe6796b/\n",
      " \n",
      "         +--------------------------------------------------------------------+\n",
      " \n",
      "9\n",
      "TITLE--> PO-Raad woedend op Felix Rottenberg: ‘Kritiek op scholen slaat nergens op’\n",
      "DISCRIPTION--> Basisschoolbesturen hebben geen goed woord over voor de felle kritiek die voorzitter Felix Rottenberg van Branchevereniging Kinderopvang uitte over het gebrek aan samenwerking tussen scholen en bso's. ,,Iedereen werkt zich het snot voor de ogen, krijg je dit. Waanzinnig.’’\n",
      "READ MORE--> https://www.ad.nl/binnenland/po-raad-woedend-op-felix-rottenberg-kritiek-op-scholen-slaat-nergens-op~ad26e356/\n",
      " \n",
      "         +--------------------------------------------------------------------+\n",
      " \n",
      "10\n",
      "TITLE--> Ik voel de spanning tussen mijn zussen en daarom wil ik niet met ze op pad\n",
      "DISCRIPTION--> Wijsheid komt met de jaren. Omdat acteur Joost Prinsen (77) een eind op weg is, beantwoordt hij uw vragen.\n",
      "READ MORE--> https://www.ad.nl/binnenland/ik-voel-de-spanning-tussen-mijn-zussen-en-daarom-wil-ik-niet-met-ze-op-pad~a149de4f/\n",
      " \n",
      "         +--------------------------------------------------------------------+\n",
      " \n",
      "11\n",
      "TITLE--> Vierde arrestatie voor autobranden Arnhem: nieuwe verdachte is 42-jarige vrouw\n",
      "DISCRIPTION--> Een 42-jarige vrouw uit Arnhem is zondagochtend aangehouden voor een reeks autobranden in haar stad. De politie verdenkt haar van betrokkenheid bij brandstichting. Het is al de vierde arrestatie in de zaak. Meer aanhoudingen worden niet uitgesloten.\n",
      "READ MORE--> https://www.ad.nl/binnenland/vierde-arrestatie-voor-autobranden-arnhem-nieuwe-verdachte-is-42-jarige-vrouw~a0e94a56/\n",
      " \n",
      "         +--------------------------------------------------------------------+\n",
      " \n",
      "12\n",
      "TITLE--> Ben je eenzaam en heb je huidhonger? Aanraking kalmeert en brengt troost\n",
      "DISCRIPTION--> Vijf weken lang zoekt schrijver en psycholoog Thijs Launspach met behulp van wetenschappers antwoorden op prangende vragen in coronatijd. Vandaag aflevering 3 over het eenzaamheidsvirus.\n",
      "READ MORE--> https://www.ad.nl/nlblijftthuis/ben-je-eenzaam-en-heb-je-huidhonger-aanraking-kalmeert-en-brengt-troost~a68395ea/\n",
      " \n",
      "         +--------------------------------------------------------------------+\n",
      " \n",
      "13\n",
      "TITLE--> Deze ouders wacht logistieke nachtmerrie nu scholen weer opengaan: ‘Ik sjees van de ene naar de andere’\n",
      "DISCRIPTION--> Na acht weken thuis buffelen gaan de scholen weer open. Ouders zijn blij, maar zien ook een logistieke puzzel. ‘Het wordt sjezen’.\n",
      "READ MORE--> https://www.ad.nl/binnenland/deze-ouders-wacht-logistieke-nachtmerrie-nu-scholen-weer-opengaan-ik-sjees-van-de-ene-naar-de-andere~a11fab8e/\n",
      " \n",
      "         +--------------------------------------------------------------------+\n",
      " \n",
      "14\n",
      "TITLE--> Daling coronapatiënten op ic zet door, bezetting weer op normale niveau\n",
      "DISCRIPTION--> Het aantal coronapatiënten dat op de intensive care ligt is gedaald met 34 in de afgelopen 24 uur. Er liggen op dit moment nog 507 patiënten met het coronavirus op de intensive cares. Dat blijkt uit de nieuwste cijfers van het Landelijk Coördinatiecentrum Patiënten Spreiding (LCPS) die zondag bekend zijn gemaakt.\n",
      "READ MORE--> https://www.ad.nl/binnenland/daling-coronapatienten-op-ic-zet-door-bezetting-weer-op-normale-niveau~ae7c632b/\n",
      " \n",
      "         +--------------------------------------------------------------------+\n",
      " \n",
      "15\n",
      "TITLE--> Moskeeën willen dat Nederland eigen imamopleiding krijgt\n",
      "DISCRIPTION--> Er moet opnieuw worden geprobeerd een Nederlandse opleiding voor imams van de grond te krijgen. Dat is nodig om het tekort aan islamitische voorgangers te bestrijden en te voorkomen dat moskeeën in de klauwen van radicale predikers terechtkomen.\n",
      "READ MORE--> https://www.ad.nl/binnenland/moskeeen-willen-dat-nederland-eigen-imamopleiding-krijgt~af3b0122/\n",
      " \n",
      "         +--------------------------------------------------------------------+\n",
      " \n",
      "16\n",
      "TITLE--> Opgelicht door de sleutelmaker? ‘We kunnen alleen mensen bewust maken’\n",
      "DISCRIPTION--> Als je jezelf hebt buitengesloten, is het wijs om goed op te letten als je een slotenmaker belt. Er opereren flink wat malafide sleutelmakers op de Nederlandse markt. Hoewel je in zo’n geval snel weer binnen staat, valt de rekening vaak hoog uit. Journalist Marloe van der Schier overkwam het zelf.\n",
      "READ MORE--> https://www.ad.nl/wonen/opgelicht-door-de-sleutelmaker-we-kunnen-alleen-mensen-bewust-maken~ab0a6687/\n",
      " \n",
      "         +--------------------------------------------------------------------+\n",
      " \n",
      "17\n",
      "TITLE--> Met je ogen dicht kun je ruiken of je bij een man of een vrouw staat: dit is hoe dat kan\n",
      "DISCRIPTION--> Aardse en kruidige geuren associëren we met mannen, zoete en bloemige geuren met vrouwen. Waarom vinden we de ene geur mannelijk en de andere vrouwelijk?\n",
      "READ MORE--> https://www.ad.nl/wetenschap/met-je-ogen-dicht-kun-je-ruiken-of-je-bij-een-man-of-een-vrouw-staat-dit-is-hoe-dat-kan~ab8a5eb4/\n",
      " \n",
      "         +--------------------------------------------------------------------+\n",
      " \n",
      "18\n",
      "TITLE--> Zo zien acht weken thuisonderwijs eruit: rekenen, spelen, vervelen\n",
      "DISCRIPTION--> Na acht weken thuisonderwijs, mogen Merel (10) en Boris (8) Hoogveld maandag weer naar school. Vader Bart, fotograaf, en moeder Ingrid, journalist, blikken terug op bijzondere weken.\n",
      "READ MORE--> https://www.ad.nl/nlblijftthuis/zo-zien-acht-weken-thuisonderwijs-eruit-rekenen-spelen-vervelen~a1338c99/\n",
      " \n",
      "         +--------------------------------------------------------------------+\n",
      " \n",
      "19\n",
      "TITLE--> Miljoenen aan crystal meth in Gelderse schuur; Colombiaan, Amerikaan en Mexicaan aangehouden\n",
      "DISCRIPTION--> De politie heeft dit weekend een enorm crystal meth-lab in een schuur aan de Zomerweg in Achter Drempt (Gelderland) ontmanteld. De productie van de harddrug-kristallen was tot vrijdag nog in volle gang.  Volgens de politie heeft het aangetroffen materiaal een geschatte handelswaarde  van 10 miljoen euro.\n",
      "READ MORE--> https://www.ad.nl/binnenland/miljoenen-aan-crystal-meth-in-gelderse-schuur-colombiaan-amerikaan-en-mexicaan-aangehouden~a9380010/\n",
      " \n",
      "         +--------------------------------------------------------------------+\n",
      " \n",
      "20\n",
      "TITLE--> Öztürk stopt volgend jaar als Kamerlid Denk\n",
      "DISCRIPTION--> Denk-voorzitter Selçuk Öztürk zal zich bij de volgende Tweede Kamerverkiezingen niet opnieuw kandidaat stellen voor de lijst. Volgens Öztürk is zijn voornemen om te stoppen als Kamerlid binnen de partij al langer bekend, zei hij in het tv-programma Buitenhof. ,,Iedereen weet dat.”\n",
      "READ MORE--> https://www.ad.nl/politiek/ozturk-stopt-volgend-jaar-als-kamerlid-denk~a767d2cc/\n",
      " \n",
      "         +--------------------------------------------------------------------+\n",
      " \n",
      "21\n",
      "TITLE--> Zo bouw je je huiskamer om tot escaperoom\n",
      "DISCRIPTION--> Hoe maak je een lockdown pas écht intelligent? Door je huis te verbouwen tot escaperoom. Slopen en klussen is niet nodig: deze spellen simuleren de ‘echte’ ervaring gewoon in je huiskamer.\n",
      "READ MORE--> https://www.ad.nl/nlblijftthuis/zo-bouw-je-je-huiskamer-om-tot-escaperoom~ad1946de/\n",
      " \n",
      "         +--------------------------------------------------------------------+\n",
      " \n",
      "22\n",
      "TITLE--> Nederland kan vanaf vannacht 00.01 uur eindelijk weer naar de kapper: we zijn de uitgroei en matjes zat!\n",
      "DISCRIPTION--> Vanaf morgen mogen de kappers eindelijk weer aan de slag. Nederland staat te popelen. Volgens de branchevereniging voor kappers, de ANKO, loopt het storm qua boekingen. We zijn de uitgroei en matjes in onze nek zó zat dat sommige kappers besluiten er vanaf vannacht een over twaalf al de schaar in te zetten.\n",
      "READ MORE--> https://www.ad.nl/binnenland/nederland-kan-vanaf-vannacht-00-01-uur-eindelijk-weer-naar-de-kapper-we-zijn-de-uitgroei-en-matjes-zat~afe92abe/\n",
      " \n",
      "         +--------------------------------------------------------------------+\n",
      " \n",
      "23\n",
      "TITLE--> Politie beëindigt gijzeling vrouw in Zutphen: twee verdachten met getrokken pistool aangehouden\n",
      "DISCRIPTION--> Een arrestatieteam van de politie heeft zondagmorgen in Zutphen een gegijzelde vrouw bevrijd uit een woning. De gijzelnemers, een 24-jarige man uit Rotterdam en een 25-jarige man uit Polen, werden met getrokken pistool aangehouden. De vrouw belandde met hoofdletsel in het ziekenhuis, meldt nieuwsblad De Stentor.\n",
      "READ MORE--> https://www.ad.nl/binnenland/politie-beeindigt-gijzeling-vrouw-in-zutphen-twee-verdachten-met-getrokken-pistool-aangehouden~a73c9171/\n",
      " \n",
      "         +--------------------------------------------------------------------+\n",
      " \n",
      "24\n",
      "TITLE--> Hoe Ede met zijn zwarte kousen plots heel hip werd\n",
      "DISCRIPTION--> Mensen die de Randstad ontvluchten, hebben Ede ontdekt. Of liever gezegd: de wijk op het voormalige Enka-fabrieksterrein. Lekker dicht bij de Randstad voor werk, lekker dicht bij de Veluwe voor de recreatie. Maar gaat dat wel goed, die vrijgevochten stedelingen in de Biblebelt? ,,We hebben helemaal niks met Ede.’’\n",
      "READ MORE--> https://www.ad.nl/wonen/hoe-ede-met-zijn-zwarte-kousen-plots-heel-hip-werd~a13ed7f3/\n",
      " \n",
      "         +--------------------------------------------------------------------+\n",
      " \n",
      "25\n",
      "TITLE--> Opnieuw man met mes aangehouden op Schiphol\n",
      "DISCRIPTION--> De Koninklijke Marechaussee heeft zaterdag opnieuw iemand op Schiphol aangehouden vanwege het dragen van een mes. Het is al zeker de zesde keer in korte tijd dat op de luchthaven bij een persoon een mes wordt aangetroffen.\n",
      "READ MORE--> https://www.ad.nl/binnenland/opnieuw-man-met-mes-aangehouden-op-schiphol~a8396ae0/\n",
      " \n",
      "         +--------------------------------------------------------------------+\n",
      " \n",
      "26\n",
      "TITLE--> Margot (57) is al jaren ongeneeslijk ziek: ‘Ik durfde niet verder te kijken dan paar weken’\n",
      "DISCRIPTION--> Annemarie Haverkamp praat met mensen over hun leven en het einde dat nadert. Margot Scholte (57) uit Den Dolder kreeg in 2008 borstkanker. Ze leek na een operatie en bestralingen genezen, maar vijf jaar later werd opnieuw kanker vastgesteld met uitzaaiingen naar haar botten en lever.\n",
      "READ MORE--> https://www.ad.nl/binnenland/margot-57-is-al-jaren-ongeneeslijk-ziek-ik-durfde-niet-verder-te-kijken-dan-paar-weken~a48a8abf/\n",
      " \n",
      "         +--------------------------------------------------------------------+\n",
      " \n",
      "27\n",
      "TITLE--> Kinderopvang boos: ‘Bezopen dat scholen niet samenwerken met opvang’\n",
      "DISCRIPTION--> Branchevereniging Kinderopvang is boos op een groot deel van de basisscholen. Maandag gaan de scholen weer open, maar tussen veel scholen en de kinderopvang is nog niets afgesproken, zei voorzitter Felix Rottenberg in het programma Op1.  Hij noemt het idee van sommige scholen om halve dagen open te gaan ‘een rampenplan’.\n",
      "READ MORE--> https://www.ad.nl/binnenland/kinderopvang-boos-bezopen-dat-scholen-niet-samenwerken-met-opvang~a39aa2fc/\n",
      " \n",
      "         +--------------------------------------------------------------------+\n",
      " \n",
      "28\n",
      "TITLE--> Kindercoach Carla helpt ouders die het even niet meer zien zitten in coronatijd\n",
      "DISCRIPTION--> Kinderen kunnen terecht bij de Kindertelefoon, maar ouders hebben soms ook behoefte aan een luisterend oor. Kindercoach Carla Olde Samson uit de Achterhoek biedt die mogelijkheid.\n",
      "READ MORE--> https://www.ad.nl/nlblijftthuis/kindercoach-carla-helpt-ouders-die-het-even-niet-meer-zien-zitten-in-coronatijd~a8611a25/\n",
      " \n",
      "         +--------------------------------------------------------------------+\n",
      " \n",
      "29\n",
      "TITLE--> Zware windstoten: schade aan vooral bomen, windhoos bij Zundert en ook voor morgen code geel\n",
      "DISCRIPTION--> Zware windstoten hebben vanmiddag en vanavond met name schade aan bomen veroorzaakt. Die zitten net in blad en zijn daardoor kwetsbaar. Het KNMI gaf code geel af voor alle kustprovincies, het Waddengebied en het IJsselmeer en handhaaft die waarschuwing voor morgen.\n",
      "READ MORE--> https://www.ad.nl/binnenland/zware-windstoten-schade-aan-vooral-bomen-windhoos-bij-zundert-en-ook-voor-morgen-code-geel~adec3f203/\n",
      " \n",
      "         +--------------------------------------------------------------------+\n",
      " \n",
      "30\n",
      "TITLE--> Louis van Gaal: ‘Truus heeft me geleerd dat ik in het openbaar best vaker mag lachen’\n",
      "DISCRIPTION--> Ruim tien jaar geleden verscheen al een biografie over Louis van Gaal (68), maar dat weerhield hem er niet van mee te werken aan een nieuwe: LvG. ,,Per slot van rekening ben ik ook weer een paar jaar verder en wijzer.”\n",
      "READ MORE--> https://www.ad.nl/show/louis-van-gaal-truus-heeft-me-geleerd-dat-ik-in-het-openbaar-best-vaker-mag-lachen~ad147bd0/\n",
      " \n",
      "         +--------------------------------------------------------------------+\n",
      " \n"
     ]
    },
    {
     "name": "stdout",
     "output_type": "stream",
     "text": [
      "         ---------------TELEGRAAF.NL BINNENLAND NIEUWS---------------\n",
      " \n",
      "1\n",
      "TITLE--> Belastingdienst erkent: toch sprake van etnisch profileren\n",
      "DISCRIPTION--> Ruim 11.000 mensen met een dubbele nationaliteit zijn door de Belastingdienst strenger gecontroleerd dan andere Nederlanders. De tweede nationaliteit was een officieel selectiecriterium om te bepalen of er een verhoogde kans was op fraude. De Belastingdienst bevestigt dit na onderzoek van RTL Nieuws...\n",
      "READ MORE--> https://www.telegraaf.nl/nieuws/1448514474/belastingdienst-erkent-toch-sprake-van-etnisch-profileren\n",
      " \n",
      "         +--------------------------------------------------------------------+\n",
      " \n",
      "2\n",
      "TITLE--> Dansscholen willen snel weer open\n",
      "DISCRIPTION--> Dansscholen willen snel weer open\n",
      "READ MORE--> https://www.telegraaf.nl/nieuws/1881530944/dansscholen-willen-snel-weer-open\n",
      " \n",
      "         +--------------------------------------------------------------------+\n",
      " \n",
      "3\n",
      "TITLE--> LIVE | Eerste kappers al vlak na middernacht open\n",
      "DISCRIPTION--> LIVE | Eerste kappers al vlak na middernacht open\n",
      "READ MORE--> https://www.telegraaf.nl/nieuws/976226418/live-eerste-kappers-al-vlak-na-middernacht-open\n",
      " \n",
      "         +--------------------------------------------------------------------+\n",
      " \n",
      "4\n",
      "TITLE--> Schietpartij in Rotterdam, slachtoffer overleden\n",
      "DISCRIPTION--> Op de Bergselaan in Rotterdam heeft zondagavond een schietpartij plaatsgevonden. Het slachtoffer is overleden, reanimatie mocht niet meer baten. De daders zijn per auto gevlucht.\n",
      "READ MORE--> https://www.telegraaf.nl/nieuws/1743232745/schietpartij-in-rotterdam-slachtoffer-overleden\n",
      " \n",
      "         +--------------------------------------------------------------------+\n",
      " \n",
      "5\n",
      "TITLE--> Harde wind en windstoten veroorzaken schade aan bomen\n",
      "DISCRIPTION--> Windstoten hebben zondag gezorgd voor met name schade aan bomen. De harde wind houdt aan tot maandagavond. Het KNMI heeft code geel afgekondigd voor alle kustprovincies, het Waddengebied en het IJsselmeer.\n",
      "READ MORE--> https://www.telegraaf.nl/nieuws/1445278187/harde-wind-en-windstoten-veroorzaken-schade-aan-bomen\n",
      " \n",
      "         +--------------------------------------------------------------------+\n",
      " \n",
      "6\n",
      "TITLE--> RIVM bij heropening basisscholen: ’Onmogelijk om afstand te houden van kleuters’\n",
      "DISCRIPTION--> Onder voorwaarden gaat Nederland vanaf maandag in stapjes van het slot af. Om te beginnen met onder andere scholen, contactberoepen en buiten sporten. Maar als het coronavirus weer harder toe slaat, zo waarschuwt het kabinet, gaan heropende sectoren nog een keer op slot. Die verantwoordelijkheid wor...\n",
      "READ MORE--> https://www.telegraaf.nl/nieuws/490929502/rivm-bij-heropening-basisscholen-onmogelijk-om-afstand-te-houden-van-kleuters\n",
      " \n",
      "         +--------------------------------------------------------------------+\n",
      " \n",
      "7\n",
      "TITLE--> Camper dining omzeilt regels, ’iedereen stond te juichen’\n",
      "DISCRIPTION--> Camper dining omzeilt regels, ’iedereen stond te juichen’\n",
      "READ MORE--> https://www.telegraaf.nl/nieuws/853511031/camper-dining-omzeilt-regels-iedereen-stond-te-juichen\n",
      " \n",
      "         +--------------------------------------------------------------------+\n",
      " \n",
      "8\n",
      "TITLE--> Overleden kitesurfer mogelijk gegrepen door harde windvlaag\n",
      "DISCRIPTION--> Bij het strand van Kamperland op het Zeeuwse eiland Noord-Beveland is zondag een kitesurfer overleden. Het is een 28-jarige man uit Den Bosch.\n",
      "READ MORE--> https://www.telegraaf.nl/nieuws/763765588/overleden-kitesurfer-mogelijk-gegrepen-door-harde-windvlaag\n",
      " \n",
      "         +--------------------------------------------------------------------+\n",
      " \n",
      "9\n",
      "TITLE--> Ook maandag harde wind verwacht\n",
      "DISCRIPTION--> Het KNMI heeft zondag voor alle kustprovincies code geel afgegeven. Ook maandag wordt een harde wind verwacht.\n",
      "READ MORE--> https://www.telegraaf.nl/nieuws/907995778/ook-maandag-harde-wind-verwacht\n",
      " \n",
      "         +--------------------------------------------------------------------+\n",
      " \n",
      "10\n",
      "TITLE--> Veiligheidsregio’s tevreden over rustige Moederdag\n",
      "DISCRIPTION--> De 25 veiligheidsregio’s blikken terug op een rustige Moederdag. In sommige winkelgebieden was het wel druk, maar minder dan op zaterdag en de regels werden goed nageleefd.\n",
      "READ MORE--> https://www.telegraaf.nl/nieuws/1063769764/veiligheidsregio-s-tevreden-over-rustige-moederdag\n",
      " \n",
      "         +--------------------------------------------------------------------+\n",
      " \n",
      "11\n",
      "TITLE--> Politie bevrijdt gegijzelde vrouw in Zutphen\n",
      "DISCRIPTION--> De politie heeft zondag in Zutphen een vrouw bevrijd die gegijzeld werd in een woning aan de Donker Curtiusstraat.\n",
      "READ MORE--> https://www.telegraaf.nl/nieuws/1996870242/politie-bevrijdt-gegijzelde-vrouw-in-zutphen\n",
      " \n",
      "         +--------------------------------------------------------------------+\n",
      " \n",
      "12\n",
      "TITLE--> Man spuugt drie agenten in gezicht, één houdt nu afstand van zwangere vrouw\n",
      "DISCRIPTION--> Een man uit Weesp heeft op het politiebureau van Hilversum drie agenten in het gezicht gespuugd. Naar eigen zeggen heeft hij het coronavirus. Een van de agenten houdt nu uit voorzorg afstand van zijn zwangere vrouw.\n",
      "READ MORE--> https://www.telegraaf.nl/nieuws/847972533/man-spuugt-drie-agenten-in-gezicht-een-houdt-nu-afstand-van-zwangere-vrouw\n",
      " \n",
      "         +--------------------------------------------------------------------+\n",
      " \n",
      "         ---------------TWEAKERS.NL NIEUWS---------------\n",
      " \n",
      "1\n",
      "TITLE--> Afbeeldingen van ASRock H410-moederborden verschijnen online - update\n",
      "DISCRIPTION--> Er zijn afbeeldingen van zeven ASRock-moederborden met de Intel H410-chipset opgedoken. Het lijkt hierbij te gaan om zes micro-atx-moederborden en een mini-itx-variant. Releasedata en adviesprijzen van de moederborden zijn nog onbekend.<img src=\"http://feeds.feedburner.com/~r/tweakers/mixed/~4/2G3bxen0opk\" height=\"1\" width=\"1\" alt=\"\"/>\n",
      "READ MORE--> https://tweakers.net/nieuws/166982\n",
      " \n",
      "         +--------------------------------------------------------------------+\n",
      " \n",
      "2\n",
      "TITLE--> Text Editor Pro 9.2.0\n",
      "DISCRIPTION--> Versie 9.2.0 van Text Editor Pro is uitgekomen. Deze gratis en lichtgewichtteksteditor heeft uitgebreide mogelijkheden, die vooral voor softwareontwikkelaars interessant zijn. Zo zijn er syntax-highlighting voor meer dan vijftig script- en programmeertalen, macro's, verticale selectieblokken en kan het bestanden vergelijken. Het programma wordt actief ontwikkeld en met grote regelmaat verschijnen er nieuwe versies met kleine verbeteringen. Sinds versie 9.0.0 zijn de volgende veranderingen en verbeteringen aangebracht: Changes in version 9.2.0:<img src=\"http://feeds.feedburner.com/~r/tweakers/mixed/~4/KuFbXHVCuX4\" height=\"1\" width=\"1\" alt=\"\"/>\n",
      "READ MORE--> https://tweakers.net/downloads/51676\n",
      " \n",
      "         +--------------------------------------------------------------------+\n",
      " \n",
      "3\n",
      "TITLE--> DRAM Calculator for Ryzen 1.7.1\n",
      "DISCRIPTION--> DRAM Calculator for Ryzen is een programma dat kan helpen bij het overklokken van een AMD Ryzen-processor. Het geeft aan wat de ideale instellingen zijn van bepaalde geheugenmodules zijn en zou daarmee hogere snelheden en een stabieler systeem mogelijk moeten maken. Ondersteuning is aanwezig voor alle processoren uit de AMD Ryzen Zen-serie van de eerste en tweede generatie. Zojuist is versie 1.7.1 van DRAM Calculator for Ryzen uitgekomen en hierin zijn de volgende veranderingen en verbeteringen aangebracht: Changes in version 1.7.1:<img src=\"http://feeds.feedburner.com/~r/tweakers/mixed/~4/MmkyjadEyIU\" height=\"1\" width=\"1\" alt=\"\"/>\n",
      "READ MORE--> https://tweakers.net/downloads/51674\n",
      " \n",
      "         +--------------------------------------------------------------------+\n",
      " \n",
      "4\n",
      "TITLE--> Phison Electronics gaat samenwerking aan met Chinese geheugenfabrikant YMTC\n",
      "DISCRIPTION--> Phison Electronics heeft aangekondigd dat al zijn geheugencontrollers compatibel zijn met de geheugenchips van het Chinese Yangtze Memory Technology Company. De twee bedrijven zijn daarnaast van plan om gezamenlijk opslagproducten te produceren.<img src=\"http://feeds.feedburner.com/~r/tweakers/mixed/~4/E8YP7z6lCXs\" height=\"1\" width=\"1\" alt=\"\"/>\n",
      "READ MORE--> https://tweakers.net/nieuws/166978\n",
      " \n",
      "         +--------------------------------------------------------------------+\n",
      " \n",
      "5\n",
      "TITLE--> Microsoft gaat scheurtjes in scherm Surface Laptop 3 gratis repareren\n",
      "DISCRIPTION--> Microsoft belooft gebruikers van de Surface Laptop 3 dat zij hun scherm gratis kunnen laten repareren als er kleine scheurtjes in zitten. Klanten kunnen contact met het bedrijf opnemen om een reparatie aan te vragen.<img src=\"http://feeds.feedburner.com/~r/tweakers/mixed/~4/7PWVRlZwX14\" height=\"1\" width=\"1\" alt=\"\"/>\n",
      "READ MORE--> https://tweakers.net/nieuws/166976\n",
      " \n",
      "         +--------------------------------------------------------------------+\n",
      " \n",
      "6\n",
      "TITLE--> FreshTomato 2020.3\n",
      "DISCRIPTION--> FreshTomato is een van Tomato afgeleide firmware voor verschillende op ARM of MIPS gebaseerde routers van Asus, D-Link, Huawei, Linksys, Netgear, Tenda en Xiaomi. Het kan gezien worden als de voortzetting van 'Tomato by Shibby' sinds deze ontwikkelaar, Michał Rupental, zijn tijd aan andere projecten wil besteden. De FreshTomato-firmware voegt ten opzichte van de originele firmware van de fabrikant diverse extra opties toe, zoals een realtime-bandbreedtemonitor en uitgebreide instelmogelijkheden. De ontwikkelaars hebben kort geleden FreshTomato 2020.3 uitgebracht en deze is beschikbaar voor routers met een arm- of mips-cpu. FreshTomato-ARM Changelog<img src=\"http://feeds.feedburner.com/~r/tweakers/mixed/~4/8t0JCx0j274\" height=\"1\" width=\"1\" alt=\"\"/>\n",
      "READ MORE--> https://tweakers.net/downloads/51672\n",
      " \n",
      "         +--------------------------------------------------------------------+\n",
      " \n",
      "7\n",
      "TITLE--> BitKassa gaat stoppen met zijn bitcoin-activiteiten\n",
      "DISCRIPTION--> BitKassa, een Nederlandse betalingsdienst voor bitcoin, heeft aangegeven dat zij hun dienstverlening zullen staken. Volgens het bedrijf heeft het te maken met eisen van de Nederlandse overheid om inschrijfgeld te betalen.<img src=\"http://feeds.feedburner.com/~r/tweakers/mixed/~4/HPkxaDdsL80\" height=\"1\" width=\"1\" alt=\"\"/>\n",
      "READ MORE--> https://tweakers.net/nieuws/166968\n",
      " \n",
      "         +--------------------------------------------------------------------+\n",
      " \n",
      "8\n",
      "TITLE--> WHO brengt applicatie uit voor checken op symptomen coronavirus\n",
      "DISCRIPTION--> De Wereldgezondheidsorganisatie komt met een applicatie waarmee gebruikers hun symptomen kunnen checken, om er zo achter te komen of zij mogelijk besmet zijn met het coronavirus. De app is voornamelijk bedoeld voor landen die zelf niet de capaciteit hebben een app te ontwikkelen.<img src=\"http://feeds.feedburner.com/~r/tweakers/mixed/~4/GnwPhnLQmvQ\" height=\"1\" width=\"1\" alt=\"\"/>\n",
      "READ MORE--> https://tweakers.net/nieuws/166974\n",
      " \n",
      "         +--------------------------------------------------------------------+\n",
      " \n",
      "9\n",
      "TITLE--> Conferenties Black Hat en Def Con worden dit jaar virtueel georganiseerd\n",
      "DISCRIPTION--> De beveiligingsconferenties Black Hat en Def Con gaan dit jaar niet door in fysieke verschijning. In plaats daarvan wordt een digitale variant georganiseerd. Daarmee volgen de beide conferenties de globale trend van het organiseren van digitale conferenties omwille van het coronavirus.<img src=\"http://feeds.feedburner.com/~r/tweakers/mixed/~4/J-1xiKBIXwI\" height=\"1\" width=\"1\" alt=\"\"/>\n",
      "READ MORE--> https://tweakers.net/nieuws/166970\n",
      " \n",
      "         +--------------------------------------------------------------------+\n",
      " \n",
      "10\n",
      "TITLE--> Waymo gaat zelfrijdende auto's weer de weg op sturen\n",
      "DISCRIPTION--> Waymo gaat weer beginnen met het laten rijden van zijn zelfrijdende auto's, nadat het enige tijd geleden een stop inlaste vanwege de coronacrisis. Volgende week moeten de auto's weer gaan rijden in Phoenix, waarna gestaag wordt opgeschaald.<img src=\"http://feeds.feedburner.com/~r/tweakers/mixed/~4/OG_WYQersWU\" height=\"1\" width=\"1\" alt=\"\"/>\n",
      "READ MORE--> https://tweakers.net/nieuws/166972\n",
      " \n",
      "         +--------------------------------------------------------------------+\n",
      " \n",
      "11\n",
      "TITLE--> Debian GNU/Linux 10.4\n",
      "DISCRIPTION--> Debian is een opensource-besturingssysteem, dat zowel voor desktops als servers gebruikt kan worden en waarbij de nadruk op stabiliteit en veiligheid ligt. Het wordt dan ook als basis voor diverse Linux-distributies gebruikt, waaronder Ubuntu en Linux Mint. Versie 10.x, die als codenaam 'Buster' meegekregen heeft, is een zogenaamde Long Term Support-uitgave en zal de komende vijf jaar van updates worden voorzien. De release notes voor deze update kunnen hieronder worden gevonden. Debian 10.4 buster released<img src=\"http://feeds.feedburner.com/~r/tweakers/mixed/~4/5arluKbjr0A\" height=\"1\" width=\"1\" alt=\"\"/>\n",
      "READ MORE--> https://tweakers.net/downloads/51670\n",
      " \n",
      "         +--------------------------------------------------------------------+\n",
      " \n",
      "12\n",
      "TITLE--> MSI introduceert twee Z490 Unify-moederborden met volledig zwart ontwerp\n",
      "DISCRIPTION--> MSI heeft deze week een tweetal Unify Z490-moederborden aangekondigd. Het gaat hierbij om de MEG Z490 en Z490i Unify. De moederborden hebben respectievelijk een atx- en mini-itx-formfactor. Beide modellen zijn volledig zwart en bevatten geen ingebouwde rgb-leds.<img src=\"http://feeds.feedburner.com/~r/tweakers/mixed/~4/mW-OWlctgB4\" height=\"1\" width=\"1\" alt=\"\"/>\n",
      "READ MORE--> https://tweakers.net/nieuws/166964\n",
      " \n",
      "         +--------------------------------------------------------------------+\n",
      " \n",
      "13\n",
      "TITLE--> Intel stapt in 2021 volledig over op 144-laags-nand voor ssd's\n",
      "DISCRIPTION--> Intel zal in 2021 volledig overstappen op 144-laags-nand voor zijn sdd's. Dat meldt het bedrijf in een presentatie. Ook kondigt de chipfabrikant zijn Alder Stream Optane-ssd's aan. Deze maken gebruik van tweede generatie 3D Xpoint-geheugen met vier lagen en ondersteuning voor pci-e 4.0.<img src=\"http://feeds.feedburner.com/~r/tweakers/mixed/~4/CWE5FUv2_js\" height=\"1\" width=\"1\" alt=\"\"/>\n",
      "READ MORE--> https://tweakers.net/nieuws/166966\n",
      " \n",
      "         +--------------------------------------------------------------------+\n",
      " \n",
      "14\n",
      "TITLE--> Google brengt applicatie uit om kinderen te leren lezen\n",
      "DISCRIPTION--> Google heeft Read Along uitgebracht, een applicatie voor basisschoolkinderen. De applicatie is bedoeld om kinderen beter te leren lezen, en is beschikbaar in meerdere talen. Daar zit het Nederlands overigens nog niet bij, al geeft Google aan dat de software nog in ontwikkeling is.<img src=\"http://feeds.feedburner.com/~r/tweakers/mixed/~4/p9BBV4M-Eok\" height=\"1\" width=\"1\" alt=\"\"/>\n",
      "READ MORE--> https://tweakers.net/nieuws/166954\n",
      " \n",
      "         +--------------------------------------------------------------------+\n",
      " \n",
      "15\n",
      "TITLE--> Studio van Halo-regisseur brengt Disintegration-shooter in juni uit\n",
      "DISCRIPTION--> Disintegration, een game van een van de oorspronkelijke makers van Halo, komt op 16 juni uit. De game is dan beschikbaar voor pc en voor consoles. De shooter kwam eerder al uit als bèta, na een aankondiging vorig jaar.<img src=\"http://feeds.feedburner.com/~r/tweakers/mixed/~4/ShQJXAr6ePE\" height=\"1\" width=\"1\" alt=\"\"/>\n",
      "READ MORE--> https://tweakers.net/nieuws/166960\n",
      " \n",
      "         +--------------------------------------------------------------------+\n",
      " \n",
      "16\n",
      "TITLE--> Samsung werkt met start-up aan betaalkaart voor Samsung Pay\n",
      "DISCRIPTION--> Samsung is van plan om dit jaar een betaalkaart aan te gaan bieden via zijn betaaldienst Samsung Pay. Volgens het Koreaanse bedrijf moet Samsung Pay voor gebruikers meer worden dan alleen een betaalfunctie, maar wordt het ook een portemonnee om geld mee te beheren.<img src=\"http://feeds.feedburner.com/~r/tweakers/mixed/~4/O3OV5W0uobk\" height=\"1\" width=\"1\" alt=\"\"/>\n",
      "READ MORE--> https://tweakers.net/nieuws/166956\n",
      " \n",
      "         +--------------------------------------------------------------------+\n",
      " \n",
      "17\n",
      "TITLE--> NS begint met pilot voor registratiesysteem treinreizen\n",
      "DISCRIPTION--> De NS is gestart met een pilot om treinreizigers vooraf hun reis te laten registreren, zodat de vervoerder beter de drukte kan inschatten. Een aantal klanten heeft een mail gekregen van de NS om mee te doen aan het testen van het registratiesysteem.<img src=\"http://feeds.feedburner.com/~r/tweakers/mixed/~4/6V74hs1FMGA\" height=\"1\" width=\"1\" alt=\"\"/>\n",
      "READ MORE--> https://tweakers.net/nieuws/166958\n",
      " \n",
      "         +--------------------------------------------------------------------+\n",
      " \n",
      "18\n",
      "TITLE--> Zoom sluit overeenkomst met staat New York over beveiligingsbeleid\n",
      "DISCRIPTION--> Zoom heeft afspraken gemaakt met de openbaar aanklager van de staat New York, waardoor onder meer het onderwijs de videobeldienst weer mag gebruiken. Er is onder meer afgesproken dat Zoom een hoofd beveiliging aanstelt die zorgt dat persoonsgegevens veilig blijven.<img src=\"http://feeds.feedburner.com/~r/tweakers/mixed/~4/vJu9cyBsP8w\" height=\"1\" width=\"1\" alt=\"\"/>\n",
      "READ MORE--> https://tweakers.net/nieuws/166952\n",
      " \n",
      "         +--------------------------------------------------------------------+\n",
      " \n",
      "19\n",
      "TITLE--> Wine 5.8\n",
      "DISCRIPTION--> Er is met versienummer 5.8 een nieuwe ontwikkelbuild van Wine verschenen. Wine is een opensource-implementatie van de Windows-api en maakt het mogelijk om DOS- en Windows-programma's op Linux, FreeBSD, Solaris en macOS te draaien. Een grote groep ontwikkelaars draagt bij aan Wine en er is voor gekozen om elke twee weken een nieuwe zogeheten ontwikkelversie uit te brengen in plaats van te wachten tot er een aantal nieuwe functies klaar is. Een paar keer per jaar verschijnt er een stabiele uitgave. De database met applicaties die onder Wine werken, al dan niet met behulp van kleine aanpassingen, bevat op het moment van schrijven 27.073 titels. In deze uitgave zijn de volgende veranderingen en verbeteringen aangebracht: What's new in this release:<img src=\"http://feeds.feedburner.com/~r/tweakers/mixed/~4/p-LUeTwwxvg\" height=\"1\" width=\"1\" alt=\"\"/>\n",
      "READ MORE--> https://tweakers.net/downloads/51668\n",
      " \n",
      "         +--------------------------------------------------------------------+\n",
      " \n",
      "20\n",
      "TITLE--> NVCleanstall 1.6.0\n",
      "DISCRIPTION--> NVCleanstall is een programma waarmee een aangepaste installatie van Nvidia-videokaartdrivers kan worden gemaakt. Zo kunnen componenten worden verwijderd die je niet nodig hebt of niet wilt hebben, maar die niet in de standaard installatiebestand uitgeschakeld kunnen worden. Het programma kan werken met een driver die reeds geïnstalleerd is, een installatiebestand wat al gedownload is, of het kan een driver naar keuze ophalen van de Nvidia-website. Daarna wordt de driver uitgepakt en worden de gewenste aanpassingen doorgevoerd. Het resultaat is een ongecomprimeerde map met bestanden die welliswaar groter is, maar veel minder installeert. De changelog sinds versie 1.4.0 ziet er als volgt uit: Changes in version 1.6.0:<img src=\"http://feeds.feedburner.com/~r/tweakers/mixed/~4/eaeFjd-HVj0\" height=\"1\" width=\"1\" alt=\"\"/>\n",
      "READ MORE--> https://tweakers.net/downloads/51666\n",
      " \n",
      "         +--------------------------------------------------------------------+\n",
      " \n",
      "21\n",
      "TITLE--> Mozilla Firefox 76.0.1\n",
      "DISCRIPTION--> Mozilla heeft een update voor versie 76 van zijn webbrowser Firefox uitgebracht. In versie 76 is onder meer de ingebakken Lockwise password manager verbeterd. Zo laat het zien wanneer websites waarvan wachtwoorden zijn opgeslagen, zijn gehackt en of het wachtwoord van een gehackte website ook ergens anders wordt gebruikt. Verder worden opgeslagen wachtwoorden niet meer getoond zonder dat het Firefox- of Windows-wachtwoord wordt ingegeven. Verder zijn er diverse beveiligingsproblemen verholpen en zijn er enkele verbeteringen aangebracht in de zoekfunctie vanuit de adresbalk. In deze update zijn verder nog de volgende problemen verholpen: Fixed<img src=\"http://feeds.feedburner.com/~r/tweakers/mixed/~4/w1Bvx8-s46U\" height=\"1\" width=\"1\" alt=\"\"/>\n",
      "READ MORE--> https://tweakers.net/downloads/51664\n",
      " \n",
      "         +--------------------------------------------------------------------+\n",
      " \n",
      "22\n",
      "TITLE--> Smartphone Best Buy Guide - Mei 2020\n",
      "DISCRIPTION--> Welke telefoon kun je het beste kopen of aanraden? Dat lees je in deze Smartphone Best Buy Guide.<img src=\"http://feeds.feedburner.com/~r/tweakers/mixed/~4/G5hNXJHtdTo\" height=\"1\" width=\"1\" alt=\"\"/>\n",
      "READ MORE--> https://tweakers.net/reviews/7846\n",
      " \n",
      "         +--------------------------------------------------------------------+\n",
      " \n",
      "23\n",
      "TITLE--> Ubiquiti UniFi UAP/USW 4.3.13.11253\n",
      "DISCRIPTION--> Ubiquiti heeft nieuwe firmware uitgebracht voor zijn wireless producten die in de UAP- en USW-series vallen. Hiermee worden weer verschillende punten aangepakt. Het versienummer is vastgezet op 4.3.13.11253, en voorzien van de volgende aankondiging en lijst met aanpassingen: Features<img src=\"http://feeds.feedburner.com/~r/tweakers/mixed/~4/d39Ds499MFc\" height=\"1\" width=\"1\" alt=\"\"/>\n",
      "READ MORE--> https://tweakers.net/downloads/51662\n",
      " \n",
      "         +--------------------------------------------------------------------+\n",
      " \n",
      "24\n",
      "TITLE--> China lanceert nieuwe herbruikbare capsule voor vluchten met taikonauten\n",
      "DISCRIPTION--> China heeft voor het eerst een succesvolle ruimtecapsule getest met een reis naar buiten de dampkring. De nieuwe capsule, waarvan de naam nog niet bekend is, is bedoeld voor ruimtereizen naar China's toekomstige ruimtestation.<img src=\"http://feeds.feedburner.com/~r/tweakers/mixed/~4/z2bZEMjgI2w\" height=\"1\" width=\"1\" alt=\"\"/>\n",
      "READ MORE--> https://tweakers.net/nieuws/166950\n",
      " \n",
      "         +--------------------------------------------------------------------+\n",
      " \n",
      "25\n",
      "TITLE--> Google maakt groepsgesprekken in Duo beschikbaar in browserversie\n",
      "DISCRIPTION--> Google voegt groepsgesprekken toe aan de website-versie van zijn chat-app Duo. Daarmee kunnen er meerdere gebruikers aan een groepsgesprek deelnemen. Er kunnen 12 mensen meedoen aan een gesprek.<img src=\"http://feeds.feedburner.com/~r/tweakers/mixed/~4/pShYI7msZK4\" height=\"1\" width=\"1\" alt=\"\"/>\n",
      "READ MORE--> https://tweakers.net/nieuws/166948\n",
      " \n",
      "         +--------------------------------------------------------------------+\n",
      " \n",
      "26\n",
      "TITLE--> Facebook haalt nieuw ontwerp met dark mode voor desktop uit bèta\n",
      "DISCRIPTION--> Facebook is begonnen met het uitrollen van een nieuwe versie van de desktop-interface voor alle gebruikers. Die heeft een ander ontwerp, maar ook een dark mode. De website is aan de achterkant ook helemaal veranderd.<img src=\"http://feeds.feedburner.com/~r/tweakers/mixed/~4/t_PpujGBszw\" height=\"1\" width=\"1\" alt=\"\"/>\n",
      "READ MORE--> https://tweakers.net/nieuws/166946\n",
      " \n",
      "         +--------------------------------------------------------------------+\n",
      " \n",
      "27\n",
      "TITLE--> Sony brengt Android 10-upgrade naar Xperia 10 en Xperia 10 Plus\n",
      "DISCRIPTION--> De Xperia 10 en Xperia 10 Plus van Sony krijgen een upgrade naar Android 10. De upgrade, waarin onder andere een systeembrede dark mode en gebarenbesturing zitten, zou aanvankelijk 'begin dit jaar' al naar de telefoons komen.<img src=\"http://feeds.feedburner.com/~r/tweakers/mixed/~4/7tFE0SrB1-E\" height=\"1\" width=\"1\" alt=\"\"/>\n",
      "READ MORE--> https://tweakers.net/nieuws/166944\n",
      " \n",
      "         +--------------------------------------------------------------------+\n",
      " \n",
      "28\n",
      "TITLE--> Politie pakt twee verdachten op die 200 slachtoffers hackten via phishingmails\n",
      "DISCRIPTION--> De politie heeft twee verdachten van grootschalige phishingaanvallen aangehouden. De twee mannen uit Amsterdam worden ervan verdacht mails uit naam van ING te hebben verstuurd, en daarmee de inloggegevens van slachtoffers te hebben gestolen.<img src=\"http://feeds.feedburner.com/~r/tweakers/mixed/~4/TB-AKydcfm8\" height=\"1\" width=\"1\" alt=\"\"/>\n",
      "READ MORE--> https://tweakers.net/nieuws/166942\n",
      " \n",
      "         +--------------------------------------------------------------------+\n",
      " \n",
      "29\n",
      "TITLE--> Meizu presenteert Meizu 17 en 17 Pro met 5g en ToF-sensor in China\n",
      "DISCRIPTION--> De Chinese fabrikant Meizu heeft de Meizu 17 en 17 Pro gepresenteerd. De twee toestellen lijken veel op elkaar, al heeft de Pro-variant een betere camera en ondersteunt die draadloos laden. Beide telefoons hebben ondersteuning voor 5g.<img src=\"http://feeds.feedburner.com/~r/tweakers/mixed/~4/bw9uhiAe-1w\" height=\"1\" width=\"1\" alt=\"\"/>\n",
      "READ MORE--> https://tweakers.net/nieuws/166940\n",
      " \n",
      "         +--------------------------------------------------------------------+\n",
      " \n",
      "30\n",
      "TITLE--> Microsoft voorziet Office voor iPad dit jaar van muisondersteuning\n",
      "DISCRIPTION--> Microsoft Office voor de iPad krijgt later dit jaar ondersteuning voor het gebruik van trackspads en muizen. De ondersteuning bestaat al een tijdje in iOS, en nu is Microsoft van plan zijn kantoorpakket bij te werken om daarmee compatibel te zijn.<img src=\"http://feeds.feedburner.com/~r/tweakers/mixed/~4/oSbd0xx1Lq8\" height=\"1\" width=\"1\" alt=\"\"/>\n",
      "READ MORE--> https://tweakers.net/nieuws/166938\n",
      " \n",
      "         +--------------------------------------------------------------------+\n",
      " \n",
      "31\n",
      "TITLE--> Overheid publiceert tijdlijn en proces voor corona-app\n",
      "DISCRIPTION--> De overheid roept een begeleidingscommissie in het leven die moet toezien op de corona-app voor contactonderzoek. De regering heeft een tijdlijn gecreëerd waarin wordt aangegeven wanneer welke stappen worden gezet bij het bouwen van de applicaties.<img src=\"http://feeds.feedburner.com/~r/tweakers/mixed/~4/-ZPTT0xpq_g\" height=\"1\" width=\"1\" alt=\"\"/>\n",
      "READ MORE--> https://tweakers.net/nieuws/166936\n",
      " \n",
      "         +--------------------------------------------------------------------+\n",
      " \n",
      "32\n",
      "TITLE--> XnView MP 0.96.2\n",
      "DISCRIPTION--> Versie 0.96.2 van XnView MP is uitgekomen. Met dit gratis programma kunnen afbeeldingen worden bekeken en bewerkt. MP staat voor Multi Platform, wat betekent dat er versies zijn voor Windows, Linux en macOS, met elk aparte downloads voor 32bit- en 64bit-omgevingen. XnView MP gebruikt dezelfde broncode voor Windows, Linux en macOS; functionaliteit en uiterlijk van de afzonderlijke versies zijn dan ook nagenoeg gelijk. Zo is er onder andere ondersteuning voor unicode, afbeeldingen met full bit depth, een eenvoudigere manier voor vertalingen en een betere database. In deze uitgave zijn de volgende veranderingen en verbeteringen aangebracht: Fixed:<img src=\"http://feeds.feedburner.com/~r/tweakers/mixed/~4/zVasOMnNdQo\" height=\"1\" width=\"1\" alt=\"\"/>\n",
      "READ MORE--> https://tweakers.net/downloads/51660\n",
      " \n",
      "         +--------------------------------------------------------------------+\n",
      " \n",
      "33\n",
      "TITLE--> Pale Moon 28.9.3\n",
      "DISCRIPTION--> Versie 28.9.3 van Pale Moon is uitgekomen en inmiddels zijn er ook twee kleine updates verschenen. Deze webbrowser is ooit begonnen als een fork van Mozilla Firefox. Door optimalisaties voor moderne hardware en het weglaten van Accessibility features en Parental Controls presteerde hij toen een stuk beter. Ook was er een 64bit-versie beschikbaar, ruim voordat Mozilla deze zelf aanbood. Sinds Mozilla in versie 57 is overgestapt op Quantum, is er echter weinig meer dat de twee browsers nog verbindt. Vlak voordat Mozilla met Quantum kwam, heeft het Pale Moon ontwikkelteam de sourcetree van Firefox nog een keer geforkt en er de verbeteringen van Pale Moon aan toegevoegd. Zo is er bijvoorbeeld de lay-outengine Goanna, een fork van Gecko, waarvan nu de vierde generatie uit is. Daarnaast is er het Unified XUL Platform, wat kan worden beschouwd als een tegenhanger van het op Chromium-gebaseerde Electron. De download van Pale Moon is alleen in het Engels, een apart Nederlands taalbestand is beschikbaar. De releasenotes voor deze uitgave kunnen hieronder worden gevonden: Pale Moon version 28.9.3<img src=\"http://feeds.feedburner.com/~r/tweakers/mixed/~4/-wA12s8zXro\" height=\"1\" width=\"1\" alt=\"\"/>\n",
      "READ MORE--> https://tweakers.net/downloads/51658\n",
      " \n",
      "         +--------------------------------------------------------------------+\n",
      " \n",
      "34\n",
      "TITLE--> Dirt 5 heeft 120fps-optie op Xbox Series X\n",
      "DISCRIPTION--> DiRT 5 ondersteunt 120fps als het spel op de Xbox Series X wordt gespeeld. De racegame was donderdag onderdeel van een presentatie waarin nieuwe games werden aangekondigd, met bijbehorende trailers van hoe de titels er op de Xbox Series X-console uit zullen zien.<img src=\"http://feeds.feedburner.com/~r/tweakers/mixed/~4/tMYnaNbT12g\" height=\"1\" width=\"1\" alt=\"\"/>\n",
      "READ MORE--> https://tweakers.net/nieuws/166932\n",
      " \n",
      "         +--------------------------------------------------------------------+\n",
      " \n",
      "35\n",
      "TITLE--> Samsung repareert ernstige zero-click-kwetsbaarheid in alle Galaxy-smartphones\n",
      "DISCRIPTION--> Samsung heeft een patch uitgebracht voor een ernstig lek in alle Galaxy-smartphones die sinds 2014 zijn uitgebracht. Met het lek in Android was het mogelijk via een .qmg-bestand een telefoon helemaal over te nemen, zonder tussenkomst van de gebruiker.<img src=\"http://feeds.feedburner.com/~r/tweakers/mixed/~4/CpLbsxDoXJo\" height=\"1\" width=\"1\" alt=\"\"/>\n",
      "READ MORE--> https://tweakers.net/nieuws/166930\n",
      " \n",
      "         +--------------------------------------------------------------------+\n",
      " \n",
      "36\n",
      "TITLE--> Welke gadgets voor de zomer raad jij je medetweakers aan?\n",
      "DISCRIPTION--> Normaliter doen we in mei een oproep voor onze Vakantie Gift Guide, waarin we jullie hulp vragen bij het verzamelen van de leukste gadgetsuggesties voor op vakantie. Nu zullen velen dit jaar niet met vakantie gaan, maar dat is voor ons geen reden om deze traditie niet door te laten gaan.<img src=\"http://feeds.feedburner.com/~r/tweakers/mixed/~4/zrYL9lOINf4\" height=\"1\" width=\"1\" alt=\"\"/>\n",
      "READ MORE--> https://tweakers.net/plan/2652\n",
      " \n",
      "         +--------------------------------------------------------------------+\n",
      " \n",
      "37\n",
      "TITLE--> Autoriteit Persoonsgegevens begint privacyonderzoek naar TikTok\n",
      "DISCRIPTION--> De Autoriteit Persoonsgegevens begint met een officieel onderzoek naar TikTok. Daarin zal de vraag centraal staan of de privacy van de gebruikers voldoende gewaarborgd is. TikTok wordt met name door jongeren gebruikt. Daarvoor gelden strengere privacyregels.<img src=\"http://feeds.feedburner.com/~r/tweakers/mixed/~4/HvDlsXMkBMw\" height=\"1\" width=\"1\" alt=\"\"/>\n",
      "READ MORE--> https://tweakers.net/nieuws/166928\n",
      " \n",
      "         +--------------------------------------------------------------------+\n",
      " \n",
      "38\n",
      "TITLE--> Lego Star Wars: The Skywalker Saga komt waarschijnlijk op 20 oktober uit\n",
      "DISCRIPTION--> Lego Star Wars: The Skywalker Saga komt hoogstwaarschijnlijk uit op 20 oktober. Dat is de datum die genoemd wordt in een inmiddels verwijderde video van het officiële Star Wars-kanaal op YouTube.<img src=\"http://feeds.feedburner.com/~r/tweakers/mixed/~4/aPciHx-HxRc\" height=\"1\" width=\"1\" alt=\"\"/>\n",
      "READ MORE--> https://tweakers.net/nieuws/166926\n",
      " \n",
      "         +--------------------------------------------------------------------+\n",
      " \n",
      "39\n",
      "TITLE--> Vr-shooter Wolf & Pigs: Out for Vengeance verschijnt volgende week op Steam\n",
      "DISCRIPTION--> Wolf & Pigs: Out for Vengeance, een vr-actiegame die losjes gebaseerd is op het sprookje van de wolf en de drie kleine biggetjes, komt op 13 mei uit op Steam. Spelers nemen het daarin als zwaar bewapende grote boze wolf op tegen de biggetjes.<img src=\"http://feeds.feedburner.com/~r/tweakers/mixed/~4/G8gpOR3r-oM\" height=\"1\" width=\"1\" alt=\"\"/>\n",
      "READ MORE--> https://tweakers.net/nieuws/166914\n",
      " \n",
      "         +--------------------------------------------------------------------+\n",
      " \n",
      "40\n",
      "TITLE--> Alphabet staakt plannen voor smart-city-wijk in Toronto\n",
      "DISCRIPTION--> Alphabet-dochterbedrijf Sidewalk Labs gaat toch geen smart-city-wijk oprichten in Toronto. Vanwege het coronavirus en de daaropvolgende economische onzekerheid is het te lastig geworden om het project financieel levensvatbaar te maken.<img src=\"http://feeds.feedburner.com/~r/tweakers/mixed/~4/YeebTWqI3mw\" height=\"1\" width=\"1\" alt=\"\"/>\n",
      "READ MORE--> https://tweakers.net/nieuws/166924\n",
      " \n",
      "         +--------------------------------------------------------------------+\n",
      " \n"
     ]
    },
    {
     "name": "stdout",
     "output_type": "stream",
     "text": [
      "         ---------------RTLNIEUS.NL NIEUWS---------------\n",
      " \n",
      "1\n",
      "TITLE--> \n",
      "                Dode bij schietpartij in woonwijk Rotterdam\n",
      "                            \n",
      "DISCRIPTION--> Mogelijke vluchtauto gevonden\n",
      "READ MORE--> https://www.rtlnieuws.nl/nieuws/nederland/artikel/5117801/schietpartij-rotterdam-dode-gevallen-afrekening-woonwijk\n",
      " \n",
      "         +--------------------------------------------------------------------+\n",
      " \n",
      "2\n",
      "TITLE--> \n",
      "                Harde windstoten en schade aan bomen\n",
      "                            \n",
      "DISCRIPTION--> Ook morgen\n",
      "READ MORE--> https://www.rtlnieuws.nl/nieuws/nederland/artikel/5117786/harde-windstoten-vooral-schade-aan-bomen\n",
      " \n",
      "         +--------------------------------------------------------------------+\n",
      " \n",
      "3\n",
      "TITLE--> \n",
      "                Kinderen weer naar school? 'Mijn zoontje blijft thuis'\n",
      "                            \n",
      "DISCRIPTION--> Scholen morgen weer open\n",
      "READ MORE--> https://www.rtlnieuws.nl/nieuws/nederland/artikel/5117411/kinderen-mogen-weer-naar-school-maar-niet-oudere-durft-t-aan\n",
      " \n",
      "         +--------------------------------------------------------------------+\n",
      " \n",
      "4\n",
      "TITLE--> \n",
      "                'Veel Kesselnaren bezitten antistoffen coronavirus'\n",
      "                            \n",
      "DISCRIPTION--> Grote immuuntest\n",
      "READ MORE--> https://www.rtlnieuws.nl/nieuws/nederland/artikel/5117586/veel-kesselnaren-bezitten-antistoffen-tegen-coronavirus\n",
      " \n",
      "         +--------------------------------------------------------------------+\n",
      " \n",
      "5\n",
      "TITLE--> \n",
      "                50 opleggerbanden lek gestoken: strandhuisjesvervoer in gevaar\n",
      "                            \n",
      "DISCRIPTION--> Vandalisme\n",
      "READ MORE--> https://www.rtlnieuws.nl/nieuws/nederland/artikel/5117516/50-opleggerbanden-lekgestoken-strandhuisjesvervoer-gevaar\n",
      " \n",
      "         +--------------------------------------------------------------------+\n",
      " \n",
      "6\n",
      "TITLE--> \n",
      "                Politie stuit op enorm crystal meth-lab in Gelderse schuur\n",
      "                            \n",
      "DISCRIPTION--> Handelswaarde van 10 miljoen\n",
      "READ MORE--> https://www.rtlnieuws.nl/nieuws/nederland/artikel/5117491/politie-stuit-op-enorm-crystal-meth-lab-gelderse-schuur\n",
      " \n",
      "         +--------------------------------------------------------------------+\n",
      " \n",
      "7\n",
      "TITLE--> \n",
      "                Met hoeveel personen mag je in de auto zitten? \n",
      "                            \n",
      "DISCRIPTION--> Corona-update, stel je vraag\n",
      "READ MORE--> https://www.rtlnieuws.nl/nieuws/nederland/artikel/5117381/corona-update-auto-mondkapje-rijlessen-carpoolen-boetes\n",
      " \n",
      "         +--------------------------------------------------------------------+\n",
      " \n",
      "8\n",
      "TITLE--> \n",
      "                'Maakte niets uit waar je in geloofde, ze stond voor je klaar'\n",
      "                            \n",
      "DISCRIPTION--> Zij stierven door corona\n",
      "READ MORE--> https://www.rtlnieuws.nl/nieuws/nederland/artikel/5116886/eerbetoon-zeliha-durmaz-overleden-coronavirus-covid19\n",
      " \n",
      "         +--------------------------------------------------------------------+\n",
      " \n",
      "9\n",
      "TITLE--> \n",
      "                 Pas op voor windstoten, omslag van warm naar koud weer\n",
      "                            \n",
      "DISCRIPTION--> Einde aan de pret\n",
      "READ MORE--> https://www.rtlnieuws.nl/nieuws/nederland/artikel/5117341/omslag-van-warm-naar-koud-weer-pas-op-voor-zware-windstoten\n",
      " \n",
      "         +--------------------------------------------------------------------+\n",
      " \n",
      "10\n",
      "TITLE--> \n",
      "                Noodlot maakte Marina moeder: 'Nu onvoorwaardelijke liefde'\n",
      "                            \n",
      "DISCRIPTION--> Zondaginterview\n",
      "READ MORE--> https://www.rtlnieuws.nl/nieuws/nederland/artikel/5116001/zondaginterview-marina-stiefmoeder-moederdag-kinderen-moeder-mama\n",
      " \n",
      "         +--------------------------------------------------------------------+\n",
      " \n",
      "11\n",
      "TITLE--> \n",
      "                'Politie krijgt meer meldingen van overlast sinds coronacrisis'\n",
      "                            \n",
      "DISCRIPTION--> Liveblog\n",
      "READ MORE--> https://www.rtlnieuws.nl/nieuws/nederland/artikel/5117311/coronavirus-liveblog-covid-19-rivm-cijfers-patienten-ziekte\n",
      " \n",
      "         +--------------------------------------------------------------------+\n",
      " \n",
      "12\n",
      "TITLE--> \n",
      "                IJsland wint alternatief songfestival, Nederland stelt teleur\n",
      "                            \n",
      "DISCRIPTION--> Tegenvaller voor  Jeangu \n",
      "READ MORE--> https://www.rtlnieuws.nl/nieuws/nederland/artikel/5117306/ijsland-winnaar-van-alternatief-songfestival-op-internet\n",
      " \n",
      "         +--------------------------------------------------------------------+\n",
      " \n",
      "         ---------------PAROOL.NL NEDERLAND---------------\n",
      " \n",
      "1\n",
      "TITLE--> Hudson's Bay: ‘Nederlandse verhuurders vormden verboden kartel’\n",
      "DISCRIPTION--> Het omvallen van warenhuis Hudson’s Bay is een straatgevecht geworden. Terwijl eigenaren van de vijftien panden nog altijd tevergeefs proberen het Canadese moederbedrijf aan de afspraak te houden om tot 2027 zeker 280 miljoen euro huur door te betalen, betichten de Canadezen de verhuurders van verboden kartelvorming.\n",
      "READ MORE--> \n",
      " \n",
      "         +--------------------------------------------------------------------+\n",
      " \n",
      "2\n",
      "TITLE--> ‘Belastingdienst erkent dat sprake was van etnisch profileren’\n",
      "DISCRIPTION--> Ruim 11.000 mensen met een dubbele nationaliteit zijn door de Belastingdienst strenger gecontroleerd dan andere Nederlanders. De tweede nationaliteit was een officieel selectiecriterium om te bepalen of er een verhoogde kans was op fraude. De Belastingdienst bevestigt dit na onderzoek van RTL Nieuws en Trouw.\n",
      "READ MORE--> \n",
      " \n",
      "         +--------------------------------------------------------------------+\n",
      " \n",
      "3\n",
      "TITLE--> Öztürk stopt volgend jaar als Kamerlid Denk\n",
      "DISCRIPTION--> Denk-voorzitter Selçuk Öztürk zal zich bij de volgende Tweede Kamerverkiezingen niet opnieuw kandidaat stellen voor de lijst.\n",
      "READ MORE--> \n",
      " \n",
      "         +--------------------------------------------------------------------+\n",
      " \n",
      "4\n",
      "TITLE--> Roel Maalderink: 'Ik wil niemand voor gek zetten'\n",
      "DISCRIPTION--> Roel Maalderink (1991) is online programmamaker. Voxpop, zijn serie straatinterviews met een twist, is net begonnen aan het vijfde seizoen.\n",
      "READ MORE--> \n",
      " \n",
      "         +--------------------------------------------------------------------+\n",
      " \n",
      "5\n",
      "TITLE--> Hoe Nederland de kennis voor een coronavaccin uit handen gaf\n",
      "DISCRIPTION--> Een kansrijk coronavaccin waaraan een Amerikaanse farmaceut werkt, is gebaseerd op Nederlands onderzoek. Die kennis had hier kunnen blijven, maar de overheid bedankte ervoor. Wat rest, is afwachten wanneer het vaccin deze kant op komt.\n",
      "READ MORE--> \n",
      " \n",
      "         +--------------------------------------------------------------------+\n",
      " \n",
      "6\n",
      "TITLE--> KNMI waarschuwt voor zware windstoten langs de kust\n",
      "DISCRIPTION--> Het KNMI waarschuwt voor een fors toenemende wind zondagmiddag en heeft voor de kustprovincies code geel afgegeven. Die waarschuwing is tot maandagmiddag van kracht.\n",
      "READ MORE--> \n",
      " \n",
      "         +--------------------------------------------------------------------+\n",
      " \n",
      "7\n",
      "TITLE--> Bedrijven mogen soms toch mensen ‘temperaturen’\n",
      "DISCRIPTION--> De Autoriteit Persoonsgegevens (AP) heeft een beetje bakzeil gehaald. De privacywaakhond meldde afgelopen week nog in Het Parool dat het temperaturen van kantoorpersoneel volgens de privacyregels niet is toegestaan, nu blijkt er toch een maas in de regels te zitten.\n",
      "READ MORE--> \n",
      " \n",
      "         +--------------------------------------------------------------------+\n",
      " \n",
      "8\n",
      "TITLE--> Denk stond voor verbinding. Hoe de bom barstte\n",
      "DISCRIPTION--> Nu fractievoorzitter Azarkan is geroyeerd als lid, is de chaos binnen Denk compleet. De partij stond voor verbinding, maar de drie Kamerleden hadden al langer ruzie, blijkt uit een vertrouwelijk rapport.\n",
      "READ MORE--> \n",
      " \n",
      "         +--------------------------------------------------------------------+\n",
      " \n",
      "9\n",
      "TITLE--> Nederland heeft er een vulkaan bij\n",
      "DISCRIPTION--> Er is een vulkaan ontdekt in het Nederlandse deel van de Noordzee. De dode vulkaan ligt in een gebied 100 kilometer ten noordwesten van Texel en werd bij toeval ontdekt door de Geologische Dienst Nederland (GDN).\n",
      "READ MORE--> \n",
      " \n",
      "         +--------------------------------------------------------------------+\n",
      " \n",
      "10\n",
      "TITLE--> Nederland miste kans op snelle toegang tot vaccin\n",
      "DISCRIPTION--> Nederland heeft een kans gemist op snelle toegang tot een potentieel coronavaccin. Dit zeggen de wetenschappers en ondernemers die hun vaccintechnologie in 2011 verkochten aan de Amerikaanse farmareus Johnson & Johnson, die werkt aan een vaccin dat begin volgend jaar klaar moet zijn.\n",
      "READ MORE--> \n",
      " \n",
      "         +--------------------------------------------------------------------+\n",
      " \n",
      "11\n",
      "TITLE--> Grootste producent ter wereld: ‘Coronavaccin zal een paar euro kosten’\n",
      "DISCRIPTION--> Een coronavaccin zal slechts een paar euro kosten, dat zegt Adar Poonawalla, bestuursvoorzitter van het Serum Institute of India. Het bedrijf dat in 2012 het Nederlands Vaccininstituut kocht, is in volume de grootste vaccinproducent ter wereld. Serum staat open voor de productie van Nederlandse coronavaccins.\n",
      "READ MORE--> \n",
      " \n",
      "         +--------------------------------------------------------------------+\n",
      " \n",
      "12\n",
      "TITLE--> Advocaat Korver: ‘Slachtoffers verworden tot toeschouwers in hun proces’\n",
      "DISCRIPTION--> Vanwege de coronamaatregelen worden ze veelal geweerd uit rechtszalen.\n",
      "READ MORE--> \n",
      " \n",
      "         +--------------------------------------------------------------------+\n",
      " \n",
      "13\n",
      "TITLE--> Compensatie voor vuurwerkbranche na\r\n",
      "verbod op rotjes en pijlen\n",
      "DISCRIPTION--> De vuurwerkbranche krijgt vanwege het verbod op knalvuurwerk en sierpijlen in elk geval 1500 euro per verkooppunt vergoed voor al ingekochte voorraden. Dat schrijft staatssecretaris Van Veldhoven (Milieu) in een Kamerbrief.\n",
      "READ MORE--> \n",
      " \n",
      "         +--------------------------------------------------------------------+\n",
      " \n",
      "14\n",
      "TITLE--> ‘Theater open voor 30 mensen? Een belediging voor het vak’\n",
      "DISCRIPTION--> Het klinkt mooi: vanaf juni kunnen we weer naar het theater. Reken er niet te veel op. De theaterwereld reageert met onbegrip op de aankondiging van het kabinet. ‘Dit is het domste wat ik in lange tijd gehoord heb.’\n",
      "READ MORE--> \n",
      " \n",
      "         +--------------------------------------------------------------------+\n",
      " \n",
      "15\n",
      "TITLE--> Seks voor singles in coronatijd: via webcam, solo of op 1,5 meter afstand\n",
      "DISCRIPTION--> Singles die seks willen hebben in coronatijd, kunnen het best aan webcamseks doen met hun date. Als ze toch af willen spreken, is afstand houden en masturberen in het bijzijn van de ander de beste optie. Dat adviseert Soa Aids Nederland.\n",
      "READ MORE--> \n",
      " \n",
      "         +--------------------------------------------------------------------+\n",
      " \n",
      "16\n",
      "TITLE--> Op bijna zestig procent van de basisscholen blijven maandag leraren thuis\n",
      "DISCRIPTION--> Gemiddeld drie leraren per basisschool hervatten hun werk voor de klas niet.\n",
      "READ MORE--> \n",
      " \n",
      "         +--------------------------------------------------------------------+\n",
      " \n",
      "17\n",
      "TITLE--> Op het Catshuis wordt de knoop doorgehakt: we gaan dit doen\n",
      "DISCRIPTION--> Terwijl premier Rutte vrijdag nog somberde over versoepeling van coronamaatregelen, lag intern al een strategie klaar. Een weekje geen Kamerdebat gaf tijd rustig na te denken.\n",
      "READ MORE--> \n",
      " \n",
      "         +--------------------------------------------------------------------+\n",
      " \n",
      "18\n",
      "TITLE--> CBS: ‘Bijna helft bedrijven vreest crisis niet te overleven’\n",
      "DISCRIPTION--> Bijna de helft van de Nederlandse bedrijven verwacht dat hun voortbestaan in gevaar komt als de coronacrisis langer dan een half jaar aanhoudt. In het lopende kwartaal zet een meerderheid van de ondernemers zich schrap voor een lagere omzet. Dat gaat bij de meeste ondernemingen waarschijnlijk gepaard met een verlies van banen.\n",
      "READ MORE--> \n",
      " \n",
      "         +--------------------------------------------------------------------+\n",
      " \n",
      "19\n",
      "TITLE--> Partners mogen weer mee naar consult met de verloskundige\n",
      "DISCRIPTION--> De afgelopen weken was het doorbijten voor veel zwangere vrouwen. De eerste beelden van hun ongeboren kind op de echo moesten zij noodgedwongen alleen bekijken.\n",
      "READ MORE--> \n",
      " \n",
      "         +--------------------------------------------------------------------+\n",
      " \n",
      "20\n",
      "TITLE--> PBL: Nederland blijft aangewezen op import biomassa\n",
      "DISCRIPTION--> Voor biomassa blijft Nederland aangewezen op import.\n",
      "READ MORE--> \n",
      " \n",
      "         +--------------------------------------------------------------------+\n",
      " \n"
     ]
    },
    {
     "name": "stdout",
     "output_type": "stream",
     "text": [
      "         ---------------LINDA.NL BINNENLAND NIEUWS---------------\n",
      " \n",
      "1\n",
      "TITLE--> Kinderopvang: 'Veel scholen hebben niet overlegd over buitenschoolse opvang'\n",
      "DISCRIPTION--> Kinderopvang: 'Veel scholen hebben niet overlegd over buitenschoolse opvang'\n",
      "READ MORE--> https://www.linda.nl/nieuws/binnenland//nieuws/binnenland/kinderopvang-scholen-buitenschoolse-opvang/\n",
      " \n",
      "         +--------------------------------------------------------------------+\n",
      " \n",
      "2\n",
      "TITLE--> 'Kostbare tijd verloren gegaan doordat kabinet wachtte met crisisaanpak'\n",
      "DISCRIPTION--> 'Kostbare tijd verloren gegaan doordat kabinet wachtte met crisisaanpak'\n",
      "READ MORE--> https://www.linda.nl/nieuws/binnenland//nieuws/binnenland/tijd-verloren-kabinet-crisisaanpak/\n",
      " \n",
      "         +--------------------------------------------------------------------+\n",
      " \n",
      "3\n",
      "TITLE--> Zendmast in Gelderland beklommen, reden nog onbekend\n",
      "DISCRIPTION--> Zendmast in Gelderland beklommen, reden nog onbekend\n",
      "READ MORE--> https://www.linda.nl/nieuws/binnenland//nieuws/binnenland/zendmast-bemmel-gelderland-man/\n",
      " \n",
      "         +--------------------------------------------------------------------+\n",
      " \n",
      "4\n",
      "TITLE--> Sterke vrouwen schudden de boel behoorlijk op in 'Ex on the Beach: Double Dutch'\n",
      "DISCRIPTION--> Sterke vrouwen schudden de boel behoorlijk op in 'Ex on the Beach: Double Dutch'\n",
      "READ MORE--> https://www.linda.nl/nieuws/binnenland//advertorial/ex-on-the-beach-double-dutch-sterke-vrouwen/\n",
      " \n",
      "         +--------------------------------------------------------------------+\n",
      " \n",
      "5\n",
      "TITLE--> Verpleeghuis Dieren plaatst hekken om familie weg te houden\n",
      "DISCRIPTION--> Verpleeghuis Dieren plaatst hekken om familie weg te houden\n",
      "READ MORE--> https://www.linda.nl/nieuws/binnenland//nieuws/binnenland/verpleeghuis-dieren-hekken-familie-coronavirus/\n",
      " \n",
      "         +--------------------------------------------------------------------+\n",
      " \n",
      "6\n",
      "TITLE--> Op zoek naar een mondkapje? Zo maak je er zelf een\n",
      "DISCRIPTION--> Op zoek naar een mondkapje? Zo maak je er zelf een\n",
      "READ MORE--> https://www.linda.nl/nieuws/binnenland//nieuws/binnenland/zelf-mondkapje-maken-overheid/\n",
      " \n",
      "         +--------------------------------------------------------------------+\n",
      " \n",
      "7\n",
      "TITLE--> Uitgedoofde vulkaan ontdekt in de Noordzee\n",
      "DISCRIPTION--> Uitgedoofde vulkaan ontdekt in de Noordzee\n",
      "READ MORE--> https://www.linda.nl/nieuws/binnenland//nieuws/binnenland/twijfelachtige-eer-nederland-heeft-er-met-mulciber-een-vulkaan-bij/\n",
      " \n",
      "         +--------------------------------------------------------------------+\n",
      " \n",
      "8\n",
      "TITLE--> Hulde aan de gekrulde: dit vindt ons testpanel van John Frieda's Dream Curls-lijn\n",
      "DISCRIPTION--> Hulde aan de gekrulde: dit vindt ons testpanel van John Frieda's Dream Curls-lijn\n",
      "READ MORE--> https://www.linda.nl/nieuws/binnenland//advertorial/test-resultaten-john-frieda-dream-curls/\n",
      " \n",
      "         +--------------------------------------------------------------------+\n",
      " \n",
      "9\n",
      "TITLE--> Liveblog coronavirus vrijdag 8 mei: Zeeland laat geleidelijk meer toeristen toeÂ \n",
      "DISCRIPTION--> Liveblog coronavirus vrijdag 8 mei: Zeeland laat geleidelijk meer toeristen toeÂ \n",
      "READ MORE--> https://www.linda.nl/nieuws/binnenland//nieuws/binnenland/liveblog-coronavirus-vrijdag-8-mei/\n",
      " \n",
      "         +--------------------------------------------------------------------+\n",
      " \n",
      "10\n",
      "TITLE--> 'Coronacrisis zal leiden tot enorme toename aantal kindhuwelijken'\n",
      "DISCRIPTION--> 'Coronacrisis zal leiden tot enorme toename aantal kindhuwelijken'\n",
      "READ MORE--> https://www.linda.nl/nieuws/binnenland//nieuws/binnenland/coronacrisis-toename-kindhuwelijken/\n",
      " \n",
      "         +--------------------------------------------------------------------+\n",
      " \n",
      "11\n",
      "TITLE--> 'Te veel ontvangen kinderopvangcompensatie terugbetalen'\n",
      "DISCRIPTION--> 'Te veel ontvangen kinderopvangcompensatie terugbetalen'\n",
      "READ MORE--> https://www.linda.nl/nieuws/binnenland//nieuws/binnenland/kinderopvang-compensatie-terugbetalen/\n",
      " \n",
      "         +--------------------------------------------------------------------+\n",
      " \n",
      "12\n",
      "TITLE--> Na regen komt zonnebrand: LINDA.lab zoekt 100 testers voor Lancaster suncare\n",
      "DISCRIPTION--> Na regen komt zonnebrand: LINDA.lab zoekt 100 testers voor Lancaster suncare\n",
      "READ MORE--> https://www.linda.nl/nieuws/binnenland//advertorial/linda-lab-100-testers-zonnebrand-lancaster/\n",
      " \n",
      "         +--------------------------------------------------------------------+\n",
      " \n",
      "13\n",
      "TITLE--> 'Stakende' Wil (82) heeft man nog steeds niet gezien: 'Dit verkort ook mijn leven'\n",
      "DISCRIPTION--> 'Stakende' Wil (82) heeft man nog steeds niet gezien: 'Dit verkort ook mijn leven'\n",
      "READ MORE--> https://www.linda.nl/nieuws/binnenland//nieuws/binnenland/wil-van-buren-niet-op-bezoek-man-nico-corona/\n",
      " \n",
      "         +--------------------------------------------------------------------+\n",
      " \n",
      "14\n",
      "TITLE--> Pasgeboren olifant voor het eerst naar buiten in (leeg) Artis\n",
      "DISCRIPTION--> Pasgeboren olifant voor het eerst naar buiten in (leeg) Artis\n",
      "READ MORE--> https://www.linda.nl/nieuws/binnenland//nieuws/binnenland/babyolifant-voor-het-eerst-naar-buiten-artis/\n",
      " \n",
      "         +--------------------------------------------------------------------+\n",
      " \n",
      "15\n",
      "TITLE--> Autoriteit Persoonsgegevens onderzoekt of TikTok rekening houdt met privacy kinderen\n",
      "DISCRIPTION--> Autoriteit Persoonsgegevens onderzoekt of TikTok rekening houdt met privacy kinderen\n",
      "READ MORE--> https://www.linda.nl/nieuws/binnenland//nieuws/binnenland/tiktok-privacy-kinderen/\n",
      " \n",
      "         +--------------------------------------------------------------------+\n",
      " \n",
      "16\n",
      "TITLE--> Efteling opent de deuren op 20 mei\n",
      "DISCRIPTION--> Efteling opent de deuren op 20 mei\n",
      "READ MORE--> https://www.linda.nl/nieuws/binnenland//nieuws/binnenland/attractiepark-efteling-opent-deuren-coronamaatregelen/\n",
      " \n",
      "         +--------------------------------------------------------------------+\n",
      " \n",
      "17\n",
      "TITLE--> Huren gaan per 1 juli tÃ³ch massaal omhoog\n",
      "DISCRIPTION--> Huren gaan per 1 juli tÃ³ch massaal omhoog\n",
      "READ MORE--> https://www.linda.nl/nieuws/binnenland//nieuws/binnenland/huur-woninghuur-1-juli-2020/\n",
      " \n",
      "         +--------------------------------------------------------------------+\n",
      " \n",
      "         ---------------GELDERLANDER.NL BINNENLAND---------------\n",
      " \n",
      "1\n",
      "TITLE--> LIVE | Eerste kappers al na middernacht open; ‘vicepresident VS werkt uit voorzorg thuis’\n",
      "DISCRIPTION--> Het aantal coronapatiënten dat op de intensive care ligt, bedraagt 507. Dat zijn er 34 minder dan de dag ervoor. Het officiële dodental door het coronavirus is met 18 gestegen. Het aantal ziekenhuisopnames steeg met 22 tot 11.307. Verder openen enkele kappers in Brabant al vlak na middernacht hun deuren weer en gaat Turkije vanaf begin juni stapsgewijs open voor buitenlandse toeristen. In dit liveblog houden we je op de  hoogte van de laatste ontwikkelingen rondom het coronavirus. De berichten van de afgelopen dagen lees je hier terug.\n",
      "READ MORE--> \n",
      " \n",
      "         +--------------------------------------------------------------------+\n",
      " \n",
      "2\n",
      "TITLE--> ‘Belastingdienst erkent: toch sprake van etnisch profileren’\n",
      "DISCRIPTION--> Ruim 11.000 mensen met een dubbele nationaliteit zijn door de Belastingdienst strenger gecontroleerd dan andere Nederlanders. De tweede nationaliteit was een officieel selectiecriterium om te bepalen of er een verhoogde kans was op fraude. De Belastingdienst bevestigt dit na onderzoek van RTL Nieuws en Trouw.\n",
      "READ MORE--> \n",
      " \n",
      "         +--------------------------------------------------------------------+\n",
      " \n",
      "3\n",
      "TITLE--> Deze crisis laat ons zien dat mensen snakken naar buiten, naar de natuur\n",
      "DISCRIPTION--> Nynke de Jong schrijft drie keer per week over wat haar bezighoudt.\n",
      "READ MORE--> \n",
      " \n",
      "         +--------------------------------------------------------------------+\n",
      " \n",
      "4\n",
      "TITLE--> Moeders voor Moeders: Tekort aan urine probleem voor vruchtbaarheidsmedicijn\n",
      "DISCRIPTION--> Sinds de coronacrisis doneren minder zwangeren hun urine aan de organisatie Moeders voor Moeders, die het gebruikt voor het maken van vruchtbaarheidsmedicatie.\n",
      "READ MORE--> \n",
      " \n",
      "         +--------------------------------------------------------------------+\n",
      " \n",
      "5\n",
      "TITLE--> Moet olifant Buba deze keer écht weg uit het circus?\n",
      "DISCRIPTION--> Volgende maand loopt de vergunning af die circus Freiwald heeft voor olifant Buba. Hoogste tijd om haar naar een pensioenparadijs voor olifanten te brengen, stellen dierenactivisten. Nee, Buba hoort bij ons, vinden het circus en vrienden van het circus.\n",
      "READ MORE--> \n",
      " \n",
      "         +--------------------------------------------------------------------+\n",
      " \n",
      "6\n",
      "TITLE--> Het coronanieuws van zondag 10 mei: bijlezen in één minuut\n",
      "DISCRIPTION--> De stroom aan nieuwsberichten over het coronavirus is amper bij te benen. In dit artikel brengen we het belangrijkste nieuws van vandaag in een kort overzicht.\n"
     ]
    },
    {
     "name": "stdout",
     "output_type": "stream",
     "text": [
      "READ MORE--> \n",
      " \n",
      "         +--------------------------------------------------------------------+\n",
      " \n",
      "7\n",
      "TITLE--> PO-Raad woedend op Felix Rottenberg: ‘Kritiek op scholen slaat nergens op’\n",
      "DISCRIPTION--> Basisschoolbesturen hebben geen goed woord over voor de felle kritiek die voorzitter Felix Rottenberg van Branchevereniging Kinderopvang uitte over het gebrek aan samenwerking tussen scholen en bso's. ,,Iedereen werkt zich het snot voor de ogen, krijg je dit. Waanzinnig.’’\n",
      "READ MORE--> \n",
      " \n",
      "         +--------------------------------------------------------------------+\n",
      " \n",
      "8\n",
      "TITLE--> Ik voel de spanning tussen mijn zussen en daarom wil ik niet met ze op pad\n",
      "DISCRIPTION--> Wijsheid komt met de jaren. Omdat acteur Joost Prinsen (77) een eind op weg is, beantwoordt hij uw vragen.\n",
      "READ MORE--> \n",
      " \n",
      "         +--------------------------------------------------------------------+\n",
      " \n",
      "9\n",
      "TITLE--> Vierde arrestatie voor autobranden Arnhem: nieuwe verdachte is 42-jarige vrouw\n",
      "DISCRIPTION--> Een 42-jarige vrouw uit Arnhem is zondagochtend aangehouden voor een reeks autobranden in haar stad. De politie verdenkt haar van betrokkenheid bij brandstichting. Het is al de vierde arrestatie in de zaak. Meer aanhoudingen worden niet uitgesloten.\n",
      "READ MORE--> \n",
      " \n",
      "         +--------------------------------------------------------------------+\n",
      " \n",
      "10\n",
      "TITLE--> Deze ouders wacht logistieke nachtmerrie nu scholen weer opengaan: ‘Ik sjees van de ene naar de andere’\n",
      "DISCRIPTION--> Na acht weken thuis buffelen gaan de scholen weer open. Ouders zijn blij, maar zien ook een logistieke puzzel. ‘Het wordt sjezen’.\n",
      "READ MORE--> \n",
      " \n",
      "         +--------------------------------------------------------------------+\n",
      " \n",
      "11\n",
      "TITLE--> Daling coronapatiënten op ic zet door, bezetting weer op normale niveau\n",
      "DISCRIPTION--> Het aantal coronapatiënten dat op de intensive care ligt is gedaald met 34 in de afgelopen 24 uur. Er liggen op dit moment nog 507 patiënten met het coronavirus op de intensive cares. Dat blijkt uit de nieuwste cijfers van het Landelijk Coördinatiecentrum Patiënten Spreiding (LCPS) die zondag bekend zijn gemaakt.\n",
      "READ MORE--> \n",
      " \n",
      "         +--------------------------------------------------------------------+\n",
      " \n",
      "12\n",
      "TITLE--> RIVM: 18 nieuw gemelde sterfgevallen, flinke daling aantal ziekenhuisopnames\n",
      "DISCRIPTION--> In de afgelopen 24 uur zijn er 18 nieuwe sterfgevallen als gevolg van het coronavirus gemeld bij het RIVM. 22 nieuwe patiënten zijn opgenomen in het ziekenhuis, Het totaal aantal Nederlanders dat is overleden aan het coronavirus komt hiermee op 5440. Sinds het begin van de coronacrisis in Nederland zijn nu 11.307 patiënten opgenomen (geweest) met het virus.\n",
      "READ MORE--> \n",
      " \n",
      "         +--------------------------------------------------------------------+\n",
      " \n",
      "13\n",
      "TITLE--> Frank zit in quarantaine: ‘Wij kiezen de langzame baan’\n",
      "DISCRIPTION--> Net als veel Nederlanders blijft redacteur Frank Poorthuis thuis. Frank zit in de risicogroep. Verslag van dag 58. Lees de eerdere afleveringen hier terug.\n",
      "READ MORE--> \n",
      " \n",
      "         +--------------------------------------------------------------------+\n",
      " \n",
      "14\n",
      "TITLE--> Nederland kan vanaf vannacht 00.01 uur eindelijk weer naar de kapper: we zijn de uitgroei en matjes zat!\n",
      "DISCRIPTION--> Vanaf morgen mogen de kappers eindelijk weer aan de slag. Nederland staat te popelen. Volgens de branchevereniging voor kappers, de ANKO, loopt het storm qua boekingen. We zijn de uitgroei en matjes in onze nek zó zat dat sommige kappers besluiten er vanaf vannacht een over twaalf al de schaar in te zetten.\n",
      "READ MORE--> \n",
      " \n",
      "         +--------------------------------------------------------------------+\n",
      " \n",
      "15\n",
      "TITLE--> Jongens brengen buit (2 euro) terug na beroving 9-jarig meisje\n",
      "DISCRIPTION--> Vier jongens (tussen de 13 en 15 jaar) hebben zich bij een wijkagent gemeld nadat ze eerder een 9-jarig meisje uit Fijnaart hadden beroofd. Het meisje verkocht maandag 4 mei zelfgemaakte sieraden vanuit een kraampje. Toen ze even weg was geweest, bleek het geldbakje met de dagopbrengst uit haar ‘winkeltje’ verdwenen. De buit: twee euro.\n",
      "READ MORE--> \n",
      " \n",
      "         +--------------------------------------------------------------------+\n",
      " \n",
      "16\n",
      "TITLE--> Opnieuw man met mes aangehouden op Schiphol\n",
      "DISCRIPTION--> De Koninklijke Marechaussee heeft zaterdag opnieuw iemand op Schiphol aangehouden vanwege het dragen van een mes. Het is al zeker de zesde keer in korte tijd dat op de luchthaven bij een persoon een mes wordt aangetroffen.\n",
      "READ MORE--> \n",
      " \n",
      "         +--------------------------------------------------------------------+\n",
      " \n",
      "17\n",
      "TITLE--> Koen (28) werd beroofd van quad: ‘Toen ik een vuurwapen zag, wist ik dat ik de sjaak was’\n",
      "DISCRIPTION--> Knettergek. Zo noemt Brabander Koen Bouwman (28) de twee mannen die hem onlangs op brute wijze beroofden van zijn quad. Het incident langs het kanaal bij Biest-Houtakker heeft grote impact op zijn leven. ,,Ik slaap slecht. Slachtofferhulp heeft me doorverwezen naar een psycholoog.”\n",
      "READ MORE--> \n",
      " \n",
      "         +--------------------------------------------------------------------+\n",
      " \n",
      "18\n",
      "TITLE--> Margot (57) is al jaren ongeneeslijk ziek: ‘Ik durfde niet verder te kijken dan paar weken’\n",
      "DISCRIPTION--> Annemarie Haverkamp praat met mensen over hun leven en het einde dat nadert. Margot Scholte (57) uit Den Dolder kreeg in 2008 borstkanker. Ze leek na een operatie en bestralingen genezen, maar vijf jaar later werd opnieuw kanker vastgesteld met uitzaaiingen naar haar botten en lever.\n",
      "READ MORE--> \n",
      " \n",
      "         +--------------------------------------------------------------------+\n",
      " \n",
      "19\n",
      "TITLE--> Kinderopvang boos: ‘Bezopen dat scholen niet samenwerken met opvang’\n",
      "DISCRIPTION--> Branchevereniging Kinderopvang is boos op een groot deel van de basisscholen. Maandag gaan de scholen weer open, maar tussen veel scholen en de kinderopvang is nog niets afgesproken, zei voorzitter Felix Rottenberg in het programma Op1.  Hij noemt het idee van sommige scholen om halve dagen open te gaan ‘een rampenplan’.\n",
      "READ MORE--> \n",
      " \n",
      "         +--------------------------------------------------------------------+\n",
      " \n",
      "20\n",
      "TITLE--> Zware windstoten: schade aan vooral bomen, windhoos bij Zundert en ook voor morgen code geel\n",
      "DISCRIPTION--> Zware windstoten hebben vanmiddag en vanavond met name schade aan bomen veroorzaakt. Die zitten net in blad en zijn daardoor kwetsbaar. Het KNMI gaf code geel af voor alle kustprovincies, het Waddengebied en het IJsselmeer en handhaaft die waarschuwing voor morgen.\n",
      "READ MORE--> \n",
      " \n",
      "         +--------------------------------------------------------------------+\n",
      " \n",
      "21\n",
      "TITLE--> Lichaam gevonden in Rotterdamse haven\n",
      "DISCRIPTION--> In de Rotterdamse haven is zondagochtend een stoffelijke overschot uit het water gehaald. Dat gebeurde in de Prinses Alexiahaven op de Tweede Maasvlakte.\n",
      "READ MORE--> \n",
      " \n",
      "         +--------------------------------------------------------------------+\n",
      " \n",
      "22\n",
      "TITLE--> Vrouw verdrinkt in Harmelen; politie op zoek naar getuigen\n",
      "DISCRIPTION--> In Harmelen in Utrecht is in de nacht van zaterdag op zondag een vrouw te water geraakt en overleden. Dat meldt de politie die de toedracht onderzoekt.\n",
      "READ MORE--> \n",
      " \n",
      "         +--------------------------------------------------------------------+\n",
      " \n",
      "23\n",
      "TITLE--> Ernstig gewonde na schietincident bij coffeeshop in Amsterdam\n",
      "DISCRIPTION--> Bij een schietincident bij coffeeshop Atlas in Amsterdam-Noord is zaterdagavond iemand ernstig gewond geraakt. De dader wordt nog gezocht.\n",
      "READ MORE--> \n",
      " \n",
      "         +--------------------------------------------------------------------+\n",
      " \n",
      "24\n",
      "TITLE--> Rattenslang kronkelt in tuin van nietsvermoedende Goesenaar\n",
      "DISCRIPTION--> Een bewoner in de Van Dusseldorpstraat in Goes keek vanavond vreemd op toen een rattenslang de tuin in kwam kronkelen. Het dier is mogelijk ontsnapt of gedumpt.\n",
      "READ MORE--> \n",
      " \n",
      "         +--------------------------------------------------------------------+\n",
      " \n",
      "25\n",
      "TITLE--> Het coronanieuws van zaterdag 9 mei: bijlezen in één minuut\n",
      "DISCRIPTION--> De stroom aan nieuwsberichten over het coronavirus is amper bij te benen. In dit artikel brengen we het belangrijkste nieuws van vandaag in een kort overzicht.\n",
      "READ MORE--> \n",
      " \n",
      "         +--------------------------------------------------------------------+\n",
      " \n",
      "26\n",
      "TITLE--> Coronacrisis legt als een röntgenfoto zwakke plekken in onze leefwijze bloot\n",
      "DISCRIPTION--> Het coronavirus kon zich razendsnel over de wereld verspreiden, doordat alles en iedereen met elkaar verbonden is. Moet dan alles wéér anders? ,,Globalisering is goed. En slecht.’’\n",
      "READ MORE--> \n",
      " \n",
      "         +--------------------------------------------------------------------+\n",
      " \n",
      "27\n",
      "TITLE--> Altijd die scheve gezichten als je niet op een verjaardag komt\n",
      "DISCRIPTION--> Wijsheid komt met de jaren. Omdat acteur Joost Prinsen (77) een eind op weg is, beantwoordt hij uw vragen.\n",
      "READ MORE--> \n",
      " \n",
      "         +--------------------------------------------------------------------+\n",
      " \n",
      "28\n",
      "TITLE--> Normaal hebben stellen drie keer per maand seks. Maar hoe zit dat in coronatijd?\n",
      "DISCRIPTION--> Het seksleven van stelletjes dutte de afgelopen jaren een beetje in, maar hoe is dat tijdens coronatijd? Bloeit het juist op? Of vergaat alle zin in sombere tijden? Dat gaan onderzoekers van het kenniscentrum Rutgers uitzoeken in een Europese studie.\n",
      "READ MORE--> \n",
      " \n",
      "         +--------------------------------------------------------------------+\n",
      " \n",
      "29\n",
      "TITLE--> Weer minder coronapatiënten op de ic, langzaam weer meer reguliere opnames\n",
      "DISCRIPTION--> Het aantal coronapatiënten dat op de intensive care ligt is gedaald met 23 in de afgelopen 24 uur. Er liggen op dit moment nog 541 patiënten met het coronavirus op de ic. Dat blijkt uit de nieuwste cijfers van het Landelijk Coördinatiecentrum Patiënten Spreiding (LCPS).\n",
      "READ MORE--> \n",
      " \n",
      "         +--------------------------------------------------------------------+\n",
      " \n",
      "30\n",
      "TITLE--> Veel mensen genieten van de zon, drukte in binnensteden\n",
      "DISCRIPTION--> Het mooie weer heeft op veel plekken in het land mensen naar buiten getrokken. Niet overal was het zaterdagmiddag heel druk, en op sommige locaties bleef het zelfs tegen de verwachting in rustig. Maar in veel binnensteden werd het wel te druk. Lang niet iedereen hield voldoende afstand.\n",
      "READ MORE--> \n",
      " \n",
      "         +--------------------------------------------------------------------+\n",
      " \n"
     ]
    },
    {
     "name": "stdout",
     "output_type": "stream",
     "text": [
      "         ---------------BRABANT.NL ACTUEEL NIEUWS---------------\n",
      " \n",
      "1\n",
      "TITLE--> Besluitenlijst Provinciale Staten 8 mei 2020\n",
      "DISCRIPTION--> Overzicht van genomen besluiten\n",
      "READ MORE--> https://www.brabant.nl/actueel/nieuws/provinciale-staten/2020/mei/besluitenlijst-provinciale-staten-8-mei-2020\n",
      " \n",
      "         +--------------------------------------------------------------------+\n",
      " \n",
      "2\n",
      "TITLE--> Coalitie presenteert Bestuursakkoord Provincie Noord-Brabant 2020 - 2023\n",
      "DISCRIPTION--> Nieuwe coalitie presenteert bestuursakkoord voor de provincie Noord-Brabant.\n",
      "READ MORE--> https://www.brabant.nl/actueel/nieuws/bestuur/2020/coalitie-presenteert-bestuursakkoord-provincie-noordbrabant\n",
      " \n",
      "         +--------------------------------------------------------------------+\n",
      " \n",
      "3\n",
      "TITLE--> Coalitie Brabant presenteert beoogd gedeputeerden\n",
      "DISCRIPTION--> De nieuwe coalitie begint met nieuwe gezichten en een forse wijziging van de portefeuilles. \n",
      "READ MORE--> https://www.brabant.nl/actueel/nieuws/bestuur/2020/coalitie-brabant-presenteert-beoogd-gedeputeerden\n",
      " \n",
      "         +--------------------------------------------------------------------+\n",
      " \n",
      "4\n",
      "TITLE--> Vervolgmeting Brabanders over het coronavirus\n",
      "DISCRIPTION--> Meting 2 geeft opnieuw goed inzicht in de maatschappelijke effecten van het coronavirus.\n",
      "READ MORE--> https://www.brabant.nl/actueel/nieuws/bestuur/2020/vervolgmeting-brabanders-over-het-coronavirus\n",
      " \n",
      "         +--------------------------------------------------------------------+\n",
      " \n",
      "5\n",
      "TITLE--> Brabant zet kanjers in het licht\n",
      "DISCRIPTION--> Het provinciebestuur toont haar steun aan alle helden die in deze bijzondere tijd een bewonderingswaardige rol spelen.\n",
      "READ MORE--> https://www.brabant.nl/actueel/nieuws/bestuur/2020/brabant-zet-kanjers-in-het-licht\n",
      " \n",
      "         +--------------------------------------------------------------------+\n",
      " \n",
      "6\n",
      "TITLE--> Onderzoek naar kunstmestvrij telen van aardappelen\n",
      "DISCRIPTION--> De provincie Noord-Brabant ondersteunt een onderzoek naar het kunstmestvrij telen van aardappelen. \n",
      "READ MORE--> https://www.brabant.nl/actueel/nieuws/platteland/2020/onderzoek-naar-kunstmestvrij-telen-van-aardappelen\n",
      " \n",
      "         +--------------------------------------------------------------------+\n",
      " \n",
      "7\n",
      "TITLE--> Toespraak commissaris Wim van de Donk: 'We zullen ook deze crisis overwinnen'\n",
      "DISCRIPTION--> De commissaris vraagt aan de vooravond van 4 en 5 mei aandacht voor de vrijheid, de rechtsstaat en democratie.\n",
      "READ MORE--> https://www.brabant.nl/actueel/nieuws/bestuur/2020/toespraak-commissaris-wim-van-de-donk\n",
      " \n",
      "         +--------------------------------------------------------------------+\n",
      " \n",
      "8\n",
      "TITLE--> Statendag 15 mei 2020\n",
      "DISCRIPTION--> Op de agenda van de Statendag van 15 mei 2020\n",
      "READ MORE--> https://www.brabant.nl/actueel/nieuws/provinciale-staten/2020/mei/statendag-15-mei-2020\n",
      " \n",
      "         +--------------------------------------------------------------------+\n",
      " \n",
      "9\n",
      "TITLE--> Statendag 8 mei 2020\n",
      "DISCRIPTION--> Op de agenda van de Statendag van 8 mei 2020\n",
      "READ MORE--> https://www.brabant.nl/actueel/nieuws/provinciale-staten/2020/mei/statendag-8-mei-2020\n",
      " \n",
      "         +--------------------------------------------------------------------+\n",
      " \n",
      "10\n",
      "TITLE--> Steunmaatregelen corona voor cultuur in Brabant\n",
      "DISCRIPTION--> De provincie ontwikkelt samen met de vijf grote steden een steunpakket voor de regionale culturele infrastructuur.\n",
      "READ MORE--> https://www.brabant.nl/actueel/nieuws/kunst-cultuur-en-erfgoed/2020/steunmaatregelen-corona-voor-cultuur-in-brabant\n",
      " \n",
      "         +--------------------------------------------------------------------+\n",
      " \n"
     ]
    },
    {
     "data": {
      "text/html": [
       "<div>\n",
       "<style scoped>\n",
       "    .dataframe tbody tr th:only-of-type {\n",
       "        vertical-align: middle;\n",
       "    }\n",
       "\n",
       "    .dataframe tbody tr th {\n",
       "        vertical-align: top;\n",
       "    }\n",
       "\n",
       "    .dataframe thead th {\n",
       "        text-align: right;\n",
       "    }\n",
       "</style>\n",
       "<table border=\"1\" class=\"dataframe\">\n",
       "  <thead>\n",
       "    <tr style=\"text-align: right;\">\n",
       "      <th></th>\n",
       "      <th>titles</th>\n",
       "      <th>descriptions</th>\n",
       "      <th>links</th>\n",
       "      <th>site_name</th>\n",
       "    </tr>\n",
       "  </thead>\n",
       "  <tbody>\n",
       "    <tr>\n",
       "      <td>0</td>\n",
       "      <td>'Politie ontvangt sinds coronauitbraak meer m...</td>\n",
       "      <td>'Politie ontvangt sinds coronauitbraak meer m...</td>\n",
       "      <td>https://www.nu.nl/coronavirus/6050386/politie-...</td>\n",
       "      <td>www.nu.nl</td>\n",
       "    </tr>\n",
       "    <tr>\n",
       "      <td>1</td>\n",
       "      <td>'Belastingdienst controleerde mensen met dubb...</td>\n",
       "      <td>'Belastingdienst controleerde mensen met dubb...</td>\n",
       "      <td>https://www.nu.nl/politiek/6050385/belastingdi...</td>\n",
       "      <td>www.nu.nl</td>\n",
       "    </tr>\n",
       "    <tr>\n",
       "      <td>2</td>\n",
       "      <td>Nederlandse gaswinning daalt, maar verbruik n...</td>\n",
       "      <td>Nederlandse gaswinning daalt, maar verbruik n...</td>\n",
       "      <td>https://www.nu.nl/economie/6050089/nederlandse...</td>\n",
       "      <td>www.nu.nl</td>\n",
       "    </tr>\n",
       "    <tr>\n",
       "      <td>3</td>\n",
       "      <td>Van Gaal vindt dat KNVB 'belachelijke' beslis...</td>\n",
       "      <td>Van Gaal vindt dat KNVB 'belachelijke' beslis...</td>\n",
       "      <td>https://www.nu.nl/voetbal/6050384/van-gaal-vin...</td>\n",
       "      <td>www.nu.nl</td>\n",
       "    </tr>\n",
       "    <tr>\n",
       "      <td>4</td>\n",
       "      <td>Dode bij schietpartij in Rotterdam, twee verd...</td>\n",
       "      <td>Dode bij schietpartij in Rotterdam, twee verd...</td>\n",
       "      <td>https://www.nu.nl/binnenland/6050383/dode-bij-...</td>\n",
       "      <td>www.nu.nl</td>\n",
       "    </tr>\n",
       "    <tr>\n",
       "      <td>...</td>\n",
       "      <td>...</td>\n",
       "      <td>...</td>\n",
       "      <td>...</td>\n",
       "      <td>...</td>\n",
       "    </tr>\n",
       "    <tr>\n",
       "      <td>5</td>\n",
       "      <td>Onderzoek naar kunstmestvrij telen van aardapp...</td>\n",
       "      <td>De provincie Noord-Brabant ondersteunt een ond...</td>\n",
       "      <td>https://www.brabant.nl/actueel/nieuws/plattela...</td>\n",
       "      <td>www.brabant.nl</td>\n",
       "    </tr>\n",
       "    <tr>\n",
       "      <td>6</td>\n",
       "      <td>Toespraak commissaris Wim van de Donk: 'We zul...</td>\n",
       "      <td>De commissaris vraagt aan de vooravond van 4 e...</td>\n",
       "      <td>https://www.brabant.nl/actueel/nieuws/bestuur/...</td>\n",
       "      <td>www.brabant.nl</td>\n",
       "    </tr>\n",
       "    <tr>\n",
       "      <td>7</td>\n",
       "      <td>Statendag 15 mei 2020</td>\n",
       "      <td>Op de agenda van de Statendag van 15 mei 2020</td>\n",
       "      <td>https://www.brabant.nl/actueel/nieuws/provinci...</td>\n",
       "      <td>www.brabant.nl</td>\n",
       "    </tr>\n",
       "    <tr>\n",
       "      <td>8</td>\n",
       "      <td>Statendag 8 mei 2020</td>\n",
       "      <td>Op de agenda van de Statendag van 8 mei 2020</td>\n",
       "      <td>https://www.brabant.nl/actueel/nieuws/provinci...</td>\n",
       "      <td>www.brabant.nl</td>\n",
       "    </tr>\n",
       "    <tr>\n",
       "      <td>9</td>\n",
       "      <td>Steunmaatregelen corona voor cultuur in Brabant</td>\n",
       "      <td>De provincie ontwikkelt samen met de vijf grot...</td>\n",
       "      <td>https://www.brabant.nl/actueel/nieuws/kunst-cu...</td>\n",
       "      <td>www.brabant.nl</td>\n",
       "    </tr>\n",
       "  </tbody>\n",
       "</table>\n",
       "<p>221 rows × 4 columns</p>\n",
       "</div>"
      ],
      "text/plain": [
       "                                               titles  \\\n",
       "0    'Politie ontvangt sinds coronauitbraak meer m...   \n",
       "1    'Belastingdienst controleerde mensen met dubb...   \n",
       "2    Nederlandse gaswinning daalt, maar verbruik n...   \n",
       "3    Van Gaal vindt dat KNVB 'belachelijke' beslis...   \n",
       "4    Dode bij schietpartij in Rotterdam, twee verd...   \n",
       "..                                                ...   \n",
       "5   Onderzoek naar kunstmestvrij telen van aardapp...   \n",
       "6   Toespraak commissaris Wim van de Donk: 'We zul...   \n",
       "7                               Statendag 15 mei 2020   \n",
       "8                                Statendag 8 mei 2020   \n",
       "9     Steunmaatregelen corona voor cultuur in Brabant   \n",
       "\n",
       "                                         descriptions  \\\n",
       "0    'Politie ontvangt sinds coronauitbraak meer m...   \n",
       "1    'Belastingdienst controleerde mensen met dubb...   \n",
       "2    Nederlandse gaswinning daalt, maar verbruik n...   \n",
       "3    Van Gaal vindt dat KNVB 'belachelijke' beslis...   \n",
       "4    Dode bij schietpartij in Rotterdam, twee verd...   \n",
       "..                                                ...   \n",
       "5   De provincie Noord-Brabant ondersteunt een ond...   \n",
       "6   De commissaris vraagt aan de vooravond van 4 e...   \n",
       "7       Op de agenda van de Statendag van 15 mei 2020   \n",
       "8        Op de agenda van de Statendag van 8 mei 2020   \n",
       "9   De provincie ontwikkelt samen met de vijf grot...   \n",
       "\n",
       "                                                links       site_name  \n",
       "0   https://www.nu.nl/coronavirus/6050386/politie-...       www.nu.nl  \n",
       "1   https://www.nu.nl/politiek/6050385/belastingdi...       www.nu.nl  \n",
       "2   https://www.nu.nl/economie/6050089/nederlandse...       www.nu.nl  \n",
       "3   https://www.nu.nl/voetbal/6050384/van-gaal-vin...       www.nu.nl  \n",
       "4   https://www.nu.nl/binnenland/6050383/dode-bij-...       www.nu.nl  \n",
       "..                                                ...             ...  \n",
       "5   https://www.brabant.nl/actueel/nieuws/plattela...  www.brabant.nl  \n",
       "6   https://www.brabant.nl/actueel/nieuws/bestuur/...  www.brabant.nl  \n",
       "7   https://www.brabant.nl/actueel/nieuws/provinci...  www.brabant.nl  \n",
       "8   https://www.brabant.nl/actueel/nieuws/provinci...  www.brabant.nl  \n",
       "9   https://www.brabant.nl/actueel/nieuws/kunst-cu...  www.brabant.nl  \n",
       "\n",
       "[221 rows x 4 columns]"
      ]
     },
     "execution_count": 3,
     "metadata": {},
     "output_type": "execute_result"
    }
   ],
   "source": [
    "df_frames = [Nu_Nieuws(),Nos_Nieuws(),Ad_Nieuws(),Telegraaf_Nieuws(),Tweakers_Nieuws(),Rtl_Nieuws(),Parool_Nieuws(),Linda_Nieuws(),Gelderlander(),Brabant()]\n",
    "data = pd.concat(df_frames)\n",
    "\n",
    "# saving the dataset in a CSV file\n",
    "data_all = 'output/archive/' + str(pd.to_datetime('now').strftime(\"%y.%m.%d %I.%M\"))+ '  All_sites_Together'\n",
    "data.to_csv(data_all+'.csv')\n",
    "data.to_csv('output/live/All_sites_Together.csv')\n",
    "\n",
    "data"
   ]
  },
  {
   "cell_type": "markdown",
   "metadata": {},
   "source": [
    "# Analyzing"
   ]
  },
  {
   "cell_type": "code",
   "execution_count": 225,
   "metadata": {},
   "outputs": [],
   "source": [
    "#Gerekli Kütüphaneler\n",
    "import pandas as pd\n",
    "import numpy as np\n",
    "import re, io\n",
    "import os, pkgutil, json, urllib\n",
    "from urllib.request import urlopen\n",
    "import warnings\n",
    "warnings.filterwarnings(action = 'ignore')\n",
    "import multiprocessing\n",
    "\n",
    "#Görselleştirme\n",
    "from IPython.display import display,HTML,IFrame\n",
    "import seaborn as sns\n",
    "import matplotlib.pyplot as plt\n",
    "import matplotlib.image as mpimg\n",
    "import matplotlib.cm as cm\n",
    "import base64\n",
    "%matplotlib inline\n",
    "import plotly.express as px\n",
    "sns.set()\n",
    "\n",
    "#NLP ve Modelleme\n",
    "from collections import Counter\n",
    "import gensim\n",
    "from gensim.models import Word2Vec\n",
    "from nltk.corpus import stopwords\n",
    "from nltk.tokenize import sent_tokenize, word_tokenize \n",
    "from scattertext import CorpusFromPandas, produce_scattertext_explorer\n",
    "import scattertext as st\n",
    "from textblob import TextBlob\n",
    "from sklearn.feature_extraction.text import CountVectorizer\n",
    "from sklearn.decomposition import PCA\n",
    "from sklearn.manifold import TSNE\n",
    "from sklearn.model_selection import train_test_split\n",
    "from sklearn.feature_extraction.text import TfidfVectorizer\n",
    "from sklearn.ensemble import RandomForestClassifier\n",
    "from sklearn.metrics import classification_report, accuracy_score, confusion_matrix\n",
    "from pprint import pprint\n",
    "from scipy.stats import rankdata, hmean, norm\n",
    "import spacy"
   ]
  },
  {
   "cell_type": "code",
   "execution_count": 215,
   "metadata": {},
   "outputs": [],
   "source": [
    "def preprocess(ReviewText):\n",
    "    #Verideki <br> taglarını kaldır. \n",
    "    ReviewText = ReviewText.str.replace(\"(<br/>)\", \"\")\n",
    "    ReviewText = ReviewText.str.replace('(<a).*(>).*(</a>)', '')\n",
    "    ReviewText = ReviewText.str.replace('(&amp)', '')\n",
    "    ReviewText = ReviewText.str.replace('(&gt)', '')\n",
    "    ReviewText = ReviewText.str.replace('(&lt)', '')\n",
    "    ReviewText = ReviewText.str.replace('(\\xa0)', ' ') \n",
    "    #Verideki Linkleri Kaldır.\n",
    "    ReviewText = ReviewText.str.replace(r'http[s]?://(?:[a-z]|[0-9]|[$-_@.&amp;+]|[!*\\(\\),]|(?:%[0-9a-f][0-9a-f]))+', ' ') \n",
    "    return ReviewText\n",
    "\n",
    "data['descriptions'] = preprocess(data['descriptions'])\n"
   ]
  },
  {
   "cell_type": "code",
   "execution_count": 226,
   "metadata": {},
   "outputs": [
    {
     "data": {
      "text/html": [
       "<div>\n",
       "<style scoped>\n",
       "    .dataframe tbody tr th:only-of-type {\n",
       "        vertical-align: middle;\n",
       "    }\n",
       "\n",
       "    .dataframe tbody tr th {\n",
       "        vertical-align: top;\n",
       "    }\n",
       "\n",
       "    .dataframe thead th {\n",
       "        text-align: right;\n",
       "    }\n",
       "</style>\n",
       "<table border=\"1\" class=\"dataframe\">\n",
       "  <thead>\n",
       "    <tr style=\"text-align: right;\">\n",
       "      <th></th>\n",
       "      <th>titles</th>\n",
       "      <th>descriptions</th>\n",
       "      <th>links</th>\n",
       "      <th>yogunlasma</th>\n",
       "    </tr>\n",
       "  </thead>\n",
       "  <tbody>\n",
       "    <tr>\n",
       "      <td>0</td>\n",
       "      <td>Dopingzondaars profiteren van uitstel Olympis...</td>\n",
       "      <td>Dopingzondaars profiteren van uitstel Olympis...</td>\n",
       "      <td>https://www.nu.nl/olympische-spelen/6045624/do...</td>\n",
       "      <td>0.0</td>\n",
       "    </tr>\n",
       "    <tr>\n",
       "      <td>1</td>\n",
       "      <td>Video Hugh Jackman leert Jimmy Fallon hoe je v...</td>\n",
       "      <td>Video Hugh Jackman leert Jimmy Fallon hoe je v...</td>\n",
       "      <td>https://www.nu.nl/achterklap/6045620/hugh-jack...</td>\n",
       "      <td>0.0</td>\n",
       "    </tr>\n",
       "    <tr>\n",
       "      <td>2</td>\n",
       "      <td>Darren Aronofsky wilde Joker-acteur Joaquin P...</td>\n",
       "      <td>Darren Aronofsky wilde Joker-acteur Joaquin P...</td>\n",
       "      <td>https://www.nu.nl/film/6045618/darren-aronofsk...</td>\n",
       "      <td>0.0</td>\n",
       "    </tr>\n",
       "    <tr>\n",
       "      <td>3</td>\n",
       "      <td>Coronacrisis of niet, de Nasdaq-index staat v...</td>\n",
       "      <td>Coronacrisis of niet, de Nasdaq-index staat v...</td>\n",
       "      <td>https://www.nu.nl/economie/6045615/coronacrisi...</td>\n",
       "      <td>0.0</td>\n",
       "    </tr>\n",
       "    <tr>\n",
       "      <td>4</td>\n",
       "      <td>Livestream Kijk mee naar de presentaties van d...</td>\n",
       "      <td>Livestream Kijk mee naar de presentaties van d...</td>\n",
       "      <td>https://www.nu.nl/tech/6045614/kijk-mee-naar-d...</td>\n",
       "      <td>0.0</td>\n",
       "    </tr>\n",
       "    <tr>\n",
       "      <td>...</td>\n",
       "      <td>...</td>\n",
       "      <td>...</td>\n",
       "      <td>...</td>\n",
       "      <td>...</td>\n",
       "    </tr>\n",
       "    <tr>\n",
       "      <td>5</td>\n",
       "      <td>Koe in de wei blijft vergunningvrij</td>\n",
       "      <td>Boeren die hun koeien in de wei laten grazen h...</td>\n",
       "      <td>https://www.brabant.nl/actueel/nieuws/aanpak-s...</td>\n",
       "      <td>0.0</td>\n",
       "    </tr>\n",
       "    <tr>\n",
       "      <td>6</td>\n",
       "      <td>Lancering online leeromgeving 'Brabant Leert'</td>\n",
       "      <td>Via het platform 'Brabant Leert' zijn verschil...</td>\n",
       "      <td>https://www.brabant.nl/actueel/nieuws/economie...</td>\n",
       "      <td>0.0</td>\n",
       "    </tr>\n",
       "    <tr>\n",
       "      <td>7</td>\n",
       "      <td>Wegwijzer voor veehouders beschikbaar</td>\n",
       "      <td>Wegwijzer voor veehouders geeft een praktisch ...</td>\n",
       "      <td>https://www.brabant.nl/actueel/nieuws/plattela...</td>\n",
       "      <td>0.0</td>\n",
       "    </tr>\n",
       "    <tr>\n",
       "      <td>8</td>\n",
       "      <td>Wederom veel Brabantse verkeersdoden: \"Dit is ...</td>\n",
       "      <td>Het aantal verkeersdoden in Noord-Brabant is v...</td>\n",
       "      <td>https://www.brabant.nl/actueel/nieuws/verkeer-...</td>\n",
       "      <td>0.0</td>\n",
       "    </tr>\n",
       "    <tr>\n",
       "      <td>9</td>\n",
       "      <td>Cultuurfonds Noord-Brabant ondersteunt 61 proj...</td>\n",
       "      <td>61 projecten voor cultuur en natuur ontvangen ...</td>\n",
       "      <td>https://www.brabant.nl/actueel/nieuws/kunst-cu...</td>\n",
       "      <td>0.0</td>\n",
       "    </tr>\n",
       "  </tbody>\n",
       "</table>\n",
       "<p>220 rows × 4 columns</p>\n",
       "</div>"
      ],
      "text/plain": [
       "                                               titles  \\\n",
       "0    Dopingzondaars profiteren van uitstel Olympis...   \n",
       "1   Video Hugh Jackman leert Jimmy Fallon hoe je v...   \n",
       "2    Darren Aronofsky wilde Joker-acteur Joaquin P...   \n",
       "3    Coronacrisis of niet, de Nasdaq-index staat v...   \n",
       "4   Livestream Kijk mee naar de presentaties van d...   \n",
       "..                                                ...   \n",
       "5                 Koe in de wei blijft vergunningvrij   \n",
       "6       Lancering online leeromgeving 'Brabant Leert'   \n",
       "7               Wegwijzer voor veehouders beschikbaar   \n",
       "8   Wederom veel Brabantse verkeersdoden: \"Dit is ...   \n",
       "9   Cultuurfonds Noord-Brabant ondersteunt 61 proj...   \n",
       "\n",
       "                                         descriptions  \\\n",
       "0    Dopingzondaars profiteren van uitstel Olympis...   \n",
       "1   Video Hugh Jackman leert Jimmy Fallon hoe je v...   \n",
       "2    Darren Aronofsky wilde Joker-acteur Joaquin P...   \n",
       "3    Coronacrisis of niet, de Nasdaq-index staat v...   \n",
       "4   Livestream Kijk mee naar de presentaties van d...   \n",
       "..                                                ...   \n",
       "5   Boeren die hun koeien in de wei laten grazen h...   \n",
       "6   Via het platform 'Brabant Leert' zijn verschil...   \n",
       "7   Wegwijzer voor veehouders geeft een praktisch ...   \n",
       "8   Het aantal verkeersdoden in Noord-Brabant is v...   \n",
       "9   61 projecten voor cultuur en natuur ontvangen ...   \n",
       "\n",
       "                                                links  yogunlasma  \n",
       "0   https://www.nu.nl/olympische-spelen/6045624/do...         0.0  \n",
       "1   https://www.nu.nl/achterklap/6045620/hugh-jack...         0.0  \n",
       "2   https://www.nu.nl/film/6045618/darren-aronofsk...         0.0  \n",
       "3   https://www.nu.nl/economie/6045615/coronacrisi...         0.0  \n",
       "4   https://www.nu.nl/tech/6045614/kijk-mee-naar-d...         0.0  \n",
       "..                                                ...         ...  \n",
       "5   https://www.brabant.nl/actueel/nieuws/aanpak-s...         0.0  \n",
       "6   https://www.brabant.nl/actueel/nieuws/economie...         0.0  \n",
       "7   https://www.brabant.nl/actueel/nieuws/plattela...         0.0  \n",
       "8   https://www.brabant.nl/actueel/nieuws/verkeer-...         0.0  \n",
       "9   https://www.brabant.nl/actueel/nieuws/kunst-cu...         0.0  \n",
       "\n",
       "[220 rows x 4 columns]"
      ]
     },
     "execution_count": 226,
     "metadata": {},
     "output_type": "execute_result"
    }
   ],
   "source": [
    "data['yogunlasma'] = data['descriptions'].map(lambda text: TextBlob(text).sentiment.polarity)\n",
    "data"
   ]
  },
  {
   "cell_type": "code",
   "execution_count": 227,
   "metadata": {},
   "outputs": [],
   "source": [
    "data['harf_uzunlugu'] = data['descriptions'].astype(str).apply(len)\n",
    "data['kelime_sayisi'] = data['descriptions'].apply(lambda x: len(str(x).split()))"
   ]
  },
  {
   "cell_type": "markdown",
   "metadata": {},
   "source": [
    "# Görselleştirmeler"
   ]
  },
  {
   "cell_type": "code",
   "execution_count": 228,
   "metadata": {},
   "outputs": [
    {
     "data": {
      "application/vnd.plotly.v1+json": {
       "config": {
        "plotlyServerURL": "https://plot.ly"
       },
       "data": [
        {
         "alignmentgroup": "True",
         "bingroup": "x",
         "hoverlabel": {
          "namelength": 0
         },
         "hovertemplate": "yogunlasma=%{x}<br>count=%{y}",
         "legendgroup": "",
         "marker": {
          "color": "#636efa"
         },
         "name": "",
         "nbinsx": 20,
         "offsetgroup": "",
         "orientation": "v",
         "showlegend": false,
         "type": "histogram",
         "x": [
          0,
          0,
          0,
          0,
          0,
          0,
          0,
          0,
          0,
          0,
          0,
          0,
          0,
          0,
          0,
          0,
          0,
          0,
          0,
          0,
          0,
          0,
          0,
          0,
          0,
          0,
          0,
          0,
          0,
          0,
          0,
          0,
          0,
          0,
          0,
          0,
          0,
          0,
          0,
          0,
          0,
          0,
          0,
          0,
          0,
          0,
          0,
          0,
          0,
          0,
          0,
          0,
          0,
          0,
          0,
          0,
          0,
          -0.14583333333333334,
          0,
          0,
          0,
          0,
          0,
          0,
          0.1,
          0,
          0,
          0,
          0.1,
          0,
          0,
          0,
          0.016666666666666666,
          0,
          0.6,
          0,
          0,
          0,
          0,
          0,
          0.13636363636363635,
          0,
          0,
          0,
          0,
          0,
          0,
          0,
          0,
          0,
          0,
          0,
          0,
          0,
          0.13636363636363635,
          0.13636363636363635,
          0,
          0,
          0,
          0,
          0,
          0,
          0,
          0,
          0,
          0,
          0,
          0,
          0.03333333333333333,
          0,
          0,
          0,
          0.13636363636363635,
          0,
          0,
          -0.1,
          0,
          0,
          0,
          0,
          0.2,
          0,
          0,
          0,
          0.1,
          0.1,
          0,
          0,
          0,
          0,
          0,
          0,
          0,
          0,
          0,
          0,
          0,
          0,
          0,
          0,
          0,
          0,
          0,
          0,
          0,
          0,
          0,
          0,
          0.1,
          0,
          0,
          0,
          0,
          0,
          0,
          0,
          0,
          0,
          0,
          0,
          0,
          0.6,
          0,
          0,
          0,
          0,
          0,
          0,
          0,
          0,
          0,
          0,
          0,
          0,
          0,
          0,
          0,
          0,
          0,
          0,
          0,
          0,
          0,
          0,
          -0.14583333333333334,
          0,
          0,
          0,
          0,
          0,
          0.1,
          0,
          0,
          0,
          0,
          0,
          0,
          0,
          0,
          0,
          0,
          0,
          0,
          0,
          0,
          0,
          0,
          0,
          0,
          0,
          0,
          0,
          0,
          0,
          0,
          0,
          0,
          0,
          0,
          0
         ],
         "xaxis": "x",
         "yaxis": "y"
        }
       ],
       "layout": {
        "barmode": "relative",
        "legend": {
         "tracegroupgap": 0
        },
        "template": {
         "data": {
          "bar": [
           {
            "error_x": {
             "color": "#2a3f5f"
            },
            "error_y": {
             "color": "#2a3f5f"
            },
            "marker": {
             "line": {
              "color": "#E5ECF6",
              "width": 0.5
             }
            },
            "type": "bar"
           }
          ],
          "barpolar": [
           {
            "marker": {
             "line": {
              "color": "#E5ECF6",
              "width": 0.5
             }
            },
            "type": "barpolar"
           }
          ],
          "carpet": [
           {
            "aaxis": {
             "endlinecolor": "#2a3f5f",
             "gridcolor": "white",
             "linecolor": "white",
             "minorgridcolor": "white",
             "startlinecolor": "#2a3f5f"
            },
            "baxis": {
             "endlinecolor": "#2a3f5f",
             "gridcolor": "white",
             "linecolor": "white",
             "minorgridcolor": "white",
             "startlinecolor": "#2a3f5f"
            },
            "type": "carpet"
           }
          ],
          "choropleth": [
           {
            "colorbar": {
             "outlinewidth": 0,
             "ticks": ""
            },
            "type": "choropleth"
           }
          ],
          "contour": [
           {
            "colorbar": {
             "outlinewidth": 0,
             "ticks": ""
            },
            "colorscale": [
             [
              0,
              "#0d0887"
             ],
             [
              0.1111111111111111,
              "#46039f"
             ],
             [
              0.2222222222222222,
              "#7201a8"
             ],
             [
              0.3333333333333333,
              "#9c179e"
             ],
             [
              0.4444444444444444,
              "#bd3786"
             ],
             [
              0.5555555555555556,
              "#d8576b"
             ],
             [
              0.6666666666666666,
              "#ed7953"
             ],
             [
              0.7777777777777778,
              "#fb9f3a"
             ],
             [
              0.8888888888888888,
              "#fdca26"
             ],
             [
              1,
              "#f0f921"
             ]
            ],
            "type": "contour"
           }
          ],
          "contourcarpet": [
           {
            "colorbar": {
             "outlinewidth": 0,
             "ticks": ""
            },
            "type": "contourcarpet"
           }
          ],
          "heatmap": [
           {
            "colorbar": {
             "outlinewidth": 0,
             "ticks": ""
            },
            "colorscale": [
             [
              0,
              "#0d0887"
             ],
             [
              0.1111111111111111,
              "#46039f"
             ],
             [
              0.2222222222222222,
              "#7201a8"
             ],
             [
              0.3333333333333333,
              "#9c179e"
             ],
             [
              0.4444444444444444,
              "#bd3786"
             ],
             [
              0.5555555555555556,
              "#d8576b"
             ],
             [
              0.6666666666666666,
              "#ed7953"
             ],
             [
              0.7777777777777778,
              "#fb9f3a"
             ],
             [
              0.8888888888888888,
              "#fdca26"
             ],
             [
              1,
              "#f0f921"
             ]
            ],
            "type": "heatmap"
           }
          ],
          "heatmapgl": [
           {
            "colorbar": {
             "outlinewidth": 0,
             "ticks": ""
            },
            "colorscale": [
             [
              0,
              "#0d0887"
             ],
             [
              0.1111111111111111,
              "#46039f"
             ],
             [
              0.2222222222222222,
              "#7201a8"
             ],
             [
              0.3333333333333333,
              "#9c179e"
             ],
             [
              0.4444444444444444,
              "#bd3786"
             ],
             [
              0.5555555555555556,
              "#d8576b"
             ],
             [
              0.6666666666666666,
              "#ed7953"
             ],
             [
              0.7777777777777778,
              "#fb9f3a"
             ],
             [
              0.8888888888888888,
              "#fdca26"
             ],
             [
              1,
              "#f0f921"
             ]
            ],
            "type": "heatmapgl"
           }
          ],
          "histogram": [
           {
            "marker": {
             "colorbar": {
              "outlinewidth": 0,
              "ticks": ""
             }
            },
            "type": "histogram"
           }
          ],
          "histogram2d": [
           {
            "colorbar": {
             "outlinewidth": 0,
             "ticks": ""
            },
            "colorscale": [
             [
              0,
              "#0d0887"
             ],
             [
              0.1111111111111111,
              "#46039f"
             ],
             [
              0.2222222222222222,
              "#7201a8"
             ],
             [
              0.3333333333333333,
              "#9c179e"
             ],
             [
              0.4444444444444444,
              "#bd3786"
             ],
             [
              0.5555555555555556,
              "#d8576b"
             ],
             [
              0.6666666666666666,
              "#ed7953"
             ],
             [
              0.7777777777777778,
              "#fb9f3a"
             ],
             [
              0.8888888888888888,
              "#fdca26"
             ],
             [
              1,
              "#f0f921"
             ]
            ],
            "type": "histogram2d"
           }
          ],
          "histogram2dcontour": [
           {
            "colorbar": {
             "outlinewidth": 0,
             "ticks": ""
            },
            "colorscale": [
             [
              0,
              "#0d0887"
             ],
             [
              0.1111111111111111,
              "#46039f"
             ],
             [
              0.2222222222222222,
              "#7201a8"
             ],
             [
              0.3333333333333333,
              "#9c179e"
             ],
             [
              0.4444444444444444,
              "#bd3786"
             ],
             [
              0.5555555555555556,
              "#d8576b"
             ],
             [
              0.6666666666666666,
              "#ed7953"
             ],
             [
              0.7777777777777778,
              "#fb9f3a"
             ],
             [
              0.8888888888888888,
              "#fdca26"
             ],
             [
              1,
              "#f0f921"
             ]
            ],
            "type": "histogram2dcontour"
           }
          ],
          "mesh3d": [
           {
            "colorbar": {
             "outlinewidth": 0,
             "ticks": ""
            },
            "type": "mesh3d"
           }
          ],
          "parcoords": [
           {
            "line": {
             "colorbar": {
              "outlinewidth": 0,
              "ticks": ""
             }
            },
            "type": "parcoords"
           }
          ],
          "pie": [
           {
            "automargin": true,
            "type": "pie"
           }
          ],
          "scatter": [
           {
            "marker": {
             "colorbar": {
              "outlinewidth": 0,
              "ticks": ""
             }
            },
            "type": "scatter"
           }
          ],
          "scatter3d": [
           {
            "line": {
             "colorbar": {
              "outlinewidth": 0,
              "ticks": ""
             }
            },
            "marker": {
             "colorbar": {
              "outlinewidth": 0,
              "ticks": ""
             }
            },
            "type": "scatter3d"
           }
          ],
          "scattercarpet": [
           {
            "marker": {
             "colorbar": {
              "outlinewidth": 0,
              "ticks": ""
             }
            },
            "type": "scattercarpet"
           }
          ],
          "scattergeo": [
           {
            "marker": {
             "colorbar": {
              "outlinewidth": 0,
              "ticks": ""
             }
            },
            "type": "scattergeo"
           }
          ],
          "scattergl": [
           {
            "marker": {
             "colorbar": {
              "outlinewidth": 0,
              "ticks": ""
             }
            },
            "type": "scattergl"
           }
          ],
          "scattermapbox": [
           {
            "marker": {
             "colorbar": {
              "outlinewidth": 0,
              "ticks": ""
             }
            },
            "type": "scattermapbox"
           }
          ],
          "scatterpolar": [
           {
            "marker": {
             "colorbar": {
              "outlinewidth": 0,
              "ticks": ""
             }
            },
            "type": "scatterpolar"
           }
          ],
          "scatterpolargl": [
           {
            "marker": {
             "colorbar": {
              "outlinewidth": 0,
              "ticks": ""
             }
            },
            "type": "scatterpolargl"
           }
          ],
          "scatterternary": [
           {
            "marker": {
             "colorbar": {
              "outlinewidth": 0,
              "ticks": ""
             }
            },
            "type": "scatterternary"
           }
          ],
          "surface": [
           {
            "colorbar": {
             "outlinewidth": 0,
             "ticks": ""
            },
            "colorscale": [
             [
              0,
              "#0d0887"
             ],
             [
              0.1111111111111111,
              "#46039f"
             ],
             [
              0.2222222222222222,
              "#7201a8"
             ],
             [
              0.3333333333333333,
              "#9c179e"
             ],
             [
              0.4444444444444444,
              "#bd3786"
             ],
             [
              0.5555555555555556,
              "#d8576b"
             ],
             [
              0.6666666666666666,
              "#ed7953"
             ],
             [
              0.7777777777777778,
              "#fb9f3a"
             ],
             [
              0.8888888888888888,
              "#fdca26"
             ],
             [
              1,
              "#f0f921"
             ]
            ],
            "type": "surface"
           }
          ],
          "table": [
           {
            "cells": {
             "fill": {
              "color": "#EBF0F8"
             },
             "line": {
              "color": "white"
             }
            },
            "header": {
             "fill": {
              "color": "#C8D4E3"
             },
             "line": {
              "color": "white"
             }
            },
            "type": "table"
           }
          ]
         },
         "layout": {
          "annotationdefaults": {
           "arrowcolor": "#2a3f5f",
           "arrowhead": 0,
           "arrowwidth": 1
          },
          "coloraxis": {
           "colorbar": {
            "outlinewidth": 0,
            "ticks": ""
           }
          },
          "colorscale": {
           "diverging": [
            [
             0,
             "#8e0152"
            ],
            [
             0.1,
             "#c51b7d"
            ],
            [
             0.2,
             "#de77ae"
            ],
            [
             0.3,
             "#f1b6da"
            ],
            [
             0.4,
             "#fde0ef"
            ],
            [
             0.5,
             "#f7f7f7"
            ],
            [
             0.6,
             "#e6f5d0"
            ],
            [
             0.7,
             "#b8e186"
            ],
            [
             0.8,
             "#7fbc41"
            ],
            [
             0.9,
             "#4d9221"
            ],
            [
             1,
             "#276419"
            ]
           ],
           "sequential": [
            [
             0,
             "#0d0887"
            ],
            [
             0.1111111111111111,
             "#46039f"
            ],
            [
             0.2222222222222222,
             "#7201a8"
            ],
            [
             0.3333333333333333,
             "#9c179e"
            ],
            [
             0.4444444444444444,
             "#bd3786"
            ],
            [
             0.5555555555555556,
             "#d8576b"
            ],
            [
             0.6666666666666666,
             "#ed7953"
            ],
            [
             0.7777777777777778,
             "#fb9f3a"
            ],
            [
             0.8888888888888888,
             "#fdca26"
            ],
            [
             1,
             "#f0f921"
            ]
           ],
           "sequentialminus": [
            [
             0,
             "#0d0887"
            ],
            [
             0.1111111111111111,
             "#46039f"
            ],
            [
             0.2222222222222222,
             "#7201a8"
            ],
            [
             0.3333333333333333,
             "#9c179e"
            ],
            [
             0.4444444444444444,
             "#bd3786"
            ],
            [
             0.5555555555555556,
             "#d8576b"
            ],
            [
             0.6666666666666666,
             "#ed7953"
            ],
            [
             0.7777777777777778,
             "#fb9f3a"
            ],
            [
             0.8888888888888888,
             "#fdca26"
            ],
            [
             1,
             "#f0f921"
            ]
           ]
          },
          "colorway": [
           "#636efa",
           "#EF553B",
           "#00cc96",
           "#ab63fa",
           "#FFA15A",
           "#19d3f3",
           "#FF6692",
           "#B6E880",
           "#FF97FF",
           "#FECB52"
          ],
          "font": {
           "color": "#2a3f5f"
          },
          "geo": {
           "bgcolor": "white",
           "lakecolor": "white",
           "landcolor": "#E5ECF6",
           "showlakes": true,
           "showland": true,
           "subunitcolor": "white"
          },
          "hoverlabel": {
           "align": "left"
          },
          "hovermode": "closest",
          "mapbox": {
           "style": "light"
          },
          "paper_bgcolor": "white",
          "plot_bgcolor": "#E5ECF6",
          "polar": {
           "angularaxis": {
            "gridcolor": "white",
            "linecolor": "white",
            "ticks": ""
           },
           "bgcolor": "#E5ECF6",
           "radialaxis": {
            "gridcolor": "white",
            "linecolor": "white",
            "ticks": ""
           }
          },
          "scene": {
           "xaxis": {
            "backgroundcolor": "#E5ECF6",
            "gridcolor": "white",
            "gridwidth": 2,
            "linecolor": "white",
            "showbackground": true,
            "ticks": "",
            "zerolinecolor": "white"
           },
           "yaxis": {
            "backgroundcolor": "#E5ECF6",
            "gridcolor": "white",
            "gridwidth": 2,
            "linecolor": "white",
            "showbackground": true,
            "ticks": "",
            "zerolinecolor": "white"
           },
           "zaxis": {
            "backgroundcolor": "#E5ECF6",
            "gridcolor": "white",
            "gridwidth": 2,
            "linecolor": "white",
            "showbackground": true,
            "ticks": "",
            "zerolinecolor": "white"
           }
          },
          "shapedefaults": {
           "line": {
            "color": "#2a3f5f"
           }
          },
          "ternary": {
           "aaxis": {
            "gridcolor": "white",
            "linecolor": "white",
            "ticks": ""
           },
           "baxis": {
            "gridcolor": "white",
            "linecolor": "white",
            "ticks": ""
           },
           "bgcolor": "#E5ECF6",
           "caxis": {
            "gridcolor": "white",
            "linecolor": "white",
            "ticks": ""
           }
          },
          "title": {
           "x": 0.05
          },
          "xaxis": {
           "automargin": true,
           "gridcolor": "white",
           "linecolor": "white",
           "ticks": "",
           "title": {
            "standoff": 15
           },
           "zerolinecolor": "white",
           "zerolinewidth": 2
          },
          "yaxis": {
           "automargin": true,
           "gridcolor": "white",
           "linecolor": "white",
           "ticks": "",
           "title": {
            "standoff": 15
           },
           "zerolinecolor": "white",
           "zerolinewidth": 2
          }
         }
        },
        "title": {
         "text": "Metin Yoğunlaşması"
        },
        "xaxis": {
         "anchor": "y",
         "domain": [
          0,
          1
         ],
         "title": {
          "text": "yogunlasma"
         }
        },
        "yaxis": {
         "anchor": "x",
         "domain": [
          0,
          1
         ],
         "title": {
          "text": "count"
         }
        }
       }
      },
      "text/html": [
       "<div>\n",
       "        \n",
       "        \n",
       "            <div id=\"302bc086-bdc3-4255-b95d-a7bc95a6484e\" class=\"plotly-graph-div\" style=\"height:525px; width:100%;\"></div>\n",
       "            <script type=\"text/javascript\">\n",
       "                require([\"plotly\"], function(Plotly) {\n",
       "                    window.PLOTLYENV=window.PLOTLYENV || {};\n",
       "                    \n",
       "                if (document.getElementById(\"302bc086-bdc3-4255-b95d-a7bc95a6484e\")) {\n",
       "                    Plotly.newPlot(\n",
       "                        '302bc086-bdc3-4255-b95d-a7bc95a6484e',\n",
       "                        [{\"alignmentgroup\": \"True\", \"bingroup\": \"x\", \"hoverlabel\": {\"namelength\": 0}, \"hovertemplate\": \"yogunlasma=%{x}<br>count=%{y}\", \"legendgroup\": \"\", \"marker\": {\"color\": \"#636efa\"}, \"name\": \"\", \"nbinsx\": 20, \"offsetgroup\": \"\", \"orientation\": \"v\", \"showlegend\": false, \"type\": \"histogram\", \"x\": [0.0, 0.0, 0.0, 0.0, 0.0, 0.0, 0.0, 0.0, 0.0, 0.0, 0.0, 0.0, 0.0, 0.0, 0.0, 0.0, 0.0, 0.0, 0.0, 0.0, 0.0, 0.0, 0.0, 0.0, 0.0, 0.0, 0.0, 0.0, 0.0, 0.0, 0.0, 0.0, 0.0, 0.0, 0.0, 0.0, 0.0, 0.0, 0.0, 0.0, 0.0, 0.0, 0.0, 0.0, 0.0, 0.0, 0.0, 0.0, 0.0, 0.0, 0.0, 0.0, 0.0, 0.0, 0.0, 0.0, 0.0, -0.14583333333333334, 0.0, 0.0, 0.0, 0.0, 0.0, 0.0, 0.1, 0.0, 0.0, 0.0, 0.1, 0.0, 0.0, 0.0, 0.016666666666666666, 0.0, 0.6, 0.0, 0.0, 0.0, 0.0, 0.0, 0.13636363636363635, 0.0, 0.0, 0.0, 0.0, 0.0, 0.0, 0.0, 0.0, 0.0, 0.0, 0.0, 0.0, 0.0, 0.13636363636363635, 0.13636363636363635, 0.0, 0.0, 0.0, 0.0, 0.0, 0.0, 0.0, 0.0, 0.0, 0.0, 0.0, 0.0, 0.03333333333333333, 0.0, 0.0, 0.0, 0.13636363636363635, 0.0, 0.0, -0.1, 0.0, 0.0, 0.0, 0.0, 0.2, 0.0, 0.0, 0.0, 0.1, 0.1, 0.0, 0.0, 0.0, 0.0, 0.0, 0.0, 0.0, 0.0, 0.0, 0.0, 0.0, 0.0, 0.0, 0.0, 0.0, 0.0, 0.0, 0.0, 0.0, 0.0, 0.0, 0.0, 0.1, 0.0, 0.0, 0.0, 0.0, 0.0, 0.0, 0.0, 0.0, 0.0, 0.0, 0.0, 0.0, 0.6, 0.0, 0.0, 0.0, 0.0, 0.0, 0.0, 0.0, 0.0, 0.0, 0.0, 0.0, 0.0, 0.0, 0.0, 0.0, 0.0, 0.0, 0.0, 0.0, 0.0, 0.0, 0.0, -0.14583333333333334, 0.0, 0.0, 0.0, 0.0, 0.0, 0.1, 0.0, 0.0, 0.0, 0.0, 0.0, 0.0, 0.0, 0.0, 0.0, 0.0, 0.0, 0.0, 0.0, 0.0, 0.0, 0.0, 0.0, 0.0, 0.0, 0.0, 0.0, 0.0, 0.0, 0.0, 0.0, 0.0, 0.0, 0.0, 0.0], \"xaxis\": \"x\", \"yaxis\": \"y\"}],\n",
       "                        {\"barmode\": \"relative\", \"legend\": {\"tracegroupgap\": 0}, \"template\": {\"data\": {\"bar\": [{\"error_x\": {\"color\": \"#2a3f5f\"}, \"error_y\": {\"color\": \"#2a3f5f\"}, \"marker\": {\"line\": {\"color\": \"#E5ECF6\", \"width\": 0.5}}, \"type\": \"bar\"}], \"barpolar\": [{\"marker\": {\"line\": {\"color\": \"#E5ECF6\", \"width\": 0.5}}, \"type\": \"barpolar\"}], \"carpet\": [{\"aaxis\": {\"endlinecolor\": \"#2a3f5f\", \"gridcolor\": \"white\", \"linecolor\": \"white\", \"minorgridcolor\": \"white\", \"startlinecolor\": \"#2a3f5f\"}, \"baxis\": {\"endlinecolor\": \"#2a3f5f\", \"gridcolor\": \"white\", \"linecolor\": \"white\", \"minorgridcolor\": \"white\", \"startlinecolor\": \"#2a3f5f\"}, \"type\": \"carpet\"}], \"choropleth\": [{\"colorbar\": {\"outlinewidth\": 0, \"ticks\": \"\"}, \"type\": \"choropleth\"}], \"contour\": [{\"colorbar\": {\"outlinewidth\": 0, \"ticks\": \"\"}, \"colorscale\": [[0.0, \"#0d0887\"], [0.1111111111111111, \"#46039f\"], [0.2222222222222222, \"#7201a8\"], [0.3333333333333333, \"#9c179e\"], [0.4444444444444444, \"#bd3786\"], [0.5555555555555556, \"#d8576b\"], [0.6666666666666666, \"#ed7953\"], [0.7777777777777778, \"#fb9f3a\"], [0.8888888888888888, \"#fdca26\"], [1.0, \"#f0f921\"]], \"type\": \"contour\"}], \"contourcarpet\": [{\"colorbar\": {\"outlinewidth\": 0, \"ticks\": \"\"}, \"type\": \"contourcarpet\"}], \"heatmap\": [{\"colorbar\": {\"outlinewidth\": 0, \"ticks\": \"\"}, \"colorscale\": [[0.0, \"#0d0887\"], [0.1111111111111111, \"#46039f\"], [0.2222222222222222, \"#7201a8\"], [0.3333333333333333, \"#9c179e\"], [0.4444444444444444, \"#bd3786\"], [0.5555555555555556, \"#d8576b\"], [0.6666666666666666, \"#ed7953\"], [0.7777777777777778, \"#fb9f3a\"], [0.8888888888888888, \"#fdca26\"], [1.0, \"#f0f921\"]], \"type\": \"heatmap\"}], \"heatmapgl\": [{\"colorbar\": {\"outlinewidth\": 0, \"ticks\": \"\"}, \"colorscale\": [[0.0, \"#0d0887\"], [0.1111111111111111, \"#46039f\"], [0.2222222222222222, \"#7201a8\"], [0.3333333333333333, \"#9c179e\"], [0.4444444444444444, \"#bd3786\"], [0.5555555555555556, \"#d8576b\"], [0.6666666666666666, \"#ed7953\"], [0.7777777777777778, \"#fb9f3a\"], [0.8888888888888888, \"#fdca26\"], [1.0, \"#f0f921\"]], \"type\": \"heatmapgl\"}], \"histogram\": [{\"marker\": {\"colorbar\": {\"outlinewidth\": 0, \"ticks\": \"\"}}, \"type\": \"histogram\"}], \"histogram2d\": [{\"colorbar\": {\"outlinewidth\": 0, \"ticks\": \"\"}, \"colorscale\": [[0.0, \"#0d0887\"], [0.1111111111111111, \"#46039f\"], [0.2222222222222222, \"#7201a8\"], [0.3333333333333333, \"#9c179e\"], [0.4444444444444444, \"#bd3786\"], [0.5555555555555556, \"#d8576b\"], [0.6666666666666666, \"#ed7953\"], [0.7777777777777778, \"#fb9f3a\"], [0.8888888888888888, \"#fdca26\"], [1.0, \"#f0f921\"]], \"type\": \"histogram2d\"}], \"histogram2dcontour\": [{\"colorbar\": {\"outlinewidth\": 0, \"ticks\": \"\"}, \"colorscale\": [[0.0, \"#0d0887\"], [0.1111111111111111, \"#46039f\"], [0.2222222222222222, \"#7201a8\"], [0.3333333333333333, \"#9c179e\"], [0.4444444444444444, \"#bd3786\"], [0.5555555555555556, \"#d8576b\"], [0.6666666666666666, \"#ed7953\"], [0.7777777777777778, \"#fb9f3a\"], [0.8888888888888888, \"#fdca26\"], [1.0, \"#f0f921\"]], \"type\": \"histogram2dcontour\"}], \"mesh3d\": [{\"colorbar\": {\"outlinewidth\": 0, \"ticks\": \"\"}, \"type\": \"mesh3d\"}], \"parcoords\": [{\"line\": {\"colorbar\": {\"outlinewidth\": 0, \"ticks\": \"\"}}, \"type\": \"parcoords\"}], \"pie\": [{\"automargin\": true, \"type\": \"pie\"}], \"scatter\": [{\"marker\": {\"colorbar\": {\"outlinewidth\": 0, \"ticks\": \"\"}}, \"type\": \"scatter\"}], \"scatter3d\": [{\"line\": {\"colorbar\": {\"outlinewidth\": 0, \"ticks\": \"\"}}, \"marker\": {\"colorbar\": {\"outlinewidth\": 0, \"ticks\": \"\"}}, \"type\": \"scatter3d\"}], \"scattercarpet\": [{\"marker\": {\"colorbar\": {\"outlinewidth\": 0, \"ticks\": \"\"}}, \"type\": \"scattercarpet\"}], \"scattergeo\": [{\"marker\": {\"colorbar\": {\"outlinewidth\": 0, \"ticks\": \"\"}}, \"type\": \"scattergeo\"}], \"scattergl\": [{\"marker\": {\"colorbar\": {\"outlinewidth\": 0, \"ticks\": \"\"}}, \"type\": \"scattergl\"}], \"scattermapbox\": [{\"marker\": {\"colorbar\": {\"outlinewidth\": 0, \"ticks\": \"\"}}, \"type\": \"scattermapbox\"}], \"scatterpolar\": [{\"marker\": {\"colorbar\": {\"outlinewidth\": 0, \"ticks\": \"\"}}, \"type\": \"scatterpolar\"}], \"scatterpolargl\": [{\"marker\": {\"colorbar\": {\"outlinewidth\": 0, \"ticks\": \"\"}}, \"type\": \"scatterpolargl\"}], \"scatterternary\": [{\"marker\": {\"colorbar\": {\"outlinewidth\": 0, \"ticks\": \"\"}}, \"type\": \"scatterternary\"}], \"surface\": [{\"colorbar\": {\"outlinewidth\": 0, \"ticks\": \"\"}, \"colorscale\": [[0.0, \"#0d0887\"], [0.1111111111111111, \"#46039f\"], [0.2222222222222222, \"#7201a8\"], [0.3333333333333333, \"#9c179e\"], [0.4444444444444444, \"#bd3786\"], [0.5555555555555556, \"#d8576b\"], [0.6666666666666666, \"#ed7953\"], [0.7777777777777778, \"#fb9f3a\"], [0.8888888888888888, \"#fdca26\"], [1.0, \"#f0f921\"]], \"type\": \"surface\"}], \"table\": [{\"cells\": {\"fill\": {\"color\": \"#EBF0F8\"}, \"line\": {\"color\": \"white\"}}, \"header\": {\"fill\": {\"color\": \"#C8D4E3\"}, \"line\": {\"color\": \"white\"}}, \"type\": \"table\"}]}, \"layout\": {\"annotationdefaults\": {\"arrowcolor\": \"#2a3f5f\", \"arrowhead\": 0, \"arrowwidth\": 1}, \"coloraxis\": {\"colorbar\": {\"outlinewidth\": 0, \"ticks\": \"\"}}, \"colorscale\": {\"diverging\": [[0, \"#8e0152\"], [0.1, \"#c51b7d\"], [0.2, \"#de77ae\"], [0.3, \"#f1b6da\"], [0.4, \"#fde0ef\"], [0.5, \"#f7f7f7\"], [0.6, \"#e6f5d0\"], [0.7, \"#b8e186\"], [0.8, \"#7fbc41\"], [0.9, \"#4d9221\"], [1, \"#276419\"]], \"sequential\": [[0.0, \"#0d0887\"], [0.1111111111111111, \"#46039f\"], [0.2222222222222222, \"#7201a8\"], [0.3333333333333333, \"#9c179e\"], [0.4444444444444444, \"#bd3786\"], [0.5555555555555556, \"#d8576b\"], [0.6666666666666666, \"#ed7953\"], [0.7777777777777778, \"#fb9f3a\"], [0.8888888888888888, \"#fdca26\"], [1.0, \"#f0f921\"]], \"sequentialminus\": [[0.0, \"#0d0887\"], [0.1111111111111111, \"#46039f\"], [0.2222222222222222, \"#7201a8\"], [0.3333333333333333, \"#9c179e\"], [0.4444444444444444, \"#bd3786\"], [0.5555555555555556, \"#d8576b\"], [0.6666666666666666, \"#ed7953\"], [0.7777777777777778, \"#fb9f3a\"], [0.8888888888888888, \"#fdca26\"], [1.0, \"#f0f921\"]]}, \"colorway\": [\"#636efa\", \"#EF553B\", \"#00cc96\", \"#ab63fa\", \"#FFA15A\", \"#19d3f3\", \"#FF6692\", \"#B6E880\", \"#FF97FF\", \"#FECB52\"], \"font\": {\"color\": \"#2a3f5f\"}, \"geo\": {\"bgcolor\": \"white\", \"lakecolor\": \"white\", \"landcolor\": \"#E5ECF6\", \"showlakes\": true, \"showland\": true, \"subunitcolor\": \"white\"}, \"hoverlabel\": {\"align\": \"left\"}, \"hovermode\": \"closest\", \"mapbox\": {\"style\": \"light\"}, \"paper_bgcolor\": \"white\", \"plot_bgcolor\": \"#E5ECF6\", \"polar\": {\"angularaxis\": {\"gridcolor\": \"white\", \"linecolor\": \"white\", \"ticks\": \"\"}, \"bgcolor\": \"#E5ECF6\", \"radialaxis\": {\"gridcolor\": \"white\", \"linecolor\": \"white\", \"ticks\": \"\"}}, \"scene\": {\"xaxis\": {\"backgroundcolor\": \"#E5ECF6\", \"gridcolor\": \"white\", \"gridwidth\": 2, \"linecolor\": \"white\", \"showbackground\": true, \"ticks\": \"\", \"zerolinecolor\": \"white\"}, \"yaxis\": {\"backgroundcolor\": \"#E5ECF6\", \"gridcolor\": \"white\", \"gridwidth\": 2, \"linecolor\": \"white\", \"showbackground\": true, \"ticks\": \"\", \"zerolinecolor\": \"white\"}, \"zaxis\": {\"backgroundcolor\": \"#E5ECF6\", \"gridcolor\": \"white\", \"gridwidth\": 2, \"linecolor\": \"white\", \"showbackground\": true, \"ticks\": \"\", \"zerolinecolor\": \"white\"}}, \"shapedefaults\": {\"line\": {\"color\": \"#2a3f5f\"}}, \"ternary\": {\"aaxis\": {\"gridcolor\": \"white\", \"linecolor\": \"white\", \"ticks\": \"\"}, \"baxis\": {\"gridcolor\": \"white\", \"linecolor\": \"white\", \"ticks\": \"\"}, \"bgcolor\": \"#E5ECF6\", \"caxis\": {\"gridcolor\": \"white\", \"linecolor\": \"white\", \"ticks\": \"\"}}, \"title\": {\"x\": 0.05}, \"xaxis\": {\"automargin\": true, \"gridcolor\": \"white\", \"linecolor\": \"white\", \"ticks\": \"\", \"title\": {\"standoff\": 15}, \"zerolinecolor\": \"white\", \"zerolinewidth\": 2}, \"yaxis\": {\"automargin\": true, \"gridcolor\": \"white\", \"linecolor\": \"white\", \"ticks\": \"\", \"title\": {\"standoff\": 15}, \"zerolinecolor\": \"white\", \"zerolinewidth\": 2}}}, \"title\": {\"text\": \"Metin Yo\\u011funla\\u015fmas\\u0131\"}, \"xaxis\": {\"anchor\": \"y\", \"domain\": [0.0, 1.0], \"title\": {\"text\": \"yogunlasma\"}}, \"yaxis\": {\"anchor\": \"x\", \"domain\": [0.0, 1.0], \"title\": {\"text\": \"count\"}}},\n",
       "                        {\"responsive\": true}\n",
       "                    ).then(function(){\n",
       "                            \n",
       "var gd = document.getElementById('302bc086-bdc3-4255-b95d-a7bc95a6484e');\n",
       "var x = new MutationObserver(function (mutations, observer) {{\n",
       "        var display = window.getComputedStyle(gd).display;\n",
       "        if (!display || display === 'none') {{\n",
       "            console.log([gd, 'removed!']);\n",
       "            Plotly.purge(gd);\n",
       "            observer.disconnect();\n",
       "        }}\n",
       "}});\n",
       "\n",
       "// Listen for the removal of the full notebook cells\n",
       "var notebookContainer = gd.closest('#notebook-container');\n",
       "if (notebookContainer) {{\n",
       "    x.observe(notebookContainer, {childList: true});\n",
       "}}\n",
       "\n",
       "// Listen for the clearing of the current output cell\n",
       "var outputEl = gd.closest('.output');\n",
       "if (outputEl) {{\n",
       "    x.observe(outputEl, {childList: true});\n",
       "}}\n",
       "\n",
       "                        })\n",
       "                };\n",
       "                });\n",
       "            </script>\n",
       "        </div>"
      ]
     },
     "metadata": {},
     "output_type": "display_data"
    }
   ],
   "source": [
    "fig = px.histogram(data, x=\"yogunlasma\", nbins=20, title='Metin Yoğunlaşması')\n",
    "fig.show()"
   ]
  },
  {
   "cell_type": "code",
   "execution_count": 219,
   "metadata": {},
   "outputs": [
    {
     "data": {
      "application/vnd.plotly.v1+json": {
       "config": {
        "plotlyServerURL": "https://plot.ly"
       },
       "data": [
        {
         "alignmentgroup": "True",
         "bingroup": "x",
         "hoverlabel": {
          "namelength": 0
         },
         "hovertemplate": "harf_uzunlugu=%{x}<br>count=%{y}",
         "legendgroup": "",
         "marker": {
          "color": "#636efa"
         },
         "name": "",
         "nbinsx": 200,
         "offsetgroup": "",
         "orientation": "v",
         "showlegend": false,
         "type": "histogram",
         "x": [
          72,
          75,
          62,
          75,
          75,
          77,
          65,
          70,
          50,
          59,
          76,
          61,
          75,
          73,
          66,
          70,
          60,
          70,
          73,
          71,
          71,
          74,
          67,
          71,
          114,
          99,
          152,
          87,
          144,
          137,
          74,
          59,
          53,
          164,
          155,
          73,
          180,
          219,
          218,
          87,
          145,
          144,
          138,
          123,
          121,
          124,
          79,
          110,
          162,
          198,
          256,
          207,
          260,
          224,
          196,
          252,
          259,
          160,
          368,
          263,
          213,
          406,
          275,
          192,
          218,
          299,
          289,
          242,
          172,
          270,
          143,
          353,
          585,
          330,
          265,
          193,
          407,
          67,
          154,
          162,
          63,
          31,
          250,
          260,
          103,
          48,
          250,
          291,
          256,
          208,
          303,
          283,
          247,
          326,
          700,
          261,
          461,
          306,
          590,
          322,
          323,
          321,
          331,
          336,
          297,
          284,
          260,
          324,
          1308,
          307,
          308,
          318,
          315,
          552,
          803,
          256,
          325,
          332,
          318,
          296,
          296,
          341,
          289,
          279,
          345,
          312,
          329,
          292,
          349,
          274,
          324,
          10,
          13,
          20,
          4,
          16,
          14,
          10,
          26,
          17,
          8,
          25,
          17,
          84,
          218,
          176,
          85,
          201,
          202,
          227,
          241,
          193,
          200,
          231,
          75,
          227,
          112,
          80,
          67,
          270,
          59,
          280,
          217,
          69,
          51,
          56,
          73,
          59,
          87,
          68,
          75,
          66,
          71,
          57,
          80,
          62,
          57,
          54,
          55,
          68,
          256,
          157,
          260,
          224,
          269,
          259,
          368,
          263,
          213,
          406,
          299,
          172,
          143,
          353,
          585,
          330,
          265,
          407,
          196,
          159,
          350,
          400,
          324,
          268,
          347,
          231,
          239,
          384,
          452,
          174,
          118,
          90,
          117,
          53,
          91,
          82,
          117,
          102,
          81,
          72
         ],
         "xaxis": "x",
         "yaxis": "y"
        }
       ],
       "layout": {
        "barmode": "relative",
        "legend": {
         "tracegroupgap": 0
        },
        "template": {
         "data": {
          "bar": [
           {
            "error_x": {
             "color": "#2a3f5f"
            },
            "error_y": {
             "color": "#2a3f5f"
            },
            "marker": {
             "line": {
              "color": "#E5ECF6",
              "width": 0.5
             }
            },
            "type": "bar"
           }
          ],
          "barpolar": [
           {
            "marker": {
             "line": {
              "color": "#E5ECF6",
              "width": 0.5
             }
            },
            "type": "barpolar"
           }
          ],
          "carpet": [
           {
            "aaxis": {
             "endlinecolor": "#2a3f5f",
             "gridcolor": "white",
             "linecolor": "white",
             "minorgridcolor": "white",
             "startlinecolor": "#2a3f5f"
            },
            "baxis": {
             "endlinecolor": "#2a3f5f",
             "gridcolor": "white",
             "linecolor": "white",
             "minorgridcolor": "white",
             "startlinecolor": "#2a3f5f"
            },
            "type": "carpet"
           }
          ],
          "choropleth": [
           {
            "colorbar": {
             "outlinewidth": 0,
             "ticks": ""
            },
            "type": "choropleth"
           }
          ],
          "contour": [
           {
            "colorbar": {
             "outlinewidth": 0,
             "ticks": ""
            },
            "colorscale": [
             [
              0,
              "#0d0887"
             ],
             [
              0.1111111111111111,
              "#46039f"
             ],
             [
              0.2222222222222222,
              "#7201a8"
             ],
             [
              0.3333333333333333,
              "#9c179e"
             ],
             [
              0.4444444444444444,
              "#bd3786"
             ],
             [
              0.5555555555555556,
              "#d8576b"
             ],
             [
              0.6666666666666666,
              "#ed7953"
             ],
             [
              0.7777777777777778,
              "#fb9f3a"
             ],
             [
              0.8888888888888888,
              "#fdca26"
             ],
             [
              1,
              "#f0f921"
             ]
            ],
            "type": "contour"
           }
          ],
          "contourcarpet": [
           {
            "colorbar": {
             "outlinewidth": 0,
             "ticks": ""
            },
            "type": "contourcarpet"
           }
          ],
          "heatmap": [
           {
            "colorbar": {
             "outlinewidth": 0,
             "ticks": ""
            },
            "colorscale": [
             [
              0,
              "#0d0887"
             ],
             [
              0.1111111111111111,
              "#46039f"
             ],
             [
              0.2222222222222222,
              "#7201a8"
             ],
             [
              0.3333333333333333,
              "#9c179e"
             ],
             [
              0.4444444444444444,
              "#bd3786"
             ],
             [
              0.5555555555555556,
              "#d8576b"
             ],
             [
              0.6666666666666666,
              "#ed7953"
             ],
             [
              0.7777777777777778,
              "#fb9f3a"
             ],
             [
              0.8888888888888888,
              "#fdca26"
             ],
             [
              1,
              "#f0f921"
             ]
            ],
            "type": "heatmap"
           }
          ],
          "heatmapgl": [
           {
            "colorbar": {
             "outlinewidth": 0,
             "ticks": ""
            },
            "colorscale": [
             [
              0,
              "#0d0887"
             ],
             [
              0.1111111111111111,
              "#46039f"
             ],
             [
              0.2222222222222222,
              "#7201a8"
             ],
             [
              0.3333333333333333,
              "#9c179e"
             ],
             [
              0.4444444444444444,
              "#bd3786"
             ],
             [
              0.5555555555555556,
              "#d8576b"
             ],
             [
              0.6666666666666666,
              "#ed7953"
             ],
             [
              0.7777777777777778,
              "#fb9f3a"
             ],
             [
              0.8888888888888888,
              "#fdca26"
             ],
             [
              1,
              "#f0f921"
             ]
            ],
            "type": "heatmapgl"
           }
          ],
          "histogram": [
           {
            "marker": {
             "colorbar": {
              "outlinewidth": 0,
              "ticks": ""
             }
            },
            "type": "histogram"
           }
          ],
          "histogram2d": [
           {
            "colorbar": {
             "outlinewidth": 0,
             "ticks": ""
            },
            "colorscale": [
             [
              0,
              "#0d0887"
             ],
             [
              0.1111111111111111,
              "#46039f"
             ],
             [
              0.2222222222222222,
              "#7201a8"
             ],
             [
              0.3333333333333333,
              "#9c179e"
             ],
             [
              0.4444444444444444,
              "#bd3786"
             ],
             [
              0.5555555555555556,
              "#d8576b"
             ],
             [
              0.6666666666666666,
              "#ed7953"
             ],
             [
              0.7777777777777778,
              "#fb9f3a"
             ],
             [
              0.8888888888888888,
              "#fdca26"
             ],
             [
              1,
              "#f0f921"
             ]
            ],
            "type": "histogram2d"
           }
          ],
          "histogram2dcontour": [
           {
            "colorbar": {
             "outlinewidth": 0,
             "ticks": ""
            },
            "colorscale": [
             [
              0,
              "#0d0887"
             ],
             [
              0.1111111111111111,
              "#46039f"
             ],
             [
              0.2222222222222222,
              "#7201a8"
             ],
             [
              0.3333333333333333,
              "#9c179e"
             ],
             [
              0.4444444444444444,
              "#bd3786"
             ],
             [
              0.5555555555555556,
              "#d8576b"
             ],
             [
              0.6666666666666666,
              "#ed7953"
             ],
             [
              0.7777777777777778,
              "#fb9f3a"
             ],
             [
              0.8888888888888888,
              "#fdca26"
             ],
             [
              1,
              "#f0f921"
             ]
            ],
            "type": "histogram2dcontour"
           }
          ],
          "mesh3d": [
           {
            "colorbar": {
             "outlinewidth": 0,
             "ticks": ""
            },
            "type": "mesh3d"
           }
          ],
          "parcoords": [
           {
            "line": {
             "colorbar": {
              "outlinewidth": 0,
              "ticks": ""
             }
            },
            "type": "parcoords"
           }
          ],
          "pie": [
           {
            "automargin": true,
            "type": "pie"
           }
          ],
          "scatter": [
           {
            "marker": {
             "colorbar": {
              "outlinewidth": 0,
              "ticks": ""
             }
            },
            "type": "scatter"
           }
          ],
          "scatter3d": [
           {
            "line": {
             "colorbar": {
              "outlinewidth": 0,
              "ticks": ""
             }
            },
            "marker": {
             "colorbar": {
              "outlinewidth": 0,
              "ticks": ""
             }
            },
            "type": "scatter3d"
           }
          ],
          "scattercarpet": [
           {
            "marker": {
             "colorbar": {
              "outlinewidth": 0,
              "ticks": ""
             }
            },
            "type": "scattercarpet"
           }
          ],
          "scattergeo": [
           {
            "marker": {
             "colorbar": {
              "outlinewidth": 0,
              "ticks": ""
             }
            },
            "type": "scattergeo"
           }
          ],
          "scattergl": [
           {
            "marker": {
             "colorbar": {
              "outlinewidth": 0,
              "ticks": ""
             }
            },
            "type": "scattergl"
           }
          ],
          "scattermapbox": [
           {
            "marker": {
             "colorbar": {
              "outlinewidth": 0,
              "ticks": ""
             }
            },
            "type": "scattermapbox"
           }
          ],
          "scatterpolar": [
           {
            "marker": {
             "colorbar": {
              "outlinewidth": 0,
              "ticks": ""
             }
            },
            "type": "scatterpolar"
           }
          ],
          "scatterpolargl": [
           {
            "marker": {
             "colorbar": {
              "outlinewidth": 0,
              "ticks": ""
             }
            },
            "type": "scatterpolargl"
           }
          ],
          "scatterternary": [
           {
            "marker": {
             "colorbar": {
              "outlinewidth": 0,
              "ticks": ""
             }
            },
            "type": "scatterternary"
           }
          ],
          "surface": [
           {
            "colorbar": {
             "outlinewidth": 0,
             "ticks": ""
            },
            "colorscale": [
             [
              0,
              "#0d0887"
             ],
             [
              0.1111111111111111,
              "#46039f"
             ],
             [
              0.2222222222222222,
              "#7201a8"
             ],
             [
              0.3333333333333333,
              "#9c179e"
             ],
             [
              0.4444444444444444,
              "#bd3786"
             ],
             [
              0.5555555555555556,
              "#d8576b"
             ],
             [
              0.6666666666666666,
              "#ed7953"
             ],
             [
              0.7777777777777778,
              "#fb9f3a"
             ],
             [
              0.8888888888888888,
              "#fdca26"
             ],
             [
              1,
              "#f0f921"
             ]
            ],
            "type": "surface"
           }
          ],
          "table": [
           {
            "cells": {
             "fill": {
              "color": "#EBF0F8"
             },
             "line": {
              "color": "white"
             }
            },
            "header": {
             "fill": {
              "color": "#C8D4E3"
             },
             "line": {
              "color": "white"
             }
            },
            "type": "table"
           }
          ]
         },
         "layout": {
          "annotationdefaults": {
           "arrowcolor": "#2a3f5f",
           "arrowhead": 0,
           "arrowwidth": 1
          },
          "coloraxis": {
           "colorbar": {
            "outlinewidth": 0,
            "ticks": ""
           }
          },
          "colorscale": {
           "diverging": [
            [
             0,
             "#8e0152"
            ],
            [
             0.1,
             "#c51b7d"
            ],
            [
             0.2,
             "#de77ae"
            ],
            [
             0.3,
             "#f1b6da"
            ],
            [
             0.4,
             "#fde0ef"
            ],
            [
             0.5,
             "#f7f7f7"
            ],
            [
             0.6,
             "#e6f5d0"
            ],
            [
             0.7,
             "#b8e186"
            ],
            [
             0.8,
             "#7fbc41"
            ],
            [
             0.9,
             "#4d9221"
            ],
            [
             1,
             "#276419"
            ]
           ],
           "sequential": [
            [
             0,
             "#0d0887"
            ],
            [
             0.1111111111111111,
             "#46039f"
            ],
            [
             0.2222222222222222,
             "#7201a8"
            ],
            [
             0.3333333333333333,
             "#9c179e"
            ],
            [
             0.4444444444444444,
             "#bd3786"
            ],
            [
             0.5555555555555556,
             "#d8576b"
            ],
            [
             0.6666666666666666,
             "#ed7953"
            ],
            [
             0.7777777777777778,
             "#fb9f3a"
            ],
            [
             0.8888888888888888,
             "#fdca26"
            ],
            [
             1,
             "#f0f921"
            ]
           ],
           "sequentialminus": [
            [
             0,
             "#0d0887"
            ],
            [
             0.1111111111111111,
             "#46039f"
            ],
            [
             0.2222222222222222,
             "#7201a8"
            ],
            [
             0.3333333333333333,
             "#9c179e"
            ],
            [
             0.4444444444444444,
             "#bd3786"
            ],
            [
             0.5555555555555556,
             "#d8576b"
            ],
            [
             0.6666666666666666,
             "#ed7953"
            ],
            [
             0.7777777777777778,
             "#fb9f3a"
            ],
            [
             0.8888888888888888,
             "#fdca26"
            ],
            [
             1,
             "#f0f921"
            ]
           ]
          },
          "colorway": [
           "#636efa",
           "#EF553B",
           "#00cc96",
           "#ab63fa",
           "#FFA15A",
           "#19d3f3",
           "#FF6692",
           "#B6E880",
           "#FF97FF",
           "#FECB52"
          ],
          "font": {
           "color": "#2a3f5f"
          },
          "geo": {
           "bgcolor": "white",
           "lakecolor": "white",
           "landcolor": "#E5ECF6",
           "showlakes": true,
           "showland": true,
           "subunitcolor": "white"
          },
          "hoverlabel": {
           "align": "left"
          },
          "hovermode": "closest",
          "mapbox": {
           "style": "light"
          },
          "paper_bgcolor": "white",
          "plot_bgcolor": "#E5ECF6",
          "polar": {
           "angularaxis": {
            "gridcolor": "white",
            "linecolor": "white",
            "ticks": ""
           },
           "bgcolor": "#E5ECF6",
           "radialaxis": {
            "gridcolor": "white",
            "linecolor": "white",
            "ticks": ""
           }
          },
          "scene": {
           "xaxis": {
            "backgroundcolor": "#E5ECF6",
            "gridcolor": "white",
            "gridwidth": 2,
            "linecolor": "white",
            "showbackground": true,
            "ticks": "",
            "zerolinecolor": "white"
           },
           "yaxis": {
            "backgroundcolor": "#E5ECF6",
            "gridcolor": "white",
            "gridwidth": 2,
            "linecolor": "white",
            "showbackground": true,
            "ticks": "",
            "zerolinecolor": "white"
           },
           "zaxis": {
            "backgroundcolor": "#E5ECF6",
            "gridcolor": "white",
            "gridwidth": 2,
            "linecolor": "white",
            "showbackground": true,
            "ticks": "",
            "zerolinecolor": "white"
           }
          },
          "shapedefaults": {
           "line": {
            "color": "#2a3f5f"
           }
          },
          "ternary": {
           "aaxis": {
            "gridcolor": "white",
            "linecolor": "white",
            "ticks": ""
           },
           "baxis": {
            "gridcolor": "white",
            "linecolor": "white",
            "ticks": ""
           },
           "bgcolor": "#E5ECF6",
           "caxis": {
            "gridcolor": "white",
            "linecolor": "white",
            "ticks": ""
           }
          },
          "title": {
           "x": 0.05
          },
          "xaxis": {
           "automargin": true,
           "gridcolor": "white",
           "linecolor": "white",
           "ticks": "",
           "title": {
            "standoff": 15
           },
           "zerolinecolor": "white",
           "zerolinewidth": 2
          },
          "yaxis": {
           "automargin": true,
           "gridcolor": "white",
           "linecolor": "white",
           "ticks": "",
           "title": {
            "standoff": 15
           },
           "zerolinecolor": "white",
           "zerolinewidth": 2
          }
         }
        },
        "title": {
         "text": "Metin Uzunluğu"
        },
        "xaxis": {
         "anchor": "y",
         "domain": [
          0,
          1
         ],
         "title": {
          "text": "harf_uzunlugu"
         }
        },
        "yaxis": {
         "anchor": "x",
         "domain": [
          0,
          1
         ],
         "title": {
          "text": "count"
         }
        }
       }
      },
      "text/html": [
       "<div>\n",
       "        \n",
       "        \n",
       "            <div id=\"c643676b-9396-4152-9632-323a76e9160c\" class=\"plotly-graph-div\" style=\"height:525px; width:100%;\"></div>\n",
       "            <script type=\"text/javascript\">\n",
       "                require([\"plotly\"], function(Plotly) {\n",
       "                    window.PLOTLYENV=window.PLOTLYENV || {};\n",
       "                    \n",
       "                if (document.getElementById(\"c643676b-9396-4152-9632-323a76e9160c\")) {\n",
       "                    Plotly.newPlot(\n",
       "                        'c643676b-9396-4152-9632-323a76e9160c',\n",
       "                        [{\"alignmentgroup\": \"True\", \"bingroup\": \"x\", \"hoverlabel\": {\"namelength\": 0}, \"hovertemplate\": \"harf_uzunlugu=%{x}<br>count=%{y}\", \"legendgroup\": \"\", \"marker\": {\"color\": \"#636efa\"}, \"name\": \"\", \"nbinsx\": 200, \"offsetgroup\": \"\", \"orientation\": \"v\", \"showlegend\": false, \"type\": \"histogram\", \"x\": [72, 75, 62, 75, 75, 77, 65, 70, 50, 59, 76, 61, 75, 73, 66, 70, 60, 70, 73, 71, 71, 74, 67, 71, 114, 99, 152, 87, 144, 137, 74, 59, 53, 164, 155, 73, 180, 219, 218, 87, 145, 144, 138, 123, 121, 124, 79, 110, 162, 198, 256, 207, 260, 224, 196, 252, 259, 160, 368, 263, 213, 406, 275, 192, 218, 299, 289, 242, 172, 270, 143, 353, 585, 330, 265, 193, 407, 67, 154, 162, 63, 31, 250, 260, 103, 48, 250, 291, 256, 208, 303, 283, 247, 326, 700, 261, 461, 306, 590, 322, 323, 321, 331, 336, 297, 284, 260, 324, 1308, 307, 308, 318, 315, 552, 803, 256, 325, 332, 318, 296, 296, 341, 289, 279, 345, 312, 329, 292, 349, 274, 324, 10, 13, 20, 4, 16, 14, 10, 26, 17, 8, 25, 17, 84, 218, 176, 85, 201, 202, 227, 241, 193, 200, 231, 75, 227, 112, 80, 67, 270, 59, 280, 217, 69, 51, 56, 73, 59, 87, 68, 75, 66, 71, 57, 80, 62, 57, 54, 55, 68, 256, 157, 260, 224, 269, 259, 368, 263, 213, 406, 299, 172, 143, 353, 585, 330, 265, 407, 196, 159, 350, 400, 324, 268, 347, 231, 239, 384, 452, 174, 118, 90, 117, 53, 91, 82, 117, 102, 81, 72], \"xaxis\": \"x\", \"yaxis\": \"y\"}],\n",
       "                        {\"barmode\": \"relative\", \"legend\": {\"tracegroupgap\": 0}, \"template\": {\"data\": {\"bar\": [{\"error_x\": {\"color\": \"#2a3f5f\"}, \"error_y\": {\"color\": \"#2a3f5f\"}, \"marker\": {\"line\": {\"color\": \"#E5ECF6\", \"width\": 0.5}}, \"type\": \"bar\"}], \"barpolar\": [{\"marker\": {\"line\": {\"color\": \"#E5ECF6\", \"width\": 0.5}}, \"type\": \"barpolar\"}], \"carpet\": [{\"aaxis\": {\"endlinecolor\": \"#2a3f5f\", \"gridcolor\": \"white\", \"linecolor\": \"white\", \"minorgridcolor\": \"white\", \"startlinecolor\": \"#2a3f5f\"}, \"baxis\": {\"endlinecolor\": \"#2a3f5f\", \"gridcolor\": \"white\", \"linecolor\": \"white\", \"minorgridcolor\": \"white\", \"startlinecolor\": \"#2a3f5f\"}, \"type\": \"carpet\"}], \"choropleth\": [{\"colorbar\": {\"outlinewidth\": 0, \"ticks\": \"\"}, \"type\": \"choropleth\"}], \"contour\": [{\"colorbar\": {\"outlinewidth\": 0, \"ticks\": \"\"}, \"colorscale\": [[0.0, \"#0d0887\"], [0.1111111111111111, \"#46039f\"], [0.2222222222222222, \"#7201a8\"], [0.3333333333333333, \"#9c179e\"], [0.4444444444444444, \"#bd3786\"], [0.5555555555555556, \"#d8576b\"], [0.6666666666666666, \"#ed7953\"], [0.7777777777777778, \"#fb9f3a\"], [0.8888888888888888, \"#fdca26\"], [1.0, \"#f0f921\"]], \"type\": \"contour\"}], \"contourcarpet\": [{\"colorbar\": {\"outlinewidth\": 0, \"ticks\": \"\"}, \"type\": \"contourcarpet\"}], \"heatmap\": [{\"colorbar\": {\"outlinewidth\": 0, \"ticks\": \"\"}, \"colorscale\": [[0.0, \"#0d0887\"], [0.1111111111111111, \"#46039f\"], [0.2222222222222222, \"#7201a8\"], [0.3333333333333333, \"#9c179e\"], [0.4444444444444444, \"#bd3786\"], [0.5555555555555556, \"#d8576b\"], [0.6666666666666666, \"#ed7953\"], [0.7777777777777778, \"#fb9f3a\"], [0.8888888888888888, \"#fdca26\"], [1.0, \"#f0f921\"]], \"type\": \"heatmap\"}], \"heatmapgl\": [{\"colorbar\": {\"outlinewidth\": 0, \"ticks\": \"\"}, \"colorscale\": [[0.0, \"#0d0887\"], [0.1111111111111111, \"#46039f\"], [0.2222222222222222, \"#7201a8\"], [0.3333333333333333, \"#9c179e\"], [0.4444444444444444, \"#bd3786\"], [0.5555555555555556, \"#d8576b\"], [0.6666666666666666, \"#ed7953\"], [0.7777777777777778, \"#fb9f3a\"], [0.8888888888888888, \"#fdca26\"], [1.0, \"#f0f921\"]], \"type\": \"heatmapgl\"}], \"histogram\": [{\"marker\": {\"colorbar\": {\"outlinewidth\": 0, \"ticks\": \"\"}}, \"type\": \"histogram\"}], \"histogram2d\": [{\"colorbar\": {\"outlinewidth\": 0, \"ticks\": \"\"}, \"colorscale\": [[0.0, \"#0d0887\"], [0.1111111111111111, \"#46039f\"], [0.2222222222222222, \"#7201a8\"], [0.3333333333333333, \"#9c179e\"], [0.4444444444444444, \"#bd3786\"], [0.5555555555555556, \"#d8576b\"], [0.6666666666666666, \"#ed7953\"], [0.7777777777777778, \"#fb9f3a\"], [0.8888888888888888, \"#fdca26\"], [1.0, \"#f0f921\"]], \"type\": \"histogram2d\"}], \"histogram2dcontour\": [{\"colorbar\": {\"outlinewidth\": 0, \"ticks\": \"\"}, \"colorscale\": [[0.0, \"#0d0887\"], [0.1111111111111111, \"#46039f\"], [0.2222222222222222, \"#7201a8\"], [0.3333333333333333, \"#9c179e\"], [0.4444444444444444, \"#bd3786\"], [0.5555555555555556, \"#d8576b\"], [0.6666666666666666, \"#ed7953\"], [0.7777777777777778, \"#fb9f3a\"], [0.8888888888888888, \"#fdca26\"], [1.0, \"#f0f921\"]], \"type\": \"histogram2dcontour\"}], \"mesh3d\": [{\"colorbar\": {\"outlinewidth\": 0, \"ticks\": \"\"}, \"type\": \"mesh3d\"}], \"parcoords\": [{\"line\": {\"colorbar\": {\"outlinewidth\": 0, \"ticks\": \"\"}}, \"type\": \"parcoords\"}], \"pie\": [{\"automargin\": true, \"type\": \"pie\"}], \"scatter\": [{\"marker\": {\"colorbar\": {\"outlinewidth\": 0, \"ticks\": \"\"}}, \"type\": \"scatter\"}], \"scatter3d\": [{\"line\": {\"colorbar\": {\"outlinewidth\": 0, \"ticks\": \"\"}}, \"marker\": {\"colorbar\": {\"outlinewidth\": 0, \"ticks\": \"\"}}, \"type\": \"scatter3d\"}], \"scattercarpet\": [{\"marker\": {\"colorbar\": {\"outlinewidth\": 0, \"ticks\": \"\"}}, \"type\": \"scattercarpet\"}], \"scattergeo\": [{\"marker\": {\"colorbar\": {\"outlinewidth\": 0, \"ticks\": \"\"}}, \"type\": \"scattergeo\"}], \"scattergl\": [{\"marker\": {\"colorbar\": {\"outlinewidth\": 0, \"ticks\": \"\"}}, \"type\": \"scattergl\"}], \"scattermapbox\": [{\"marker\": {\"colorbar\": {\"outlinewidth\": 0, \"ticks\": \"\"}}, \"type\": \"scattermapbox\"}], \"scatterpolar\": [{\"marker\": {\"colorbar\": {\"outlinewidth\": 0, \"ticks\": \"\"}}, \"type\": \"scatterpolar\"}], \"scatterpolargl\": [{\"marker\": {\"colorbar\": {\"outlinewidth\": 0, \"ticks\": \"\"}}, \"type\": \"scatterpolargl\"}], \"scatterternary\": [{\"marker\": {\"colorbar\": {\"outlinewidth\": 0, \"ticks\": \"\"}}, \"type\": \"scatterternary\"}], \"surface\": [{\"colorbar\": {\"outlinewidth\": 0, \"ticks\": \"\"}, \"colorscale\": [[0.0, \"#0d0887\"], [0.1111111111111111, \"#46039f\"], [0.2222222222222222, \"#7201a8\"], [0.3333333333333333, \"#9c179e\"], [0.4444444444444444, \"#bd3786\"], [0.5555555555555556, \"#d8576b\"], [0.6666666666666666, \"#ed7953\"], [0.7777777777777778, \"#fb9f3a\"], [0.8888888888888888, \"#fdca26\"], [1.0, \"#f0f921\"]], \"type\": \"surface\"}], \"table\": [{\"cells\": {\"fill\": {\"color\": \"#EBF0F8\"}, \"line\": {\"color\": \"white\"}}, \"header\": {\"fill\": {\"color\": \"#C8D4E3\"}, \"line\": {\"color\": \"white\"}}, \"type\": \"table\"}]}, \"layout\": {\"annotationdefaults\": {\"arrowcolor\": \"#2a3f5f\", \"arrowhead\": 0, \"arrowwidth\": 1}, \"coloraxis\": {\"colorbar\": {\"outlinewidth\": 0, \"ticks\": \"\"}}, \"colorscale\": {\"diverging\": [[0, \"#8e0152\"], [0.1, \"#c51b7d\"], [0.2, \"#de77ae\"], [0.3, \"#f1b6da\"], [0.4, \"#fde0ef\"], [0.5, \"#f7f7f7\"], [0.6, \"#e6f5d0\"], [0.7, \"#b8e186\"], [0.8, \"#7fbc41\"], [0.9, \"#4d9221\"], [1, \"#276419\"]], \"sequential\": [[0.0, \"#0d0887\"], [0.1111111111111111, \"#46039f\"], [0.2222222222222222, \"#7201a8\"], [0.3333333333333333, \"#9c179e\"], [0.4444444444444444, \"#bd3786\"], [0.5555555555555556, \"#d8576b\"], [0.6666666666666666, \"#ed7953\"], [0.7777777777777778, \"#fb9f3a\"], [0.8888888888888888, \"#fdca26\"], [1.0, \"#f0f921\"]], \"sequentialminus\": [[0.0, \"#0d0887\"], [0.1111111111111111, \"#46039f\"], [0.2222222222222222, \"#7201a8\"], [0.3333333333333333, \"#9c179e\"], [0.4444444444444444, \"#bd3786\"], [0.5555555555555556, \"#d8576b\"], [0.6666666666666666, \"#ed7953\"], [0.7777777777777778, \"#fb9f3a\"], [0.8888888888888888, \"#fdca26\"], [1.0, \"#f0f921\"]]}, \"colorway\": [\"#636efa\", \"#EF553B\", \"#00cc96\", \"#ab63fa\", \"#FFA15A\", \"#19d3f3\", \"#FF6692\", \"#B6E880\", \"#FF97FF\", \"#FECB52\"], \"font\": {\"color\": \"#2a3f5f\"}, \"geo\": {\"bgcolor\": \"white\", \"lakecolor\": \"white\", \"landcolor\": \"#E5ECF6\", \"showlakes\": true, \"showland\": true, \"subunitcolor\": \"white\"}, \"hoverlabel\": {\"align\": \"left\"}, \"hovermode\": \"closest\", \"mapbox\": {\"style\": \"light\"}, \"paper_bgcolor\": \"white\", \"plot_bgcolor\": \"#E5ECF6\", \"polar\": {\"angularaxis\": {\"gridcolor\": \"white\", \"linecolor\": \"white\", \"ticks\": \"\"}, \"bgcolor\": \"#E5ECF6\", \"radialaxis\": {\"gridcolor\": \"white\", \"linecolor\": \"white\", \"ticks\": \"\"}}, \"scene\": {\"xaxis\": {\"backgroundcolor\": \"#E5ECF6\", \"gridcolor\": \"white\", \"gridwidth\": 2, \"linecolor\": \"white\", \"showbackground\": true, \"ticks\": \"\", \"zerolinecolor\": \"white\"}, \"yaxis\": {\"backgroundcolor\": \"#E5ECF6\", \"gridcolor\": \"white\", \"gridwidth\": 2, \"linecolor\": \"white\", \"showbackground\": true, \"ticks\": \"\", \"zerolinecolor\": \"white\"}, \"zaxis\": {\"backgroundcolor\": \"#E5ECF6\", \"gridcolor\": \"white\", \"gridwidth\": 2, \"linecolor\": \"white\", \"showbackground\": true, \"ticks\": \"\", \"zerolinecolor\": \"white\"}}, \"shapedefaults\": {\"line\": {\"color\": \"#2a3f5f\"}}, \"ternary\": {\"aaxis\": {\"gridcolor\": \"white\", \"linecolor\": \"white\", \"ticks\": \"\"}, \"baxis\": {\"gridcolor\": \"white\", \"linecolor\": \"white\", \"ticks\": \"\"}, \"bgcolor\": \"#E5ECF6\", \"caxis\": {\"gridcolor\": \"white\", \"linecolor\": \"white\", \"ticks\": \"\"}}, \"title\": {\"x\": 0.05}, \"xaxis\": {\"automargin\": true, \"gridcolor\": \"white\", \"linecolor\": \"white\", \"ticks\": \"\", \"title\": {\"standoff\": 15}, \"zerolinecolor\": \"white\", \"zerolinewidth\": 2}, \"yaxis\": {\"automargin\": true, \"gridcolor\": \"white\", \"linecolor\": \"white\", \"ticks\": \"\", \"title\": {\"standoff\": 15}, \"zerolinecolor\": \"white\", \"zerolinewidth\": 2}}}, \"title\": {\"text\": \"Metin Uzunlu\\u011fu\"}, \"xaxis\": {\"anchor\": \"y\", \"domain\": [0.0, 1.0], \"title\": {\"text\": \"harf_uzunlugu\"}}, \"yaxis\": {\"anchor\": \"x\", \"domain\": [0.0, 1.0], \"title\": {\"text\": \"count\"}}},\n",
       "                        {\"responsive\": true}\n",
       "                    ).then(function(){\n",
       "                            \n",
       "var gd = document.getElementById('c643676b-9396-4152-9632-323a76e9160c');\n",
       "var x = new MutationObserver(function (mutations, observer) {{\n",
       "        var display = window.getComputedStyle(gd).display;\n",
       "        if (!display || display === 'none') {{\n",
       "            console.log([gd, 'removed!']);\n",
       "            Plotly.purge(gd);\n",
       "            observer.disconnect();\n",
       "        }}\n",
       "}});\n",
       "\n",
       "// Listen for the removal of the full notebook cells\n",
       "var notebookContainer = gd.closest('#notebook-container');\n",
       "if (notebookContainer) {{\n",
       "    x.observe(notebookContainer, {childList: true});\n",
       "}}\n",
       "\n",
       "// Listen for the clearing of the current output cell\n",
       "var outputEl = gd.closest('.output');\n",
       "if (outputEl) {{\n",
       "    x.observe(outputEl, {childList: true});\n",
       "}}\n",
       "\n",
       "                        })\n",
       "                };\n",
       "                });\n",
       "            </script>\n",
       "        </div>"
      ]
     },
     "metadata": {},
     "output_type": "display_data"
    }
   ],
   "source": [
    "fig = px.histogram(data, x=\"harf_uzunlugu\", nbins=200, title='Metin Uzunluğu')\n",
    "fig.show()"
   ]
  },
  {
   "cell_type": "code",
   "execution_count": 157,
   "metadata": {},
   "outputs": [
    {
     "data": {
      "application/vnd.plotly.v1+json": {
       "config": {
        "plotlyServerURL": "https://plot.ly"
       },
       "data": [
        {
         "alignmentgroup": "True",
         "bingroup": "x",
         "hoverlabel": {
          "namelength": 0
         },
         "hovertemplate": "kelime_sayisi=%{x}<br>count=%{y}",
         "legendgroup": "",
         "marker": {
          "color": "#636efa"
         },
         "name": "",
         "nbinsx": 200,
         "offsetgroup": "",
         "orientation": "v",
         "showlegend": false,
         "type": "histogram",
         "x": [
          43,
          34,
          39,
          41,
          25,
          47,
          33,
          47,
          61,
          52,
          36,
          33,
          42,
          26,
          41,
          40,
          55,
          45,
          43,
          20,
          25,
          23,
          23,
          25,
          19,
          19,
          23,
          13,
          21,
          26,
          22,
          28,
          15,
          12,
          22,
          23,
          18,
          12,
          18,
          9,
          25,
          23,
          27,
          19,
          39,
          11,
          41,
          34,
          50,
          30,
          42,
          38,
          25,
          39,
          49,
          57,
          34,
          42,
          32,
          31,
          38,
          83,
          24,
          37,
          56,
          57,
          61,
          31,
          45,
          30,
          20,
          44,
          28,
          55,
          46,
          10,
          7,
          36,
          37,
          42,
          10,
          27,
          46,
          45,
          23,
          43,
          34,
          32,
          41,
          34,
          35,
          40,
          80,
          193,
          43,
          34,
          45,
          82,
          82,
          42,
          44,
          40,
          39,
          33,
          48,
          38,
          40,
          42,
          34,
          34,
          29,
          42,
          35,
          43,
          42,
          44,
          37,
          44,
          39,
          102,
          75,
          77,
          171,
          184,
          175,
          33,
          3,
          3,
          2,
          2,
          1,
          1,
          1,
          1,
          4,
          4,
          1,
          3,
          38,
          11,
          42,
          8,
          41,
          37,
          41,
          25,
          46,
          14,
          39,
          31,
          29,
          39,
          44,
          36,
          24,
          25,
          13,
          40,
          8,
          9,
          6,
          12,
          7,
          8,
          11,
          10,
          13,
          9,
          11,
          16,
          8,
          11,
          11,
          13,
          10,
          39,
          11,
          34,
          50,
          26,
          25,
          49,
          83,
          24,
          56,
          45,
          44,
          41,
          41,
          12,
          31,
          68,
          41,
          26,
          49,
          39,
          41,
          29,
          42,
          38,
          24,
          38,
          23,
          57,
          36,
          17,
          12,
          10,
          10,
          17,
          14,
          11,
          17,
          9,
          20
         ],
         "xaxis": "x",
         "yaxis": "y"
        }
       ],
       "layout": {
        "barmode": "relative",
        "legend": {
         "tracegroupgap": 0
        },
        "template": {
         "data": {
          "bar": [
           {
            "error_x": {
             "color": "#2a3f5f"
            },
            "error_y": {
             "color": "#2a3f5f"
            },
            "marker": {
             "line": {
              "color": "#E5ECF6",
              "width": 0.5
             }
            },
            "type": "bar"
           }
          ],
          "barpolar": [
           {
            "marker": {
             "line": {
              "color": "#E5ECF6",
              "width": 0.5
             }
            },
            "type": "barpolar"
           }
          ],
          "carpet": [
           {
            "aaxis": {
             "endlinecolor": "#2a3f5f",
             "gridcolor": "white",
             "linecolor": "white",
             "minorgridcolor": "white",
             "startlinecolor": "#2a3f5f"
            },
            "baxis": {
             "endlinecolor": "#2a3f5f",
             "gridcolor": "white",
             "linecolor": "white",
             "minorgridcolor": "white",
             "startlinecolor": "#2a3f5f"
            },
            "type": "carpet"
           }
          ],
          "choropleth": [
           {
            "colorbar": {
             "outlinewidth": 0,
             "ticks": ""
            },
            "type": "choropleth"
           }
          ],
          "contour": [
           {
            "colorbar": {
             "outlinewidth": 0,
             "ticks": ""
            },
            "colorscale": [
             [
              0,
              "#0d0887"
             ],
             [
              0.1111111111111111,
              "#46039f"
             ],
             [
              0.2222222222222222,
              "#7201a8"
             ],
             [
              0.3333333333333333,
              "#9c179e"
             ],
             [
              0.4444444444444444,
              "#bd3786"
             ],
             [
              0.5555555555555556,
              "#d8576b"
             ],
             [
              0.6666666666666666,
              "#ed7953"
             ],
             [
              0.7777777777777778,
              "#fb9f3a"
             ],
             [
              0.8888888888888888,
              "#fdca26"
             ],
             [
              1,
              "#f0f921"
             ]
            ],
            "type": "contour"
           }
          ],
          "contourcarpet": [
           {
            "colorbar": {
             "outlinewidth": 0,
             "ticks": ""
            },
            "type": "contourcarpet"
           }
          ],
          "heatmap": [
           {
            "colorbar": {
             "outlinewidth": 0,
             "ticks": ""
            },
            "colorscale": [
             [
              0,
              "#0d0887"
             ],
             [
              0.1111111111111111,
              "#46039f"
             ],
             [
              0.2222222222222222,
              "#7201a8"
             ],
             [
              0.3333333333333333,
              "#9c179e"
             ],
             [
              0.4444444444444444,
              "#bd3786"
             ],
             [
              0.5555555555555556,
              "#d8576b"
             ],
             [
              0.6666666666666666,
              "#ed7953"
             ],
             [
              0.7777777777777778,
              "#fb9f3a"
             ],
             [
              0.8888888888888888,
              "#fdca26"
             ],
             [
              1,
              "#f0f921"
             ]
            ],
            "type": "heatmap"
           }
          ],
          "heatmapgl": [
           {
            "colorbar": {
             "outlinewidth": 0,
             "ticks": ""
            },
            "colorscale": [
             [
              0,
              "#0d0887"
             ],
             [
              0.1111111111111111,
              "#46039f"
             ],
             [
              0.2222222222222222,
              "#7201a8"
             ],
             [
              0.3333333333333333,
              "#9c179e"
             ],
             [
              0.4444444444444444,
              "#bd3786"
             ],
             [
              0.5555555555555556,
              "#d8576b"
             ],
             [
              0.6666666666666666,
              "#ed7953"
             ],
             [
              0.7777777777777778,
              "#fb9f3a"
             ],
             [
              0.8888888888888888,
              "#fdca26"
             ],
             [
              1,
              "#f0f921"
             ]
            ],
            "type": "heatmapgl"
           }
          ],
          "histogram": [
           {
            "marker": {
             "colorbar": {
              "outlinewidth": 0,
              "ticks": ""
             }
            },
            "type": "histogram"
           }
          ],
          "histogram2d": [
           {
            "colorbar": {
             "outlinewidth": 0,
             "ticks": ""
            },
            "colorscale": [
             [
              0,
              "#0d0887"
             ],
             [
              0.1111111111111111,
              "#46039f"
             ],
             [
              0.2222222222222222,
              "#7201a8"
             ],
             [
              0.3333333333333333,
              "#9c179e"
             ],
             [
              0.4444444444444444,
              "#bd3786"
             ],
             [
              0.5555555555555556,
              "#d8576b"
             ],
             [
              0.6666666666666666,
              "#ed7953"
             ],
             [
              0.7777777777777778,
              "#fb9f3a"
             ],
             [
              0.8888888888888888,
              "#fdca26"
             ],
             [
              1,
              "#f0f921"
             ]
            ],
            "type": "histogram2d"
           }
          ],
          "histogram2dcontour": [
           {
            "colorbar": {
             "outlinewidth": 0,
             "ticks": ""
            },
            "colorscale": [
             [
              0,
              "#0d0887"
             ],
             [
              0.1111111111111111,
              "#46039f"
             ],
             [
              0.2222222222222222,
              "#7201a8"
             ],
             [
              0.3333333333333333,
              "#9c179e"
             ],
             [
              0.4444444444444444,
              "#bd3786"
             ],
             [
              0.5555555555555556,
              "#d8576b"
             ],
             [
              0.6666666666666666,
              "#ed7953"
             ],
             [
              0.7777777777777778,
              "#fb9f3a"
             ],
             [
              0.8888888888888888,
              "#fdca26"
             ],
             [
              1,
              "#f0f921"
             ]
            ],
            "type": "histogram2dcontour"
           }
          ],
          "mesh3d": [
           {
            "colorbar": {
             "outlinewidth": 0,
             "ticks": ""
            },
            "type": "mesh3d"
           }
          ],
          "parcoords": [
           {
            "line": {
             "colorbar": {
              "outlinewidth": 0,
              "ticks": ""
             }
            },
            "type": "parcoords"
           }
          ],
          "pie": [
           {
            "automargin": true,
            "type": "pie"
           }
          ],
          "scatter": [
           {
            "marker": {
             "colorbar": {
              "outlinewidth": 0,
              "ticks": ""
             }
            },
            "type": "scatter"
           }
          ],
          "scatter3d": [
           {
            "line": {
             "colorbar": {
              "outlinewidth": 0,
              "ticks": ""
             }
            },
            "marker": {
             "colorbar": {
              "outlinewidth": 0,
              "ticks": ""
             }
            },
            "type": "scatter3d"
           }
          ],
          "scattercarpet": [
           {
            "marker": {
             "colorbar": {
              "outlinewidth": 0,
              "ticks": ""
             }
            },
            "type": "scattercarpet"
           }
          ],
          "scattergeo": [
           {
            "marker": {
             "colorbar": {
              "outlinewidth": 0,
              "ticks": ""
             }
            },
            "type": "scattergeo"
           }
          ],
          "scattergl": [
           {
            "marker": {
             "colorbar": {
              "outlinewidth": 0,
              "ticks": ""
             }
            },
            "type": "scattergl"
           }
          ],
          "scattermapbox": [
           {
            "marker": {
             "colorbar": {
              "outlinewidth": 0,
              "ticks": ""
             }
            },
            "type": "scattermapbox"
           }
          ],
          "scatterpolar": [
           {
            "marker": {
             "colorbar": {
              "outlinewidth": 0,
              "ticks": ""
             }
            },
            "type": "scatterpolar"
           }
          ],
          "scatterpolargl": [
           {
            "marker": {
             "colorbar": {
              "outlinewidth": 0,
              "ticks": ""
             }
            },
            "type": "scatterpolargl"
           }
          ],
          "scatterternary": [
           {
            "marker": {
             "colorbar": {
              "outlinewidth": 0,
              "ticks": ""
             }
            },
            "type": "scatterternary"
           }
          ],
          "surface": [
           {
            "colorbar": {
             "outlinewidth": 0,
             "ticks": ""
            },
            "colorscale": [
             [
              0,
              "#0d0887"
             ],
             [
              0.1111111111111111,
              "#46039f"
             ],
             [
              0.2222222222222222,
              "#7201a8"
             ],
             [
              0.3333333333333333,
              "#9c179e"
             ],
             [
              0.4444444444444444,
              "#bd3786"
             ],
             [
              0.5555555555555556,
              "#d8576b"
             ],
             [
              0.6666666666666666,
              "#ed7953"
             ],
             [
              0.7777777777777778,
              "#fb9f3a"
             ],
             [
              0.8888888888888888,
              "#fdca26"
             ],
             [
              1,
              "#f0f921"
             ]
            ],
            "type": "surface"
           }
          ],
          "table": [
           {
            "cells": {
             "fill": {
              "color": "#EBF0F8"
             },
             "line": {
              "color": "white"
             }
            },
            "header": {
             "fill": {
              "color": "#C8D4E3"
             },
             "line": {
              "color": "white"
             }
            },
            "type": "table"
           }
          ]
         },
         "layout": {
          "annotationdefaults": {
           "arrowcolor": "#2a3f5f",
           "arrowhead": 0,
           "arrowwidth": 1
          },
          "coloraxis": {
           "colorbar": {
            "outlinewidth": 0,
            "ticks": ""
           }
          },
          "colorscale": {
           "diverging": [
            [
             0,
             "#8e0152"
            ],
            [
             0.1,
             "#c51b7d"
            ],
            [
             0.2,
             "#de77ae"
            ],
            [
             0.3,
             "#f1b6da"
            ],
            [
             0.4,
             "#fde0ef"
            ],
            [
             0.5,
             "#f7f7f7"
            ],
            [
             0.6,
             "#e6f5d0"
            ],
            [
             0.7,
             "#b8e186"
            ],
            [
             0.8,
             "#7fbc41"
            ],
            [
             0.9,
             "#4d9221"
            ],
            [
             1,
             "#276419"
            ]
           ],
           "sequential": [
            [
             0,
             "#0d0887"
            ],
            [
             0.1111111111111111,
             "#46039f"
            ],
            [
             0.2222222222222222,
             "#7201a8"
            ],
            [
             0.3333333333333333,
             "#9c179e"
            ],
            [
             0.4444444444444444,
             "#bd3786"
            ],
            [
             0.5555555555555556,
             "#d8576b"
            ],
            [
             0.6666666666666666,
             "#ed7953"
            ],
            [
             0.7777777777777778,
             "#fb9f3a"
            ],
            [
             0.8888888888888888,
             "#fdca26"
            ],
            [
             1,
             "#f0f921"
            ]
           ],
           "sequentialminus": [
            [
             0,
             "#0d0887"
            ],
            [
             0.1111111111111111,
             "#46039f"
            ],
            [
             0.2222222222222222,
             "#7201a8"
            ],
            [
             0.3333333333333333,
             "#9c179e"
            ],
            [
             0.4444444444444444,
             "#bd3786"
            ],
            [
             0.5555555555555556,
             "#d8576b"
            ],
            [
             0.6666666666666666,
             "#ed7953"
            ],
            [
             0.7777777777777778,
             "#fb9f3a"
            ],
            [
             0.8888888888888888,
             "#fdca26"
            ],
            [
             1,
             "#f0f921"
            ]
           ]
          },
          "colorway": [
           "#636efa",
           "#EF553B",
           "#00cc96",
           "#ab63fa",
           "#FFA15A",
           "#19d3f3",
           "#FF6692",
           "#B6E880",
           "#FF97FF",
           "#FECB52"
          ],
          "font": {
           "color": "#2a3f5f"
          },
          "geo": {
           "bgcolor": "white",
           "lakecolor": "white",
           "landcolor": "#E5ECF6",
           "showlakes": true,
           "showland": true,
           "subunitcolor": "white"
          },
          "hoverlabel": {
           "align": "left"
          },
          "hovermode": "closest",
          "mapbox": {
           "style": "light"
          },
          "paper_bgcolor": "white",
          "plot_bgcolor": "#E5ECF6",
          "polar": {
           "angularaxis": {
            "gridcolor": "white",
            "linecolor": "white",
            "ticks": ""
           },
           "bgcolor": "#E5ECF6",
           "radialaxis": {
            "gridcolor": "white",
            "linecolor": "white",
            "ticks": ""
           }
          },
          "scene": {
           "xaxis": {
            "backgroundcolor": "#E5ECF6",
            "gridcolor": "white",
            "gridwidth": 2,
            "linecolor": "white",
            "showbackground": true,
            "ticks": "",
            "zerolinecolor": "white"
           },
           "yaxis": {
            "backgroundcolor": "#E5ECF6",
            "gridcolor": "white",
            "gridwidth": 2,
            "linecolor": "white",
            "showbackground": true,
            "ticks": "",
            "zerolinecolor": "white"
           },
           "zaxis": {
            "backgroundcolor": "#E5ECF6",
            "gridcolor": "white",
            "gridwidth": 2,
            "linecolor": "white",
            "showbackground": true,
            "ticks": "",
            "zerolinecolor": "white"
           }
          },
          "shapedefaults": {
           "line": {
            "color": "#2a3f5f"
           }
          },
          "ternary": {
           "aaxis": {
            "gridcolor": "white",
            "linecolor": "white",
            "ticks": ""
           },
           "baxis": {
            "gridcolor": "white",
            "linecolor": "white",
            "ticks": ""
           },
           "bgcolor": "#E5ECF6",
           "caxis": {
            "gridcolor": "white",
            "linecolor": "white",
            "ticks": ""
           }
          },
          "title": {
           "x": 0.05
          },
          "xaxis": {
           "automargin": true,
           "gridcolor": "white",
           "linecolor": "white",
           "ticks": "",
           "title": {
            "standoff": 15
           },
           "zerolinecolor": "white",
           "zerolinewidth": 2
          },
          "yaxis": {
           "automargin": true,
           "gridcolor": "white",
           "linecolor": "white",
           "ticks": "",
           "title": {
            "standoff": 15
           },
           "zerolinecolor": "white",
           "zerolinewidth": 2
          }
         }
        },
        "title": {
         "text": "Kelime Sayısı"
        },
        "xaxis": {
         "anchor": "y",
         "domain": [
          0,
          1
         ],
         "title": {
          "text": "kelime_sayisi"
         }
        },
        "yaxis": {
         "anchor": "x",
         "domain": [
          0,
          1
         ],
         "title": {
          "text": "count"
         }
        }
       }
      },
      "text/html": [
       "<div>\n",
       "        \n",
       "        \n",
       "            <div id=\"1a939a56-f006-4cd2-87c5-e0eb06e3bec5\" class=\"plotly-graph-div\" style=\"height:525px; width:100%;\"></div>\n",
       "            <script type=\"text/javascript\">\n",
       "                require([\"plotly\"], function(Plotly) {\n",
       "                    window.PLOTLYENV=window.PLOTLYENV || {};\n",
       "                    \n",
       "                if (document.getElementById(\"1a939a56-f006-4cd2-87c5-e0eb06e3bec5\")) {\n",
       "                    Plotly.newPlot(\n",
       "                        '1a939a56-f006-4cd2-87c5-e0eb06e3bec5',\n",
       "                        [{\"alignmentgroup\": \"True\", \"bingroup\": \"x\", \"hoverlabel\": {\"namelength\": 0}, \"hovertemplate\": \"kelime_sayisi=%{x}<br>count=%{y}\", \"legendgroup\": \"\", \"marker\": {\"color\": \"#636efa\"}, \"name\": \"\", \"nbinsx\": 200, \"offsetgroup\": \"\", \"orientation\": \"v\", \"showlegend\": false, \"type\": \"histogram\", \"x\": [43, 34, 39, 41, 25, 47, 33, 47, 61, 52, 36, 33, 42, 26, 41, 40, 55, 45, 43, 20, 25, 23, 23, 25, 19, 19, 23, 13, 21, 26, 22, 28, 15, 12, 22, 23, 18, 12, 18, 9, 25, 23, 27, 19, 39, 11, 41, 34, 50, 30, 42, 38, 25, 39, 49, 57, 34, 42, 32, 31, 38, 83, 24, 37, 56, 57, 61, 31, 45, 30, 20, 44, 28, 55, 46, 10, 7, 36, 37, 42, 10, 27, 46, 45, 23, 43, 34, 32, 41, 34, 35, 40, 80, 193, 43, 34, 45, 82, 82, 42, 44, 40, 39, 33, 48, 38, 40, 42, 34, 34, 29, 42, 35, 43, 42, 44, 37, 44, 39, 102, 75, 77, 171, 184, 175, 33, 3, 3, 2, 2, 1, 1, 1, 1, 4, 4, 1, 3, 38, 11, 42, 8, 41, 37, 41, 25, 46, 14, 39, 31, 29, 39, 44, 36, 24, 25, 13, 40, 8, 9, 6, 12, 7, 8, 11, 10, 13, 9, 11, 16, 8, 11, 11, 13, 10, 39, 11, 34, 50, 26, 25, 49, 83, 24, 56, 45, 44, 41, 41, 12, 31, 68, 41, 26, 49, 39, 41, 29, 42, 38, 24, 38, 23, 57, 36, 17, 12, 10, 10, 17, 14, 11, 17, 9, 20], \"xaxis\": \"x\", \"yaxis\": \"y\"}],\n",
       "                        {\"barmode\": \"relative\", \"legend\": {\"tracegroupgap\": 0}, \"template\": {\"data\": {\"bar\": [{\"error_x\": {\"color\": \"#2a3f5f\"}, \"error_y\": {\"color\": \"#2a3f5f\"}, \"marker\": {\"line\": {\"color\": \"#E5ECF6\", \"width\": 0.5}}, \"type\": \"bar\"}], \"barpolar\": [{\"marker\": {\"line\": {\"color\": \"#E5ECF6\", \"width\": 0.5}}, \"type\": \"barpolar\"}], \"carpet\": [{\"aaxis\": {\"endlinecolor\": \"#2a3f5f\", \"gridcolor\": \"white\", \"linecolor\": \"white\", \"minorgridcolor\": \"white\", \"startlinecolor\": \"#2a3f5f\"}, \"baxis\": {\"endlinecolor\": \"#2a3f5f\", \"gridcolor\": \"white\", \"linecolor\": \"white\", \"minorgridcolor\": \"white\", \"startlinecolor\": \"#2a3f5f\"}, \"type\": \"carpet\"}], \"choropleth\": [{\"colorbar\": {\"outlinewidth\": 0, \"ticks\": \"\"}, \"type\": \"choropleth\"}], \"contour\": [{\"colorbar\": {\"outlinewidth\": 0, \"ticks\": \"\"}, \"colorscale\": [[0.0, \"#0d0887\"], [0.1111111111111111, \"#46039f\"], [0.2222222222222222, \"#7201a8\"], [0.3333333333333333, \"#9c179e\"], [0.4444444444444444, \"#bd3786\"], [0.5555555555555556, \"#d8576b\"], [0.6666666666666666, \"#ed7953\"], [0.7777777777777778, \"#fb9f3a\"], [0.8888888888888888, \"#fdca26\"], [1.0, \"#f0f921\"]], \"type\": \"contour\"}], \"contourcarpet\": [{\"colorbar\": {\"outlinewidth\": 0, \"ticks\": \"\"}, \"type\": \"contourcarpet\"}], \"heatmap\": [{\"colorbar\": {\"outlinewidth\": 0, \"ticks\": \"\"}, \"colorscale\": [[0.0, \"#0d0887\"], [0.1111111111111111, \"#46039f\"], [0.2222222222222222, \"#7201a8\"], [0.3333333333333333, \"#9c179e\"], [0.4444444444444444, \"#bd3786\"], [0.5555555555555556, \"#d8576b\"], [0.6666666666666666, \"#ed7953\"], [0.7777777777777778, \"#fb9f3a\"], [0.8888888888888888, \"#fdca26\"], [1.0, \"#f0f921\"]], \"type\": \"heatmap\"}], \"heatmapgl\": [{\"colorbar\": {\"outlinewidth\": 0, \"ticks\": \"\"}, \"colorscale\": [[0.0, \"#0d0887\"], [0.1111111111111111, \"#46039f\"], [0.2222222222222222, \"#7201a8\"], [0.3333333333333333, \"#9c179e\"], [0.4444444444444444, \"#bd3786\"], [0.5555555555555556, \"#d8576b\"], [0.6666666666666666, \"#ed7953\"], [0.7777777777777778, \"#fb9f3a\"], [0.8888888888888888, \"#fdca26\"], [1.0, \"#f0f921\"]], \"type\": \"heatmapgl\"}], \"histogram\": [{\"marker\": {\"colorbar\": {\"outlinewidth\": 0, \"ticks\": \"\"}}, \"type\": \"histogram\"}], \"histogram2d\": [{\"colorbar\": {\"outlinewidth\": 0, \"ticks\": \"\"}, \"colorscale\": [[0.0, \"#0d0887\"], [0.1111111111111111, \"#46039f\"], [0.2222222222222222, \"#7201a8\"], [0.3333333333333333, \"#9c179e\"], [0.4444444444444444, \"#bd3786\"], [0.5555555555555556, \"#d8576b\"], [0.6666666666666666, \"#ed7953\"], [0.7777777777777778, \"#fb9f3a\"], [0.8888888888888888, \"#fdca26\"], [1.0, \"#f0f921\"]], \"type\": \"histogram2d\"}], \"histogram2dcontour\": [{\"colorbar\": {\"outlinewidth\": 0, \"ticks\": \"\"}, \"colorscale\": [[0.0, \"#0d0887\"], [0.1111111111111111, \"#46039f\"], [0.2222222222222222, \"#7201a8\"], [0.3333333333333333, \"#9c179e\"], [0.4444444444444444, \"#bd3786\"], [0.5555555555555556, \"#d8576b\"], [0.6666666666666666, \"#ed7953\"], [0.7777777777777778, \"#fb9f3a\"], [0.8888888888888888, \"#fdca26\"], [1.0, \"#f0f921\"]], \"type\": \"histogram2dcontour\"}], \"mesh3d\": [{\"colorbar\": {\"outlinewidth\": 0, \"ticks\": \"\"}, \"type\": \"mesh3d\"}], \"parcoords\": [{\"line\": {\"colorbar\": {\"outlinewidth\": 0, \"ticks\": \"\"}}, \"type\": \"parcoords\"}], \"pie\": [{\"automargin\": true, \"type\": \"pie\"}], \"scatter\": [{\"marker\": {\"colorbar\": {\"outlinewidth\": 0, \"ticks\": \"\"}}, \"type\": \"scatter\"}], \"scatter3d\": [{\"line\": {\"colorbar\": {\"outlinewidth\": 0, \"ticks\": \"\"}}, \"marker\": {\"colorbar\": {\"outlinewidth\": 0, \"ticks\": \"\"}}, \"type\": \"scatter3d\"}], \"scattercarpet\": [{\"marker\": {\"colorbar\": {\"outlinewidth\": 0, \"ticks\": \"\"}}, \"type\": \"scattercarpet\"}], \"scattergeo\": [{\"marker\": {\"colorbar\": {\"outlinewidth\": 0, \"ticks\": \"\"}}, \"type\": \"scattergeo\"}], \"scattergl\": [{\"marker\": {\"colorbar\": {\"outlinewidth\": 0, \"ticks\": \"\"}}, \"type\": \"scattergl\"}], \"scattermapbox\": [{\"marker\": {\"colorbar\": {\"outlinewidth\": 0, \"ticks\": \"\"}}, \"type\": \"scattermapbox\"}], \"scatterpolar\": [{\"marker\": {\"colorbar\": {\"outlinewidth\": 0, \"ticks\": \"\"}}, \"type\": \"scatterpolar\"}], \"scatterpolargl\": [{\"marker\": {\"colorbar\": {\"outlinewidth\": 0, \"ticks\": \"\"}}, \"type\": \"scatterpolargl\"}], \"scatterternary\": [{\"marker\": {\"colorbar\": {\"outlinewidth\": 0, \"ticks\": \"\"}}, \"type\": \"scatterternary\"}], \"surface\": [{\"colorbar\": {\"outlinewidth\": 0, \"ticks\": \"\"}, \"colorscale\": [[0.0, \"#0d0887\"], [0.1111111111111111, \"#46039f\"], [0.2222222222222222, \"#7201a8\"], [0.3333333333333333, \"#9c179e\"], [0.4444444444444444, \"#bd3786\"], [0.5555555555555556, \"#d8576b\"], [0.6666666666666666, \"#ed7953\"], [0.7777777777777778, \"#fb9f3a\"], [0.8888888888888888, \"#fdca26\"], [1.0, \"#f0f921\"]], \"type\": \"surface\"}], \"table\": [{\"cells\": {\"fill\": {\"color\": \"#EBF0F8\"}, \"line\": {\"color\": \"white\"}}, \"header\": {\"fill\": {\"color\": \"#C8D4E3\"}, \"line\": {\"color\": \"white\"}}, \"type\": \"table\"}]}, \"layout\": {\"annotationdefaults\": {\"arrowcolor\": \"#2a3f5f\", \"arrowhead\": 0, \"arrowwidth\": 1}, \"coloraxis\": {\"colorbar\": {\"outlinewidth\": 0, \"ticks\": \"\"}}, \"colorscale\": {\"diverging\": [[0, \"#8e0152\"], [0.1, \"#c51b7d\"], [0.2, \"#de77ae\"], [0.3, \"#f1b6da\"], [0.4, \"#fde0ef\"], [0.5, \"#f7f7f7\"], [0.6, \"#e6f5d0\"], [0.7, \"#b8e186\"], [0.8, \"#7fbc41\"], [0.9, \"#4d9221\"], [1, \"#276419\"]], \"sequential\": [[0.0, \"#0d0887\"], [0.1111111111111111, \"#46039f\"], [0.2222222222222222, \"#7201a8\"], [0.3333333333333333, \"#9c179e\"], [0.4444444444444444, \"#bd3786\"], [0.5555555555555556, \"#d8576b\"], [0.6666666666666666, \"#ed7953\"], [0.7777777777777778, \"#fb9f3a\"], [0.8888888888888888, \"#fdca26\"], [1.0, \"#f0f921\"]], \"sequentialminus\": [[0.0, \"#0d0887\"], [0.1111111111111111, \"#46039f\"], [0.2222222222222222, \"#7201a8\"], [0.3333333333333333, \"#9c179e\"], [0.4444444444444444, \"#bd3786\"], [0.5555555555555556, \"#d8576b\"], [0.6666666666666666, \"#ed7953\"], [0.7777777777777778, \"#fb9f3a\"], [0.8888888888888888, \"#fdca26\"], [1.0, \"#f0f921\"]]}, \"colorway\": [\"#636efa\", \"#EF553B\", \"#00cc96\", \"#ab63fa\", \"#FFA15A\", \"#19d3f3\", \"#FF6692\", \"#B6E880\", \"#FF97FF\", \"#FECB52\"], \"font\": {\"color\": \"#2a3f5f\"}, \"geo\": {\"bgcolor\": \"white\", \"lakecolor\": \"white\", \"landcolor\": \"#E5ECF6\", \"showlakes\": true, \"showland\": true, \"subunitcolor\": \"white\"}, \"hoverlabel\": {\"align\": \"left\"}, \"hovermode\": \"closest\", \"mapbox\": {\"style\": \"light\"}, \"paper_bgcolor\": \"white\", \"plot_bgcolor\": \"#E5ECF6\", \"polar\": {\"angularaxis\": {\"gridcolor\": \"white\", \"linecolor\": \"white\", \"ticks\": \"\"}, \"bgcolor\": \"#E5ECF6\", \"radialaxis\": {\"gridcolor\": \"white\", \"linecolor\": \"white\", \"ticks\": \"\"}}, \"scene\": {\"xaxis\": {\"backgroundcolor\": \"#E5ECF6\", \"gridcolor\": \"white\", \"gridwidth\": 2, \"linecolor\": \"white\", \"showbackground\": true, \"ticks\": \"\", \"zerolinecolor\": \"white\"}, \"yaxis\": {\"backgroundcolor\": \"#E5ECF6\", \"gridcolor\": \"white\", \"gridwidth\": 2, \"linecolor\": \"white\", \"showbackground\": true, \"ticks\": \"\", \"zerolinecolor\": \"white\"}, \"zaxis\": {\"backgroundcolor\": \"#E5ECF6\", \"gridcolor\": \"white\", \"gridwidth\": 2, \"linecolor\": \"white\", \"showbackground\": true, \"ticks\": \"\", \"zerolinecolor\": \"white\"}}, \"shapedefaults\": {\"line\": {\"color\": \"#2a3f5f\"}}, \"ternary\": {\"aaxis\": {\"gridcolor\": \"white\", \"linecolor\": \"white\", \"ticks\": \"\"}, \"baxis\": {\"gridcolor\": \"white\", \"linecolor\": \"white\", \"ticks\": \"\"}, \"bgcolor\": \"#E5ECF6\", \"caxis\": {\"gridcolor\": \"white\", \"linecolor\": \"white\", \"ticks\": \"\"}}, \"title\": {\"x\": 0.05}, \"xaxis\": {\"automargin\": true, \"gridcolor\": \"white\", \"linecolor\": \"white\", \"ticks\": \"\", \"title\": {\"standoff\": 15}, \"zerolinecolor\": \"white\", \"zerolinewidth\": 2}, \"yaxis\": {\"automargin\": true, \"gridcolor\": \"white\", \"linecolor\": \"white\", \"ticks\": \"\", \"title\": {\"standoff\": 15}, \"zerolinecolor\": \"white\", \"zerolinewidth\": 2}}}, \"title\": {\"text\": \"Kelime Say\\u0131s\\u0131\"}, \"xaxis\": {\"anchor\": \"y\", \"domain\": [0.0, 1.0], \"title\": {\"text\": \"kelime_sayisi\"}}, \"yaxis\": {\"anchor\": \"x\", \"domain\": [0.0, 1.0], \"title\": {\"text\": \"count\"}}},\n",
       "                        {\"responsive\": true}\n",
       "                    ).then(function(){\n",
       "                            \n",
       "var gd = document.getElementById('1a939a56-f006-4cd2-87c5-e0eb06e3bec5');\n",
       "var x = new MutationObserver(function (mutations, observer) {{\n",
       "        var display = window.getComputedStyle(gd).display;\n",
       "        if (!display || display === 'none') {{\n",
       "            console.log([gd, 'removed!']);\n",
       "            Plotly.purge(gd);\n",
       "            observer.disconnect();\n",
       "        }}\n",
       "}});\n",
       "\n",
       "// Listen for the removal of the full notebook cells\n",
       "var notebookContainer = gd.closest('#notebook-container');\n",
       "if (notebookContainer) {{\n",
       "    x.observe(notebookContainer, {childList: true});\n",
       "}}\n",
       "\n",
       "// Listen for the clearing of the current output cell\n",
       "var outputEl = gd.closest('.output');\n",
       "if (outputEl) {{\n",
       "    x.observe(outputEl, {childList: true});\n",
       "}}\n",
       "\n",
       "                        })\n",
       "                };\n",
       "                });\n",
       "            </script>\n",
       "        </div>"
      ]
     },
     "metadata": {},
     "output_type": "display_data"
    }
   ],
   "source": [
    "fig = px.histogram(data, x=\"kelime_sayisi\", nbins=200, title='Kelime Sayısı')\n",
    "fig.show()"
   ]
  },
  {
   "cell_type": "code",
   "execution_count": 181,
   "metadata": {},
   "outputs": [
    {
     "data": {
      "application/vnd.plotly.v1+json": {
       "config": {
        "plotlyServerURL": "https://plot.ly"
       },
       "data": [
        {
         "alignmentgroup": "True",
         "customdata": [
          [
           "de",
           417
          ],
          [
           "het",
           208
          ],
          [
           "van",
           202
          ],
          [
           "in",
           187
          ],
          [
           "een",
           180
          ],
          [
           "en",
           138
          ],
          [
           "voor",
           97
          ],
          [
           "is",
           87
          ],
          [
           "op",
           82
          ],
          [
           "te",
           81
          ],
          [
           "zijn",
           78
          ],
          [
           "dat",
           73
          ],
          [
           "met",
           73
          ],
          [
           "die",
           58
          ],
          [
           "om",
           54
          ],
          [
           "er",
           49
          ],
          [
           "uit",
           48
          ],
          [
           "heeft",
           48
          ],
          [
           "aan",
           41
          ],
          [
           "img",
           40
          ],
          [
           "src",
           40
          ],
          [
           "tweakers",
           40
          ],
          [
           "mixed",
           40
          ],
          [
           "height",
           40
          ],
          [
           "width",
           40
          ]
         ],
         "hoverlabel": {
          "namelength": 0
         },
         "hovertemplate": "kelime=%{customdata[0]}<br>geçiş frekansı=%{marker.color}",
         "legendgroup": "",
         "marker": {
          "color": [
           417,
           208,
           202,
           187,
           180,
           138,
           97,
           87,
           82,
           81,
           78,
           73,
           73,
           58,
           54,
           49,
           48,
           48,
           41,
           40,
           40,
           40,
           40,
           40,
           40
          ],
          "coloraxis": "coloraxis"
         },
         "name": "",
         "offsetgroup": "",
         "orientation": "v",
         "showlegend": false,
         "textposition": "auto",
         "type": "bar",
         "x": [
          "de",
          "het",
          "van",
          "in",
          "een",
          "en",
          "voor",
          "is",
          "op",
          "te",
          "zijn",
          "dat",
          "met",
          "die",
          "om",
          "er",
          "uit",
          "heeft",
          "aan",
          "img",
          "src",
          "tweakers",
          "mixed",
          "height",
          "width"
         ],
         "xaxis": "x",
         "y": [
          417,
          208,
          202,
          187,
          180,
          138,
          97,
          87,
          82,
          81,
          78,
          73,
          73,
          58,
          54,
          49,
          48,
          48,
          41,
          40,
          40,
          40,
          40,
          40,
          40
         ],
         "yaxis": "y"
        }
       ],
       "layout": {
        "barmode": "relative",
        "coloraxis": {
         "colorbar": {
          "title": {
           "text": "geçiş frekansı"
          }
         },
         "colorscale": [
          [
           0,
           "#0d0887"
          ],
          [
           0.1111111111111111,
           "#46039f"
          ],
          [
           0.2222222222222222,
           "#7201a8"
          ],
          [
           0.3333333333333333,
           "#9c179e"
          ],
          [
           0.4444444444444444,
           "#bd3786"
          ],
          [
           0.5555555555555556,
           "#d8576b"
          ],
          [
           0.6666666666666666,
           "#ed7953"
          ],
          [
           0.7777777777777778,
           "#fb9f3a"
          ],
          [
           0.8888888888888888,
           "#fdca26"
          ],
          [
           1,
           "#f0f921"
          ]
         ]
        },
        "height": 400,
        "legend": {
         "tracegroupgap": 0
        },
        "template": {
         "data": {
          "bar": [
           {
            "error_x": {
             "color": "#2a3f5f"
            },
            "error_y": {
             "color": "#2a3f5f"
            },
            "marker": {
             "line": {
              "color": "#E5ECF6",
              "width": 0.5
             }
            },
            "type": "bar"
           }
          ],
          "barpolar": [
           {
            "marker": {
             "line": {
              "color": "#E5ECF6",
              "width": 0.5
             }
            },
            "type": "barpolar"
           }
          ],
          "carpet": [
           {
            "aaxis": {
             "endlinecolor": "#2a3f5f",
             "gridcolor": "white",
             "linecolor": "white",
             "minorgridcolor": "white",
             "startlinecolor": "#2a3f5f"
            },
            "baxis": {
             "endlinecolor": "#2a3f5f",
             "gridcolor": "white",
             "linecolor": "white",
             "minorgridcolor": "white",
             "startlinecolor": "#2a3f5f"
            },
            "type": "carpet"
           }
          ],
          "choropleth": [
           {
            "colorbar": {
             "outlinewidth": 0,
             "ticks": ""
            },
            "type": "choropleth"
           }
          ],
          "contour": [
           {
            "colorbar": {
             "outlinewidth": 0,
             "ticks": ""
            },
            "colorscale": [
             [
              0,
              "#0d0887"
             ],
             [
              0.1111111111111111,
              "#46039f"
             ],
             [
              0.2222222222222222,
              "#7201a8"
             ],
             [
              0.3333333333333333,
              "#9c179e"
             ],
             [
              0.4444444444444444,
              "#bd3786"
             ],
             [
              0.5555555555555556,
              "#d8576b"
             ],
             [
              0.6666666666666666,
              "#ed7953"
             ],
             [
              0.7777777777777778,
              "#fb9f3a"
             ],
             [
              0.8888888888888888,
              "#fdca26"
             ],
             [
              1,
              "#f0f921"
             ]
            ],
            "type": "contour"
           }
          ],
          "contourcarpet": [
           {
            "colorbar": {
             "outlinewidth": 0,
             "ticks": ""
            },
            "type": "contourcarpet"
           }
          ],
          "heatmap": [
           {
            "colorbar": {
             "outlinewidth": 0,
             "ticks": ""
            },
            "colorscale": [
             [
              0,
              "#0d0887"
             ],
             [
              0.1111111111111111,
              "#46039f"
             ],
             [
              0.2222222222222222,
              "#7201a8"
             ],
             [
              0.3333333333333333,
              "#9c179e"
             ],
             [
              0.4444444444444444,
              "#bd3786"
             ],
             [
              0.5555555555555556,
              "#d8576b"
             ],
             [
              0.6666666666666666,
              "#ed7953"
             ],
             [
              0.7777777777777778,
              "#fb9f3a"
             ],
             [
              0.8888888888888888,
              "#fdca26"
             ],
             [
              1,
              "#f0f921"
             ]
            ],
            "type": "heatmap"
           }
          ],
          "heatmapgl": [
           {
            "colorbar": {
             "outlinewidth": 0,
             "ticks": ""
            },
            "colorscale": [
             [
              0,
              "#0d0887"
             ],
             [
              0.1111111111111111,
              "#46039f"
             ],
             [
              0.2222222222222222,
              "#7201a8"
             ],
             [
              0.3333333333333333,
              "#9c179e"
             ],
             [
              0.4444444444444444,
              "#bd3786"
             ],
             [
              0.5555555555555556,
              "#d8576b"
             ],
             [
              0.6666666666666666,
              "#ed7953"
             ],
             [
              0.7777777777777778,
              "#fb9f3a"
             ],
             [
              0.8888888888888888,
              "#fdca26"
             ],
             [
              1,
              "#f0f921"
             ]
            ],
            "type": "heatmapgl"
           }
          ],
          "histogram": [
           {
            "marker": {
             "colorbar": {
              "outlinewidth": 0,
              "ticks": ""
             }
            },
            "type": "histogram"
           }
          ],
          "histogram2d": [
           {
            "colorbar": {
             "outlinewidth": 0,
             "ticks": ""
            },
            "colorscale": [
             [
              0,
              "#0d0887"
             ],
             [
              0.1111111111111111,
              "#46039f"
             ],
             [
              0.2222222222222222,
              "#7201a8"
             ],
             [
              0.3333333333333333,
              "#9c179e"
             ],
             [
              0.4444444444444444,
              "#bd3786"
             ],
             [
              0.5555555555555556,
              "#d8576b"
             ],
             [
              0.6666666666666666,
              "#ed7953"
             ],
             [
              0.7777777777777778,
              "#fb9f3a"
             ],
             [
              0.8888888888888888,
              "#fdca26"
             ],
             [
              1,
              "#f0f921"
             ]
            ],
            "type": "histogram2d"
           }
          ],
          "histogram2dcontour": [
           {
            "colorbar": {
             "outlinewidth": 0,
             "ticks": ""
            },
            "colorscale": [
             [
              0,
              "#0d0887"
             ],
             [
              0.1111111111111111,
              "#46039f"
             ],
             [
              0.2222222222222222,
              "#7201a8"
             ],
             [
              0.3333333333333333,
              "#9c179e"
             ],
             [
              0.4444444444444444,
              "#bd3786"
             ],
             [
              0.5555555555555556,
              "#d8576b"
             ],
             [
              0.6666666666666666,
              "#ed7953"
             ],
             [
              0.7777777777777778,
              "#fb9f3a"
             ],
             [
              0.8888888888888888,
              "#fdca26"
             ],
             [
              1,
              "#f0f921"
             ]
            ],
            "type": "histogram2dcontour"
           }
          ],
          "mesh3d": [
           {
            "colorbar": {
             "outlinewidth": 0,
             "ticks": ""
            },
            "type": "mesh3d"
           }
          ],
          "parcoords": [
           {
            "line": {
             "colorbar": {
              "outlinewidth": 0,
              "ticks": ""
             }
            },
            "type": "parcoords"
           }
          ],
          "pie": [
           {
            "automargin": true,
            "type": "pie"
           }
          ],
          "scatter": [
           {
            "marker": {
             "colorbar": {
              "outlinewidth": 0,
              "ticks": ""
             }
            },
            "type": "scatter"
           }
          ],
          "scatter3d": [
           {
            "line": {
             "colorbar": {
              "outlinewidth": 0,
              "ticks": ""
             }
            },
            "marker": {
             "colorbar": {
              "outlinewidth": 0,
              "ticks": ""
             }
            },
            "type": "scatter3d"
           }
          ],
          "scattercarpet": [
           {
            "marker": {
             "colorbar": {
              "outlinewidth": 0,
              "ticks": ""
             }
            },
            "type": "scattercarpet"
           }
          ],
          "scattergeo": [
           {
            "marker": {
             "colorbar": {
              "outlinewidth": 0,
              "ticks": ""
             }
            },
            "type": "scattergeo"
           }
          ],
          "scattergl": [
           {
            "marker": {
             "colorbar": {
              "outlinewidth": 0,
              "ticks": ""
             }
            },
            "type": "scattergl"
           }
          ],
          "scattermapbox": [
           {
            "marker": {
             "colorbar": {
              "outlinewidth": 0,
              "ticks": ""
             }
            },
            "type": "scattermapbox"
           }
          ],
          "scatterpolar": [
           {
            "marker": {
             "colorbar": {
              "outlinewidth": 0,
              "ticks": ""
             }
            },
            "type": "scatterpolar"
           }
          ],
          "scatterpolargl": [
           {
            "marker": {
             "colorbar": {
              "outlinewidth": 0,
              "ticks": ""
             }
            },
            "type": "scatterpolargl"
           }
          ],
          "scatterternary": [
           {
            "marker": {
             "colorbar": {
              "outlinewidth": 0,
              "ticks": ""
             }
            },
            "type": "scatterternary"
           }
          ],
          "surface": [
           {
            "colorbar": {
             "outlinewidth": 0,
             "ticks": ""
            },
            "colorscale": [
             [
              0,
              "#0d0887"
             ],
             [
              0.1111111111111111,
              "#46039f"
             ],
             [
              0.2222222222222222,
              "#7201a8"
             ],
             [
              0.3333333333333333,
              "#9c179e"
             ],
             [
              0.4444444444444444,
              "#bd3786"
             ],
             [
              0.5555555555555556,
              "#d8576b"
             ],
             [
              0.6666666666666666,
              "#ed7953"
             ],
             [
              0.7777777777777778,
              "#fb9f3a"
             ],
             [
              0.8888888888888888,
              "#fdca26"
             ],
             [
              1,
              "#f0f921"
             ]
            ],
            "type": "surface"
           }
          ],
          "table": [
           {
            "cells": {
             "fill": {
              "color": "#EBF0F8"
             },
             "line": {
              "color": "white"
             }
            },
            "header": {
             "fill": {
              "color": "#C8D4E3"
             },
             "line": {
              "color": "white"
             }
            },
            "type": "table"
           }
          ]
         },
         "layout": {
          "annotationdefaults": {
           "arrowcolor": "#2a3f5f",
           "arrowhead": 0,
           "arrowwidth": 1
          },
          "coloraxis": {
           "colorbar": {
            "outlinewidth": 0,
            "ticks": ""
           }
          },
          "colorscale": {
           "diverging": [
            [
             0,
             "#8e0152"
            ],
            [
             0.1,
             "#c51b7d"
            ],
            [
             0.2,
             "#de77ae"
            ],
            [
             0.3,
             "#f1b6da"
            ],
            [
             0.4,
             "#fde0ef"
            ],
            [
             0.5,
             "#f7f7f7"
            ],
            [
             0.6,
             "#e6f5d0"
            ],
            [
             0.7,
             "#b8e186"
            ],
            [
             0.8,
             "#7fbc41"
            ],
            [
             0.9,
             "#4d9221"
            ],
            [
             1,
             "#276419"
            ]
           ],
           "sequential": [
            [
             0,
             "#0d0887"
            ],
            [
             0.1111111111111111,
             "#46039f"
            ],
            [
             0.2222222222222222,
             "#7201a8"
            ],
            [
             0.3333333333333333,
             "#9c179e"
            ],
            [
             0.4444444444444444,
             "#bd3786"
            ],
            [
             0.5555555555555556,
             "#d8576b"
            ],
            [
             0.6666666666666666,
             "#ed7953"
            ],
            [
             0.7777777777777778,
             "#fb9f3a"
            ],
            [
             0.8888888888888888,
             "#fdca26"
            ],
            [
             1,
             "#f0f921"
            ]
           ],
           "sequentialminus": [
            [
             0,
             "#0d0887"
            ],
            [
             0.1111111111111111,
             "#46039f"
            ],
            [
             0.2222222222222222,
             "#7201a8"
            ],
            [
             0.3333333333333333,
             "#9c179e"
            ],
            [
             0.4444444444444444,
             "#bd3786"
            ],
            [
             0.5555555555555556,
             "#d8576b"
            ],
            [
             0.6666666666666666,
             "#ed7953"
            ],
            [
             0.7777777777777778,
             "#fb9f3a"
            ],
            [
             0.8888888888888888,
             "#fdca26"
            ],
            [
             1,
             "#f0f921"
            ]
           ]
          },
          "colorway": [
           "#636efa",
           "#EF553B",
           "#00cc96",
           "#ab63fa",
           "#FFA15A",
           "#19d3f3",
           "#FF6692",
           "#B6E880",
           "#FF97FF",
           "#FECB52"
          ],
          "font": {
           "color": "#2a3f5f"
          },
          "geo": {
           "bgcolor": "white",
           "lakecolor": "white",
           "landcolor": "#E5ECF6",
           "showlakes": true,
           "showland": true,
           "subunitcolor": "white"
          },
          "hoverlabel": {
           "align": "left"
          },
          "hovermode": "closest",
          "mapbox": {
           "style": "light"
          },
          "paper_bgcolor": "white",
          "plot_bgcolor": "#E5ECF6",
          "polar": {
           "angularaxis": {
            "gridcolor": "white",
            "linecolor": "white",
            "ticks": ""
           },
           "bgcolor": "#E5ECF6",
           "radialaxis": {
            "gridcolor": "white",
            "linecolor": "white",
            "ticks": ""
           }
          },
          "scene": {
           "xaxis": {
            "backgroundcolor": "#E5ECF6",
            "gridcolor": "white",
            "gridwidth": 2,
            "linecolor": "white",
            "showbackground": true,
            "ticks": "",
            "zerolinecolor": "white"
           },
           "yaxis": {
            "backgroundcolor": "#E5ECF6",
            "gridcolor": "white",
            "gridwidth": 2,
            "linecolor": "white",
            "showbackground": true,
            "ticks": "",
            "zerolinecolor": "white"
           },
           "zaxis": {
            "backgroundcolor": "#E5ECF6",
            "gridcolor": "white",
            "gridwidth": 2,
            "linecolor": "white",
            "showbackground": true,
            "ticks": "",
            "zerolinecolor": "white"
           }
          },
          "shapedefaults": {
           "line": {
            "color": "#2a3f5f"
           }
          },
          "ternary": {
           "aaxis": {
            "gridcolor": "white",
            "linecolor": "white",
            "ticks": ""
           },
           "baxis": {
            "gridcolor": "white",
            "linecolor": "white",
            "ticks": ""
           },
           "bgcolor": "#E5ECF6",
           "caxis": {
            "gridcolor": "white",
            "linecolor": "white",
            "ticks": ""
           }
          },
          "title": {
           "x": 0.05
          },
          "xaxis": {
           "automargin": true,
           "gridcolor": "white",
           "linecolor": "white",
           "ticks": "",
           "title": {
            "standoff": 15
           },
           "zerolinecolor": "white",
           "zerolinewidth": 2
          },
          "yaxis": {
           "automargin": true,
           "gridcolor": "white",
           "linecolor": "white",
           "ticks": "",
           "title": {
            "standoff": 15
           },
           "zerolinecolor": "white",
           "zerolinewidth": 2
          }
         }
        },
        "title": {
         "text": "Stopwordsleri kaldırmadan en çok geçen 25 kelime"
        },
        "xaxis": {
         "anchor": "y",
         "domain": [
          0,
          1
         ],
         "title": {
          "text": "kelime"
         }
        },
        "yaxis": {
         "anchor": "x",
         "domain": [
          0,
          1
         ],
         "title": {
          "text": "geçiş frekansı"
         }
        }
       }
      },
      "text/html": [
       "<div>\n",
       "        \n",
       "        \n",
       "            <div id=\"ad271b89-551c-4729-be20-ddf9b9f7b017\" class=\"plotly-graph-div\" style=\"height:400px; width:100%;\"></div>\n",
       "            <script type=\"text/javascript\">\n",
       "                require([\"plotly\"], function(Plotly) {\n",
       "                    window.PLOTLYENV=window.PLOTLYENV || {};\n",
       "                    \n",
       "                if (document.getElementById(\"ad271b89-551c-4729-be20-ddf9b9f7b017\")) {\n",
       "                    Plotly.newPlot(\n",
       "                        'ad271b89-551c-4729-be20-ddf9b9f7b017',\n",
       "                        [{\"alignmentgroup\": \"True\", \"customdata\": [[\"de\", 417], [\"het\", 208], [\"van\", 202], [\"in\", 187], [\"een\", 180], [\"en\", 138], [\"voor\", 97], [\"is\", 87], [\"op\", 82], [\"te\", 81], [\"zijn\", 78], [\"dat\", 73], [\"met\", 73], [\"die\", 58], [\"om\", 54], [\"er\", 49], [\"uit\", 48], [\"heeft\", 48], [\"aan\", 41], [\"img\", 40], [\"src\", 40], [\"tweakers\", 40], [\"mixed\", 40], [\"height\", 40], [\"width\", 40]], \"hoverlabel\": {\"namelength\": 0}, \"hovertemplate\": \"kelime=%{customdata[0]}<br>ge\\u00e7i\\u015f frekans\\u0131=%{marker.color}\", \"legendgroup\": \"\", \"marker\": {\"color\": [417, 208, 202, 187, 180, 138, 97, 87, 82, 81, 78, 73, 73, 58, 54, 49, 48, 48, 41, 40, 40, 40, 40, 40, 40], \"coloraxis\": \"coloraxis\"}, \"name\": \"\", \"offsetgroup\": \"\", \"orientation\": \"v\", \"showlegend\": false, \"textposition\": \"auto\", \"type\": \"bar\", \"x\": [\"de\", \"het\", \"van\", \"in\", \"een\", \"en\", \"voor\", \"is\", \"op\", \"te\", \"zijn\", \"dat\", \"met\", \"die\", \"om\", \"er\", \"uit\", \"heeft\", \"aan\", \"img\", \"src\", \"tweakers\", \"mixed\", \"height\", \"width\"], \"xaxis\": \"x\", \"y\": [417, 208, 202, 187, 180, 138, 97, 87, 82, 81, 78, 73, 73, 58, 54, 49, 48, 48, 41, 40, 40, 40, 40, 40, 40], \"yaxis\": \"y\"}],\n",
       "                        {\"barmode\": \"relative\", \"coloraxis\": {\"colorbar\": {\"title\": {\"text\": \"ge\\u00e7i\\u015f frekans\\u0131\"}}, \"colorscale\": [[0.0, \"#0d0887\"], [0.1111111111111111, \"#46039f\"], [0.2222222222222222, \"#7201a8\"], [0.3333333333333333, \"#9c179e\"], [0.4444444444444444, \"#bd3786\"], [0.5555555555555556, \"#d8576b\"], [0.6666666666666666, \"#ed7953\"], [0.7777777777777778, \"#fb9f3a\"], [0.8888888888888888, \"#fdca26\"], [1.0, \"#f0f921\"]]}, \"height\": 400, \"legend\": {\"tracegroupgap\": 0}, \"template\": {\"data\": {\"bar\": [{\"error_x\": {\"color\": \"#2a3f5f\"}, \"error_y\": {\"color\": \"#2a3f5f\"}, \"marker\": {\"line\": {\"color\": \"#E5ECF6\", \"width\": 0.5}}, \"type\": \"bar\"}], \"barpolar\": [{\"marker\": {\"line\": {\"color\": \"#E5ECF6\", \"width\": 0.5}}, \"type\": \"barpolar\"}], \"carpet\": [{\"aaxis\": {\"endlinecolor\": \"#2a3f5f\", \"gridcolor\": \"white\", \"linecolor\": \"white\", \"minorgridcolor\": \"white\", \"startlinecolor\": \"#2a3f5f\"}, \"baxis\": {\"endlinecolor\": \"#2a3f5f\", \"gridcolor\": \"white\", \"linecolor\": \"white\", \"minorgridcolor\": \"white\", \"startlinecolor\": \"#2a3f5f\"}, \"type\": \"carpet\"}], \"choropleth\": [{\"colorbar\": {\"outlinewidth\": 0, \"ticks\": \"\"}, \"type\": \"choropleth\"}], \"contour\": [{\"colorbar\": {\"outlinewidth\": 0, \"ticks\": \"\"}, \"colorscale\": [[0.0, \"#0d0887\"], [0.1111111111111111, \"#46039f\"], [0.2222222222222222, \"#7201a8\"], [0.3333333333333333, \"#9c179e\"], [0.4444444444444444, \"#bd3786\"], [0.5555555555555556, \"#d8576b\"], [0.6666666666666666, \"#ed7953\"], [0.7777777777777778, \"#fb9f3a\"], [0.8888888888888888, \"#fdca26\"], [1.0, \"#f0f921\"]], \"type\": \"contour\"}], \"contourcarpet\": [{\"colorbar\": {\"outlinewidth\": 0, \"ticks\": \"\"}, \"type\": \"contourcarpet\"}], \"heatmap\": [{\"colorbar\": {\"outlinewidth\": 0, \"ticks\": \"\"}, \"colorscale\": [[0.0, \"#0d0887\"], [0.1111111111111111, \"#46039f\"], [0.2222222222222222, \"#7201a8\"], [0.3333333333333333, \"#9c179e\"], [0.4444444444444444, \"#bd3786\"], [0.5555555555555556, \"#d8576b\"], [0.6666666666666666, \"#ed7953\"], [0.7777777777777778, \"#fb9f3a\"], [0.8888888888888888, \"#fdca26\"], [1.0, \"#f0f921\"]], \"type\": \"heatmap\"}], \"heatmapgl\": [{\"colorbar\": {\"outlinewidth\": 0, \"ticks\": \"\"}, \"colorscale\": [[0.0, \"#0d0887\"], [0.1111111111111111, \"#46039f\"], [0.2222222222222222, \"#7201a8\"], [0.3333333333333333, \"#9c179e\"], [0.4444444444444444, \"#bd3786\"], [0.5555555555555556, \"#d8576b\"], [0.6666666666666666, \"#ed7953\"], [0.7777777777777778, \"#fb9f3a\"], [0.8888888888888888, \"#fdca26\"], [1.0, \"#f0f921\"]], \"type\": \"heatmapgl\"}], \"histogram\": [{\"marker\": {\"colorbar\": {\"outlinewidth\": 0, \"ticks\": \"\"}}, \"type\": \"histogram\"}], \"histogram2d\": [{\"colorbar\": {\"outlinewidth\": 0, \"ticks\": \"\"}, \"colorscale\": [[0.0, \"#0d0887\"], [0.1111111111111111, \"#46039f\"], [0.2222222222222222, \"#7201a8\"], [0.3333333333333333, \"#9c179e\"], [0.4444444444444444, \"#bd3786\"], [0.5555555555555556, \"#d8576b\"], [0.6666666666666666, \"#ed7953\"], [0.7777777777777778, \"#fb9f3a\"], [0.8888888888888888, \"#fdca26\"], [1.0, \"#f0f921\"]], \"type\": \"histogram2d\"}], \"histogram2dcontour\": [{\"colorbar\": {\"outlinewidth\": 0, \"ticks\": \"\"}, \"colorscale\": [[0.0, \"#0d0887\"], [0.1111111111111111, \"#46039f\"], [0.2222222222222222, \"#7201a8\"], [0.3333333333333333, \"#9c179e\"], [0.4444444444444444, \"#bd3786\"], [0.5555555555555556, \"#d8576b\"], [0.6666666666666666, \"#ed7953\"], [0.7777777777777778, \"#fb9f3a\"], [0.8888888888888888, \"#fdca26\"], [1.0, \"#f0f921\"]], \"type\": \"histogram2dcontour\"}], \"mesh3d\": [{\"colorbar\": {\"outlinewidth\": 0, \"ticks\": \"\"}, \"type\": \"mesh3d\"}], \"parcoords\": [{\"line\": {\"colorbar\": {\"outlinewidth\": 0, \"ticks\": \"\"}}, \"type\": \"parcoords\"}], \"pie\": [{\"automargin\": true, \"type\": \"pie\"}], \"scatter\": [{\"marker\": {\"colorbar\": {\"outlinewidth\": 0, \"ticks\": \"\"}}, \"type\": \"scatter\"}], \"scatter3d\": [{\"line\": {\"colorbar\": {\"outlinewidth\": 0, \"ticks\": \"\"}}, \"marker\": {\"colorbar\": {\"outlinewidth\": 0, \"ticks\": \"\"}}, \"type\": \"scatter3d\"}], \"scattercarpet\": [{\"marker\": {\"colorbar\": {\"outlinewidth\": 0, \"ticks\": \"\"}}, \"type\": \"scattercarpet\"}], \"scattergeo\": [{\"marker\": {\"colorbar\": {\"outlinewidth\": 0, \"ticks\": \"\"}}, \"type\": \"scattergeo\"}], \"scattergl\": [{\"marker\": {\"colorbar\": {\"outlinewidth\": 0, \"ticks\": \"\"}}, \"type\": \"scattergl\"}], \"scattermapbox\": [{\"marker\": {\"colorbar\": {\"outlinewidth\": 0, \"ticks\": \"\"}}, \"type\": \"scattermapbox\"}], \"scatterpolar\": [{\"marker\": {\"colorbar\": {\"outlinewidth\": 0, \"ticks\": \"\"}}, \"type\": \"scatterpolar\"}], \"scatterpolargl\": [{\"marker\": {\"colorbar\": {\"outlinewidth\": 0, \"ticks\": \"\"}}, \"type\": \"scatterpolargl\"}], \"scatterternary\": [{\"marker\": {\"colorbar\": {\"outlinewidth\": 0, \"ticks\": \"\"}}, \"type\": \"scatterternary\"}], \"surface\": [{\"colorbar\": {\"outlinewidth\": 0, \"ticks\": \"\"}, \"colorscale\": [[0.0, \"#0d0887\"], [0.1111111111111111, \"#46039f\"], [0.2222222222222222, \"#7201a8\"], [0.3333333333333333, \"#9c179e\"], [0.4444444444444444, \"#bd3786\"], [0.5555555555555556, \"#d8576b\"], [0.6666666666666666, \"#ed7953\"], [0.7777777777777778, \"#fb9f3a\"], [0.8888888888888888, \"#fdca26\"], [1.0, \"#f0f921\"]], \"type\": \"surface\"}], \"table\": [{\"cells\": {\"fill\": {\"color\": \"#EBF0F8\"}, \"line\": {\"color\": \"white\"}}, \"header\": {\"fill\": {\"color\": \"#C8D4E3\"}, \"line\": {\"color\": \"white\"}}, \"type\": \"table\"}]}, \"layout\": {\"annotationdefaults\": {\"arrowcolor\": \"#2a3f5f\", \"arrowhead\": 0, \"arrowwidth\": 1}, \"coloraxis\": {\"colorbar\": {\"outlinewidth\": 0, \"ticks\": \"\"}}, \"colorscale\": {\"diverging\": [[0, \"#8e0152\"], [0.1, \"#c51b7d\"], [0.2, \"#de77ae\"], [0.3, \"#f1b6da\"], [0.4, \"#fde0ef\"], [0.5, \"#f7f7f7\"], [0.6, \"#e6f5d0\"], [0.7, \"#b8e186\"], [0.8, \"#7fbc41\"], [0.9, \"#4d9221\"], [1, \"#276419\"]], \"sequential\": [[0.0, \"#0d0887\"], [0.1111111111111111, \"#46039f\"], [0.2222222222222222, \"#7201a8\"], [0.3333333333333333, \"#9c179e\"], [0.4444444444444444, \"#bd3786\"], [0.5555555555555556, \"#d8576b\"], [0.6666666666666666, \"#ed7953\"], [0.7777777777777778, \"#fb9f3a\"], [0.8888888888888888, \"#fdca26\"], [1.0, \"#f0f921\"]], \"sequentialminus\": [[0.0, \"#0d0887\"], [0.1111111111111111, \"#46039f\"], [0.2222222222222222, \"#7201a8\"], [0.3333333333333333, \"#9c179e\"], [0.4444444444444444, \"#bd3786\"], [0.5555555555555556, \"#d8576b\"], [0.6666666666666666, \"#ed7953\"], [0.7777777777777778, \"#fb9f3a\"], [0.8888888888888888, \"#fdca26\"], [1.0, \"#f0f921\"]]}, \"colorway\": [\"#636efa\", \"#EF553B\", \"#00cc96\", \"#ab63fa\", \"#FFA15A\", \"#19d3f3\", \"#FF6692\", \"#B6E880\", \"#FF97FF\", \"#FECB52\"], \"font\": {\"color\": \"#2a3f5f\"}, \"geo\": {\"bgcolor\": \"white\", \"lakecolor\": \"white\", \"landcolor\": \"#E5ECF6\", \"showlakes\": true, \"showland\": true, \"subunitcolor\": \"white\"}, \"hoverlabel\": {\"align\": \"left\"}, \"hovermode\": \"closest\", \"mapbox\": {\"style\": \"light\"}, \"paper_bgcolor\": \"white\", \"plot_bgcolor\": \"#E5ECF6\", \"polar\": {\"angularaxis\": {\"gridcolor\": \"white\", \"linecolor\": \"white\", \"ticks\": \"\"}, \"bgcolor\": \"#E5ECF6\", \"radialaxis\": {\"gridcolor\": \"white\", \"linecolor\": \"white\", \"ticks\": \"\"}}, \"scene\": {\"xaxis\": {\"backgroundcolor\": \"#E5ECF6\", \"gridcolor\": \"white\", \"gridwidth\": 2, \"linecolor\": \"white\", \"showbackground\": true, \"ticks\": \"\", \"zerolinecolor\": \"white\"}, \"yaxis\": {\"backgroundcolor\": \"#E5ECF6\", \"gridcolor\": \"white\", \"gridwidth\": 2, \"linecolor\": \"white\", \"showbackground\": true, \"ticks\": \"\", \"zerolinecolor\": \"white\"}, \"zaxis\": {\"backgroundcolor\": \"#E5ECF6\", \"gridcolor\": \"white\", \"gridwidth\": 2, \"linecolor\": \"white\", \"showbackground\": true, \"ticks\": \"\", \"zerolinecolor\": \"white\"}}, \"shapedefaults\": {\"line\": {\"color\": \"#2a3f5f\"}}, \"ternary\": {\"aaxis\": {\"gridcolor\": \"white\", \"linecolor\": \"white\", \"ticks\": \"\"}, \"baxis\": {\"gridcolor\": \"white\", \"linecolor\": \"white\", \"ticks\": \"\"}, \"bgcolor\": \"#E5ECF6\", \"caxis\": {\"gridcolor\": \"white\", \"linecolor\": \"white\", \"ticks\": \"\"}}, \"title\": {\"x\": 0.05}, \"xaxis\": {\"automargin\": true, \"gridcolor\": \"white\", \"linecolor\": \"white\", \"ticks\": \"\", \"title\": {\"standoff\": 15}, \"zerolinecolor\": \"white\", \"zerolinewidth\": 2}, \"yaxis\": {\"automargin\": true, \"gridcolor\": \"white\", \"linecolor\": \"white\", \"ticks\": \"\", \"title\": {\"standoff\": 15}, \"zerolinecolor\": \"white\", \"zerolinewidth\": 2}}}, \"title\": {\"text\": \"Stopwordsleri kald\\u0131rmadan en \\u00e7ok ge\\u00e7en 25 kelime\"}, \"xaxis\": {\"anchor\": \"y\", \"domain\": [0.0, 1.0], \"title\": {\"text\": \"kelime\"}}, \"yaxis\": {\"anchor\": \"x\", \"domain\": [0.0, 1.0], \"title\": {\"text\": \"ge\\u00e7i\\u015f frekans\\u0131\"}}},\n",
       "                        {\"responsive\": true}\n",
       "                    ).then(function(){\n",
       "                            \n",
       "var gd = document.getElementById('ad271b89-551c-4729-be20-ddf9b9f7b017');\n",
       "var x = new MutationObserver(function (mutations, observer) {{\n",
       "        var display = window.getComputedStyle(gd).display;\n",
       "        if (!display || display === 'none') {{\n",
       "            console.log([gd, 'removed!']);\n",
       "            Plotly.purge(gd);\n",
       "            observer.disconnect();\n",
       "        }}\n",
       "}});\n",
       "\n",
       "// Listen for the removal of the full notebook cells\n",
       "var notebookContainer = gd.closest('#notebook-container');\n",
       "if (notebookContainer) {{\n",
       "    x.observe(notebookContainer, {childList: true});\n",
       "}}\n",
       "\n",
       "// Listen for the clearing of the current output cell\n",
       "var outputEl = gd.closest('.output');\n",
       "if (outputEl) {{\n",
       "    x.observe(outputEl, {childList: true});\n",
       "}}\n",
       "\n",
       "                        })\n",
       "                };\n",
       "                });\n",
       "            </script>\n",
       "        </div>"
      ]
     },
     "metadata": {},
     "output_type": "display_data"
    }
   ],
   "source": [
    "def get_top_n_words(corpus, n=None):\n",
    "    vec = CountVectorizer().fit(corpus)\n",
    "    bag_of_words = vec.transform(corpus)\n",
    "    sum_words = bag_of_words.sum(axis=0) \n",
    "    words_freq = [(word, sum_words[0, idx]) for word, idx in vec.vocabulary_.items()]\n",
    "    words_freq =sorted(words_freq, key = lambda x: x[1], reverse=True)\n",
    "    return words_freq[:n]\n",
    "\n",
    "common_words = get_top_n_words(data['descriptions'], 25)\n",
    "df1 = pd.DataFrame(common_words, columns = ['kelime' , 'geçiş frekansı'])\n",
    "fig = px.bar(df1, x='kelime', y='geçiş frekansı',\n",
    "             hover_data=['kelime', 'geçiş frekansı'], color='geçiş frekansı',\n",
    "             title='Stopwordsleri kaldırmadan en çok geçen 25 kelime',\n",
    "             height=400)\n",
    "fig.show()"
   ]
  },
  {
   "cell_type": "code",
   "execution_count": 182,
   "metadata": {},
   "outputs": [
    {
     "name": "stderr",
     "output_type": "stream",
     "text": [
      "[nltk_data] Downloading package stopwords to\n",
      "[nltk_data]     C:\\Users\\user\\AppData\\Roaming\\nltk_data...\n",
      "[nltk_data]   Package stopwords is already up-to-date!\n"
     ]
    },
    {
     "data": {
      "text/plain": [
       "True"
      ]
     },
     "execution_count": 182,
     "metadata": {},
     "output_type": "execute_result"
    }
   ],
   "source": [
    "import nltk\n",
    "nltk.download('stopwords')"
   ]
  },
  {
   "cell_type": "code",
   "execution_count": 184,
   "metadata": {
    "scrolled": true
   },
   "outputs": [
    {
     "data": {
      "application/vnd.plotly.v1+json": {
       "config": {
        "plotlyServerURL": "https://plot.ly"
       },
       "data": [
        {
         "alignmentgroup": "True",
         "customdata": [
          [
           "the",
           31
          ],
          [
           "coronacrisis",
           23
          ],
          [
           "nederland",
           20
          ],
          [
           "aantal",
           18
          ],
          [
           "jaar",
           18
          ],
          [
           "kabinet",
           17
          ],
          [
           "coronavirus",
           16
          ],
          [
           "mensen",
           16
          ],
          [
           "politie",
           15
          ],
          [
           "woensdag",
           15
          ],
          [
           "twee",
           15
          ],
          [
           "gaat",
           14
          ],
          [
           "10",
           14
          ],
          [
           "to",
           14
          ],
          [
           "and",
           14
          ],
          [
           "week",
           13
          ],
          [
           "minister",
           13
          ],
          [
           "miljoen",
           13
          ],
          [
           "via",
           12
          ],
          [
           "euro",
           12
          ],
          [
           "versie",
           12
          ],
          [
           "drie",
           11
          ],
          [
           "maken",
           10
          ],
          [
           "uitgebracht",
           10
          ],
          [
           "bekend",
           9
          ]
         ],
         "hoverlabel": {
          "namelength": 0
         },
         "hovertemplate": "kelime=%{customdata[0]}<br>geçiş frekansı=%{marker.color}",
         "legendgroup": "",
         "marker": {
          "color": [
           31,
           23,
           20,
           18,
           18,
           17,
           16,
           16,
           15,
           15,
           15,
           14,
           14,
           14,
           14,
           13,
           13,
           13,
           12,
           12,
           12,
           11,
           10,
           10,
           9
          ],
          "coloraxis": "coloraxis"
         },
         "name": "",
         "offsetgroup": "",
         "orientation": "v",
         "showlegend": false,
         "textposition": "auto",
         "type": "bar",
         "x": [
          "the",
          "coronacrisis",
          "nederland",
          "aantal",
          "jaar",
          "kabinet",
          "coronavirus",
          "mensen",
          "politie",
          "woensdag",
          "twee",
          "gaat",
          "10",
          "to",
          "and",
          "week",
          "minister",
          "miljoen",
          "via",
          "euro",
          "versie",
          "drie",
          "maken",
          "uitgebracht",
          "bekend"
         ],
         "xaxis": "x",
         "y": [
          31,
          23,
          20,
          18,
          18,
          17,
          16,
          16,
          15,
          15,
          15,
          14,
          14,
          14,
          14,
          13,
          13,
          13,
          12,
          12,
          12,
          11,
          10,
          10,
          9
         ],
         "yaxis": "y"
        }
       ],
       "layout": {
        "barmode": "relative",
        "coloraxis": {
         "colorbar": {
          "title": {
           "text": "geçiş frekansı"
          }
         },
         "colorscale": [
          [
           0,
           "#0d0887"
          ],
          [
           0.1111111111111111,
           "#46039f"
          ],
          [
           0.2222222222222222,
           "#7201a8"
          ],
          [
           0.3333333333333333,
           "#9c179e"
          ],
          [
           0.4444444444444444,
           "#bd3786"
          ],
          [
           0.5555555555555556,
           "#d8576b"
          ],
          [
           0.6666666666666666,
           "#ed7953"
          ],
          [
           0.7777777777777778,
           "#fb9f3a"
          ],
          [
           0.8888888888888888,
           "#fdca26"
          ],
          [
           1,
           "#f0f921"
          ]
         ]
        },
        "height": 400,
        "legend": {
         "tracegroupgap": 0
        },
        "template": {
         "data": {
          "bar": [
           {
            "error_x": {
             "color": "#2a3f5f"
            },
            "error_y": {
             "color": "#2a3f5f"
            },
            "marker": {
             "line": {
              "color": "#E5ECF6",
              "width": 0.5
             }
            },
            "type": "bar"
           }
          ],
          "barpolar": [
           {
            "marker": {
             "line": {
              "color": "#E5ECF6",
              "width": 0.5
             }
            },
            "type": "barpolar"
           }
          ],
          "carpet": [
           {
            "aaxis": {
             "endlinecolor": "#2a3f5f",
             "gridcolor": "white",
             "linecolor": "white",
             "minorgridcolor": "white",
             "startlinecolor": "#2a3f5f"
            },
            "baxis": {
             "endlinecolor": "#2a3f5f",
             "gridcolor": "white",
             "linecolor": "white",
             "minorgridcolor": "white",
             "startlinecolor": "#2a3f5f"
            },
            "type": "carpet"
           }
          ],
          "choropleth": [
           {
            "colorbar": {
             "outlinewidth": 0,
             "ticks": ""
            },
            "type": "choropleth"
           }
          ],
          "contour": [
           {
            "colorbar": {
             "outlinewidth": 0,
             "ticks": ""
            },
            "colorscale": [
             [
              0,
              "#0d0887"
             ],
             [
              0.1111111111111111,
              "#46039f"
             ],
             [
              0.2222222222222222,
              "#7201a8"
             ],
             [
              0.3333333333333333,
              "#9c179e"
             ],
             [
              0.4444444444444444,
              "#bd3786"
             ],
             [
              0.5555555555555556,
              "#d8576b"
             ],
             [
              0.6666666666666666,
              "#ed7953"
             ],
             [
              0.7777777777777778,
              "#fb9f3a"
             ],
             [
              0.8888888888888888,
              "#fdca26"
             ],
             [
              1,
              "#f0f921"
             ]
            ],
            "type": "contour"
           }
          ],
          "contourcarpet": [
           {
            "colorbar": {
             "outlinewidth": 0,
             "ticks": ""
            },
            "type": "contourcarpet"
           }
          ],
          "heatmap": [
           {
            "colorbar": {
             "outlinewidth": 0,
             "ticks": ""
            },
            "colorscale": [
             [
              0,
              "#0d0887"
             ],
             [
              0.1111111111111111,
              "#46039f"
             ],
             [
              0.2222222222222222,
              "#7201a8"
             ],
             [
              0.3333333333333333,
              "#9c179e"
             ],
             [
              0.4444444444444444,
              "#bd3786"
             ],
             [
              0.5555555555555556,
              "#d8576b"
             ],
             [
              0.6666666666666666,
              "#ed7953"
             ],
             [
              0.7777777777777778,
              "#fb9f3a"
             ],
             [
              0.8888888888888888,
              "#fdca26"
             ],
             [
              1,
              "#f0f921"
             ]
            ],
            "type": "heatmap"
           }
          ],
          "heatmapgl": [
           {
            "colorbar": {
             "outlinewidth": 0,
             "ticks": ""
            },
            "colorscale": [
             [
              0,
              "#0d0887"
             ],
             [
              0.1111111111111111,
              "#46039f"
             ],
             [
              0.2222222222222222,
              "#7201a8"
             ],
             [
              0.3333333333333333,
              "#9c179e"
             ],
             [
              0.4444444444444444,
              "#bd3786"
             ],
             [
              0.5555555555555556,
              "#d8576b"
             ],
             [
              0.6666666666666666,
              "#ed7953"
             ],
             [
              0.7777777777777778,
              "#fb9f3a"
             ],
             [
              0.8888888888888888,
              "#fdca26"
             ],
             [
              1,
              "#f0f921"
             ]
            ],
            "type": "heatmapgl"
           }
          ],
          "histogram": [
           {
            "marker": {
             "colorbar": {
              "outlinewidth": 0,
              "ticks": ""
             }
            },
            "type": "histogram"
           }
          ],
          "histogram2d": [
           {
            "colorbar": {
             "outlinewidth": 0,
             "ticks": ""
            },
            "colorscale": [
             [
              0,
              "#0d0887"
             ],
             [
              0.1111111111111111,
              "#46039f"
             ],
             [
              0.2222222222222222,
              "#7201a8"
             ],
             [
              0.3333333333333333,
              "#9c179e"
             ],
             [
              0.4444444444444444,
              "#bd3786"
             ],
             [
              0.5555555555555556,
              "#d8576b"
             ],
             [
              0.6666666666666666,
              "#ed7953"
             ],
             [
              0.7777777777777778,
              "#fb9f3a"
             ],
             [
              0.8888888888888888,
              "#fdca26"
             ],
             [
              1,
              "#f0f921"
             ]
            ],
            "type": "histogram2d"
           }
          ],
          "histogram2dcontour": [
           {
            "colorbar": {
             "outlinewidth": 0,
             "ticks": ""
            },
            "colorscale": [
             [
              0,
              "#0d0887"
             ],
             [
              0.1111111111111111,
              "#46039f"
             ],
             [
              0.2222222222222222,
              "#7201a8"
             ],
             [
              0.3333333333333333,
              "#9c179e"
             ],
             [
              0.4444444444444444,
              "#bd3786"
             ],
             [
              0.5555555555555556,
              "#d8576b"
             ],
             [
              0.6666666666666666,
              "#ed7953"
             ],
             [
              0.7777777777777778,
              "#fb9f3a"
             ],
             [
              0.8888888888888888,
              "#fdca26"
             ],
             [
              1,
              "#f0f921"
             ]
            ],
            "type": "histogram2dcontour"
           }
          ],
          "mesh3d": [
           {
            "colorbar": {
             "outlinewidth": 0,
             "ticks": ""
            },
            "type": "mesh3d"
           }
          ],
          "parcoords": [
           {
            "line": {
             "colorbar": {
              "outlinewidth": 0,
              "ticks": ""
             }
            },
            "type": "parcoords"
           }
          ],
          "pie": [
           {
            "automargin": true,
            "type": "pie"
           }
          ],
          "scatter": [
           {
            "marker": {
             "colorbar": {
              "outlinewidth": 0,
              "ticks": ""
             }
            },
            "type": "scatter"
           }
          ],
          "scatter3d": [
           {
            "line": {
             "colorbar": {
              "outlinewidth": 0,
              "ticks": ""
             }
            },
            "marker": {
             "colorbar": {
              "outlinewidth": 0,
              "ticks": ""
             }
            },
            "type": "scatter3d"
           }
          ],
          "scattercarpet": [
           {
            "marker": {
             "colorbar": {
              "outlinewidth": 0,
              "ticks": ""
             }
            },
            "type": "scattercarpet"
           }
          ],
          "scattergeo": [
           {
            "marker": {
             "colorbar": {
              "outlinewidth": 0,
              "ticks": ""
             }
            },
            "type": "scattergeo"
           }
          ],
          "scattergl": [
           {
            "marker": {
             "colorbar": {
              "outlinewidth": 0,
              "ticks": ""
             }
            },
            "type": "scattergl"
           }
          ],
          "scattermapbox": [
           {
            "marker": {
             "colorbar": {
              "outlinewidth": 0,
              "ticks": ""
             }
            },
            "type": "scattermapbox"
           }
          ],
          "scatterpolar": [
           {
            "marker": {
             "colorbar": {
              "outlinewidth": 0,
              "ticks": ""
             }
            },
            "type": "scatterpolar"
           }
          ],
          "scatterpolargl": [
           {
            "marker": {
             "colorbar": {
              "outlinewidth": 0,
              "ticks": ""
             }
            },
            "type": "scatterpolargl"
           }
          ],
          "scatterternary": [
           {
            "marker": {
             "colorbar": {
              "outlinewidth": 0,
              "ticks": ""
             }
            },
            "type": "scatterternary"
           }
          ],
          "surface": [
           {
            "colorbar": {
             "outlinewidth": 0,
             "ticks": ""
            },
            "colorscale": [
             [
              0,
              "#0d0887"
             ],
             [
              0.1111111111111111,
              "#46039f"
             ],
             [
              0.2222222222222222,
              "#7201a8"
             ],
             [
              0.3333333333333333,
              "#9c179e"
             ],
             [
              0.4444444444444444,
              "#bd3786"
             ],
             [
              0.5555555555555556,
              "#d8576b"
             ],
             [
              0.6666666666666666,
              "#ed7953"
             ],
             [
              0.7777777777777778,
              "#fb9f3a"
             ],
             [
              0.8888888888888888,
              "#fdca26"
             ],
             [
              1,
              "#f0f921"
             ]
            ],
            "type": "surface"
           }
          ],
          "table": [
           {
            "cells": {
             "fill": {
              "color": "#EBF0F8"
             },
             "line": {
              "color": "white"
             }
            },
            "header": {
             "fill": {
              "color": "#C8D4E3"
             },
             "line": {
              "color": "white"
             }
            },
            "type": "table"
           }
          ]
         },
         "layout": {
          "annotationdefaults": {
           "arrowcolor": "#2a3f5f",
           "arrowhead": 0,
           "arrowwidth": 1
          },
          "coloraxis": {
           "colorbar": {
            "outlinewidth": 0,
            "ticks": ""
           }
          },
          "colorscale": {
           "diverging": [
            [
             0,
             "#8e0152"
            ],
            [
             0.1,
             "#c51b7d"
            ],
            [
             0.2,
             "#de77ae"
            ],
            [
             0.3,
             "#f1b6da"
            ],
            [
             0.4,
             "#fde0ef"
            ],
            [
             0.5,
             "#f7f7f7"
            ],
            [
             0.6,
             "#e6f5d0"
            ],
            [
             0.7,
             "#b8e186"
            ],
            [
             0.8,
             "#7fbc41"
            ],
            [
             0.9,
             "#4d9221"
            ],
            [
             1,
             "#276419"
            ]
           ],
           "sequential": [
            [
             0,
             "#0d0887"
            ],
            [
             0.1111111111111111,
             "#46039f"
            ],
            [
             0.2222222222222222,
             "#7201a8"
            ],
            [
             0.3333333333333333,
             "#9c179e"
            ],
            [
             0.4444444444444444,
             "#bd3786"
            ],
            [
             0.5555555555555556,
             "#d8576b"
            ],
            [
             0.6666666666666666,
             "#ed7953"
            ],
            [
             0.7777777777777778,
             "#fb9f3a"
            ],
            [
             0.8888888888888888,
             "#fdca26"
            ],
            [
             1,
             "#f0f921"
            ]
           ],
           "sequentialminus": [
            [
             0,
             "#0d0887"
            ],
            [
             0.1111111111111111,
             "#46039f"
            ],
            [
             0.2222222222222222,
             "#7201a8"
            ],
            [
             0.3333333333333333,
             "#9c179e"
            ],
            [
             0.4444444444444444,
             "#bd3786"
            ],
            [
             0.5555555555555556,
             "#d8576b"
            ],
            [
             0.6666666666666666,
             "#ed7953"
            ],
            [
             0.7777777777777778,
             "#fb9f3a"
            ],
            [
             0.8888888888888888,
             "#fdca26"
            ],
            [
             1,
             "#f0f921"
            ]
           ]
          },
          "colorway": [
           "#636efa",
           "#EF553B",
           "#00cc96",
           "#ab63fa",
           "#FFA15A",
           "#19d3f3",
           "#FF6692",
           "#B6E880",
           "#FF97FF",
           "#FECB52"
          ],
          "font": {
           "color": "#2a3f5f"
          },
          "geo": {
           "bgcolor": "white",
           "lakecolor": "white",
           "landcolor": "#E5ECF6",
           "showlakes": true,
           "showland": true,
           "subunitcolor": "white"
          },
          "hoverlabel": {
           "align": "left"
          },
          "hovermode": "closest",
          "mapbox": {
           "style": "light"
          },
          "paper_bgcolor": "white",
          "plot_bgcolor": "#E5ECF6",
          "polar": {
           "angularaxis": {
            "gridcolor": "white",
            "linecolor": "white",
            "ticks": ""
           },
           "bgcolor": "#E5ECF6",
           "radialaxis": {
            "gridcolor": "white",
            "linecolor": "white",
            "ticks": ""
           }
          },
          "scene": {
           "xaxis": {
            "backgroundcolor": "#E5ECF6",
            "gridcolor": "white",
            "gridwidth": 2,
            "linecolor": "white",
            "showbackground": true,
            "ticks": "",
            "zerolinecolor": "white"
           },
           "yaxis": {
            "backgroundcolor": "#E5ECF6",
            "gridcolor": "white",
            "gridwidth": 2,
            "linecolor": "white",
            "showbackground": true,
            "ticks": "",
            "zerolinecolor": "white"
           },
           "zaxis": {
            "backgroundcolor": "#E5ECF6",
            "gridcolor": "white",
            "gridwidth": 2,
            "linecolor": "white",
            "showbackground": true,
            "ticks": "",
            "zerolinecolor": "white"
           }
          },
          "shapedefaults": {
           "line": {
            "color": "#2a3f5f"
           }
          },
          "ternary": {
           "aaxis": {
            "gridcolor": "white",
            "linecolor": "white",
            "ticks": ""
           },
           "baxis": {
            "gridcolor": "white",
            "linecolor": "white",
            "ticks": ""
           },
           "bgcolor": "#E5ECF6",
           "caxis": {
            "gridcolor": "white",
            "linecolor": "white",
            "ticks": ""
           }
          },
          "title": {
           "x": 0.05
          },
          "xaxis": {
           "automargin": true,
           "gridcolor": "white",
           "linecolor": "white",
           "ticks": "",
           "title": {
            "standoff": 15
           },
           "zerolinecolor": "white",
           "zerolinewidth": 2
          },
          "yaxis": {
           "automargin": true,
           "gridcolor": "white",
           "linecolor": "white",
           "ticks": "",
           "title": {
            "standoff": 15
           },
           "zerolinecolor": "white",
           "zerolinewidth": 2
          }
         }
        },
        "title": {
         "text": "Stopwordsleri kaldırdıktan sonra en çok geçen 25 kelime"
        },
        "xaxis": {
         "anchor": "y",
         "domain": [
          0,
          1
         ],
         "title": {
          "text": "kelime"
         }
        },
        "yaxis": {
         "anchor": "x",
         "domain": [
          0,
          1
         ],
         "title": {
          "text": "geçiş frekansı"
         }
        }
       }
      },
      "text/html": [
       "<div>\n",
       "        \n",
       "        \n",
       "            <div id=\"82e1c931-4616-4fdf-8aac-a4c6257253f0\" class=\"plotly-graph-div\" style=\"height:400px; width:100%;\"></div>\n",
       "            <script type=\"text/javascript\">\n",
       "                require([\"plotly\"], function(Plotly) {\n",
       "                    window.PLOTLYENV=window.PLOTLYENV || {};\n",
       "                    \n",
       "                if (document.getElementById(\"82e1c931-4616-4fdf-8aac-a4c6257253f0\")) {\n",
       "                    Plotly.newPlot(\n",
       "                        '82e1c931-4616-4fdf-8aac-a4c6257253f0',\n",
       "                        [{\"alignmentgroup\": \"True\", \"customdata\": [[\"the\", 31], [\"coronacrisis\", 23], [\"nederland\", 20], [\"aantal\", 18], [\"jaar\", 18], [\"kabinet\", 17], [\"coronavirus\", 16], [\"mensen\", 16], [\"politie\", 15], [\"woensdag\", 15], [\"twee\", 15], [\"gaat\", 14], [\"10\", 14], [\"to\", 14], [\"and\", 14], [\"week\", 13], [\"minister\", 13], [\"miljoen\", 13], [\"via\", 12], [\"euro\", 12], [\"versie\", 12], [\"drie\", 11], [\"maken\", 10], [\"uitgebracht\", 10], [\"bekend\", 9]], \"hoverlabel\": {\"namelength\": 0}, \"hovertemplate\": \"kelime=%{customdata[0]}<br>ge\\u00e7i\\u015f frekans\\u0131=%{marker.color}\", \"legendgroup\": \"\", \"marker\": {\"color\": [31, 23, 20, 18, 18, 17, 16, 16, 15, 15, 15, 14, 14, 14, 14, 13, 13, 13, 12, 12, 12, 11, 10, 10, 9], \"coloraxis\": \"coloraxis\"}, \"name\": \"\", \"offsetgroup\": \"\", \"orientation\": \"v\", \"showlegend\": false, \"textposition\": \"auto\", \"type\": \"bar\", \"x\": [\"the\", \"coronacrisis\", \"nederland\", \"aantal\", \"jaar\", \"kabinet\", \"coronavirus\", \"mensen\", \"politie\", \"woensdag\", \"twee\", \"gaat\", \"10\", \"to\", \"and\", \"week\", \"minister\", \"miljoen\", \"via\", \"euro\", \"versie\", \"drie\", \"maken\", \"uitgebracht\", \"bekend\"], \"xaxis\": \"x\", \"y\": [31, 23, 20, 18, 18, 17, 16, 16, 15, 15, 15, 14, 14, 14, 14, 13, 13, 13, 12, 12, 12, 11, 10, 10, 9], \"yaxis\": \"y\"}],\n",
       "                        {\"barmode\": \"relative\", \"coloraxis\": {\"colorbar\": {\"title\": {\"text\": \"ge\\u00e7i\\u015f frekans\\u0131\"}}, \"colorscale\": [[0.0, \"#0d0887\"], [0.1111111111111111, \"#46039f\"], [0.2222222222222222, \"#7201a8\"], [0.3333333333333333, \"#9c179e\"], [0.4444444444444444, \"#bd3786\"], [0.5555555555555556, \"#d8576b\"], [0.6666666666666666, \"#ed7953\"], [0.7777777777777778, \"#fb9f3a\"], [0.8888888888888888, \"#fdca26\"], [1.0, \"#f0f921\"]]}, \"height\": 400, \"legend\": {\"tracegroupgap\": 0}, \"template\": {\"data\": {\"bar\": [{\"error_x\": {\"color\": \"#2a3f5f\"}, \"error_y\": {\"color\": \"#2a3f5f\"}, \"marker\": {\"line\": {\"color\": \"#E5ECF6\", \"width\": 0.5}}, \"type\": \"bar\"}], \"barpolar\": [{\"marker\": {\"line\": {\"color\": \"#E5ECF6\", \"width\": 0.5}}, \"type\": \"barpolar\"}], \"carpet\": [{\"aaxis\": {\"endlinecolor\": \"#2a3f5f\", \"gridcolor\": \"white\", \"linecolor\": \"white\", \"minorgridcolor\": \"white\", \"startlinecolor\": \"#2a3f5f\"}, \"baxis\": {\"endlinecolor\": \"#2a3f5f\", \"gridcolor\": \"white\", \"linecolor\": \"white\", \"minorgridcolor\": \"white\", \"startlinecolor\": \"#2a3f5f\"}, \"type\": \"carpet\"}], \"choropleth\": [{\"colorbar\": {\"outlinewidth\": 0, \"ticks\": \"\"}, \"type\": \"choropleth\"}], \"contour\": [{\"colorbar\": {\"outlinewidth\": 0, \"ticks\": \"\"}, \"colorscale\": [[0.0, \"#0d0887\"], [0.1111111111111111, \"#46039f\"], [0.2222222222222222, \"#7201a8\"], [0.3333333333333333, \"#9c179e\"], [0.4444444444444444, \"#bd3786\"], [0.5555555555555556, \"#d8576b\"], [0.6666666666666666, \"#ed7953\"], [0.7777777777777778, \"#fb9f3a\"], [0.8888888888888888, \"#fdca26\"], [1.0, \"#f0f921\"]], \"type\": \"contour\"}], \"contourcarpet\": [{\"colorbar\": {\"outlinewidth\": 0, \"ticks\": \"\"}, \"type\": \"contourcarpet\"}], \"heatmap\": [{\"colorbar\": {\"outlinewidth\": 0, \"ticks\": \"\"}, \"colorscale\": [[0.0, \"#0d0887\"], [0.1111111111111111, \"#46039f\"], [0.2222222222222222, \"#7201a8\"], [0.3333333333333333, \"#9c179e\"], [0.4444444444444444, \"#bd3786\"], [0.5555555555555556, \"#d8576b\"], [0.6666666666666666, \"#ed7953\"], [0.7777777777777778, \"#fb9f3a\"], [0.8888888888888888, \"#fdca26\"], [1.0, \"#f0f921\"]], \"type\": \"heatmap\"}], \"heatmapgl\": [{\"colorbar\": {\"outlinewidth\": 0, \"ticks\": \"\"}, \"colorscale\": [[0.0, \"#0d0887\"], [0.1111111111111111, \"#46039f\"], [0.2222222222222222, \"#7201a8\"], [0.3333333333333333, \"#9c179e\"], [0.4444444444444444, \"#bd3786\"], [0.5555555555555556, \"#d8576b\"], [0.6666666666666666, \"#ed7953\"], [0.7777777777777778, \"#fb9f3a\"], [0.8888888888888888, \"#fdca26\"], [1.0, \"#f0f921\"]], \"type\": \"heatmapgl\"}], \"histogram\": [{\"marker\": {\"colorbar\": {\"outlinewidth\": 0, \"ticks\": \"\"}}, \"type\": \"histogram\"}], \"histogram2d\": [{\"colorbar\": {\"outlinewidth\": 0, \"ticks\": \"\"}, \"colorscale\": [[0.0, \"#0d0887\"], [0.1111111111111111, \"#46039f\"], [0.2222222222222222, \"#7201a8\"], [0.3333333333333333, \"#9c179e\"], [0.4444444444444444, \"#bd3786\"], [0.5555555555555556, \"#d8576b\"], [0.6666666666666666, \"#ed7953\"], [0.7777777777777778, \"#fb9f3a\"], [0.8888888888888888, \"#fdca26\"], [1.0, \"#f0f921\"]], \"type\": \"histogram2d\"}], \"histogram2dcontour\": [{\"colorbar\": {\"outlinewidth\": 0, \"ticks\": \"\"}, \"colorscale\": [[0.0, \"#0d0887\"], [0.1111111111111111, \"#46039f\"], [0.2222222222222222, \"#7201a8\"], [0.3333333333333333, \"#9c179e\"], [0.4444444444444444, \"#bd3786\"], [0.5555555555555556, \"#d8576b\"], [0.6666666666666666, \"#ed7953\"], [0.7777777777777778, \"#fb9f3a\"], [0.8888888888888888, \"#fdca26\"], [1.0, \"#f0f921\"]], \"type\": \"histogram2dcontour\"}], \"mesh3d\": [{\"colorbar\": {\"outlinewidth\": 0, \"ticks\": \"\"}, \"type\": \"mesh3d\"}], \"parcoords\": [{\"line\": {\"colorbar\": {\"outlinewidth\": 0, \"ticks\": \"\"}}, \"type\": \"parcoords\"}], \"pie\": [{\"automargin\": true, \"type\": \"pie\"}], \"scatter\": [{\"marker\": {\"colorbar\": {\"outlinewidth\": 0, \"ticks\": \"\"}}, \"type\": \"scatter\"}], \"scatter3d\": [{\"line\": {\"colorbar\": {\"outlinewidth\": 0, \"ticks\": \"\"}}, \"marker\": {\"colorbar\": {\"outlinewidth\": 0, \"ticks\": \"\"}}, \"type\": \"scatter3d\"}], \"scattercarpet\": [{\"marker\": {\"colorbar\": {\"outlinewidth\": 0, \"ticks\": \"\"}}, \"type\": \"scattercarpet\"}], \"scattergeo\": [{\"marker\": {\"colorbar\": {\"outlinewidth\": 0, \"ticks\": \"\"}}, \"type\": \"scattergeo\"}], \"scattergl\": [{\"marker\": {\"colorbar\": {\"outlinewidth\": 0, \"ticks\": \"\"}}, \"type\": \"scattergl\"}], \"scattermapbox\": [{\"marker\": {\"colorbar\": {\"outlinewidth\": 0, \"ticks\": \"\"}}, \"type\": \"scattermapbox\"}], \"scatterpolar\": [{\"marker\": {\"colorbar\": {\"outlinewidth\": 0, \"ticks\": \"\"}}, \"type\": \"scatterpolar\"}], \"scatterpolargl\": [{\"marker\": {\"colorbar\": {\"outlinewidth\": 0, \"ticks\": \"\"}}, \"type\": \"scatterpolargl\"}], \"scatterternary\": [{\"marker\": {\"colorbar\": {\"outlinewidth\": 0, \"ticks\": \"\"}}, \"type\": \"scatterternary\"}], \"surface\": [{\"colorbar\": {\"outlinewidth\": 0, \"ticks\": \"\"}, \"colorscale\": [[0.0, \"#0d0887\"], [0.1111111111111111, \"#46039f\"], [0.2222222222222222, \"#7201a8\"], [0.3333333333333333, \"#9c179e\"], [0.4444444444444444, \"#bd3786\"], [0.5555555555555556, \"#d8576b\"], [0.6666666666666666, \"#ed7953\"], [0.7777777777777778, \"#fb9f3a\"], [0.8888888888888888, \"#fdca26\"], [1.0, \"#f0f921\"]], \"type\": \"surface\"}], \"table\": [{\"cells\": {\"fill\": {\"color\": \"#EBF0F8\"}, \"line\": {\"color\": \"white\"}}, \"header\": {\"fill\": {\"color\": \"#C8D4E3\"}, \"line\": {\"color\": \"white\"}}, \"type\": \"table\"}]}, \"layout\": {\"annotationdefaults\": {\"arrowcolor\": \"#2a3f5f\", \"arrowhead\": 0, \"arrowwidth\": 1}, \"coloraxis\": {\"colorbar\": {\"outlinewidth\": 0, \"ticks\": \"\"}}, \"colorscale\": {\"diverging\": [[0, \"#8e0152\"], [0.1, \"#c51b7d\"], [0.2, \"#de77ae\"], [0.3, \"#f1b6da\"], [0.4, \"#fde0ef\"], [0.5, \"#f7f7f7\"], [0.6, \"#e6f5d0\"], [0.7, \"#b8e186\"], [0.8, \"#7fbc41\"], [0.9, \"#4d9221\"], [1, \"#276419\"]], \"sequential\": [[0.0, \"#0d0887\"], [0.1111111111111111, \"#46039f\"], [0.2222222222222222, \"#7201a8\"], [0.3333333333333333, \"#9c179e\"], [0.4444444444444444, \"#bd3786\"], [0.5555555555555556, \"#d8576b\"], [0.6666666666666666, \"#ed7953\"], [0.7777777777777778, \"#fb9f3a\"], [0.8888888888888888, \"#fdca26\"], [1.0, \"#f0f921\"]], \"sequentialminus\": [[0.0, \"#0d0887\"], [0.1111111111111111, \"#46039f\"], [0.2222222222222222, \"#7201a8\"], [0.3333333333333333, \"#9c179e\"], [0.4444444444444444, \"#bd3786\"], [0.5555555555555556, \"#d8576b\"], [0.6666666666666666, \"#ed7953\"], [0.7777777777777778, \"#fb9f3a\"], [0.8888888888888888, \"#fdca26\"], [1.0, \"#f0f921\"]]}, \"colorway\": [\"#636efa\", \"#EF553B\", \"#00cc96\", \"#ab63fa\", \"#FFA15A\", \"#19d3f3\", \"#FF6692\", \"#B6E880\", \"#FF97FF\", \"#FECB52\"], \"font\": {\"color\": \"#2a3f5f\"}, \"geo\": {\"bgcolor\": \"white\", \"lakecolor\": \"white\", \"landcolor\": \"#E5ECF6\", \"showlakes\": true, \"showland\": true, \"subunitcolor\": \"white\"}, \"hoverlabel\": {\"align\": \"left\"}, \"hovermode\": \"closest\", \"mapbox\": {\"style\": \"light\"}, \"paper_bgcolor\": \"white\", \"plot_bgcolor\": \"#E5ECF6\", \"polar\": {\"angularaxis\": {\"gridcolor\": \"white\", \"linecolor\": \"white\", \"ticks\": \"\"}, \"bgcolor\": \"#E5ECF6\", \"radialaxis\": {\"gridcolor\": \"white\", \"linecolor\": \"white\", \"ticks\": \"\"}}, \"scene\": {\"xaxis\": {\"backgroundcolor\": \"#E5ECF6\", \"gridcolor\": \"white\", \"gridwidth\": 2, \"linecolor\": \"white\", \"showbackground\": true, \"ticks\": \"\", \"zerolinecolor\": \"white\"}, \"yaxis\": {\"backgroundcolor\": \"#E5ECF6\", \"gridcolor\": \"white\", \"gridwidth\": 2, \"linecolor\": \"white\", \"showbackground\": true, \"ticks\": \"\", \"zerolinecolor\": \"white\"}, \"zaxis\": {\"backgroundcolor\": \"#E5ECF6\", \"gridcolor\": \"white\", \"gridwidth\": 2, \"linecolor\": \"white\", \"showbackground\": true, \"ticks\": \"\", \"zerolinecolor\": \"white\"}}, \"shapedefaults\": {\"line\": {\"color\": \"#2a3f5f\"}}, \"ternary\": {\"aaxis\": {\"gridcolor\": \"white\", \"linecolor\": \"white\", \"ticks\": \"\"}, \"baxis\": {\"gridcolor\": \"white\", \"linecolor\": \"white\", \"ticks\": \"\"}, \"bgcolor\": \"#E5ECF6\", \"caxis\": {\"gridcolor\": \"white\", \"linecolor\": \"white\", \"ticks\": \"\"}}, \"title\": {\"x\": 0.05}, \"xaxis\": {\"automargin\": true, \"gridcolor\": \"white\", \"linecolor\": \"white\", \"ticks\": \"\", \"title\": {\"standoff\": 15}, \"zerolinecolor\": \"white\", \"zerolinewidth\": 2}, \"yaxis\": {\"automargin\": true, \"gridcolor\": \"white\", \"linecolor\": \"white\", \"ticks\": \"\", \"title\": {\"standoff\": 15}, \"zerolinecolor\": \"white\", \"zerolinewidth\": 2}}}, \"title\": {\"text\": \"Stopwordsleri kald\\u0131rd\\u0131ktan sonra en \\u00e7ok ge\\u00e7en 25 kelime\"}, \"xaxis\": {\"anchor\": \"y\", \"domain\": [0.0, 1.0], \"title\": {\"text\": \"kelime\"}}, \"yaxis\": {\"anchor\": \"x\", \"domain\": [0.0, 1.0], \"title\": {\"text\": \"ge\\u00e7i\\u015f frekans\\u0131\"}}},\n",
       "                        {\"responsive\": true}\n",
       "                    ).then(function(){\n",
       "                            \n",
       "var gd = document.getElementById('82e1c931-4616-4fdf-8aac-a4c6257253f0');\n",
       "var x = new MutationObserver(function (mutations, observer) {{\n",
       "        var display = window.getComputedStyle(gd).display;\n",
       "        if (!display || display === 'none') {{\n",
       "            console.log([gd, 'removed!']);\n",
       "            Plotly.purge(gd);\n",
       "            observer.disconnect();\n",
       "        }}\n",
       "}});\n",
       "\n",
       "// Listen for the removal of the full notebook cells\n",
       "var notebookContainer = gd.closest('#notebook-container');\n",
       "if (notebookContainer) {{\n",
       "    x.observe(notebookContainer, {childList: true});\n",
       "}}\n",
       "\n",
       "// Listen for the clearing of the current output cell\n",
       "var outputEl = gd.closest('.output');\n",
       "if (outputEl) {{\n",
       "    x.observe(outputEl, {childList: true});\n",
       "}}\n",
       "\n",
       "                        })\n",
       "                };\n",
       "                });\n",
       "            </script>\n",
       "        </div>"
      ]
     },
     "metadata": {},
     "output_type": "display_data"
    }
   ],
   "source": [
    "stop = stopwords.words('Dutch')\n",
    "with open('stop_words/dutch-stop-words.txt', encoding='utf-8') as file:  \n",
    "    stw = file.read() \n",
    "stw = stw.split()\n",
    "stw = [s.lower() for s in stw] \n",
    "stop += stw\n",
    "\n",
    "def get_top_n_words(corpus, n=None):\n",
    "    vec = CountVectorizer(stop_words = stop).fit(corpus)\n",
    "    bag_of_words = vec.transform(corpus)\n",
    "    sum_words = bag_of_words.sum(axis=0) \n",
    "    words_freq = [(word, sum_words[0, idx]) for word, idx in vec.vocabulary_.items()]\n",
    "    words_freq =sorted(words_freq, key = lambda x: x[1], reverse=True)\n",
    "    return words_freq[:n]\n",
    "\n",
    "common_words = get_top_n_words(data['descriptions'], 25)\n",
    "df2 = pd.DataFrame(common_words, columns = ['kelime' , 'geçiş frekansı'])\n",
    "fig = px.bar(df2, x='kelime', y='geçiş frekansı',\n",
    "             hover_data=['kelime', 'geçiş frekansı'], color='geçiş frekansı',\n",
    "             title='Stopwordsleri kaldırdıktan sonra en çok geçen 25 kelime',\n",
    "             height=400)\n",
    "fig.show()"
   ]
  },
  {
   "cell_type": "code",
   "execution_count": 187,
   "metadata": {},
   "outputs": [
    {
     "data": {
      "application/vnd.plotly.v1+json": {
       "config": {
        "plotlyServerURL": "https://plot.ly"
       },
       "data": [
        {
         "alignmentgroup": "True",
         "customdata": [
          [
           "includes fixes to the",
           4
          ],
          [
           "schrijft drie keer per",
           3
          ],
          [
           "drie keer per week",
           3
          ],
          [
           "keer per week bezighoudt",
           3
          ],
          [
           "zorgverleners intensive care staan",
           3
          ],
          [
           "intensive care staan frontlinie",
           3
          ],
          [
           "care staan frontlinie coronavirus",
           3
          ],
          [
           "staan frontlinie coronavirus bestrijden",
           3
          ],
          [
           "frontlinie coronavirus bestrijden michael",
           3
          ],
          [
           "coronavirus bestrijden michael frank",
           3
          ],
          [
           "bestrijden michael frank 53",
           3
          ],
          [
           "michael frank 53 intensivist",
           3
          ],
          [
           "frank 53 intensivist ic",
           3
          ],
          [
           "53 intensivist ic albert",
           3
          ],
          [
           "intensivist ic albert schweitzer",
           3
          ],
          [
           "ic albert schweitzer ziekenhuis",
           3
          ],
          [
           "albert schweitzer ziekenhuis dordrecht",
           3
          ],
          [
           "schweitzer ziekenhuis dordrecht geeft",
           3
          ],
          [
           "ziekenhuis dordrecht geeft dagelijks",
           3
          ],
          [
           "dordrecht geeft dagelijks inkijkje",
           3
          ],
          [
           "geeft dagelijks inkijkje werk",
           3
          ],
          [
           "dagelijks inkijkje werk deel",
           3
          ],
          [
           "lees voorgaande afleveringen terug",
           3
          ],
          [
           "nederlanders blijft redacteur frank",
           3
          ],
          [
           "blijft redacteur frank poorthuis",
           3
          ]
         ],
         "hoverlabel": {
          "namelength": 0
         },
         "hovertemplate": "kelime=%{customdata[0]}<br>geçiş frekansı=%{marker.color}",
         "legendgroup": "",
         "marker": {
          "color": [
           4,
           3,
           3,
           3,
           3,
           3,
           3,
           3,
           3,
           3,
           3,
           3,
           3,
           3,
           3,
           3,
           3,
           3,
           3,
           3,
           3,
           3,
           3,
           3,
           3
          ],
          "coloraxis": "coloraxis"
         },
         "name": "",
         "offsetgroup": "",
         "orientation": "v",
         "showlegend": false,
         "textposition": "auto",
         "type": "bar",
         "x": [
          "includes fixes to the",
          "schrijft drie keer per",
          "drie keer per week",
          "keer per week bezighoudt",
          "zorgverleners intensive care staan",
          "intensive care staan frontlinie",
          "care staan frontlinie coronavirus",
          "staan frontlinie coronavirus bestrijden",
          "frontlinie coronavirus bestrijden michael",
          "coronavirus bestrijden michael frank",
          "bestrijden michael frank 53",
          "michael frank 53 intensivist",
          "frank 53 intensivist ic",
          "53 intensivist ic albert",
          "intensivist ic albert schweitzer",
          "ic albert schweitzer ziekenhuis",
          "albert schweitzer ziekenhuis dordrecht",
          "schweitzer ziekenhuis dordrecht geeft",
          "ziekenhuis dordrecht geeft dagelijks",
          "dordrecht geeft dagelijks inkijkje",
          "geeft dagelijks inkijkje werk",
          "dagelijks inkijkje werk deel",
          "lees voorgaande afleveringen terug",
          "nederlanders blijft redacteur frank",
          "blijft redacteur frank poorthuis"
         ],
         "xaxis": "x",
         "y": [
          4,
          3,
          3,
          3,
          3,
          3,
          3,
          3,
          3,
          3,
          3,
          3,
          3,
          3,
          3,
          3,
          3,
          3,
          3,
          3,
          3,
          3,
          3,
          3,
          3
         ],
         "yaxis": "y"
        }
       ],
       "layout": {
        "barmode": "relative",
        "coloraxis": {
         "colorbar": {
          "title": {
           "text": "geçiş frekansı"
          }
         },
         "colorscale": [
          [
           0,
           "#0d0887"
          ],
          [
           0.1111111111111111,
           "#46039f"
          ],
          [
           0.2222222222222222,
           "#7201a8"
          ],
          [
           0.3333333333333333,
           "#9c179e"
          ],
          [
           0.4444444444444444,
           "#bd3786"
          ],
          [
           0.5555555555555556,
           "#d8576b"
          ],
          [
           0.6666666666666666,
           "#ed7953"
          ],
          [
           0.7777777777777778,
           "#fb9f3a"
          ],
          [
           0.8888888888888888,
           "#fdca26"
          ],
          [
           1,
           "#f0f921"
          ]
         ]
        },
        "height": 400,
        "legend": {
         "tracegroupgap": 0
        },
        "template": {
         "data": {
          "bar": [
           {
            "error_x": {
             "color": "#2a3f5f"
            },
            "error_y": {
             "color": "#2a3f5f"
            },
            "marker": {
             "line": {
              "color": "#E5ECF6",
              "width": 0.5
             }
            },
            "type": "bar"
           }
          ],
          "barpolar": [
           {
            "marker": {
             "line": {
              "color": "#E5ECF6",
              "width": 0.5
             }
            },
            "type": "barpolar"
           }
          ],
          "carpet": [
           {
            "aaxis": {
             "endlinecolor": "#2a3f5f",
             "gridcolor": "white",
             "linecolor": "white",
             "minorgridcolor": "white",
             "startlinecolor": "#2a3f5f"
            },
            "baxis": {
             "endlinecolor": "#2a3f5f",
             "gridcolor": "white",
             "linecolor": "white",
             "minorgridcolor": "white",
             "startlinecolor": "#2a3f5f"
            },
            "type": "carpet"
           }
          ],
          "choropleth": [
           {
            "colorbar": {
             "outlinewidth": 0,
             "ticks": ""
            },
            "type": "choropleth"
           }
          ],
          "contour": [
           {
            "colorbar": {
             "outlinewidth": 0,
             "ticks": ""
            },
            "colorscale": [
             [
              0,
              "#0d0887"
             ],
             [
              0.1111111111111111,
              "#46039f"
             ],
             [
              0.2222222222222222,
              "#7201a8"
             ],
             [
              0.3333333333333333,
              "#9c179e"
             ],
             [
              0.4444444444444444,
              "#bd3786"
             ],
             [
              0.5555555555555556,
              "#d8576b"
             ],
             [
              0.6666666666666666,
              "#ed7953"
             ],
             [
              0.7777777777777778,
              "#fb9f3a"
             ],
             [
              0.8888888888888888,
              "#fdca26"
             ],
             [
              1,
              "#f0f921"
             ]
            ],
            "type": "contour"
           }
          ],
          "contourcarpet": [
           {
            "colorbar": {
             "outlinewidth": 0,
             "ticks": ""
            },
            "type": "contourcarpet"
           }
          ],
          "heatmap": [
           {
            "colorbar": {
             "outlinewidth": 0,
             "ticks": ""
            },
            "colorscale": [
             [
              0,
              "#0d0887"
             ],
             [
              0.1111111111111111,
              "#46039f"
             ],
             [
              0.2222222222222222,
              "#7201a8"
             ],
             [
              0.3333333333333333,
              "#9c179e"
             ],
             [
              0.4444444444444444,
              "#bd3786"
             ],
             [
              0.5555555555555556,
              "#d8576b"
             ],
             [
              0.6666666666666666,
              "#ed7953"
             ],
             [
              0.7777777777777778,
              "#fb9f3a"
             ],
             [
              0.8888888888888888,
              "#fdca26"
             ],
             [
              1,
              "#f0f921"
             ]
            ],
            "type": "heatmap"
           }
          ],
          "heatmapgl": [
           {
            "colorbar": {
             "outlinewidth": 0,
             "ticks": ""
            },
            "colorscale": [
             [
              0,
              "#0d0887"
             ],
             [
              0.1111111111111111,
              "#46039f"
             ],
             [
              0.2222222222222222,
              "#7201a8"
             ],
             [
              0.3333333333333333,
              "#9c179e"
             ],
             [
              0.4444444444444444,
              "#bd3786"
             ],
             [
              0.5555555555555556,
              "#d8576b"
             ],
             [
              0.6666666666666666,
              "#ed7953"
             ],
             [
              0.7777777777777778,
              "#fb9f3a"
             ],
             [
              0.8888888888888888,
              "#fdca26"
             ],
             [
              1,
              "#f0f921"
             ]
            ],
            "type": "heatmapgl"
           }
          ],
          "histogram": [
           {
            "marker": {
             "colorbar": {
              "outlinewidth": 0,
              "ticks": ""
             }
            },
            "type": "histogram"
           }
          ],
          "histogram2d": [
           {
            "colorbar": {
             "outlinewidth": 0,
             "ticks": ""
            },
            "colorscale": [
             [
              0,
              "#0d0887"
             ],
             [
              0.1111111111111111,
              "#46039f"
             ],
             [
              0.2222222222222222,
              "#7201a8"
             ],
             [
              0.3333333333333333,
              "#9c179e"
             ],
             [
              0.4444444444444444,
              "#bd3786"
             ],
             [
              0.5555555555555556,
              "#d8576b"
             ],
             [
              0.6666666666666666,
              "#ed7953"
             ],
             [
              0.7777777777777778,
              "#fb9f3a"
             ],
             [
              0.8888888888888888,
              "#fdca26"
             ],
             [
              1,
              "#f0f921"
             ]
            ],
            "type": "histogram2d"
           }
          ],
          "histogram2dcontour": [
           {
            "colorbar": {
             "outlinewidth": 0,
             "ticks": ""
            },
            "colorscale": [
             [
              0,
              "#0d0887"
             ],
             [
              0.1111111111111111,
              "#46039f"
             ],
             [
              0.2222222222222222,
              "#7201a8"
             ],
             [
              0.3333333333333333,
              "#9c179e"
             ],
             [
              0.4444444444444444,
              "#bd3786"
             ],
             [
              0.5555555555555556,
              "#d8576b"
             ],
             [
              0.6666666666666666,
              "#ed7953"
             ],
             [
              0.7777777777777778,
              "#fb9f3a"
             ],
             [
              0.8888888888888888,
              "#fdca26"
             ],
             [
              1,
              "#f0f921"
             ]
            ],
            "type": "histogram2dcontour"
           }
          ],
          "mesh3d": [
           {
            "colorbar": {
             "outlinewidth": 0,
             "ticks": ""
            },
            "type": "mesh3d"
           }
          ],
          "parcoords": [
           {
            "line": {
             "colorbar": {
              "outlinewidth": 0,
              "ticks": ""
             }
            },
            "type": "parcoords"
           }
          ],
          "pie": [
           {
            "automargin": true,
            "type": "pie"
           }
          ],
          "scatter": [
           {
            "marker": {
             "colorbar": {
              "outlinewidth": 0,
              "ticks": ""
             }
            },
            "type": "scatter"
           }
          ],
          "scatter3d": [
           {
            "line": {
             "colorbar": {
              "outlinewidth": 0,
              "ticks": ""
             }
            },
            "marker": {
             "colorbar": {
              "outlinewidth": 0,
              "ticks": ""
             }
            },
            "type": "scatter3d"
           }
          ],
          "scattercarpet": [
           {
            "marker": {
             "colorbar": {
              "outlinewidth": 0,
              "ticks": ""
             }
            },
            "type": "scattercarpet"
           }
          ],
          "scattergeo": [
           {
            "marker": {
             "colorbar": {
              "outlinewidth": 0,
              "ticks": ""
             }
            },
            "type": "scattergeo"
           }
          ],
          "scattergl": [
           {
            "marker": {
             "colorbar": {
              "outlinewidth": 0,
              "ticks": ""
             }
            },
            "type": "scattergl"
           }
          ],
          "scattermapbox": [
           {
            "marker": {
             "colorbar": {
              "outlinewidth": 0,
              "ticks": ""
             }
            },
            "type": "scattermapbox"
           }
          ],
          "scatterpolar": [
           {
            "marker": {
             "colorbar": {
              "outlinewidth": 0,
              "ticks": ""
             }
            },
            "type": "scatterpolar"
           }
          ],
          "scatterpolargl": [
           {
            "marker": {
             "colorbar": {
              "outlinewidth": 0,
              "ticks": ""
             }
            },
            "type": "scatterpolargl"
           }
          ],
          "scatterternary": [
           {
            "marker": {
             "colorbar": {
              "outlinewidth": 0,
              "ticks": ""
             }
            },
            "type": "scatterternary"
           }
          ],
          "surface": [
           {
            "colorbar": {
             "outlinewidth": 0,
             "ticks": ""
            },
            "colorscale": [
             [
              0,
              "#0d0887"
             ],
             [
              0.1111111111111111,
              "#46039f"
             ],
             [
              0.2222222222222222,
              "#7201a8"
             ],
             [
              0.3333333333333333,
              "#9c179e"
             ],
             [
              0.4444444444444444,
              "#bd3786"
             ],
             [
              0.5555555555555556,
              "#d8576b"
             ],
             [
              0.6666666666666666,
              "#ed7953"
             ],
             [
              0.7777777777777778,
              "#fb9f3a"
             ],
             [
              0.8888888888888888,
              "#fdca26"
             ],
             [
              1,
              "#f0f921"
             ]
            ],
            "type": "surface"
           }
          ],
          "table": [
           {
            "cells": {
             "fill": {
              "color": "#EBF0F8"
             },
             "line": {
              "color": "white"
             }
            },
            "header": {
             "fill": {
              "color": "#C8D4E3"
             },
             "line": {
              "color": "white"
             }
            },
            "type": "table"
           }
          ]
         },
         "layout": {
          "annotationdefaults": {
           "arrowcolor": "#2a3f5f",
           "arrowhead": 0,
           "arrowwidth": 1
          },
          "coloraxis": {
           "colorbar": {
            "outlinewidth": 0,
            "ticks": ""
           }
          },
          "colorscale": {
           "diverging": [
            [
             0,
             "#8e0152"
            ],
            [
             0.1,
             "#c51b7d"
            ],
            [
             0.2,
             "#de77ae"
            ],
            [
             0.3,
             "#f1b6da"
            ],
            [
             0.4,
             "#fde0ef"
            ],
            [
             0.5,
             "#f7f7f7"
            ],
            [
             0.6,
             "#e6f5d0"
            ],
            [
             0.7,
             "#b8e186"
            ],
            [
             0.8,
             "#7fbc41"
            ],
            [
             0.9,
             "#4d9221"
            ],
            [
             1,
             "#276419"
            ]
           ],
           "sequential": [
            [
             0,
             "#0d0887"
            ],
            [
             0.1111111111111111,
             "#46039f"
            ],
            [
             0.2222222222222222,
             "#7201a8"
            ],
            [
             0.3333333333333333,
             "#9c179e"
            ],
            [
             0.4444444444444444,
             "#bd3786"
            ],
            [
             0.5555555555555556,
             "#d8576b"
            ],
            [
             0.6666666666666666,
             "#ed7953"
            ],
            [
             0.7777777777777778,
             "#fb9f3a"
            ],
            [
             0.8888888888888888,
             "#fdca26"
            ],
            [
             1,
             "#f0f921"
            ]
           ],
           "sequentialminus": [
            [
             0,
             "#0d0887"
            ],
            [
             0.1111111111111111,
             "#46039f"
            ],
            [
             0.2222222222222222,
             "#7201a8"
            ],
            [
             0.3333333333333333,
             "#9c179e"
            ],
            [
             0.4444444444444444,
             "#bd3786"
            ],
            [
             0.5555555555555556,
             "#d8576b"
            ],
            [
             0.6666666666666666,
             "#ed7953"
            ],
            [
             0.7777777777777778,
             "#fb9f3a"
            ],
            [
             0.8888888888888888,
             "#fdca26"
            ],
            [
             1,
             "#f0f921"
            ]
           ]
          },
          "colorway": [
           "#636efa",
           "#EF553B",
           "#00cc96",
           "#ab63fa",
           "#FFA15A",
           "#19d3f3",
           "#FF6692",
           "#B6E880",
           "#FF97FF",
           "#FECB52"
          ],
          "font": {
           "color": "#2a3f5f"
          },
          "geo": {
           "bgcolor": "white",
           "lakecolor": "white",
           "landcolor": "#E5ECF6",
           "showlakes": true,
           "showland": true,
           "subunitcolor": "white"
          },
          "hoverlabel": {
           "align": "left"
          },
          "hovermode": "closest",
          "mapbox": {
           "style": "light"
          },
          "paper_bgcolor": "white",
          "plot_bgcolor": "#E5ECF6",
          "polar": {
           "angularaxis": {
            "gridcolor": "white",
            "linecolor": "white",
            "ticks": ""
           },
           "bgcolor": "#E5ECF6",
           "radialaxis": {
            "gridcolor": "white",
            "linecolor": "white",
            "ticks": ""
           }
          },
          "scene": {
           "xaxis": {
            "backgroundcolor": "#E5ECF6",
            "gridcolor": "white",
            "gridwidth": 2,
            "linecolor": "white",
            "showbackground": true,
            "ticks": "",
            "zerolinecolor": "white"
           },
           "yaxis": {
            "backgroundcolor": "#E5ECF6",
            "gridcolor": "white",
            "gridwidth": 2,
            "linecolor": "white",
            "showbackground": true,
            "ticks": "",
            "zerolinecolor": "white"
           },
           "zaxis": {
            "backgroundcolor": "#E5ECF6",
            "gridcolor": "white",
            "gridwidth": 2,
            "linecolor": "white",
            "showbackground": true,
            "ticks": "",
            "zerolinecolor": "white"
           }
          },
          "shapedefaults": {
           "line": {
            "color": "#2a3f5f"
           }
          },
          "ternary": {
           "aaxis": {
            "gridcolor": "white",
            "linecolor": "white",
            "ticks": ""
           },
           "baxis": {
            "gridcolor": "white",
            "linecolor": "white",
            "ticks": ""
           },
           "bgcolor": "#E5ECF6",
           "caxis": {
            "gridcolor": "white",
            "linecolor": "white",
            "ticks": ""
           }
          },
          "title": {
           "x": 0.05
          },
          "xaxis": {
           "automargin": true,
           "gridcolor": "white",
           "linecolor": "white",
           "ticks": "",
           "title": {
            "standoff": 15
           },
           "zerolinecolor": "white",
           "zerolinewidth": 2
          },
          "yaxis": {
           "automargin": true,
           "gridcolor": "white",
           "linecolor": "white",
           "ticks": "",
           "title": {
            "standoff": 15
           },
           "zerolinecolor": "white",
           "zerolinewidth": 2
          }
         }
        },
        "title": {
         "text": "Stopwordsleri kaldırdıktan sonra en çok yan yana gelen ikili kelimeler"
        },
        "xaxis": {
         "anchor": "y",
         "domain": [
          0,
          1
         ],
         "title": {
          "text": "kelime"
         }
        },
        "yaxis": {
         "anchor": "x",
         "domain": [
          0,
          1
         ],
         "title": {
          "text": "geçiş frekansı"
         }
        }
       }
      },
      "text/html": [
       "<div>\n",
       "        \n",
       "        \n",
       "            <div id=\"b4a91f65-abbd-42b0-9c20-37f93f026fd3\" class=\"plotly-graph-div\" style=\"height:400px; width:100%;\"></div>\n",
       "            <script type=\"text/javascript\">\n",
       "                require([\"plotly\"], function(Plotly) {\n",
       "                    window.PLOTLYENV=window.PLOTLYENV || {};\n",
       "                    \n",
       "                if (document.getElementById(\"b4a91f65-abbd-42b0-9c20-37f93f026fd3\")) {\n",
       "                    Plotly.newPlot(\n",
       "                        'b4a91f65-abbd-42b0-9c20-37f93f026fd3',\n",
       "                        [{\"alignmentgroup\": \"True\", \"customdata\": [[\"includes fixes to the\", 4], [\"schrijft drie keer per\", 3], [\"drie keer per week\", 3], [\"keer per week bezighoudt\", 3], [\"zorgverleners intensive care staan\", 3], [\"intensive care staan frontlinie\", 3], [\"care staan frontlinie coronavirus\", 3], [\"staan frontlinie coronavirus bestrijden\", 3], [\"frontlinie coronavirus bestrijden michael\", 3], [\"coronavirus bestrijden michael frank\", 3], [\"bestrijden michael frank 53\", 3], [\"michael frank 53 intensivist\", 3], [\"frank 53 intensivist ic\", 3], [\"53 intensivist ic albert\", 3], [\"intensivist ic albert schweitzer\", 3], [\"ic albert schweitzer ziekenhuis\", 3], [\"albert schweitzer ziekenhuis dordrecht\", 3], [\"schweitzer ziekenhuis dordrecht geeft\", 3], [\"ziekenhuis dordrecht geeft dagelijks\", 3], [\"dordrecht geeft dagelijks inkijkje\", 3], [\"geeft dagelijks inkijkje werk\", 3], [\"dagelijks inkijkje werk deel\", 3], [\"lees voorgaande afleveringen terug\", 3], [\"nederlanders blijft redacteur frank\", 3], [\"blijft redacteur frank poorthuis\", 3]], \"hoverlabel\": {\"namelength\": 0}, \"hovertemplate\": \"kelime=%{customdata[0]}<br>ge\\u00e7i\\u015f frekans\\u0131=%{marker.color}\", \"legendgroup\": \"\", \"marker\": {\"color\": [4, 3, 3, 3, 3, 3, 3, 3, 3, 3, 3, 3, 3, 3, 3, 3, 3, 3, 3, 3, 3, 3, 3, 3, 3], \"coloraxis\": \"coloraxis\"}, \"name\": \"\", \"offsetgroup\": \"\", \"orientation\": \"v\", \"showlegend\": false, \"textposition\": \"auto\", \"type\": \"bar\", \"x\": [\"includes fixes to the\", \"schrijft drie keer per\", \"drie keer per week\", \"keer per week bezighoudt\", \"zorgverleners intensive care staan\", \"intensive care staan frontlinie\", \"care staan frontlinie coronavirus\", \"staan frontlinie coronavirus bestrijden\", \"frontlinie coronavirus bestrijden michael\", \"coronavirus bestrijden michael frank\", \"bestrijden michael frank 53\", \"michael frank 53 intensivist\", \"frank 53 intensivist ic\", \"53 intensivist ic albert\", \"intensivist ic albert schweitzer\", \"ic albert schweitzer ziekenhuis\", \"albert schweitzer ziekenhuis dordrecht\", \"schweitzer ziekenhuis dordrecht geeft\", \"ziekenhuis dordrecht geeft dagelijks\", \"dordrecht geeft dagelijks inkijkje\", \"geeft dagelijks inkijkje werk\", \"dagelijks inkijkje werk deel\", \"lees voorgaande afleveringen terug\", \"nederlanders blijft redacteur frank\", \"blijft redacteur frank poorthuis\"], \"xaxis\": \"x\", \"y\": [4, 3, 3, 3, 3, 3, 3, 3, 3, 3, 3, 3, 3, 3, 3, 3, 3, 3, 3, 3, 3, 3, 3, 3, 3], \"yaxis\": \"y\"}],\n",
       "                        {\"barmode\": \"relative\", \"coloraxis\": {\"colorbar\": {\"title\": {\"text\": \"ge\\u00e7i\\u015f frekans\\u0131\"}}, \"colorscale\": [[0.0, \"#0d0887\"], [0.1111111111111111, \"#46039f\"], [0.2222222222222222, \"#7201a8\"], [0.3333333333333333, \"#9c179e\"], [0.4444444444444444, \"#bd3786\"], [0.5555555555555556, \"#d8576b\"], [0.6666666666666666, \"#ed7953\"], [0.7777777777777778, \"#fb9f3a\"], [0.8888888888888888, \"#fdca26\"], [1.0, \"#f0f921\"]]}, \"height\": 400, \"legend\": {\"tracegroupgap\": 0}, \"template\": {\"data\": {\"bar\": [{\"error_x\": {\"color\": \"#2a3f5f\"}, \"error_y\": {\"color\": \"#2a3f5f\"}, \"marker\": {\"line\": {\"color\": \"#E5ECF6\", \"width\": 0.5}}, \"type\": \"bar\"}], \"barpolar\": [{\"marker\": {\"line\": {\"color\": \"#E5ECF6\", \"width\": 0.5}}, \"type\": \"barpolar\"}], \"carpet\": [{\"aaxis\": {\"endlinecolor\": \"#2a3f5f\", \"gridcolor\": \"white\", \"linecolor\": \"white\", \"minorgridcolor\": \"white\", \"startlinecolor\": \"#2a3f5f\"}, \"baxis\": {\"endlinecolor\": \"#2a3f5f\", \"gridcolor\": \"white\", \"linecolor\": \"white\", \"minorgridcolor\": \"white\", \"startlinecolor\": \"#2a3f5f\"}, \"type\": \"carpet\"}], \"choropleth\": [{\"colorbar\": {\"outlinewidth\": 0, \"ticks\": \"\"}, \"type\": \"choropleth\"}], \"contour\": [{\"colorbar\": {\"outlinewidth\": 0, \"ticks\": \"\"}, \"colorscale\": [[0.0, \"#0d0887\"], [0.1111111111111111, \"#46039f\"], [0.2222222222222222, \"#7201a8\"], [0.3333333333333333, \"#9c179e\"], [0.4444444444444444, \"#bd3786\"], [0.5555555555555556, \"#d8576b\"], [0.6666666666666666, \"#ed7953\"], [0.7777777777777778, \"#fb9f3a\"], [0.8888888888888888, \"#fdca26\"], [1.0, \"#f0f921\"]], \"type\": \"contour\"}], \"contourcarpet\": [{\"colorbar\": {\"outlinewidth\": 0, \"ticks\": \"\"}, \"type\": \"contourcarpet\"}], \"heatmap\": [{\"colorbar\": {\"outlinewidth\": 0, \"ticks\": \"\"}, \"colorscale\": [[0.0, \"#0d0887\"], [0.1111111111111111, \"#46039f\"], [0.2222222222222222, \"#7201a8\"], [0.3333333333333333, \"#9c179e\"], [0.4444444444444444, \"#bd3786\"], [0.5555555555555556, \"#d8576b\"], [0.6666666666666666, \"#ed7953\"], [0.7777777777777778, \"#fb9f3a\"], [0.8888888888888888, \"#fdca26\"], [1.0, \"#f0f921\"]], \"type\": \"heatmap\"}], \"heatmapgl\": [{\"colorbar\": {\"outlinewidth\": 0, \"ticks\": \"\"}, \"colorscale\": [[0.0, \"#0d0887\"], [0.1111111111111111, \"#46039f\"], [0.2222222222222222, \"#7201a8\"], [0.3333333333333333, \"#9c179e\"], [0.4444444444444444, \"#bd3786\"], [0.5555555555555556, \"#d8576b\"], [0.6666666666666666, \"#ed7953\"], [0.7777777777777778, \"#fb9f3a\"], [0.8888888888888888, \"#fdca26\"], [1.0, \"#f0f921\"]], \"type\": \"heatmapgl\"}], \"histogram\": [{\"marker\": {\"colorbar\": {\"outlinewidth\": 0, \"ticks\": \"\"}}, \"type\": \"histogram\"}], \"histogram2d\": [{\"colorbar\": {\"outlinewidth\": 0, \"ticks\": \"\"}, \"colorscale\": [[0.0, \"#0d0887\"], [0.1111111111111111, \"#46039f\"], [0.2222222222222222, \"#7201a8\"], [0.3333333333333333, \"#9c179e\"], [0.4444444444444444, \"#bd3786\"], [0.5555555555555556, \"#d8576b\"], [0.6666666666666666, \"#ed7953\"], [0.7777777777777778, \"#fb9f3a\"], [0.8888888888888888, \"#fdca26\"], [1.0, \"#f0f921\"]], \"type\": \"histogram2d\"}], \"histogram2dcontour\": [{\"colorbar\": {\"outlinewidth\": 0, \"ticks\": \"\"}, \"colorscale\": [[0.0, \"#0d0887\"], [0.1111111111111111, \"#46039f\"], [0.2222222222222222, \"#7201a8\"], [0.3333333333333333, \"#9c179e\"], [0.4444444444444444, \"#bd3786\"], [0.5555555555555556, \"#d8576b\"], [0.6666666666666666, \"#ed7953\"], [0.7777777777777778, \"#fb9f3a\"], [0.8888888888888888, \"#fdca26\"], [1.0, \"#f0f921\"]], \"type\": \"histogram2dcontour\"}], \"mesh3d\": [{\"colorbar\": {\"outlinewidth\": 0, \"ticks\": \"\"}, \"type\": \"mesh3d\"}], \"parcoords\": [{\"line\": {\"colorbar\": {\"outlinewidth\": 0, \"ticks\": \"\"}}, \"type\": \"parcoords\"}], \"pie\": [{\"automargin\": true, \"type\": \"pie\"}], \"scatter\": [{\"marker\": {\"colorbar\": {\"outlinewidth\": 0, \"ticks\": \"\"}}, \"type\": \"scatter\"}], \"scatter3d\": [{\"line\": {\"colorbar\": {\"outlinewidth\": 0, \"ticks\": \"\"}}, \"marker\": {\"colorbar\": {\"outlinewidth\": 0, \"ticks\": \"\"}}, \"type\": \"scatter3d\"}], \"scattercarpet\": [{\"marker\": {\"colorbar\": {\"outlinewidth\": 0, \"ticks\": \"\"}}, \"type\": \"scattercarpet\"}], \"scattergeo\": [{\"marker\": {\"colorbar\": {\"outlinewidth\": 0, \"ticks\": \"\"}}, \"type\": \"scattergeo\"}], \"scattergl\": [{\"marker\": {\"colorbar\": {\"outlinewidth\": 0, \"ticks\": \"\"}}, \"type\": \"scattergl\"}], \"scattermapbox\": [{\"marker\": {\"colorbar\": {\"outlinewidth\": 0, \"ticks\": \"\"}}, \"type\": \"scattermapbox\"}], \"scatterpolar\": [{\"marker\": {\"colorbar\": {\"outlinewidth\": 0, \"ticks\": \"\"}}, \"type\": \"scatterpolar\"}], \"scatterpolargl\": [{\"marker\": {\"colorbar\": {\"outlinewidth\": 0, \"ticks\": \"\"}}, \"type\": \"scatterpolargl\"}], \"scatterternary\": [{\"marker\": {\"colorbar\": {\"outlinewidth\": 0, \"ticks\": \"\"}}, \"type\": \"scatterternary\"}], \"surface\": [{\"colorbar\": {\"outlinewidth\": 0, \"ticks\": \"\"}, \"colorscale\": [[0.0, \"#0d0887\"], [0.1111111111111111, \"#46039f\"], [0.2222222222222222, \"#7201a8\"], [0.3333333333333333, \"#9c179e\"], [0.4444444444444444, \"#bd3786\"], [0.5555555555555556, \"#d8576b\"], [0.6666666666666666, \"#ed7953\"], [0.7777777777777778, \"#fb9f3a\"], [0.8888888888888888, \"#fdca26\"], [1.0, \"#f0f921\"]], \"type\": \"surface\"}], \"table\": [{\"cells\": {\"fill\": {\"color\": \"#EBF0F8\"}, \"line\": {\"color\": \"white\"}}, \"header\": {\"fill\": {\"color\": \"#C8D4E3\"}, \"line\": {\"color\": \"white\"}}, \"type\": \"table\"}]}, \"layout\": {\"annotationdefaults\": {\"arrowcolor\": \"#2a3f5f\", \"arrowhead\": 0, \"arrowwidth\": 1}, \"coloraxis\": {\"colorbar\": {\"outlinewidth\": 0, \"ticks\": \"\"}}, \"colorscale\": {\"diverging\": [[0, \"#8e0152\"], [0.1, \"#c51b7d\"], [0.2, \"#de77ae\"], [0.3, \"#f1b6da\"], [0.4, \"#fde0ef\"], [0.5, \"#f7f7f7\"], [0.6, \"#e6f5d0\"], [0.7, \"#b8e186\"], [0.8, \"#7fbc41\"], [0.9, \"#4d9221\"], [1, \"#276419\"]], \"sequential\": [[0.0, \"#0d0887\"], [0.1111111111111111, \"#46039f\"], [0.2222222222222222, \"#7201a8\"], [0.3333333333333333, \"#9c179e\"], [0.4444444444444444, \"#bd3786\"], [0.5555555555555556, \"#d8576b\"], [0.6666666666666666, \"#ed7953\"], [0.7777777777777778, \"#fb9f3a\"], [0.8888888888888888, \"#fdca26\"], [1.0, \"#f0f921\"]], \"sequentialminus\": [[0.0, \"#0d0887\"], [0.1111111111111111, \"#46039f\"], [0.2222222222222222, \"#7201a8\"], [0.3333333333333333, \"#9c179e\"], [0.4444444444444444, \"#bd3786\"], [0.5555555555555556, \"#d8576b\"], [0.6666666666666666, \"#ed7953\"], [0.7777777777777778, \"#fb9f3a\"], [0.8888888888888888, \"#fdca26\"], [1.0, \"#f0f921\"]]}, \"colorway\": [\"#636efa\", \"#EF553B\", \"#00cc96\", \"#ab63fa\", \"#FFA15A\", \"#19d3f3\", \"#FF6692\", \"#B6E880\", \"#FF97FF\", \"#FECB52\"], \"font\": {\"color\": \"#2a3f5f\"}, \"geo\": {\"bgcolor\": \"white\", \"lakecolor\": \"white\", \"landcolor\": \"#E5ECF6\", \"showlakes\": true, \"showland\": true, \"subunitcolor\": \"white\"}, \"hoverlabel\": {\"align\": \"left\"}, \"hovermode\": \"closest\", \"mapbox\": {\"style\": \"light\"}, \"paper_bgcolor\": \"white\", \"plot_bgcolor\": \"#E5ECF6\", \"polar\": {\"angularaxis\": {\"gridcolor\": \"white\", \"linecolor\": \"white\", \"ticks\": \"\"}, \"bgcolor\": \"#E5ECF6\", \"radialaxis\": {\"gridcolor\": \"white\", \"linecolor\": \"white\", \"ticks\": \"\"}}, \"scene\": {\"xaxis\": {\"backgroundcolor\": \"#E5ECF6\", \"gridcolor\": \"white\", \"gridwidth\": 2, \"linecolor\": \"white\", \"showbackground\": true, \"ticks\": \"\", \"zerolinecolor\": \"white\"}, \"yaxis\": {\"backgroundcolor\": \"#E5ECF6\", \"gridcolor\": \"white\", \"gridwidth\": 2, \"linecolor\": \"white\", \"showbackground\": true, \"ticks\": \"\", \"zerolinecolor\": \"white\"}, \"zaxis\": {\"backgroundcolor\": \"#E5ECF6\", \"gridcolor\": \"white\", \"gridwidth\": 2, \"linecolor\": \"white\", \"showbackground\": true, \"ticks\": \"\", \"zerolinecolor\": \"white\"}}, \"shapedefaults\": {\"line\": {\"color\": \"#2a3f5f\"}}, \"ternary\": {\"aaxis\": {\"gridcolor\": \"white\", \"linecolor\": \"white\", \"ticks\": \"\"}, \"baxis\": {\"gridcolor\": \"white\", \"linecolor\": \"white\", \"ticks\": \"\"}, \"bgcolor\": \"#E5ECF6\", \"caxis\": {\"gridcolor\": \"white\", \"linecolor\": \"white\", \"ticks\": \"\"}}, \"title\": {\"x\": 0.05}, \"xaxis\": {\"automargin\": true, \"gridcolor\": \"white\", \"linecolor\": \"white\", \"ticks\": \"\", \"title\": {\"standoff\": 15}, \"zerolinecolor\": \"white\", \"zerolinewidth\": 2}, \"yaxis\": {\"automargin\": true, \"gridcolor\": \"white\", \"linecolor\": \"white\", \"ticks\": \"\", \"title\": {\"standoff\": 15}, \"zerolinecolor\": \"white\", \"zerolinewidth\": 2}}}, \"title\": {\"text\": \"Stopwordsleri kald\\u0131rd\\u0131ktan sonra en \\u00e7ok yan yana gelen ikili kelimeler\"}, \"xaxis\": {\"anchor\": \"y\", \"domain\": [0.0, 1.0], \"title\": {\"text\": \"kelime\"}}, \"yaxis\": {\"anchor\": \"x\", \"domain\": [0.0, 1.0], \"title\": {\"text\": \"ge\\u00e7i\\u015f frekans\\u0131\"}}},\n",
       "                        {\"responsive\": true}\n",
       "                    ).then(function(){\n",
       "                            \n",
       "var gd = document.getElementById('b4a91f65-abbd-42b0-9c20-37f93f026fd3');\n",
       "var x = new MutationObserver(function (mutations, observer) {{\n",
       "        var display = window.getComputedStyle(gd).display;\n",
       "        if (!display || display === 'none') {{\n",
       "            console.log([gd, 'removed!']);\n",
       "            Plotly.purge(gd);\n",
       "            observer.disconnect();\n",
       "        }}\n",
       "}});\n",
       "\n",
       "// Listen for the removal of the full notebook cells\n",
       "var notebookContainer = gd.closest('#notebook-container');\n",
       "if (notebookContainer) {{\n",
       "    x.observe(notebookContainer, {childList: true});\n",
       "}}\n",
       "\n",
       "// Listen for the clearing of the current output cell\n",
       "var outputEl = gd.closest('.output');\n",
       "if (outputEl) {{\n",
       "    x.observe(outputEl, {childList: true});\n",
       "}}\n",
       "\n",
       "                        })\n",
       "                };\n",
       "                });\n",
       "            </script>\n",
       "        </div>"
      ]
     },
     "metadata": {},
     "output_type": "display_data"
    }
   ],
   "source": [
    "def get_top_n_bigram(corpus, n=None):\n",
    "    vec = CountVectorizer(ngram_range=(4, 4), stop_words=stop).fit(corpus)\n",
    "    bag_of_words = vec.transform(corpus)\n",
    "    sum_words = bag_of_words.sum(axis=0) \n",
    "    words_freq = [(word, sum_words[0, idx]) for word, idx in vec.vocabulary_.items()]\n",
    "    words_freq =sorted(words_freq, key = lambda x: x[1], reverse=True)\n",
    "    return words_freq[:n]\n",
    "\n",
    "common_words = get_top_n_bigram(data['descriptions'], 25)\n",
    "df3 = pd.DataFrame(common_words, columns = ['kelime' , 'geçiş frekansı'])\n",
    "fig = px.bar(df3, x='kelime', y='geçiş frekansı',\n",
    "             hover_data=['kelime', 'geçiş frekansı'], color='geçiş frekansı',\n",
    "             title='Stopwordsleri kaldırdıktan sonra en çok yan yana gelen ikili kelimeler',\n",
    "             height=400)\n",
    "fig.show()"
   ]
  },
  {
   "cell_type": "code",
   "execution_count": 178,
   "metadata": {},
   "outputs": [],
   "source": [
    "data_all = 'output/' + str(pd.to_datetime('now').strftime(\" %y.%m.%d %I.%M\"))+ '  10-data_all'\n",
    "data.to_csv(data_all+'.csv')"
   ]
  },
  {
   "cell_type": "code",
   "execution_count": null,
   "metadata": {},
   "outputs": [],
   "source": []
  }
 ],
 "metadata": {
  "kernelspec": {
   "display_name": "Python 3",
   "language": "python",
   "name": "python3"
  },
  "language_info": {
   "codemirror_mode": {
    "name": "ipython",
    "version": 3
   },
   "file_extension": ".py",
   "mimetype": "text/x-python",
   "name": "python",
   "nbconvert_exporter": "python",
   "pygments_lexer": "ipython3",
   "version": "3.7.4"
  }
 },
 "nbformat": 4,
 "nbformat_minor": 2
}
